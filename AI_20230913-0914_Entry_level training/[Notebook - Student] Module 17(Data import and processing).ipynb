{
 "cells": [
  {
   "cell_type": "markdown",
   "metadata": {
    "colab_type": "text",
    "id": "-YdfrGhXaSww"
   },
   "source": [
    "# 데이터 가져오기 및 처리"
   ]
  },
  {
   "cell_type": "markdown",
   "metadata": {
    "colab_type": "text",
    "id": "THfcvkzNaSwy"
   },
   "source": [
    "데이터 세트는 모든 데이터 과학 프로젝트에 필수적입니다! 데이터가 많을수록 기능 간의 관계를 더 쉽게 식별할 수 있습니다. 그러나 데이터 분석을 수행하기 전에 컴퓨터에서 데이터 세트를 이해하는 것도 필수적입니다. 따라서 이 연습의 주요 목적은 데이터 분석 또는 기계 학습을 수행하기 전에 데이터 세트를 가져오고 처리하는 데 필요한 기술을 배우는 것입니다."
   ]
  },
  {
   "cell_type": "markdown",
   "metadata": {
    "colab_type": "text",
    "id": "Msb1KXoIaSw0"
   },
   "source": [
    "## 1. 데이터 가져오기"
   ]
  },
  {
   "cell_type": "markdown",
   "metadata": {
    "colab_type": "text",
    "id": "Tr-GKbJkaSw2"
   },
   "source": [
    "무료로 데이터를 얻을 수 있는 웹사이트가 많이 있습니다. Kaggle(https://www.kaggle.com/) 및 University of California, Irvine(https://archive.ics.uci.edu/ml/index.php) (UCI)가 대표적인 사이트 있습니다. 데이터 세트를 수동으로 다운로드하여 컴퓨터의 새 폴더에 저장할 수 있습니다. 그러나 그렇게 하려면 시간이 많이 걸릴 수 있습니다. 따라서 이 프로세스를 자동화하는 간단한 방법이 있습니다! \n",
    "magic.py가 이 기능을 제공합니다. 한번 해보세요!\n",
    "\n",
    "스크립트가 작동하려면 python 가상 환경에 os, wget, pandas 및 matplotlib 라이브러리가 설치되어 있는지 확인하십시오.\n",
    "\n",
    "아래 셀을 실행하는 동안 오류가 발생하면 첫 번째 줄을 주석 처리하십시오. #%matplotlib qt"
   ]
  },
  {
   "cell_type": "code",
   "execution_count": 1,
   "metadata": {
    "colab": {},
    "colab_type": "code",
    "id": "g2YHGbLwaSw4",
    "outputId": "8ad0ff6c-6479-45af-9d04-c4894f7ddd63"
   },
   "outputs": [
    {
     "name": "stdout",
     "output_type": "stream",
     "text": [
      "Current working directory: C:\\Users\\isfs0\\Intel_AI Process\\AI_20230913\n",
      "Downloading file..........\n",
      "\n",
      "\n",
      "File has been downloaded!\n",
      "Performing super difficult data analysis..........\n"
     ]
    }
   ],
   "source": [
    "%matplotlib qt\n",
    "%run \"magic.py\""
   ]
  },
  {
   "cell_type": "markdown",
   "metadata": {
    "colab_type": "text",
    "id": "bYcAogTVaSxC"
   },
   "source": [
    "만세! 수동 작업 없이 데이터를 다운로드하고 그래프를 그렸습니다. magic.py 파일을 열지 않고도 데이터가 다운로드된 위치를 알 수 있습니까? 위에 출련된 문장에서 힌트를 얻을 수 있습니다!"
   ]
  },
  {
   "cell_type": "code",
   "execution_count": 27,
   "metadata": {
    "colab": {},
    "colab_type": "code",
    "id": "toe2Wgb6aSxD"
   },
   "outputs": [
    {
     "ename": "AttributeError",
     "evalue": "module 'magic' has no attribute 'py'",
     "output_type": "error",
     "traceback": [
      "\u001b[1;31m---------------------------------------------------------------------------\u001b[0m",
      "\u001b[1;31mAttributeError\u001b[0m                            Traceback (most recent call last)",
      "Cell \u001b[1;32mIn[27], line 2\u001b[0m\n\u001b[0;32m      1\u001b[0m \u001b[38;5;28;01mimport\u001b[39;00m \u001b[38;5;21;01mmagic\u001b[39;00m\n\u001b[1;32m----> 2\u001b[0m \u001b[43mmagic\u001b[49m\u001b[38;5;241;43m.\u001b[39;49m\u001b[43mpy\u001b[49m\n",
      "\u001b[1;31mAttributeError\u001b[0m: module 'magic' has no attribute 'py'"
     ]
    }
   ],
   "source": [
    "import magic\n",
    "magic.py"
   ]
  },
  {
   "cell_type": "code",
   "execution_count": 10,
   "metadata": {},
   "outputs": [
    {
     "data": {
      "text/plain": [
       "('./[Dataset]_Module_17_iris.data', <http.client.HTTPMessage at 0x29717b7f3a0>)"
      ]
     },
     "execution_count": 10,
     "metadata": {},
     "output_type": "execute_result"
    }
   ],
   "source": [
    "import urllib.request\n",
    "urllib.request.urlretrieve(\"http://archive.ics.uci.edu/ml/machine-learning-databases/iris/iris.data\", \"./[Dataset]_Module_17_iris.data\")"
   ]
  },
  {
   "cell_type": "markdown",
   "metadata": {
    "colab_type": "text",
    "id": "R0hU1t33aSxG"
   },
   "source": [
    "<font color=blue>보너스: 그래프가 제대로 보이나요? 음수 값과 x축의 검은색 선을 설명할 수 있습니까?</font>"
   ]
  },
  {
   "cell_type": "code",
   "execution_count": 14,
   "metadata": {},
   "outputs": [
    {
     "data": {
      "text/plain": [
       "('./[Dataset]_Module_17_iris.data', <http.client.HTTPMessage at 0x29717a1e040>)"
      ]
     },
     "execution_count": 14,
     "metadata": {},
     "output_type": "execute_result"
    }
   ],
   "source": [
    "import urllib.request\n",
    "urllib.request.urlretrieve(\"http://archive.ics.uci.edu/ml/machine-learning-databases/iris/iris.data\",\"./[Dataset]_Module_17_iris.data\")"
   ]
  },
  {
   "cell_type": "markdown",
   "metadata": {
    "colab_type": "text",
    "id": "v1CqAIo8aSxL"
   },
   "source": [
    "## 1.1 iris 데이터 세트 다운로드"
   ]
  },
  {
   "cell_type": "markdown",
   "metadata": {
    "colab_type": "text",
    "id": "IEcfNX70aSxM"
   },
   "source": [
    "이제 데이터 세트를 직접 가져올 차례입니다. 사용할 데이터셋은 유명한 Iris Flower 데이터셋입니다. 데이터 세트는 http://archive.ics.uci.edu/ml/machine-learning-databases/iris/ 에서 다운로드할 수 있습니다. 다운로드할 파일은 iris.data입니다. 데이터 세트에 대한 자세한 정보는 https://en.wikipedia.org/wiki/Iris_flower_data_set 에서 얻을 수 있습니다. 다음 코드를 실행하기 전에 데이터 세트 설명을 살펴보세요."
   ]
  },
  {
   "cell_type": "markdown",
   "metadata": {
    "colab_type": "text",
    "id": "myyrcY8EaSxN"
   },
   "source": [
    "데이터 세트를 저장할 새 폴더를 만듭니다. urlib.request.urletrieve 함수를 사용하여 데이터 세트를 자동으로 다운로드 받을 수 있는 코드를 아래에 작성하세요. magic.py 내의 코드를 참조로 사용할 수 있습니다.\n",
    "\n",
    "magic.py 파일의 코드를 참조하려면 폴더에서 magic.py 파일을 찾습니다. 마우스 오른쪽 버튼을 클릭하고 워드패드를 이용하여 엽니다.\n",
    "\n",
    "<font color=blue>보너스: 코드 2줄만 사용하여 데이터를 다운로드하세요!</font>"
   ]
  },
  {
   "cell_type": "code",
   "execution_count": 15,
   "metadata": {
    "colab": {},
    "colab_type": "code",
    "id": "RMnYNX7YaSxO"
   },
   "outputs": [
    {
     "data": {
      "text/plain": [
       "('./[Dataset]_Module_17_iris.data', <http.client.HTTPMessage at 0x29717ab6b80>)"
      ]
     },
     "execution_count": 15,
     "metadata": {},
     "output_type": "execute_result"
    }
   ],
   "source": [
    "#your code hereimport urllib.request\n",
    "urllib.request.urlretrieve(\"http://archive.ics.uci.edu/ml/machine-learning-databases/iris/iris.data\",\"./[Dataset]_Module_17_iris.data\")"
   ]
  },
  {
   "cell_type": "markdown",
   "metadata": {
    "colab_type": "text",
    "id": "lIWPesDCaSxR"
   },
   "source": [
    "잘하셨습니다! 이제 데이터가 다운로드되었습니다! 데이터에 액세스하고 일부 기능에 대해 알아보겠습니다. 이를 위해 'pandas'라는 Python 라이브러리를 살펴 보겠습니다!"
   ]
  },
  {
   "cell_type": "markdown",
   "metadata": {
    "colab_type": "text",
    "id": "uKRJq_OWaSxT"
   },
   "source": [
    "## 1.2  Pandas 소개"
   ]
  },
  {
   "cell_type": "markdown",
   "metadata": {
    "colab_type": "text",
    "id": "xk5z-Lo1aSxU"
   },
   "source": [
    "Pandas는 데이터 세트를 가져오는 강력한 도구입니다. 데이터를 쉽게 처리되는 [dataframe](https://www.datacamp.com/community/tutorials/pandas-tutorial-dataframe-python)으로 구성하여 통계 분석에 용이합니다.\n",
    "\n",
    "Pandas에 대한 간략하게 소개하는 이 [문서](https://towardsdatascience.com/a-quick-introduction-to-the-pandas-python-library-f1b678f34673)를 읽고, 이 [동영상](https://www.youtube.com/watch?v=dcqPhpY7tWk)을 시청하세요: Pandas가 무엇이며, Pandas의 응용 프로그램 및 사용 밥법 소개\n",
    "\n",
    "데이터 가져오기 및 데이터 보기에 대한 부분은 나중에 연습에서 일부 기능을 사용할 것이므로 주의깊게 봐주세요!\n",
    "\n",
    "Pandas에 대해 배운 내용을 워크시트에 요약하세요.\n",
    "- Pandas는 어떻게 설치하고 사용하나요?\n",
    "- Pandas가 사용하는 일반적인 파일 유형은 무엇입니까?\n",
    "- 데이터 프레임이란 무엇입니까?\n",
    "- 데이터 프레임의 행과 열에 어떻게 액세스합니까?\n",
    "- 일반적으로 사용되는 Pandas 기능의 이름을 말하고 설명하십시오."
   ]
  },
  {
   "cell_type": "code",
   "execution_count": 33,
   "metadata": {
    "colab": {},
    "colab_type": "code",
    "id": "AyT4tG_daSxV"
   },
   "outputs": [],
   "source": [
    "import pandas as ds"
   ]
  },
  {
   "cell_type": "markdown",
   "metadata": {
    "colab_type": "text",
    "id": "N-QF8J_6aSxZ"
   },
   "source": [
    "이제 Pandas 내의 일부 기능을 사용하여 데이터에 액세스할 수 있습니다. 첫 번째 단계는 Pandas를 가져오는 것입니다. pandas를 pd로 가져오십시오."
   ]
  },
  {
   "cell_type": "code",
   "execution_count": 34,
   "metadata": {
    "colab": {},
    "colab_type": "code",
    "id": "dhvBRe9maSxa"
   },
   "outputs": [
    {
     "data": {
      "text/html": [
       "<div>\n",
       "<style scoped>\n",
       "    .dataframe tbody tr th:only-of-type {\n",
       "        vertical-align: middle;\n",
       "    }\n",
       "\n",
       "    .dataframe tbody tr th {\n",
       "        vertical-align: top;\n",
       "    }\n",
       "\n",
       "    .dataframe thead th {\n",
       "        text-align: right;\n",
       "    }\n",
       "</style>\n",
       "<table border=\"1\" class=\"dataframe\">\n",
       "  <thead>\n",
       "    <tr style=\"text-align: right;\">\n",
       "      <th></th>\n",
       "      <th>5.1</th>\n",
       "      <th>3.5</th>\n",
       "      <th>1.4</th>\n",
       "      <th>0.2</th>\n",
       "      <th>Iris-setosa</th>\n",
       "    </tr>\n",
       "  </thead>\n",
       "  <tbody>\n",
       "    <tr>\n",
       "      <th>0</th>\n",
       "      <td>4.9</td>\n",
       "      <td>3.0</td>\n",
       "      <td>1.4</td>\n",
       "      <td>0.2</td>\n",
       "      <td>Iris-setosa</td>\n",
       "    </tr>\n",
       "    <tr>\n",
       "      <th>1</th>\n",
       "      <td>4.7</td>\n",
       "      <td>3.2</td>\n",
       "      <td>1.3</td>\n",
       "      <td>0.2</td>\n",
       "      <td>Iris-setosa</td>\n",
       "    </tr>\n",
       "    <tr>\n",
       "      <th>2</th>\n",
       "      <td>4.6</td>\n",
       "      <td>3.1</td>\n",
       "      <td>1.5</td>\n",
       "      <td>0.2</td>\n",
       "      <td>Iris-setosa</td>\n",
       "    </tr>\n",
       "    <tr>\n",
       "      <th>3</th>\n",
       "      <td>5.0</td>\n",
       "      <td>3.6</td>\n",
       "      <td>1.4</td>\n",
       "      <td>0.2</td>\n",
       "      <td>Iris-setosa</td>\n",
       "    </tr>\n",
       "    <tr>\n",
       "      <th>4</th>\n",
       "      <td>5.4</td>\n",
       "      <td>3.9</td>\n",
       "      <td>1.7</td>\n",
       "      <td>0.4</td>\n",
       "      <td>Iris-setosa</td>\n",
       "    </tr>\n",
       "    <tr>\n",
       "      <th>...</th>\n",
       "      <td>...</td>\n",
       "      <td>...</td>\n",
       "      <td>...</td>\n",
       "      <td>...</td>\n",
       "      <td>...</td>\n",
       "    </tr>\n",
       "    <tr>\n",
       "      <th>144</th>\n",
       "      <td>6.7</td>\n",
       "      <td>3.0</td>\n",
       "      <td>5.2</td>\n",
       "      <td>2.3</td>\n",
       "      <td>Iris-virginica</td>\n",
       "    </tr>\n",
       "    <tr>\n",
       "      <th>145</th>\n",
       "      <td>6.3</td>\n",
       "      <td>2.5</td>\n",
       "      <td>5.0</td>\n",
       "      <td>1.9</td>\n",
       "      <td>Iris-virginica</td>\n",
       "    </tr>\n",
       "    <tr>\n",
       "      <th>146</th>\n",
       "      <td>6.5</td>\n",
       "      <td>3.0</td>\n",
       "      <td>5.2</td>\n",
       "      <td>2.0</td>\n",
       "      <td>Iris-virginica</td>\n",
       "    </tr>\n",
       "    <tr>\n",
       "      <th>147</th>\n",
       "      <td>6.2</td>\n",
       "      <td>3.4</td>\n",
       "      <td>5.4</td>\n",
       "      <td>2.3</td>\n",
       "      <td>Iris-virginica</td>\n",
       "    </tr>\n",
       "    <tr>\n",
       "      <th>148</th>\n",
       "      <td>5.9</td>\n",
       "      <td>3.0</td>\n",
       "      <td>5.1</td>\n",
       "      <td>1.8</td>\n",
       "      <td>Iris-virginica</td>\n",
       "    </tr>\n",
       "  </tbody>\n",
       "</table>\n",
       "<p>149 rows × 5 columns</p>\n",
       "</div>"
      ],
      "text/plain": [
       "     5.1  3.5  1.4  0.2     Iris-setosa\n",
       "0    4.9  3.0  1.4  0.2     Iris-setosa\n",
       "1    4.7  3.2  1.3  0.2     Iris-setosa\n",
       "2    4.6  3.1  1.5  0.2     Iris-setosa\n",
       "3    5.0  3.6  1.4  0.2     Iris-setosa\n",
       "4    5.4  3.9  1.7  0.4     Iris-setosa\n",
       "..   ...  ...  ...  ...             ...\n",
       "144  6.7  3.0  5.2  2.3  Iris-virginica\n",
       "145  6.3  2.5  5.0  1.9  Iris-virginica\n",
       "146  6.5  3.0  5.2  2.0  Iris-virginica\n",
       "147  6.2  3.4  5.4  2.3  Iris-virginica\n",
       "148  5.9  3.0  5.1  1.8  Iris-virginica\n",
       "\n",
       "[149 rows x 5 columns]"
      ]
     },
     "execution_count": 34,
     "metadata": {},
     "output_type": "execute_result"
    }
   ],
   "source": [
    "pd.read_csv(\"[Dataset]_Module_17_iris.data\")"
   ]
  },
  {
   "cell_type": "markdown",
   "metadata": {
    "colab_type": "text",
    "id": "d9fK1C6PaSxd"
   },
   "source": [
    "Pandas를 가져온 후 이제 Iris Flower 데이터 세트를 읽으려고 합니다. 현재 CSV(쉼표로 구분된 값) 파일로 저장되어 있습니다. CSV 파일의 데이터에 액세스하려면 먼저 CSV 파일에 대해 더 많이 이해해야 합니다."
   ]
  },
  {
   "cell_type": "markdown",
   "metadata": {
    "colab_type": "text",
    "id": "E19thKqyaSxe"
   },
   "source": [
    "## 1.2.1 쉼표로 구분된 값(CSV) 파일"
   ]
  },
  {
   "cell_type": "markdown",
   "metadata": {
    "colab_type": "text",
    "id": "M62n4NVZaSxf"
   },
   "source": [
    "데이터 세트는 주로 CSV 파일에 저장됩니다. CSV 파일에는 쉼표 또는 기타 문자로 구분된 데이터가 포함되어 있습니다. 예를 들어, 사람의 이름이 포함된 CSV 파일은 John,Mary,Harry,Luke로 저장될 수 있습니다. 이름 사이의 쉼표는 컴퓨터에 한 이름을 다른 이름과 구분할 위치를 알려줍니다.\n",
    "\n",
    "파일은 일반적으로 .csv 확장자를 갖지만 이 확장자를 따르지 않는 파일이 있습니다. iris 데이터를 예로 들 수 있습니다.\n",
    "\n",
    "csv 파일에 대한 자세한 내용은 이 [문서](https://www.howtogeek.com/348960/what-is-a-csv-file-and-how-do-i-open-it/)를 참조하십시오:  무엇이며, 어떻게 접근하는가?"
   ]
  },
  {
   "cell_type": "code",
   "execution_count": 36,
   "metadata": {
    "colab": {},
    "colab_type": "code",
    "id": "cDsFZlfoaSxg"
   },
   "outputs": [
    {
     "data": {
      "text/html": [
       "<div>\n",
       "<style scoped>\n",
       "    .dataframe tbody tr th:only-of-type {\n",
       "        vertical-align: middle;\n",
       "    }\n",
       "\n",
       "    .dataframe tbody tr th {\n",
       "        vertical-align: top;\n",
       "    }\n",
       "\n",
       "    .dataframe thead th {\n",
       "        text-align: right;\n",
       "    }\n",
       "</style>\n",
       "<table border=\"1\" class=\"dataframe\">\n",
       "  <thead>\n",
       "    <tr style=\"text-align: right;\">\n",
       "      <th></th>\n",
       "      <th>5.1</th>\n",
       "      <th>3.5</th>\n",
       "      <th>1.4</th>\n",
       "      <th>0.2</th>\n",
       "      <th>Iris-setosa</th>\n",
       "    </tr>\n",
       "  </thead>\n",
       "  <tbody>\n",
       "    <tr>\n",
       "      <th>0</th>\n",
       "      <td>4.9</td>\n",
       "      <td>3.0</td>\n",
       "      <td>1.4</td>\n",
       "      <td>0.2</td>\n",
       "      <td>Iris-setosa</td>\n",
       "    </tr>\n",
       "    <tr>\n",
       "      <th>1</th>\n",
       "      <td>4.7</td>\n",
       "      <td>3.2</td>\n",
       "      <td>1.3</td>\n",
       "      <td>0.2</td>\n",
       "      <td>Iris-setosa</td>\n",
       "    </tr>\n",
       "    <tr>\n",
       "      <th>2</th>\n",
       "      <td>4.6</td>\n",
       "      <td>3.1</td>\n",
       "      <td>1.5</td>\n",
       "      <td>0.2</td>\n",
       "      <td>Iris-setosa</td>\n",
       "    </tr>\n",
       "    <tr>\n",
       "      <th>3</th>\n",
       "      <td>5.0</td>\n",
       "      <td>3.6</td>\n",
       "      <td>1.4</td>\n",
       "      <td>0.2</td>\n",
       "      <td>Iris-setosa</td>\n",
       "    </tr>\n",
       "    <tr>\n",
       "      <th>4</th>\n",
       "      <td>5.4</td>\n",
       "      <td>3.9</td>\n",
       "      <td>1.7</td>\n",
       "      <td>0.4</td>\n",
       "      <td>Iris-setosa</td>\n",
       "    </tr>\n",
       "    <tr>\n",
       "      <th>...</th>\n",
       "      <td>...</td>\n",
       "      <td>...</td>\n",
       "      <td>...</td>\n",
       "      <td>...</td>\n",
       "      <td>...</td>\n",
       "    </tr>\n",
       "    <tr>\n",
       "      <th>144</th>\n",
       "      <td>6.7</td>\n",
       "      <td>3.0</td>\n",
       "      <td>5.2</td>\n",
       "      <td>2.3</td>\n",
       "      <td>Iris-virginica</td>\n",
       "    </tr>\n",
       "    <tr>\n",
       "      <th>145</th>\n",
       "      <td>6.3</td>\n",
       "      <td>2.5</td>\n",
       "      <td>5.0</td>\n",
       "      <td>1.9</td>\n",
       "      <td>Iris-virginica</td>\n",
       "    </tr>\n",
       "    <tr>\n",
       "      <th>146</th>\n",
       "      <td>6.5</td>\n",
       "      <td>3.0</td>\n",
       "      <td>5.2</td>\n",
       "      <td>2.0</td>\n",
       "      <td>Iris-virginica</td>\n",
       "    </tr>\n",
       "    <tr>\n",
       "      <th>147</th>\n",
       "      <td>6.2</td>\n",
       "      <td>3.4</td>\n",
       "      <td>5.4</td>\n",
       "      <td>2.3</td>\n",
       "      <td>Iris-virginica</td>\n",
       "    </tr>\n",
       "    <tr>\n",
       "      <th>148</th>\n",
       "      <td>5.9</td>\n",
       "      <td>3.0</td>\n",
       "      <td>5.1</td>\n",
       "      <td>1.8</td>\n",
       "      <td>Iris-virginica</td>\n",
       "    </tr>\n",
       "  </tbody>\n",
       "</table>\n",
       "<p>149 rows × 5 columns</p>\n",
       "</div>"
      ],
      "text/plain": [
       "     5.1  3.5  1.4  0.2     Iris-setosa\n",
       "0    4.9  3.0  1.4  0.2     Iris-setosa\n",
       "1    4.7  3.2  1.3  0.2     Iris-setosa\n",
       "2    4.6  3.1  1.5  0.2     Iris-setosa\n",
       "3    5.0  3.6  1.4  0.2     Iris-setosa\n",
       "4    5.4  3.9  1.7  0.4     Iris-setosa\n",
       "..   ...  ...  ...  ...             ...\n",
       "144  6.7  3.0  5.2  2.3  Iris-virginica\n",
       "145  6.3  2.5  5.0  1.9  Iris-virginica\n",
       "146  6.5  3.0  5.2  2.0  Iris-virginica\n",
       "147  6.2  3.4  5.4  2.3  Iris-virginica\n",
       "148  5.9  3.0  5.1  1.8  Iris-virginica\n",
       "\n",
       "[149 rows x 5 columns]"
      ]
     },
     "execution_count": 36,
     "metadata": {},
     "output_type": "execute_result"
    }
   ],
   "source": [
    "df = pd.read_csv(\"[Dataset]_Module_17_iris.data\")\n",
    "df"
   ]
  },
  {
   "cell_type": "markdown",
   "metadata": {
    "colab_type": "text",
    "id": "EJ-nEupOaSxj"
   },
   "source": [
    "<font color=blue>보너스: CSV 파일의 특성을 이해한 후 데이터 파일이 CSV 파일인지 어떻게 확인합니까? 이를 위해 어떤 python 함수를 사용할 수 있습니까?</font>"
   ]
  },
  {
   "cell_type": "code",
   "execution_count": 38,
   "metadata": {
    "colab": {},
    "colab_type": "code",
    "id": "4sQKqSkpaSxk"
   },
   "outputs": [
    {
     "ename": "SyntaxError",
     "evalue": "invalid syntax (4140136164.py, line 2)",
     "output_type": "error",
     "traceback": [
      "\u001b[1;36m  Cell \u001b[1;32mIn[38], line 2\u001b[1;36m\u001b[0m\n\u001b[1;33m    이 모듈은 CSV 파일을 읽고 쓰는 데 사용됩니다. 다음은 파일이 CSV 파일인지 확인하기 위한 간단한 방법입니다:\u001b[0m\n\u001b[1;37m      ^\u001b[0m\n\u001b[1;31mSyntaxError\u001b[0m\u001b[1;31m:\u001b[0m invalid syntax\n"
     ]
    }
   ],
   "source": [
    "# # Python에서 파일이 CSV 파일인지 확인하려면 csv 모듈을 사용할 수 있습니다. \n",
    "# # 이 모듈은 CSV 파일을 읽고 쓰는 데 사용됩니다. \n",
    "# # 다음은 파일이 CSV 파일인지 확인하기 위한 간단한 방법입니다:\n",
    "# import csv\n",
    "\n",
    "# def is_csv_file(file_path):\n",
    "#     try:\n",
    "#         # 파일을 CSV로 열어보고 성공하면 True를 반환\n",
    "#         with open(file_path, 'r', newline='') as file:\n",
    "#             csv.reader(file)\n",
    "#         return True\n",
    "#     except csv.Error:\n",
    "#         # CSV로 열 수 없는 경우 예외가 발생하고 False를 반환\n",
    "#         return False\n",
    "\n",
    "# # 파일 경로를 제공하고 CSV 파일인지 확인\n",
    "# file_path = 'example.csv'\n",
    "# if is_csv_file(file_path):\n",
    "#     print(f\"{file_path} is a CSV file.\")\n",
    "# else:\n",
    "#     print(f\"{file_path} is not a CSV file.\")"
   ]
  },
  {
   "cell_type": "markdown",
   "metadata": {
    "colab_type": "text",
    "id": "ff_cSddFaSxm"
   },
   "source": [
    "## 1.2.2 Iris Flower 데이터 세트"
   ]
  },
  {
   "cell_type": "markdown",
   "metadata": {
    "colab_type": "text",
    "id": "luYPiLxZaSxn"
   },
   "source": [
    "Iris Flower 데이터세트는 확장자가 .data이지만 csv 파일입니다. 이제 pd.read_csv() 함수를 사용하여 데이터 세트를 열고 변수 df에 할당합니다. 그런 다음 데이터 속성을 보기 위해 데이터 프레임의 처음 5개 행을 출력합니다. 무엇을 알아내셨습니까?"
   ]
  },
  {
   "cell_type": "code",
   "execution_count": 39,
   "metadata": {
    "colab": {},
    "colab_type": "code",
    "id": "sEVfohq4aSxo"
   },
   "outputs": [
    {
     "data": {
      "text/html": [
       "<div>\n",
       "<style scoped>\n",
       "    .dataframe tbody tr th:only-of-type {\n",
       "        vertical-align: middle;\n",
       "    }\n",
       "\n",
       "    .dataframe tbody tr th {\n",
       "        vertical-align: top;\n",
       "    }\n",
       "\n",
       "    .dataframe thead th {\n",
       "        text-align: right;\n",
       "    }\n",
       "</style>\n",
       "<table border=\"1\" class=\"dataframe\">\n",
       "  <thead>\n",
       "    <tr style=\"text-align: right;\">\n",
       "      <th></th>\n",
       "      <th>5.1</th>\n",
       "      <th>3.5</th>\n",
       "      <th>1.4</th>\n",
       "      <th>0.2</th>\n",
       "      <th>Iris-setosa</th>\n",
       "    </tr>\n",
       "  </thead>\n",
       "  <tbody>\n",
       "    <tr>\n",
       "      <th>0</th>\n",
       "      <td>4.9</td>\n",
       "      <td>3.0</td>\n",
       "      <td>1.4</td>\n",
       "      <td>0.2</td>\n",
       "      <td>Iris-setosa</td>\n",
       "    </tr>\n",
       "    <tr>\n",
       "      <th>1</th>\n",
       "      <td>4.7</td>\n",
       "      <td>3.2</td>\n",
       "      <td>1.3</td>\n",
       "      <td>0.2</td>\n",
       "      <td>Iris-setosa</td>\n",
       "    </tr>\n",
       "    <tr>\n",
       "      <th>2</th>\n",
       "      <td>4.6</td>\n",
       "      <td>3.1</td>\n",
       "      <td>1.5</td>\n",
       "      <td>0.2</td>\n",
       "      <td>Iris-setosa</td>\n",
       "    </tr>\n",
       "    <tr>\n",
       "      <th>3</th>\n",
       "      <td>5.0</td>\n",
       "      <td>3.6</td>\n",
       "      <td>1.4</td>\n",
       "      <td>0.2</td>\n",
       "      <td>Iris-setosa</td>\n",
       "    </tr>\n",
       "    <tr>\n",
       "      <th>4</th>\n",
       "      <td>5.4</td>\n",
       "      <td>3.9</td>\n",
       "      <td>1.7</td>\n",
       "      <td>0.4</td>\n",
       "      <td>Iris-setosa</td>\n",
       "    </tr>\n",
       "  </tbody>\n",
       "</table>\n",
       "</div>"
      ],
      "text/plain": [
       "   5.1  3.5  1.4  0.2  Iris-setosa\n",
       "0  4.9  3.0  1.4  0.2  Iris-setosa\n",
       "1  4.7  3.2  1.3  0.2  Iris-setosa\n",
       "2  4.6  3.1  1.5  0.2  Iris-setosa\n",
       "3  5.0  3.6  1.4  0.2  Iris-setosa\n",
       "4  5.4  3.9  1.7  0.4  Iris-setosa"
      ]
     },
     "execution_count": 39,
     "metadata": {},
     "output_type": "execute_result"
    }
   ],
   "source": [
    "df.head(5)\n",
    "# index data가 없음 "
   ]
  },
  {
   "cell_type": "markdown",
   "metadata": {
    "colab_type": "text",
    "id": "svZ8sbZqaSxs"
   },
   "source": [
    "데이터 프레임에 헤더/열 이름이 누락되었다는 것을 알고 계셨습니까? 이것은 원본 파일에 헤더/열 이름이 없기 때문에 발생합니다. 따라서 데이터 파일을 사용하기 전에 데이터 파일에 대한 자세한 내용을 확인하는 것이 항상 중요합니다.\n",
    "\n",
    "이전 다운로드 [링크](http://archive.ics.uci.edu/ml/machine-learning-databases/iris/iris.names)의 iris.names 파일에서 더 많은 정보를 찾을 수 있습니다. iris.names 파일은 포인트 7(속성 iInformation) 아래에 열 이름을 나열했습니다. 필수적인 이름은 무엇입니까?"
   ]
  },
  {
   "cell_type": "code",
   "execution_count": 2,
   "metadata": {
    "colab": {},
    "colab_type": "code",
    "id": "WqIxmdCgaSxt"
   },
   "outputs": [
    {
     "data": {
      "text/html": [
       "<div>\n",
       "<style scoped>\n",
       "    .dataframe tbody tr th:only-of-type {\n",
       "        vertical-align: middle;\n",
       "    }\n",
       "\n",
       "    .dataframe tbody tr th {\n",
       "        vertical-align: top;\n",
       "    }\n",
       "\n",
       "    .dataframe thead th {\n",
       "        text-align: right;\n",
       "    }\n",
       "</style>\n",
       "<table border=\"1\" class=\"dataframe\">\n",
       "  <thead>\n",
       "    <tr style=\"text-align: right;\">\n",
       "      <th></th>\n",
       "      <th>SepalLength</th>\n",
       "      <th>SepalWidth</th>\n",
       "      <th>PetalLength</th>\n",
       "      <th>PetalWidth</th>\n",
       "      <th>Class</th>\n",
       "    </tr>\n",
       "  </thead>\n",
       "  <tbody>\n",
       "    <tr>\n",
       "      <th>0</th>\n",
       "      <td>5.1</td>\n",
       "      <td>3.5</td>\n",
       "      <td>1.4</td>\n",
       "      <td>0.2</td>\n",
       "      <td>Iris-setosa</td>\n",
       "    </tr>\n",
       "    <tr>\n",
       "      <th>1</th>\n",
       "      <td>4.9</td>\n",
       "      <td>3.0</td>\n",
       "      <td>1.4</td>\n",
       "      <td>0.2</td>\n",
       "      <td>Iris-setosa</td>\n",
       "    </tr>\n",
       "    <tr>\n",
       "      <th>2</th>\n",
       "      <td>4.7</td>\n",
       "      <td>3.2</td>\n",
       "      <td>1.3</td>\n",
       "      <td>0.2</td>\n",
       "      <td>Iris-setosa</td>\n",
       "    </tr>\n",
       "    <tr>\n",
       "      <th>3</th>\n",
       "      <td>4.6</td>\n",
       "      <td>3.1</td>\n",
       "      <td>1.5</td>\n",
       "      <td>0.2</td>\n",
       "      <td>Iris-setosa</td>\n",
       "    </tr>\n",
       "    <tr>\n",
       "      <th>4</th>\n",
       "      <td>5.0</td>\n",
       "      <td>3.6</td>\n",
       "      <td>1.4</td>\n",
       "      <td>0.2</td>\n",
       "      <td>Iris-setosa</td>\n",
       "    </tr>\n",
       "    <tr>\n",
       "      <th>...</th>\n",
       "      <td>...</td>\n",
       "      <td>...</td>\n",
       "      <td>...</td>\n",
       "      <td>...</td>\n",
       "      <td>...</td>\n",
       "    </tr>\n",
       "    <tr>\n",
       "      <th>145</th>\n",
       "      <td>6.7</td>\n",
       "      <td>3.0</td>\n",
       "      <td>5.2</td>\n",
       "      <td>2.3</td>\n",
       "      <td>Iris-virginica</td>\n",
       "    </tr>\n",
       "    <tr>\n",
       "      <th>146</th>\n",
       "      <td>6.3</td>\n",
       "      <td>2.5</td>\n",
       "      <td>5.0</td>\n",
       "      <td>1.9</td>\n",
       "      <td>Iris-virginica</td>\n",
       "    </tr>\n",
       "    <tr>\n",
       "      <th>147</th>\n",
       "      <td>6.5</td>\n",
       "      <td>3.0</td>\n",
       "      <td>5.2</td>\n",
       "      <td>2.0</td>\n",
       "      <td>Iris-virginica</td>\n",
       "    </tr>\n",
       "    <tr>\n",
       "      <th>148</th>\n",
       "      <td>6.2</td>\n",
       "      <td>3.4</td>\n",
       "      <td>5.4</td>\n",
       "      <td>2.3</td>\n",
       "      <td>Iris-virginica</td>\n",
       "    </tr>\n",
       "    <tr>\n",
       "      <th>149</th>\n",
       "      <td>5.9</td>\n",
       "      <td>3.0</td>\n",
       "      <td>5.1</td>\n",
       "      <td>1.8</td>\n",
       "      <td>Iris-virginica</td>\n",
       "    </tr>\n",
       "  </tbody>\n",
       "</table>\n",
       "<p>150 rows × 5 columns</p>\n",
       "</div>"
      ],
      "text/plain": [
       "     SepalLength  SepalWidth  PetalLength  PetalWidth           Class\n",
       "0            5.1         3.5          1.4         0.2     Iris-setosa\n",
       "1            4.9         3.0          1.4         0.2     Iris-setosa\n",
       "2            4.7         3.2          1.3         0.2     Iris-setosa\n",
       "3            4.6         3.1          1.5         0.2     Iris-setosa\n",
       "4            5.0         3.6          1.4         0.2     Iris-setosa\n",
       "..           ...         ...          ...         ...             ...\n",
       "145          6.7         3.0          5.2         2.3  Iris-virginica\n",
       "146          6.3         2.5          5.0         1.9  Iris-virginica\n",
       "147          6.5         3.0          5.2         2.0  Iris-virginica\n",
       "148          6.2         3.4          5.4         2.3  Iris-virginica\n",
       "149          5.9         3.0          5.1         1.8  Iris-virginica\n",
       "\n",
       "[150 rows x 5 columns]"
      ]
     },
     "execution_count": 2,
     "metadata": {},
     "output_type": "execute_result"
    }
   ],
   "source": [
    "import pandas as pd\n",
    "# 인덱스, 행 이름 정하기 \n",
    "df = pd.read_csv(\"./[Dataset]_Module_17_Iris.data\",header=None)\n",
    "\n",
    "df.columns = ['SepalLength','SepalWidth','PetalLength','PetalWidth','Class']\n",
    "df\n",
    "\n"
   ]
  },
  {
   "cell_type": "markdown",
   "metadata": {
    "colab_type": "text",
    "id": "FuMlox-xaSxw"
   },
   "source": [
    "아래의 그림(source: https://www.researchgate.net/figure/Trollius-ranunculoide-flower-with-measured-traits_fig6_272514310) 을 참고하면 변수 \"sepal_length\", \"sepal_width\", \"petal_length\", \"petal_width\"를 이해할 수 있다."
   ]
  },
  {
   "cell_type": "markdown",
   "metadata": {
    "colab_type": "text",
    "id": "6hGSifnXaSxx"
   },
   "source": [
    "<img src = \"./resources/PetalSepal1.png\">"
   ]
  },
  {
   "cell_type": "markdown",
   "metadata": {
    "colab_type": "text",
    "id": "98Mj-zMHaSxz"
   },
   "source": [
    "이제 데이터 프레임에 이름을 포함시켜 보겠습니다. 데이터에 누락된 헤더를 지정하려면 데이터를 데이터 프레임으로 다시 읽어야 합니다. 이렇게 하면 나중에 데이터 프레임에 이름을 추가할 수 있습니다. 처음 2개의 이름을 추가하는 코드는 아래와 같습니다. 상위 5개 행을 다시 출력하기 전에 다른 이름을 포함하도록 코드를 수정하십시오."
   ]
  },
  {
   "cell_type": "code",
   "execution_count": null,
   "metadata": {
    "colab": {},
    "colab_type": "code",
    "id": "xIFzntYlaSx0"
   },
   "outputs": [],
   "source": [
    "df = pd.read_csv(\"./[Dataset]_Module_17_Iris.data\",header=None)\n",
    "print(df.head())\n",
    "names = [#your code here]\n",
    "#your code here"
   ]
  },
  {
   "cell_type": "markdown",
   "metadata": {
    "colab_type": "text",
    "id": "3Oygv8doaSx5"
   },
   "source": [
    "적절한 레이블을 사용하면 이제 pandas를 사용하여 데이터 세트에 대한 기본 정보(행 및 열 수, 데이터 유형, 결측값 수 및 기본 통계)를 얻을 수 있습니다. .info() 및 .describe()를 사용하여 데이터 세트에 대한 기본 정보를 얻으십시오!"
   ]
  },
  {
   "cell_type": "code",
   "execution_count": 49,
   "metadata": {
    "colab": {},
    "colab_type": "code",
    "id": "UF6PjBl_aSx8"
   },
   "outputs": [
    {
     "name": "stdout",
     "output_type": "stream",
     "text": [
      "<class 'pandas.core.frame.DataFrame'>\n",
      "RangeIndex: 150 entries, 0 to 149\n",
      "Data columns (total 5 columns):\n",
      " #   Column       Non-Null Count  Dtype  \n",
      "---  ------       --------------  -----  \n",
      " 0   SepalLength  150 non-null    float64\n",
      " 1   SepalWidth   150 non-null    float64\n",
      " 2   PetalLength  150 non-null    float64\n",
      " 3   PetalWidth   150 non-null    float64\n",
      " 4   Class        150 non-null    object \n",
      "dtypes: float64(4), object(1)\n",
      "memory usage: 6.0+ KB\n"
     ]
    }
   ],
   "source": [
    "df.info()\n"
   ]
  },
  {
   "cell_type": "code",
   "execution_count": 47,
   "metadata": {},
   "outputs": [
    {
     "data": {
      "text/plain": [
       "(150, 5)"
      ]
     },
     "execution_count": 47,
     "metadata": {},
     "output_type": "execute_result"
    }
   ],
   "source": [
    "# 데이터 형태 알아보기\n",
    "# 150행 5열 \n",
    "df_shape = df.shape# 데이터가 튜플형태일 때에는 df_shape = df.shape 형태를 사용할 것\n",
    "df_shape"
   ]
  },
  {
   "cell_type": "code",
   "execution_count": 51,
   "metadata": {},
   "outputs": [
    {
     "data": {
      "text/html": [
       "<div>\n",
       "<style scoped>\n",
       "    .dataframe tbody tr th:only-of-type {\n",
       "        vertical-align: middle;\n",
       "    }\n",
       "\n",
       "    .dataframe tbody tr th {\n",
       "        vertical-align: top;\n",
       "    }\n",
       "\n",
       "    .dataframe thead th {\n",
       "        text-align: right;\n",
       "    }\n",
       "</style>\n",
       "<table border=\"1\" class=\"dataframe\">\n",
       "  <thead>\n",
       "    <tr style=\"text-align: right;\">\n",
       "      <th></th>\n",
       "      <th>SepalLength</th>\n",
       "      <th>SepalWidth</th>\n",
       "      <th>PetalLength</th>\n",
       "      <th>PetalWidth</th>\n",
       "    </tr>\n",
       "  </thead>\n",
       "  <tbody>\n",
       "    <tr>\n",
       "      <th>count</th>\n",
       "      <td>150.000000</td>\n",
       "      <td>150.000000</td>\n",
       "      <td>150.000000</td>\n",
       "      <td>150.000000</td>\n",
       "    </tr>\n",
       "    <tr>\n",
       "      <th>mean</th>\n",
       "      <td>5.843333</td>\n",
       "      <td>3.054000</td>\n",
       "      <td>3.758667</td>\n",
       "      <td>1.198667</td>\n",
       "    </tr>\n",
       "    <tr>\n",
       "      <th>std</th>\n",
       "      <td>0.828066</td>\n",
       "      <td>0.433594</td>\n",
       "      <td>1.764420</td>\n",
       "      <td>0.763161</td>\n",
       "    </tr>\n",
       "    <tr>\n",
       "      <th>min</th>\n",
       "      <td>4.300000</td>\n",
       "      <td>2.000000</td>\n",
       "      <td>1.000000</td>\n",
       "      <td>0.100000</td>\n",
       "    </tr>\n",
       "    <tr>\n",
       "      <th>25%</th>\n",
       "      <td>5.100000</td>\n",
       "      <td>2.800000</td>\n",
       "      <td>1.600000</td>\n",
       "      <td>0.300000</td>\n",
       "    </tr>\n",
       "    <tr>\n",
       "      <th>50%</th>\n",
       "      <td>5.800000</td>\n",
       "      <td>3.000000</td>\n",
       "      <td>4.350000</td>\n",
       "      <td>1.300000</td>\n",
       "    </tr>\n",
       "    <tr>\n",
       "      <th>75%</th>\n",
       "      <td>6.400000</td>\n",
       "      <td>3.300000</td>\n",
       "      <td>5.100000</td>\n",
       "      <td>1.800000</td>\n",
       "    </tr>\n",
       "    <tr>\n",
       "      <th>max</th>\n",
       "      <td>7.900000</td>\n",
       "      <td>4.400000</td>\n",
       "      <td>6.900000</td>\n",
       "      <td>2.500000</td>\n",
       "    </tr>\n",
       "  </tbody>\n",
       "</table>\n",
       "</div>"
      ],
      "text/plain": [
       "       SepalLength  SepalWidth  PetalLength  PetalWidth\n",
       "count   150.000000  150.000000   150.000000  150.000000\n",
       "mean      5.843333    3.054000     3.758667    1.198667\n",
       "std       0.828066    0.433594     1.764420    0.763161\n",
       "min       4.300000    2.000000     1.000000    0.100000\n",
       "25%       5.100000    2.800000     1.600000    0.300000\n",
       "50%       5.800000    3.000000     4.350000    1.300000\n",
       "75%       6.400000    3.300000     5.100000    1.800000\n",
       "max       7.900000    4.400000     6.900000    2.500000"
      ]
     },
     "execution_count": 51,
     "metadata": {},
     "output_type": "execute_result"
    }
   ],
   "source": [
    "# 데이터 통계적분포 보기\n",
    "df.describe()"
   ]
  },
  {
   "cell_type": "code",
   "execution_count": 6,
   "metadata": {},
   "outputs": [
    {
     "name": "stdout",
     "output_type": "stream",
     "text": [
      "Current working directory: C:\\Users\\isfs0\\Intel_AI Process\\AI_20230913\n",
      "Downloading file..........\n",
      "\n",
      "\n",
      "File has been downloaded!\n",
      "Performing super difficult data analysis..........\n"
     ]
    },
    {
     "data": {
      "image/png": "[encoded data removed]",
      "text/plain": [
       "<Figure size 640x480 with 1 Axes>"
      ]
     },
     "metadata": {},
     "output_type": "display_data"
    }
   ],
   "source": [
    "# 이 스크립트는 http://futures-plus.com/ai4y/co2-mm-mlo.csv에서 월별 평균 이산화탄소 값을 다운로드하고 표시합니다.\n",
    "\n",
    "import os\n",
    "import urllib.request\n",
    "import pandas as pd\n",
    "import matplotlib.pyplot as plt\n",
    "%matplotlib inline\n",
    "\n",
    "# 현재 디렉토리 확인 및 새 디렉토리 생성\n",
    "cwd = os.getcwd()\n",
    "print(\"Current working directory: %s\" % cwd)\n",
    "path = os.path.join(cwd,\"Magic_Data\")\n",
    "if not os.path.isdir(path):\n",
    "    os.mkdir(path) # mk디렉토리를 만들어라 \n",
    "    print(\"Newly created directory to store files: %s\" % path)\n",
    "\n",
    "# 다운로드를 위한 파일 경로를 제공합니다. 파일 경로에는 폴더 경로와 파일 이름이 모두 포함됩니다.\n",
    "full_path = os.path.join(path,\"co2-mm-mlo.csv\")\n",
    "\n",
    "\n",
    "# 파일 다운로드\n",
    "print(\"Downloading file..........\")\n",
    "\n",
    "urllib.request.urlretrieve(\"http://sl2files.sustainablelivinglab.org/co2-mm-mlo.csv\", full_path)\n",
    "# url 을 요청하면 받아올게 웹사이트로부터 파일 받아오는 것, 웹 크롤링시 많이 등장 \n",
    "\n",
    "\n",
    "print(\"\\n\")\n",
    "print(\"File has been downloaded!\")\n",
    "\n",
    "# 기본 표시\n",
    "print(\"Performing super difficult data analysis..........\")\n",
    "fn = \"co2-mm-mlo.csv\"\n",
    "carbon_dioxide = pd.read_csv(os.path.join(path,fn))\n",
    "plt.plot(carbon_dioxide['Date'],carbon_dioxide['Average'])\n",
    "plt.xlabel('Time')\n",
    "plt.ylabel('CO2 concentration in ppm')\n",
    "plt.show()\n"
   ]
  },
  {
   "cell_type": "markdown",
   "metadata": {
    "colab_type": "text",
    "id": "6lo55BdBaSx-"
   },
   "source": [
    "얻은 정보를 기반으로 데이터 세트에 150개의 서로 다른 꽃이 있으며 데이터 세트에 누락된 값이 없다는 점에 유의해야 합니다."
   ]
  },
  {
   "cell_type": "markdown",
   "metadata": {
    "colab_type": "text",
    "id": "od_yIKS1aSx_"
   },
   "source": [
    "## 이제 데이터 세트를 자동으로 다운로드하고 Pandas를 사용하여 가져오는 기능을 마스터했습니다. 또한 Pandas 함수를 사용하여 데이터 세트에 대한 기본 정보를 얻는 방법도 배웠습니다. 이제 우리는 이 모든 기술을 잘 활용해야 하는 수업 활동으로 진행할 것입니다!"
   ]
  }
 ],
 "metadata": {
  "colab": {
   "name": "(1) Obtaining_data_Student.ipynb",
   "provenance": [],
   "version": "0.3.2"
  },
  "kernelspec": {
   "display_name": "Python 3 (ipykernel)",
   "language": "python",
   "name": "python3"
  },
  "language_info": {
   "codemirror_mode": {
    "name": "ipython",
    "version": 3
   },
   "file_extension": ".py",
   "mimetype": "text/x-python",
   "name": "python",
   "nbconvert_exporter": "python",
   "pygments_lexer": "ipython3",
   "version": "3.8.8"
  }
 },
 "nbformat": 4,
 "nbformat_minor": 1
}
