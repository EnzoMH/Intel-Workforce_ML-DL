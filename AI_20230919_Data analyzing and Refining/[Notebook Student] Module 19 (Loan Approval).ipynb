{
 "cells": [
  {
   "cell_type": "markdown",
   "metadata": {
    "_uuid": "7ff9524d8c5decf2c16f53ec2c41eafbc80b885e"
   },
   "source": [
    "# 대출 승인 예측(Loan Approval Prediction)"
   ]
  },
  {
   "cell_type": "markdown",
   "metadata": {
    "_uuid": "b2fe086e5ef244dc36603e8f5d3f16bd94ed81ee"
   },
   "source": [
    "이 노트북은 대출 승인 예측 - [대출 예측](https://www.kaggle.com/ninzaami/loan-predication/home) 데이터 세트를 기반으로 합니다. 대출 승인은 신용/은행 업계에서 가장 흔히 발생하는 문제입니다. 대출이 승인되기에 안전한지 여부를 어떻게 정확하게 예측할 수 있을까요? 이것이 우리가 이 노트에서 살펴볼 내용입니다."
   ]
  },
  {
   "cell_type": "markdown",
   "metadata": {
    "_uuid": "82593f0501988e6a0324c7cdc5ffa4c4f6b0ca24"
   },
   "source": [
    "## 1.패키지 및 데이터 가져오기"
   ]
  },
  {
   "cell_type": "code",
   "execution_count": 1,
   "metadata": {
    "_uuid": "1a6c4447bbb7dd6260860486ce03b5386e3203a8"
   },
   "outputs": [],
   "source": [
    "# 패키지 가져오기\n",
    "import pandas as pd\n",
    "import numpy as np\n",
    "import matplotlib.pyplot as plt\n",
    "import seaborn as sns\n",
    "from sklearn.ensemble import GradientBoostingClassifier\n",
    "from sklearn.ensemble import RandomForestClassifier\n",
    "from sklearn.model_selection import cross_val_score\n",
    "from sklearn.tree import DecisionTreeClassifier\n",
    "from sklearn.neighbors import KNeighborsClassifier\n",
    "from  sklearn import svm\n",
    "\n",
    "# CSV 데이터 읽기\n",
    "\n",
    "data = pd.read_csv(\"[Dataset] Module 19 (Loan Prediction).csv\")"
   ]
  },
  {
   "cell_type": "code",
   "execution_count": 2,
   "metadata": {
    "_uuid": "6f5a84c0286f4e9eb596a6e4671a4c423e307791"
   },
   "outputs": [
    {
     "data": {
      "text/html": [
       "<div>\n",
       "<style scoped>\n",
       "    .dataframe tbody tr th:only-of-type {\n",
       "        vertical-align: middle;\n",
       "    }\n",
       "\n",
       "    .dataframe tbody tr th {\n",
       "        vertical-align: top;\n",
       "    }\n",
       "\n",
       "    .dataframe thead th {\n",
       "        text-align: right;\n",
       "    }\n",
       "</style>\n",
       "<table border=\"1\" class=\"dataframe\">\n",
       "  <thead>\n",
       "    <tr style=\"text-align: right;\">\n",
       "      <th></th>\n",
       "      <th>Loan_ID</th>\n",
       "      <th>Gender</th>\n",
       "      <th>Married</th>\n",
       "      <th>Dependents</th>\n",
       "      <th>Education</th>\n",
       "      <th>Self_Employed</th>\n",
       "      <th>ApplicantIncome</th>\n",
       "      <th>CoapplicantIncome</th>\n",
       "      <th>LoanAmount</th>\n",
       "      <th>Loan_Amount_Term</th>\n",
       "      <th>Credit_History</th>\n",
       "      <th>Property_Area</th>\n",
       "      <th>Loan_Status</th>\n",
       "    </tr>\n",
       "  </thead>\n",
       "  <tbody>\n",
       "    <tr>\n",
       "      <th>0</th>\n",
       "      <td>LP001002</td>\n",
       "      <td>Male</td>\n",
       "      <td>No</td>\n",
       "      <td>0</td>\n",
       "      <td>Graduate</td>\n",
       "      <td>No</td>\n",
       "      <td>5849</td>\n",
       "      <td>0.0</td>\n",
       "      <td>NaN</td>\n",
       "      <td>360.0</td>\n",
       "      <td>1.0</td>\n",
       "      <td>Urban</td>\n",
       "      <td>Y</td>\n",
       "    </tr>\n",
       "    <tr>\n",
       "      <th>1</th>\n",
       "      <td>LP001003</td>\n",
       "      <td>Male</td>\n",
       "      <td>Yes</td>\n",
       "      <td>1</td>\n",
       "      <td>Graduate</td>\n",
       "      <td>No</td>\n",
       "      <td>4583</td>\n",
       "      <td>1508.0</td>\n",
       "      <td>128.0</td>\n",
       "      <td>360.0</td>\n",
       "      <td>1.0</td>\n",
       "      <td>Rural</td>\n",
       "      <td>N</td>\n",
       "    </tr>\n",
       "    <tr>\n",
       "      <th>2</th>\n",
       "      <td>LP001005</td>\n",
       "      <td>Male</td>\n",
       "      <td>Yes</td>\n",
       "      <td>0</td>\n",
       "      <td>Graduate</td>\n",
       "      <td>Yes</td>\n",
       "      <td>3000</td>\n",
       "      <td>0.0</td>\n",
       "      <td>66.0</td>\n",
       "      <td>360.0</td>\n",
       "      <td>1.0</td>\n",
       "      <td>Urban</td>\n",
       "      <td>Y</td>\n",
       "    </tr>\n",
       "    <tr>\n",
       "      <th>3</th>\n",
       "      <td>LP001006</td>\n",
       "      <td>Male</td>\n",
       "      <td>Yes</td>\n",
       "      <td>0</td>\n",
       "      <td>Not Graduate</td>\n",
       "      <td>No</td>\n",
       "      <td>2583</td>\n",
       "      <td>2358.0</td>\n",
       "      <td>120.0</td>\n",
       "      <td>360.0</td>\n",
       "      <td>1.0</td>\n",
       "      <td>Urban</td>\n",
       "      <td>Y</td>\n",
       "    </tr>\n",
       "    <tr>\n",
       "      <th>4</th>\n",
       "      <td>LP001008</td>\n",
       "      <td>Male</td>\n",
       "      <td>No</td>\n",
       "      <td>0</td>\n",
       "      <td>Graduate</td>\n",
       "      <td>No</td>\n",
       "      <td>6000</td>\n",
       "      <td>0.0</td>\n",
       "      <td>141.0</td>\n",
       "      <td>360.0</td>\n",
       "      <td>1.0</td>\n",
       "      <td>Urban</td>\n",
       "      <td>Y</td>\n",
       "    </tr>\n",
       "    <tr>\n",
       "      <th>...</th>\n",
       "      <td>...</td>\n",
       "      <td>...</td>\n",
       "      <td>...</td>\n",
       "      <td>...</td>\n",
       "      <td>...</td>\n",
       "      <td>...</td>\n",
       "      <td>...</td>\n",
       "      <td>...</td>\n",
       "      <td>...</td>\n",
       "      <td>...</td>\n",
       "      <td>...</td>\n",
       "      <td>...</td>\n",
       "      <td>...</td>\n",
       "    </tr>\n",
       "    <tr>\n",
       "      <th>609</th>\n",
       "      <td>LP002978</td>\n",
       "      <td>Female</td>\n",
       "      <td>No</td>\n",
       "      <td>0</td>\n",
       "      <td>Graduate</td>\n",
       "      <td>No</td>\n",
       "      <td>2900</td>\n",
       "      <td>0.0</td>\n",
       "      <td>71.0</td>\n",
       "      <td>360.0</td>\n",
       "      <td>1.0</td>\n",
       "      <td>Rural</td>\n",
       "      <td>Y</td>\n",
       "    </tr>\n",
       "    <tr>\n",
       "      <th>610</th>\n",
       "      <td>LP002979</td>\n",
       "      <td>Male</td>\n",
       "      <td>Yes</td>\n",
       "      <td>3+</td>\n",
       "      <td>Graduate</td>\n",
       "      <td>No</td>\n",
       "      <td>4106</td>\n",
       "      <td>0.0</td>\n",
       "      <td>40.0</td>\n",
       "      <td>180.0</td>\n",
       "      <td>1.0</td>\n",
       "      <td>Rural</td>\n",
       "      <td>Y</td>\n",
       "    </tr>\n",
       "    <tr>\n",
       "      <th>611</th>\n",
       "      <td>LP002983</td>\n",
       "      <td>Male</td>\n",
       "      <td>Yes</td>\n",
       "      <td>1</td>\n",
       "      <td>Graduate</td>\n",
       "      <td>No</td>\n",
       "      <td>8072</td>\n",
       "      <td>240.0</td>\n",
       "      <td>253.0</td>\n",
       "      <td>360.0</td>\n",
       "      <td>1.0</td>\n",
       "      <td>Urban</td>\n",
       "      <td>Y</td>\n",
       "    </tr>\n",
       "    <tr>\n",
       "      <th>612</th>\n",
       "      <td>LP002984</td>\n",
       "      <td>Male</td>\n",
       "      <td>Yes</td>\n",
       "      <td>2</td>\n",
       "      <td>Graduate</td>\n",
       "      <td>No</td>\n",
       "      <td>7583</td>\n",
       "      <td>0.0</td>\n",
       "      <td>187.0</td>\n",
       "      <td>360.0</td>\n",
       "      <td>1.0</td>\n",
       "      <td>Urban</td>\n",
       "      <td>Y</td>\n",
       "    </tr>\n",
       "    <tr>\n",
       "      <th>613</th>\n",
       "      <td>LP002990</td>\n",
       "      <td>Female</td>\n",
       "      <td>No</td>\n",
       "      <td>0</td>\n",
       "      <td>Graduate</td>\n",
       "      <td>Yes</td>\n",
       "      <td>4583</td>\n",
       "      <td>0.0</td>\n",
       "      <td>133.0</td>\n",
       "      <td>360.0</td>\n",
       "      <td>0.0</td>\n",
       "      <td>Semiurban</td>\n",
       "      <td>N</td>\n",
       "    </tr>\n",
       "  </tbody>\n",
       "</table>\n",
       "<p>614 rows × 13 columns</p>\n",
       "</div>"
      ],
      "text/plain": [
       "      Loan_ID  Gender Married Dependents     Education Self_Employed  \\\n",
       "0    LP001002    Male      No          0      Graduate            No   \n",
       "1    LP001003    Male     Yes          1      Graduate            No   \n",
       "2    LP001005    Male     Yes          0      Graduate           Yes   \n",
       "3    LP001006    Male     Yes          0  Not Graduate            No   \n",
       "4    LP001008    Male      No          0      Graduate            No   \n",
       "..        ...     ...     ...        ...           ...           ...   \n",
       "609  LP002978  Female      No          0      Graduate            No   \n",
       "610  LP002979    Male     Yes         3+      Graduate            No   \n",
       "611  LP002983    Male     Yes          1      Graduate            No   \n",
       "612  LP002984    Male     Yes          2      Graduate            No   \n",
       "613  LP002990  Female      No          0      Graduate           Yes   \n",
       "\n",
       "     ApplicantIncome  CoapplicantIncome  LoanAmount  Loan_Amount_Term  \\\n",
       "0               5849                0.0         NaN             360.0   \n",
       "1               4583             1508.0       128.0             360.0   \n",
       "2               3000                0.0        66.0             360.0   \n",
       "3               2583             2358.0       120.0             360.0   \n",
       "4               6000                0.0       141.0             360.0   \n",
       "..               ...                ...         ...               ...   \n",
       "609             2900                0.0        71.0             360.0   \n",
       "610             4106                0.0        40.0             180.0   \n",
       "611             8072              240.0       253.0             360.0   \n",
       "612             7583                0.0       187.0             360.0   \n",
       "613             4583                0.0       133.0             360.0   \n",
       "\n",
       "     Credit_History Property_Area Loan_Status  \n",
       "0               1.0         Urban           Y  \n",
       "1               1.0         Rural           N  \n",
       "2               1.0         Urban           Y  \n",
       "3               1.0         Urban           Y  \n",
       "4               1.0         Urban           Y  \n",
       "..              ...           ...         ...  \n",
       "609             1.0         Rural           Y  \n",
       "610             1.0         Rural           Y  \n",
       "611             1.0         Urban           Y  \n",
       "612             1.0         Urban           Y  \n",
       "613             0.0     Semiurban           N  \n",
       "\n",
       "[614 rows x 13 columns]"
      ]
     },
     "execution_count": 2,
     "metadata": {},
     "output_type": "execute_result"
    }
   ],
   "source": [
    "data"
   ]
  },
  {
   "cell_type": "markdown",
   "metadata": {},
   "source": [
    "### 특성:\n",
    "\n",
    "1. 성별 : 남/여 (기본정보)\n",
    "\n",
    "2. 결혼 여부: 예/아니오 (후보자의 부양 여부를 확인하기 위해 표시합니다.)\n",
    "\n",
    "3. 피부양자 : 부양가족 수(후보자의 부채를 확인하기 위해 다시 기록합니다.)\n",
    "\n",
    "4. 학력: 졸업/미졸업 (차용인의 대출상환능력을 이해하는데 도움이 됩니다.)\n",
    "\n",
    "5. 자영업자 : 예/아니오 (차용인의 소득 흐름을 확인합니다.)\n",
    "\n",
    "6. 공동 신청인 소득 : 숫자 (차용인의 대출 상환 능력을 이해하는 데 도움이됩니다.)\n",
    "\n",
    "7. 대출금액: 숫자(대출자가 차용인의 상환가능성을 이해하는데 도움이됩니다.)\n",
    "\n",
    "8. 대출기간 : 숫자 (대출자가 원금으로 총이자를 계산하는 데 도움이됩니다.)\n",
    "\n",
    "9. 거주지역 : 도시/농촌/반도시(대출자의 생활수준을 이해하는데 도움이됩니다.)\n",
    "\n",
    "10. 대출여부 : 예/아니오 (이는 대출기관의 최종 결정 사항입니다.)"
   ]
  },
  {
   "cell_type": "markdown",
   "metadata": {
    "_uuid": "eaf3017bbbff5270e32ebeb20945d9fed2fa6ab9"
   },
   "source": [
    "## 2. 데이터 품질 및 누락 데이터 평가"
   ]
  },
  {
   "cell_type": "markdown",
   "metadata": {},
   "source": [
    "데이터 세트에서 누락된 데이터를 찾습니다..\n",
    "\n",
    "#### 누락된 데이터는 다음과 같은 여러 가지 이유로 인해 발생할 수 있습니다.\n",
    "\n",
    "1. 검증 실패\n",
    "\n",
    "2. 관찰 실패\n",
    "\n",
    "3. 관찰 데이터 기록 실패\n",
    "\n",
    "#### 누락된 데이터를 수정하는 것은 다음과 같은 이유로 매우 중요합니다.\n",
    "\n",
    "1. ML 모델의 결정에 영향을 주어 모델의 정확도를 떨어뜨릴 수 있습니다.\n",
    "\n",
    "2. 하나의 클래스로 모델을 편향되게 만들어 기록할 수 없는 부정확성을 초래합니다.\n",
    "\n",
    "#### 항상 누락된 데이터의 수를 확인하는 것이 좋습니다.\n",
    "\n",
    "1. 누락된 데이터의 수가 많은 경우 가능한 방법은 행/열의 평균을 취하여 누락된 위치의 데이터를 추정하는 것입니다.\n",
    "\n",
    "2. 누락된 데이터의 수가 적으면 누락된 행을 삭제할 수 있습니다."
   ]
  },
  {
   "cell_type": "code",
   "execution_count": 3,
   "metadata": {},
   "outputs": [
    {
     "name": "stdout",
     "output_type": "stream",
     "text": [
      "<class 'pandas.core.frame.DataFrame'>\n",
      "RangeIndex: 614 entries, 0 to 613\n",
      "Data columns (total 13 columns):\n",
      " #   Column             Non-Null Count  Dtype  \n",
      "---  ------             --------------  -----  \n",
      " 0   Loan_ID            614 non-null    object \n",
      " 1   Gender             601 non-null    object \n",
      " 2   Married            611 non-null    object \n",
      " 3   Dependents         599 non-null    object \n",
      " 4   Education          614 non-null    object \n",
      " 5   Self_Employed      582 non-null    object \n",
      " 6   ApplicantIncome    614 non-null    int64  \n",
      " 7   CoapplicantIncome  614 non-null    float64\n",
      " 8   LoanAmount         592 non-null    float64\n",
      " 9   Loan_Amount_Term   600 non-null    float64\n",
      " 10  Credit_History     564 non-null    float64\n",
      " 11  Property_Area      614 non-null    object \n",
      " 12  Loan_Status        614 non-null    object \n",
      "dtypes: float64(4), int64(1), object(8)\n",
      "memory usage: 62.5+ KB\n"
     ]
    }
   ],
   "source": [
    "data.info()"
   ]
  },
  {
   "cell_type": "code",
   "execution_count": 4,
   "metadata": {
    "_uuid": "74afda87fb45ebe6082cd912f5f41084adfc6bbe"
   },
   "outputs": [
    {
     "data": {
      "text/plain": [
       "Loan_ID               0\n",
       "Gender               13\n",
       "Married               3\n",
       "Dependents           15\n",
       "Education             0\n",
       "Self_Employed        32\n",
       "ApplicantIncome       0\n",
       "CoapplicantIncome     0\n",
       "LoanAmount           22\n",
       "Loan_Amount_Term     14\n",
       "Credit_History       50\n",
       "Property_Area         0\n",
       "Loan_Status           0\n",
       "dtype: int64"
      ]
     },
     "execution_count": 4,
     "metadata": {},
     "output_type": "execute_result"
    }
   ],
   "source": [
    "data.isnull().sum()"
   ]
  },
  {
   "cell_type": "markdown",
   "metadata": {
    "_uuid": "626cce7160673e4074be5dfae62311ffb438d2bf"
   },
   "source": [
    "### 성별 - 누락된 값"
   ]
  },
  {
   "cell_type": "code",
   "execution_count": 5,
   "metadata": {
    "_uuid": "bc052537cffdd72596b5824036577e10a3bcf34f"
   },
   "outputs": [
    {
     "name": "stdout",
     "output_type": "stream",
     "text": [
      "Percent of missing \"Gender\" records is 2.12%\n",
      "Percent of missing \"Self_Employed \" records is 5.21%\n",
      "Percent of missing \"Credit_History\" records is 8.14%\n"
     ]
    }
   ],
   "source": [
    "# 누락된 \"성별\" 데이터의 %\n",
    "print('Percent of missing \"Gender\" records is %.2f%%' %((data['Gender'].isnull().sum()/data.shape[0])*100))\n",
    "print('Percent of missing \"Self_Employed \" records is %.2f%%' %((data['Self_Employed'].isnull().sum()/data.shape[0])*100))\n",
    "print('Percent of missing \"Credit_History\" records is %.2f%%' %((data['Credit_History'].isnull().sum()/data.shape[0])*100))\n",
    "# data.shape[0] * 100= 누락된데이터를 퍼센티지로 나타내고 싶음"
   ]
  },
  {
   "cell_type": "markdown",
   "metadata": {},
   "source": [
    "이 값은 성별 데이터에서 값이 누락되어 있는 비율입니다. 이를 감안하여야 합니다. 누락된 값은 일반적으로 데이터 세트에 불균형을 초래하여 기계 학습 모델의 예측에 영향을 미칩니다."
   ]
  },
  {
   "cell_type": "code",
   "execution_count": 6,
   "metadata": {
    "_uuid": "eef00dc845d23c02fb756a2237d3dbfd7daa8a5d"
   },
   "outputs": [],
   "source": [
    "# Gender 항목의 count 값 그래프로 나타내기 ( seaborn 의 countplot 사용)\n",
    "# your code here"
   ]
  },
  {
   "cell_type": "code",
   "execution_count": 53,
   "metadata": {},
   "outputs": [
    {
     "data": {
      "image/png": "[encoded data removed]",
      "text/plain": [
       "<Figure size 800x600 with 1 Axes>"
      ]
     },
     "metadata": {},
     "output_type": "display_data"
    }
   ],
   "source": [
    "plt.figure(figsize=(8, 6))\n",
    "gender_loan_count.plot(kind=\"bar\", color=[\"blue\", \"pink\"], alpha=0.7)\n",
    "plt.title(\"Number of people who take a loan group by gender\")\n",
    "plt.ylabel(\"Count\")\n",
    "plt.xlabel(\"Gender\")\n",
    "plt.xticks(rotation=0)  # x축 레이블을 0도로 회전\n",
    "plt.yticks(range(0, max(gender_loan_count) + 1, 100))  # y축 간격을 100으로 설정\n",
    "plt.show()"
   ]
  },
  {
   "cell_type": "code",
   "execution_count": 52,
   "metadata": {},
   "outputs": [
    {
     "data": {
      "text/plain": [
       "Gender\n",
       "Female    112\n",
       "Male      489\n",
       "Name: Loan_ID, dtype: int64"
      ]
     },
     "execution_count": 52,
     "metadata": {},
     "output_type": "execute_result"
    }
   ],
   "source": [
    "gender_loan_count = data.groupby(\"Gender\")[\"Loan_ID\"].count()\n",
    "gender_loan_count"
   ]
  },
  {
   "cell_type": "markdown",
   "metadata": {
    "_uuid": "142ae1d6e70785e68dfbb751fb4195128788c808"
   },
   "source": [
    "### 결혼 여부 - 누락된 값"
   ]
  },
  {
   "cell_type": "code",
   "execution_count": 11,
   "metadata": {
    "_uuid": "9260ac341c4cfc5944f69c16f79c1ac2ad421ddb"
   },
   "outputs": [
    {
     "name": "stdout",
     "output_type": "stream",
     "text": [
      "Percent of missing \"Married\" records is 0.49%\n"
     ]
    }
   ],
   "source": [
    "# 누락된 \"결혼 여부\" 데이터의 %\n",
    "print('Percent of missing \"Married\" records is %.2f%%' %((data['Married'].isnull().sum()/data.shape[0])*100))"
   ]
  },
  {
   "cell_type": "code",
   "execution_count": 9,
   "metadata": {
    "_uuid": "05e301f6bf9d4a75f74eb4fdec0d730d70a0d02d"
   },
   "outputs": [],
   "source": [
    "# Married 항목의 count 값 그래프로 나타내기 ( seaborn 의 countplot 사용)\n",
    "# your code here\n",
    "\n",
    "\n",
    "\n"
   ]
  },
  {
   "cell_type": "code",
   "execution_count": 16,
   "metadata": {},
   "outputs": [
    {
     "data": {
      "image/png": "[encoded data removed]",
      "text/plain": [
       "<Figure size 800x800 with 1 Axes>"
      ]
     },
     "metadata": {},
     "output_type": "display_data"
    },
    {
     "data": {
      "text/plain": [
       "Married\n",
       "No     213\n",
       "Yes    398\n",
       "Name: Loan_ID, dtype: int64"
      ]
     },
     "execution_count": 16,
     "metadata": {},
     "output_type": "execute_result"
    }
   ],
   "source": [
    "married_loan_count = data.groupby(\"Married\")[\"Loan_ID\"].count()\n",
    "married_loan_count\n",
    "\n",
    "plt.figure(figsize=(8, 8))\n",
    "married_loan_count.plot(kind=\"bar\", color=[\"blue\", \"pink\"], alpha=0.7)\n",
    "plt.title(\"Number of people who take a loan group by married\")\n",
    "plt.ylabel(\"Count\")\n",
    "plt.xlabel(\"Married\")\n",
    "plt.xticks(rotation=0)  # x축 레이블을 0도로 회전\n",
    "plt.yticks(range(0, max(married_loan_count) + 1, 100))  # y축 간격을 100으로 설정\n",
    "plt.show()\n",
    "married_loan_count = data.groupby(\"Married\")[\"Loan_ID\"].count()\n",
    "married_loan_count"
   ]
  },
  {
   "cell_type": "markdown",
   "metadata": {
    "_uuid": "6aee40b28eab23c1fd05c85f7aeb5f2900880760"
   },
   "source": [
    "### 피부양자- 누락된 값"
   ]
  },
  {
   "cell_type": "code",
   "execution_count": 18,
   "metadata": {
    "_uuid": "e5ef179e92efaedff77b45005a1ce194dfbe28d1"
   },
   "outputs": [
    {
     "name": "stdout",
     "output_type": "stream",
     "text": [
      "Percent of missing \"Dependents\" records is 2.44%\n"
     ]
    }
   ],
   "source": [
    "# 누락된 \"피부양자\" 데이터의 %\n",
    "print('Percent of missing \"Dependents\" records is %.2f%%' %((data['Dependents'].isnull().sum()/data.shape[0])*100))"
   ]
  },
  {
   "cell_type": "code",
   "execution_count": null,
   "metadata": {
    "_uuid": "c5d6eb88ec6a6e2f7150e81eae740eb1b507e4bf"
   },
   "outputs": [],
   "source": [
    "# Dependents 항목의 count 값 그래프로 나타내기 ( seaborn 의 countplot 사용)\n",
    "# your code here\n",
    "\n",
    "\n",
    "\n"
   ]
  },
  {
   "cell_type": "code",
   "execution_count": 19,
   "metadata": {},
   "outputs": [
    {
     "data": {
      "image/png": "[encoded data removed]",
      "text/plain": [
       "<Figure size 800x800 with 1 Axes>"
      ]
     },
     "metadata": {},
     "output_type": "display_data"
    },
    {
     "data": {
      "text/plain": [
       "Dependents\n",
       "0     345\n",
       "1     102\n",
       "2     101\n",
       "3+     51\n",
       "Name: Loan_ID, dtype: int64"
      ]
     },
     "execution_count": 19,
     "metadata": {},
     "output_type": "execute_result"
    }
   ],
   "source": [
    "dependents_loan_count = data.groupby(\"Dependents\")[\"Loan_ID\"].count()\n",
    "dependents_loan_count\n",
    "\n",
    "plt.figure(figsize=(8, 8))\n",
    "dependents_loan_count.plot(kind=\"bar\", color=[\"blue\", \"orange\", \"red\", \"pink\"], alpha=0.7)\n",
    "plt.title(\"Number of people who take a loan group by Dependents\")\n",
    "plt.ylabel(\"Count\")\n",
    "plt.xlabel(\"Dependents\")\n",
    "plt.xticks(rotation=0)  # x축 레이블을 0도로 회전\n",
    "plt.yticks(range(0, max(dependents_loan_count) + 1, 50))  # y축 간격을 100으로 설정\n",
    "plt.show()\n",
    "dependents_loan_count = data.groupby(\"Dependents\")[\"Loan_ID\"].count()\n",
    "dependents_loan_count"
   ]
  },
  {
   "cell_type": "markdown",
   "metadata": {
    "_uuid": "b0feb68da70256403b17a201ede41dc63b6a4018"
   },
   "source": [
    "### 자영업자 - 누락된 값"
   ]
  },
  {
   "cell_type": "code",
   "execution_count": null,
   "metadata": {
    "_uuid": "22130eb3228de3f3333a14dc7c8c0fde1a306736"
   },
   "outputs": [],
   "source": [
    "# 누락된 \"자영업자\" 데이터의 %\n",
    "print('Percent of missing \"Self_Employed\" records is %.2f%%' %((data['Self_Employed'].isnull().sum()/data.shape[0])*100))"
   ]
  },
  {
   "cell_type": "code",
   "execution_count": null,
   "metadata": {
    "_uuid": "df3a15752c203cee95a96a77b5a6806d7ac22098"
   },
   "outputs": [],
   "source": []
  },
  {
   "cell_type": "code",
   "execution_count": 20,
   "metadata": {},
   "outputs": [
    {
     "data": {
      "image/png": "[encoded data removed]",
      "text/plain": [
       "<Figure size 800x600 with 1 Axes>"
      ]
     },
     "metadata": {},
     "output_type": "display_data"
    },
    {
     "name": "stdout",
     "output_type": "stream",
     "text": [
      "Number of people who take a loan group by Self Employed :\n",
      "Self_Employed\n",
      "No     500\n",
      "Yes     82\n",
      "Name: Loan_ID, dtype: int64\n"
     ]
    }
   ],
   "source": [
    "# Self_Employed 항목의 count 값 그래프로 나타내기 ( seaborn 의 countplot 사용)\n",
    "# your code here\n",
    "\n",
    "import pandas as pd\n",
    "import matplotlib.pyplot as plt\n",
    "%matplotlib inline\n",
    "\n",
    "self_employed_loan_count = data.groupby(\"Self_Employed\")[\"Loan_ID\"].count()\n",
    "self_employed_loan_count\n",
    "\n",
    "plt.figure(figsize=(8, 6))\n",
    "self_employed_loan_count.plot(kind=\"bar\", color=[\"blue\", \"green\"], alpha=0.7)\n",
    "plt.title(\"Number of people who take a loan group by Self Employed\")\n",
    "plt.ylabel(\"Count\")\n",
    "plt.xlabel(\"Self Employed\")\n",
    "plt.xticks(rotation=0)  # x축 레이블을 0도로 회전\n",
    "plt.show()\n",
    "\n",
    "# 결과 출력\n",
    "print(\"Number of people who take a loan group by Self Employed :\")\n",
    "print(self_employed_loan_count)\n",
    "\n"
   ]
  },
  {
   "cell_type": "markdown",
   "metadata": {
    "_uuid": "e5776e170a6fa45c239f454c9f378848f1a35898"
   },
   "source": [
    "### 대출금액 - 누락된 값"
   ]
  },
  {
   "cell_type": "code",
   "execution_count": null,
   "metadata": {
    "_uuid": "fcbb19c2595a65d3e1261b1b6437520c40bc98f2"
   },
   "outputs": [],
   "source": [
    "# 누락된 \"대출금액\" 데이터의 %\n",
    "print('Percent of missing \"LoanAmount\" records is %.2f%%' %((data['LoanAmount'].isnull().sum()/data.shape[0])*100))"
   ]
  },
  {
   "cell_type": "code",
   "execution_count": 21,
   "metadata": {
    "_uuid": "ffcd2b660b6b6adbda5b18b889e89b4fb143740a"
   },
   "outputs": [
    {
     "data": {
      "image/png": "[encoded data removed]",
      "text/plain": [
       "<Figure size 640x480 with 1 Axes>"
      ]
     },
     "metadata": {},
     "output_type": "display_data"
    }
   ],
   "source": [
    "ax = data[\"LoanAmount\"].hist(density=True, stacked=True, color='teal', alpha=0.6)\n",
    "data[\"LoanAmount\"].plot(kind='density', color='teal')\n",
    "ax.set(xlabel='Loan Amount')\n",
    "plt.show()"
   ]
  },
  {
   "cell_type": "markdown",
   "metadata": {
    "_uuid": "1c16347a28874c9f42a4318fde99d72d8b7f9aec"
   },
   "source": [
    "### 대출기간 - 누락된 값"
   ]
  },
  {
   "cell_type": "code",
   "execution_count": 22,
   "metadata": {
    "_uuid": "b4a13ee07542e0935af012981768e8638ce6b96b"
   },
   "outputs": [
    {
     "name": "stdout",
     "output_type": "stream",
     "text": [
      "Percent of missing \"Loan_Amount_Term\" records is 2.28%\n"
     ]
    }
   ],
   "source": [
    "# 누락된 \"대출기간\" 데이터의 %\n",
    "print('Percent of missing \"Loan_Amount_Term\" records is %.2f%%' %((data['Loan_Amount_Term'].isnull().sum()/data.shape[0])*100))"
   ]
  },
  {
   "cell_type": "code",
   "execution_count": null,
   "metadata": {
    "_uuid": "7b4aa34e32450f8d209ac3ba0e56183b3ef57c1e"
   },
   "outputs": [],
   "source": [
    "# Loan_Amount_Term 항목의 count 값 그래프로 나타내기 ( seaborn 의 countplot 사용)\n",
    "# your code here\n",
    "\n",
    "\n",
    "\n"
   ]
  },
  {
   "cell_type": "code",
   "execution_count": 23,
   "metadata": {},
   "outputs": [
    {
     "data": {
      "image/png": "[encoded data removed]",
      "text/plain": [
       "<Figure size 800x600 with 1 Axes>"
      ]
     },
     "metadata": {},
     "output_type": "display_data"
    }
   ],
   "source": [
    "loan_amount_term_loan_count = data.groupby(\"Loan_Amount_Term\")[\"Loan_ID\"].count()\n",
    "loan_amount_term_loan_count\n",
    "\n",
    "plt.figure(figsize=(8, 6))\n",
    "loan_amount_term_loan_count.plot(kind=\"bar\", color=[\"skyblue\"], alpha=0.7)\n",
    "plt.ylabel(\"Count\")\n",
    "plt.xlabel(\"LoanAmountTerm\")\n",
    "plt.xticks(rotation=0)  # x축 레이블을 0도로 회전\n",
    "plt.show()"
   ]
  },
  {
   "cell_type": "markdown",
   "metadata": {
    "_uuid": "271bd0c5dd009d6634c24fbda01c7bb5d446d4be"
   },
   "source": [
    "### 신용 기록 - 누락된 값"
   ]
  },
  {
   "cell_type": "code",
   "execution_count": null,
   "metadata": {
    "_uuid": "fa5bc77fe10bd79ad31aa041e8f3e9a3daffba50"
   },
   "outputs": [],
   "source": [
    "# 누락된 \"신용 기록\" 데이터의 %\n",
    "print('Percent of missing \"Credit_History\" records is %.2f%%' %((data['Credit_History'].isnull().sum()/data.shape[0])*100))"
   ]
  },
  {
   "cell_type": "code",
   "execution_count": null,
   "metadata": {
    "_uuid": "f0ec5086f833408b1d0d78d230487f3f738b4c30"
   },
   "outputs": [],
   "source": [
    "# Credit_History 항목의 count 값 그래프로 나타내기 ( seaborn 의 countplot 사용)\n",
    "# your code here\n",
    "\n",
    "\n",
    "\n"
   ]
  },
  {
   "cell_type": "code",
   "execution_count": 24,
   "metadata": {},
   "outputs": [
    {
     "data": {
      "image/png": "[encoded data removed]",
      "text/plain": [
       "<Figure size 800x600 with 1 Axes>"
      ]
     },
     "metadata": {},
     "output_type": "display_data"
    }
   ],
   "source": [
    "credit_history_loan_count = data.groupby(\"Credit_History\")[\"Loan_ID\"].count()\n",
    "credit_history_loan_count\n",
    "\n",
    "plt.figure(figsize=(8, 6))\n",
    "credit_history_loan_count.plot(kind=\"bar\", color=[\"skyblue\"], alpha=0.7)\n",
    "plt.ylabel(\"Count\")\n",
    "plt.xlabel(\"CreditHistory\")\n",
    "plt.xticks(rotation=0)  # x축 레이블을 0도로 회전\n",
    "plt.show()\n",
    "\n",
    "data[].value_counts"
   ]
  },
  {
   "cell_type": "markdown",
   "metadata": {},
   "source": [
    "#### 모든 특성 및 열의 누락된 값을 파악하여 누락된 값을 대치하거나 삭제할 수 있습니다.\n",
    "\n",
    "\n",
    "\n",
    "### 데이터 귀속 기준:\n",
    "1. 특성이 본질적으로 범주형인 경우(예: 온도가 덥고, 습하고, 추울 수 있음) 가장 많이 발생하는 범주로 귀속할 수 있습니다.\n",
    "\n",
    "2. 특성이 본질적으로 숫자인 경우(예: 사람의 키) 전체 특성의 평균 또는 중앙값을 취하여 누락된 행을 추정할 수 있습니다.\n",
    "\n",
    "\n",
    "### 누락된 데이터/행을 삭제하기 전 주의 사항:\n",
    "\n",
    "누락된 행의 수가 적은 경우에만 누락된 데이터를 삭제해야 합니다. 행을 삭제하면 누락된 데이터 문제를 해결할 수 있지만 해당 행의 다른 특성과 관련하여 데이터도 손실될 수 있습니다."
   ]
  },
  {
   "cell_type": "markdown",
   "metadata": {
    "_uuid": "d6b6caf4423c775dc60f1abe216f6e9db95d6060"
   },
   "source": [
    "## 3. 데이터에 대한 최종 조정"
   ]
  },
  {
   "cell_type": "markdown",
   "metadata": {
    "_uuid": "d4a0ecb7f501aba4876fe445fb0fd8544507d677"
   },
   "source": [
    "데이터 세트의 누락된 값에 대한 평가를 기반으로 데이터를 다음과 같이 변경합니다.\n",
    "\n",
    "* 주어진 행에 \"성별\"이 누락된 경우 남성(가장 일반적인 답변)으로 귀속합니다.\n",
    "* 주어진 행에 \"기혼여부\"가 누락된 경우 예(가장 일반적인 답변)로 간주합니다.\n",
    "* 주어진 행에 \"부양자\"가 누락된 경우 0(가장 일반적인 답변)으로 대치합니다.\n",
    "* 주어진 행에 \"자영업자\"가 누락된 경우, no(가장 일반적인 답변)로 간주합니다.\n",
    "* 주어진 행에 \"대출금액\"이 누락된 경우 데이터의 평균으로 대치합니다.\n",
    "* 주어진 행에 \"대출기간\"이 누락된 경우 360(가장 일반적인 답변)으로 대치합니다.\n",
    "* 주어진 행에 \"신용 기록\"이 누락된 경우 1.0(가장 일반적인 답변)으로 대치합니다."
   ]
  },
  {
   "cell_type": "code",
   "execution_count": null,
   "metadata": {},
   "outputs": [],
   "source": [
    "data"
   ]
  },
  {
   "cell_type": "markdown",
   "metadata": {},
   "source": [
    "# Null값을 어떻게 채워넣을지 위에서 확인하고 대체 및 삭제"
   ]
  },
  {
   "cell_type": "code",
   "execution_count": 26,
   "metadata": {
    "_uuid": "894e949b6643bfb68a1240612554d63f8589569a"
   },
   "outputs": [],
   "source": [
    "train_data = data.copy()\n",
    "train_data['Gender'].fillna(train_data['Gender'].value_counts().idxmax(), inplace=True) \n",
    "# idmax는 분포에서 최빈도값, 경우에따라 평균값\n",
    "# Married, Dependents, Self_Employed, LoanAmount, Loan_Amount_Term, Credit_History 항목에 대해서 \n",
    "# 위에서 최종 조정 결정한 방식대로 값을 변경합니다.\n",
    "# your code here\n",
    "train_data['Married'].fillna(train_data['Married'].value_counts().idxmax(), inplace=True) \n",
    "train_data['Dependents'].fillna(train_data['Dependents'].value_counts().idxmax(), inplace=True)\n",
    "train_data['Self_Employed'].fillna(train_data['Self_Employed'].value_counts().idxmax(), inplace=True) \n",
    "train_data['LoanAmount'].fillna(train_data['LoanAmount'].mean(), inplace=True)\n",
    "train_data['Loan_Amount_Term'].fillna(train_data['Loan_Amount_Term'].value_counts().idxmax(), inplace=True) \n",
    "train_data['Credit_History'].fillna(train_data['Credit_History'].value_counts().idxmax(), inplace=True) \n",
    "\n",
    "\n",
    "\n",
    "\n",
    "\n",
    "\n"
   ]
  },
  {
   "cell_type": "code",
   "execution_count": 27,
   "metadata": {
    "_uuid": "d6497eb5c19496010dee1624ee1ff9e6c36d6c78"
   },
   "outputs": [
    {
     "data": {
      "text/html": [
       "<div>\n",
       "<style scoped>\n",
       "    .dataframe tbody tr th:only-of-type {\n",
       "        vertical-align: middle;\n",
       "    }\n",
       "\n",
       "    .dataframe tbody tr th {\n",
       "        vertical-align: top;\n",
       "    }\n",
       "\n",
       "    .dataframe thead th {\n",
       "        text-align: right;\n",
       "    }\n",
       "</style>\n",
       "<table border=\"1\" class=\"dataframe\">\n",
       "  <thead>\n",
       "    <tr style=\"text-align: right;\">\n",
       "      <th></th>\n",
       "      <th>Loan_ID</th>\n",
       "      <th>Gender</th>\n",
       "      <th>Married</th>\n",
       "      <th>Dependents</th>\n",
       "      <th>Education</th>\n",
       "      <th>Self_Employed</th>\n",
       "      <th>ApplicantIncome</th>\n",
       "      <th>CoapplicantIncome</th>\n",
       "      <th>LoanAmount</th>\n",
       "      <th>Loan_Amount_Term</th>\n",
       "      <th>Credit_History</th>\n",
       "      <th>Property_Area</th>\n",
       "      <th>Loan_Status</th>\n",
       "    </tr>\n",
       "  </thead>\n",
       "  <tbody>\n",
       "    <tr>\n",
       "      <th>0</th>\n",
       "      <td>LP001002</td>\n",
       "      <td>Male</td>\n",
       "      <td>No</td>\n",
       "      <td>0</td>\n",
       "      <td>Graduate</td>\n",
       "      <td>No</td>\n",
       "      <td>5849</td>\n",
       "      <td>0.0</td>\n",
       "      <td>146.412162</td>\n",
       "      <td>360.0</td>\n",
       "      <td>1.0</td>\n",
       "      <td>Urban</td>\n",
       "      <td>Y</td>\n",
       "    </tr>\n",
       "    <tr>\n",
       "      <th>1</th>\n",
       "      <td>LP001003</td>\n",
       "      <td>Male</td>\n",
       "      <td>Yes</td>\n",
       "      <td>1</td>\n",
       "      <td>Graduate</td>\n",
       "      <td>No</td>\n",
       "      <td>4583</td>\n",
       "      <td>1508.0</td>\n",
       "      <td>128.000000</td>\n",
       "      <td>360.0</td>\n",
       "      <td>1.0</td>\n",
       "      <td>Rural</td>\n",
       "      <td>N</td>\n",
       "    </tr>\n",
       "    <tr>\n",
       "      <th>2</th>\n",
       "      <td>LP001005</td>\n",
       "      <td>Male</td>\n",
       "      <td>Yes</td>\n",
       "      <td>0</td>\n",
       "      <td>Graduate</td>\n",
       "      <td>Yes</td>\n",
       "      <td>3000</td>\n",
       "      <td>0.0</td>\n",
       "      <td>66.000000</td>\n",
       "      <td>360.0</td>\n",
       "      <td>1.0</td>\n",
       "      <td>Urban</td>\n",
       "      <td>Y</td>\n",
       "    </tr>\n",
       "    <tr>\n",
       "      <th>3</th>\n",
       "      <td>LP001006</td>\n",
       "      <td>Male</td>\n",
       "      <td>Yes</td>\n",
       "      <td>0</td>\n",
       "      <td>Not Graduate</td>\n",
       "      <td>No</td>\n",
       "      <td>2583</td>\n",
       "      <td>2358.0</td>\n",
       "      <td>120.000000</td>\n",
       "      <td>360.0</td>\n",
       "      <td>1.0</td>\n",
       "      <td>Urban</td>\n",
       "      <td>Y</td>\n",
       "    </tr>\n",
       "    <tr>\n",
       "      <th>4</th>\n",
       "      <td>LP001008</td>\n",
       "      <td>Male</td>\n",
       "      <td>No</td>\n",
       "      <td>0</td>\n",
       "      <td>Graduate</td>\n",
       "      <td>No</td>\n",
       "      <td>6000</td>\n",
       "      <td>0.0</td>\n",
       "      <td>141.000000</td>\n",
       "      <td>360.0</td>\n",
       "      <td>1.0</td>\n",
       "      <td>Urban</td>\n",
       "      <td>Y</td>\n",
       "    </tr>\n",
       "    <tr>\n",
       "      <th>...</th>\n",
       "      <td>...</td>\n",
       "      <td>...</td>\n",
       "      <td>...</td>\n",
       "      <td>...</td>\n",
       "      <td>...</td>\n",
       "      <td>...</td>\n",
       "      <td>...</td>\n",
       "      <td>...</td>\n",
       "      <td>...</td>\n",
       "      <td>...</td>\n",
       "      <td>...</td>\n",
       "      <td>...</td>\n",
       "      <td>...</td>\n",
       "    </tr>\n",
       "    <tr>\n",
       "      <th>609</th>\n",
       "      <td>LP002978</td>\n",
       "      <td>Female</td>\n",
       "      <td>No</td>\n",
       "      <td>0</td>\n",
       "      <td>Graduate</td>\n",
       "      <td>No</td>\n",
       "      <td>2900</td>\n",
       "      <td>0.0</td>\n",
       "      <td>71.000000</td>\n",
       "      <td>360.0</td>\n",
       "      <td>1.0</td>\n",
       "      <td>Rural</td>\n",
       "      <td>Y</td>\n",
       "    </tr>\n",
       "    <tr>\n",
       "      <th>610</th>\n",
       "      <td>LP002979</td>\n",
       "      <td>Male</td>\n",
       "      <td>Yes</td>\n",
       "      <td>3+</td>\n",
       "      <td>Graduate</td>\n",
       "      <td>No</td>\n",
       "      <td>4106</td>\n",
       "      <td>0.0</td>\n",
       "      <td>40.000000</td>\n",
       "      <td>180.0</td>\n",
       "      <td>1.0</td>\n",
       "      <td>Rural</td>\n",
       "      <td>Y</td>\n",
       "    </tr>\n",
       "    <tr>\n",
       "      <th>611</th>\n",
       "      <td>LP002983</td>\n",
       "      <td>Male</td>\n",
       "      <td>Yes</td>\n",
       "      <td>1</td>\n",
       "      <td>Graduate</td>\n",
       "      <td>No</td>\n",
       "      <td>8072</td>\n",
       "      <td>240.0</td>\n",
       "      <td>253.000000</td>\n",
       "      <td>360.0</td>\n",
       "      <td>1.0</td>\n",
       "      <td>Urban</td>\n",
       "      <td>Y</td>\n",
       "    </tr>\n",
       "    <tr>\n",
       "      <th>612</th>\n",
       "      <td>LP002984</td>\n",
       "      <td>Male</td>\n",
       "      <td>Yes</td>\n",
       "      <td>2</td>\n",
       "      <td>Graduate</td>\n",
       "      <td>No</td>\n",
       "      <td>7583</td>\n",
       "      <td>0.0</td>\n",
       "      <td>187.000000</td>\n",
       "      <td>360.0</td>\n",
       "      <td>1.0</td>\n",
       "      <td>Urban</td>\n",
       "      <td>Y</td>\n",
       "    </tr>\n",
       "    <tr>\n",
       "      <th>613</th>\n",
       "      <td>LP002990</td>\n",
       "      <td>Female</td>\n",
       "      <td>No</td>\n",
       "      <td>0</td>\n",
       "      <td>Graduate</td>\n",
       "      <td>Yes</td>\n",
       "      <td>4583</td>\n",
       "      <td>0.0</td>\n",
       "      <td>133.000000</td>\n",
       "      <td>360.0</td>\n",
       "      <td>0.0</td>\n",
       "      <td>Semiurban</td>\n",
       "      <td>N</td>\n",
       "    </tr>\n",
       "  </tbody>\n",
       "</table>\n",
       "<p>614 rows × 13 columns</p>\n",
       "</div>"
      ],
      "text/plain": [
       "      Loan_ID  Gender Married Dependents     Education Self_Employed  \\\n",
       "0    LP001002    Male      No          0      Graduate            No   \n",
       "1    LP001003    Male     Yes          1      Graduate            No   \n",
       "2    LP001005    Male     Yes          0      Graduate           Yes   \n",
       "3    LP001006    Male     Yes          0  Not Graduate            No   \n",
       "4    LP001008    Male      No          0      Graduate            No   \n",
       "..        ...     ...     ...        ...           ...           ...   \n",
       "609  LP002978  Female      No          0      Graduate            No   \n",
       "610  LP002979    Male     Yes         3+      Graduate            No   \n",
       "611  LP002983    Male     Yes          1      Graduate            No   \n",
       "612  LP002984    Male     Yes          2      Graduate            No   \n",
       "613  LP002990  Female      No          0      Graduate           Yes   \n",
       "\n",
       "     ApplicantIncome  CoapplicantIncome  LoanAmount  Loan_Amount_Term  \\\n",
       "0               5849                0.0  146.412162             360.0   \n",
       "1               4583             1508.0  128.000000             360.0   \n",
       "2               3000                0.0   66.000000             360.0   \n",
       "3               2583             2358.0  120.000000             360.0   \n",
       "4               6000                0.0  141.000000             360.0   \n",
       "..               ...                ...         ...               ...   \n",
       "609             2900                0.0   71.000000             360.0   \n",
       "610             4106                0.0   40.000000             180.0   \n",
       "611             8072              240.0  253.000000             360.0   \n",
       "612             7583                0.0  187.000000             360.0   \n",
       "613             4583                0.0  133.000000             360.0   \n",
       "\n",
       "     Credit_History Property_Area Loan_Status  \n",
       "0               1.0         Urban           Y  \n",
       "1               1.0         Rural           N  \n",
       "2               1.0         Urban           Y  \n",
       "3               1.0         Urban           Y  \n",
       "4               1.0         Urban           Y  \n",
       "..              ...           ...         ...  \n",
       "609             1.0         Rural           Y  \n",
       "610             1.0         Rural           Y  \n",
       "611             1.0         Urban           Y  \n",
       "612             1.0         Urban           Y  \n",
       "613             0.0     Semiurban           N  \n",
       "\n",
       "[614 rows x 13 columns]"
      ]
     },
     "execution_count": 27,
     "metadata": {},
     "output_type": "execute_result"
    }
   ],
   "source": [
    "# 누락된 값 확인\n",
    "train_data.isnull().sum()\n",
    "train_data"
   ]
  },
  {
   "cell_type": "code",
   "execution_count": 28,
   "metadata": {},
   "outputs": [
    {
     "data": {
      "text/plain": [
       "Loan_ID              0\n",
       "Gender               0\n",
       "Married              0\n",
       "Dependents           0\n",
       "Education            0\n",
       "Self_Employed        0\n",
       "ApplicantIncome      0\n",
       "CoapplicantIncome    0\n",
       "LoanAmount           0\n",
       "Loan_Amount_Term     0\n",
       "Credit_History       0\n",
       "Property_Area        0\n",
       "Loan_Status          0\n",
       "dtype: int64"
      ]
     },
     "execution_count": 28,
     "metadata": {},
     "output_type": "execute_result"
    }
   ],
   "source": [
    "train_data.isnull().sum()"
   ]
  },
  {
   "cell_type": "markdown",
   "metadata": {},
   "source": [
    "### 범주형 데이터를 숫자 데이터로 변환합니다.\n",
    "\n",
    "1. 다음 셀에서 기계 학습 모델은 숫자만 가져와서 연산을 수행할 수 있으므로 범주형 데이터를 숫자 데이터로 변환해야 합니다. 형식(그림, 텍스트)에 관계없이 모든 데이터는 기계 학습 모델을 학습하기 전에 숫자 형식으로 변환해야 합니다.\n",
    "\n",
    "예를 들어 'gender' 특성은 각각 1과 0으로 변환되는 'Male'과 'Female'이라는 두 개의 카테고리가 있습니다.\n",
    "\n",
    "'거주 지역' 기능에는 각각 0, 1, 2로 변환되는 '반도시', '도시', '농촌'의 세 가지 범주가 있습니다."
   ]
  },
  {
   "cell_type": "code",
   "execution_count": null,
   "metadata": {
    "_uuid": "556b9633cc888422761516ae59964cccfefcca12"
   },
   "outputs": [],
   "source": [
    "# 일부 개체 데이터 유형을 int64로 변환\n",
    "# your code here\n",
    "\n",
    "gender_stat = {\"Female\": 0, \"Male\": 1}\n",
    "yes_no_stat = ...        # ...your code here\n",
    "dependents_stat = ...    # ...your code here\n",
    "education_stat = ...     # ...your code here\n",
    "property_stat = ...      # ...your code here\n",
    "\n",
    "train_data['Gender'] = train_data['Gender'].replace(gender_stat)\n",
    "train_data['Married'] = ...       # ...your code here\n",
    "train_data['Dependents'] = ...    # ...your code here\n",
    "train_data['Education'] = ...     # ...your code here\n",
    "train_data['Self_Employed'] = ...    # ...your code here\n",
    "train_data['Property_Area'] = ...    # ...your code here"
   ]
  },
  {
   "cell_type": "code",
   "execution_count": 29,
   "metadata": {},
   "outputs": [],
   "source": [
    "gender_stat = {\"Female\": 0, \"Male\": 1}\n",
    "yes_no_stat = {\"Yes\": 1, \"No\": 0}\n",
    "dependents_stat = {\"0\": 0, \"1\": 1, \"2\": 2, \"3+\": 3}\n",
    "education_stat = {\"Graduate\": 1, \"Not Graduate\": 0}\n",
    "selfemployed_stat = {\"Yes\": 1, \"No\": 0}\n",
    "property_stat = {\"Rural\": 0, \"Urban\": 1, \"Semiurban\": 2}\n",
    "loanstatus_stat = {\"Y\": 1, \"N\": 0}\n",
    "\n",
    "train_data['Gender'] = train_data['Gender'].replace(gender_stat)\n",
    "train_data['Married'] = train_data['Married'].replace(yes_no_stat)\n",
    "train_data['Dependents'] = train_data['Dependents'].replace(dependents_stat)\n",
    "train_data['Education'] = train_data['Education'].replace(education_stat)\n",
    "train_data['Self_Employed'] = train_data['Self_Employed'].replace(selfemployed_stat)\n",
    "train_data['Property_Area'] = train_data['Property_Area'].replace(property_stat)\n",
    "train_data['Loan_Status'] = train_data['Loan_Status'].replace(loanstatus_stat)"
   ]
  },
  {
   "cell_type": "code",
   "execution_count": 30,
   "metadata": {},
   "outputs": [
    {
     "data": {
      "text/html": [
       "<div>\n",
       "<style scoped>\n",
       "    .dataframe tbody tr th:only-of-type {\n",
       "        vertical-align: middle;\n",
       "    }\n",
       "\n",
       "    .dataframe tbody tr th {\n",
       "        vertical-align: top;\n",
       "    }\n",
       "\n",
       "    .dataframe thead th {\n",
       "        text-align: right;\n",
       "    }\n",
       "</style>\n",
       "<table border=\"1\" class=\"dataframe\">\n",
       "  <thead>\n",
       "    <tr style=\"text-align: right;\">\n",
       "      <th></th>\n",
       "      <th>Loan_ID</th>\n",
       "      <th>Gender</th>\n",
       "      <th>Married</th>\n",
       "      <th>Dependents</th>\n",
       "      <th>Education</th>\n",
       "      <th>Self_Employed</th>\n",
       "      <th>ApplicantIncome</th>\n",
       "      <th>CoapplicantIncome</th>\n",
       "      <th>LoanAmount</th>\n",
       "      <th>Loan_Amount_Term</th>\n",
       "      <th>Credit_History</th>\n",
       "      <th>Property_Area</th>\n",
       "      <th>Loan_Status</th>\n",
       "    </tr>\n",
       "  </thead>\n",
       "  <tbody>\n",
       "    <tr>\n",
       "      <th>0</th>\n",
       "      <td>LP001002</td>\n",
       "      <td>1</td>\n",
       "      <td>0</td>\n",
       "      <td>0</td>\n",
       "      <td>1</td>\n",
       "      <td>0</td>\n",
       "      <td>5849</td>\n",
       "      <td>0.0</td>\n",
       "      <td>146.412162</td>\n",
       "      <td>360.0</td>\n",
       "      <td>1.0</td>\n",
       "      <td>1</td>\n",
       "      <td>1</td>\n",
       "    </tr>\n",
       "    <tr>\n",
       "      <th>1</th>\n",
       "      <td>LP001003</td>\n",
       "      <td>1</td>\n",
       "      <td>1</td>\n",
       "      <td>1</td>\n",
       "      <td>1</td>\n",
       "      <td>0</td>\n",
       "      <td>4583</td>\n",
       "      <td>1508.0</td>\n",
       "      <td>128.000000</td>\n",
       "      <td>360.0</td>\n",
       "      <td>1.0</td>\n",
       "      <td>0</td>\n",
       "      <td>0</td>\n",
       "    </tr>\n",
       "    <tr>\n",
       "      <th>2</th>\n",
       "      <td>LP001005</td>\n",
       "      <td>1</td>\n",
       "      <td>1</td>\n",
       "      <td>0</td>\n",
       "      <td>1</td>\n",
       "      <td>1</td>\n",
       "      <td>3000</td>\n",
       "      <td>0.0</td>\n",
       "      <td>66.000000</td>\n",
       "      <td>360.0</td>\n",
       "      <td>1.0</td>\n",
       "      <td>1</td>\n",
       "      <td>1</td>\n",
       "    </tr>\n",
       "    <tr>\n",
       "      <th>3</th>\n",
       "      <td>LP001006</td>\n",
       "      <td>1</td>\n",
       "      <td>1</td>\n",
       "      <td>0</td>\n",
       "      <td>0</td>\n",
       "      <td>0</td>\n",
       "      <td>2583</td>\n",
       "      <td>2358.0</td>\n",
       "      <td>120.000000</td>\n",
       "      <td>360.0</td>\n",
       "      <td>1.0</td>\n",
       "      <td>1</td>\n",
       "      <td>1</td>\n",
       "    </tr>\n",
       "    <tr>\n",
       "      <th>4</th>\n",
       "      <td>LP001008</td>\n",
       "      <td>1</td>\n",
       "      <td>0</td>\n",
       "      <td>0</td>\n",
       "      <td>1</td>\n",
       "      <td>0</td>\n",
       "      <td>6000</td>\n",
       "      <td>0.0</td>\n",
       "      <td>141.000000</td>\n",
       "      <td>360.0</td>\n",
       "      <td>1.0</td>\n",
       "      <td>1</td>\n",
       "      <td>1</td>\n",
       "    </tr>\n",
       "    <tr>\n",
       "      <th>...</th>\n",
       "      <td>...</td>\n",
       "      <td>...</td>\n",
       "      <td>...</td>\n",
       "      <td>...</td>\n",
       "      <td>...</td>\n",
       "      <td>...</td>\n",
       "      <td>...</td>\n",
       "      <td>...</td>\n",
       "      <td>...</td>\n",
       "      <td>...</td>\n",
       "      <td>...</td>\n",
       "      <td>...</td>\n",
       "      <td>...</td>\n",
       "    </tr>\n",
       "    <tr>\n",
       "      <th>609</th>\n",
       "      <td>LP002978</td>\n",
       "      <td>0</td>\n",
       "      <td>0</td>\n",
       "      <td>0</td>\n",
       "      <td>1</td>\n",
       "      <td>0</td>\n",
       "      <td>2900</td>\n",
       "      <td>0.0</td>\n",
       "      <td>71.000000</td>\n",
       "      <td>360.0</td>\n",
       "      <td>1.0</td>\n",
       "      <td>0</td>\n",
       "      <td>1</td>\n",
       "    </tr>\n",
       "    <tr>\n",
       "      <th>610</th>\n",
       "      <td>LP002979</td>\n",
       "      <td>1</td>\n",
       "      <td>1</td>\n",
       "      <td>3</td>\n",
       "      <td>1</td>\n",
       "      <td>0</td>\n",
       "      <td>4106</td>\n",
       "      <td>0.0</td>\n",
       "      <td>40.000000</td>\n",
       "      <td>180.0</td>\n",
       "      <td>1.0</td>\n",
       "      <td>0</td>\n",
       "      <td>1</td>\n",
       "    </tr>\n",
       "    <tr>\n",
       "      <th>611</th>\n",
       "      <td>LP002983</td>\n",
       "      <td>1</td>\n",
       "      <td>1</td>\n",
       "      <td>1</td>\n",
       "      <td>1</td>\n",
       "      <td>0</td>\n",
       "      <td>8072</td>\n",
       "      <td>240.0</td>\n",
       "      <td>253.000000</td>\n",
       "      <td>360.0</td>\n",
       "      <td>1.0</td>\n",
       "      <td>1</td>\n",
       "      <td>1</td>\n",
       "    </tr>\n",
       "    <tr>\n",
       "      <th>612</th>\n",
       "      <td>LP002984</td>\n",
       "      <td>1</td>\n",
       "      <td>1</td>\n",
       "      <td>2</td>\n",
       "      <td>1</td>\n",
       "      <td>0</td>\n",
       "      <td>7583</td>\n",
       "      <td>0.0</td>\n",
       "      <td>187.000000</td>\n",
       "      <td>360.0</td>\n",
       "      <td>1.0</td>\n",
       "      <td>1</td>\n",
       "      <td>1</td>\n",
       "    </tr>\n",
       "    <tr>\n",
       "      <th>613</th>\n",
       "      <td>LP002990</td>\n",
       "      <td>0</td>\n",
       "      <td>0</td>\n",
       "      <td>0</td>\n",
       "      <td>1</td>\n",
       "      <td>1</td>\n",
       "      <td>4583</td>\n",
       "      <td>0.0</td>\n",
       "      <td>133.000000</td>\n",
       "      <td>360.0</td>\n",
       "      <td>0.0</td>\n",
       "      <td>2</td>\n",
       "      <td>0</td>\n",
       "    </tr>\n",
       "  </tbody>\n",
       "</table>\n",
       "<p>614 rows × 13 columns</p>\n",
       "</div>"
      ],
      "text/plain": [
       "      Loan_ID  Gender  Married  Dependents  Education  Self_Employed  \\\n",
       "0    LP001002       1        0           0          1              0   \n",
       "1    LP001003       1        1           1          1              0   \n",
       "2    LP001005       1        1           0          1              1   \n",
       "3    LP001006       1        1           0          0              0   \n",
       "4    LP001008       1        0           0          1              0   \n",
       "..        ...     ...      ...         ...        ...            ...   \n",
       "609  LP002978       0        0           0          1              0   \n",
       "610  LP002979       1        1           3          1              0   \n",
       "611  LP002983       1        1           1          1              0   \n",
       "612  LP002984       1        1           2          1              0   \n",
       "613  LP002990       0        0           0          1              1   \n",
       "\n",
       "     ApplicantIncome  CoapplicantIncome  LoanAmount  Loan_Amount_Term  \\\n",
       "0               5849                0.0  146.412162             360.0   \n",
       "1               4583             1508.0  128.000000             360.0   \n",
       "2               3000                0.0   66.000000             360.0   \n",
       "3               2583             2358.0  120.000000             360.0   \n",
       "4               6000                0.0  141.000000             360.0   \n",
       "..               ...                ...         ...               ...   \n",
       "609             2900                0.0   71.000000             360.0   \n",
       "610             4106                0.0   40.000000             180.0   \n",
       "611             8072              240.0  253.000000             360.0   \n",
       "612             7583                0.0  187.000000             360.0   \n",
       "613             4583                0.0  133.000000             360.0   \n",
       "\n",
       "     Credit_History  Property_Area  Loan_Status  \n",
       "0               1.0              1            1  \n",
       "1               1.0              0            0  \n",
       "2               1.0              1            1  \n",
       "3               1.0              1            1  \n",
       "4               1.0              1            1  \n",
       "..              ...            ...          ...  \n",
       "609             1.0              0            1  \n",
       "610             1.0              0            1  \n",
       "611             1.0              1            1  \n",
       "612             1.0              1            1  \n",
       "613             0.0              2            0  \n",
       "\n",
       "[614 rows x 13 columns]"
      ]
     },
     "execution_count": 30,
     "metadata": {},
     "output_type": "execute_result"
    }
   ],
   "source": [
    "train_data"
   ]
  },
  {
   "cell_type": "code",
   "execution_count": 31,
   "metadata": {},
   "outputs": [
    {
     "name": "stdout",
     "output_type": "stream",
     "text": [
      "<class 'pandas.core.frame.DataFrame'>\n",
      "RangeIndex: 614 entries, 0 to 613\n",
      "Data columns (total 13 columns):\n",
      " #   Column             Non-Null Count  Dtype  \n",
      "---  ------             --------------  -----  \n",
      " 0   Loan_ID            614 non-null    object \n",
      " 1   Gender             614 non-null    int64  \n",
      " 2   Married            614 non-null    int64  \n",
      " 3   Dependents         614 non-null    int64  \n",
      " 4   Education          614 non-null    int64  \n",
      " 5   Self_Employed      614 non-null    int64  \n",
      " 6   ApplicantIncome    614 non-null    int64  \n",
      " 7   CoapplicantIncome  614 non-null    float64\n",
      " 8   LoanAmount         614 non-null    float64\n",
      " 9   Loan_Amount_Term   614 non-null    float64\n",
      " 10  Credit_History     614 non-null    float64\n",
      " 11  Property_Area      614 non-null    int64  \n",
      " 12  Loan_Status        614 non-null    int64  \n",
      "dtypes: float64(4), int64(8), object(1)\n",
      "memory usage: 62.5+ KB\n"
     ]
    }
   ],
   "source": [
    "train_data.info()"
   ]
  },
  {
   "cell_type": "markdown",
   "metadata": {},
   "source": [
    "#### 마지막으로 우리는 누락 데이터를 대체 후 데이터 세트에서 null 값의 총 수를 확인합니다. 모든 열/특성에서 null 값의 총 수가 감소한 것을 알 수 있습니다."
   ]
  },
  {
   "cell_type": "code",
   "execution_count": 32,
   "metadata": {
    "_uuid": "9596d1c29586e3ece73c7a2725a11610e55ab31b"
   },
   "outputs": [
    {
     "name": "stdout",
     "output_type": "stream",
     "text": [
      "<class 'pandas.core.frame.DataFrame'>\n",
      "RangeIndex: 614 entries, 0 to 613\n",
      "Data columns (total 13 columns):\n",
      " #   Column             Non-Null Count  Dtype  \n",
      "---  ------             --------------  -----  \n",
      " 0   Loan_ID            614 non-null    object \n",
      " 1   Gender             601 non-null    object \n",
      " 2   Married            611 non-null    object \n",
      " 3   Dependents         599 non-null    object \n",
      " 4   Education          614 non-null    object \n",
      " 5   Self_Employed      582 non-null    object \n",
      " 6   ApplicantIncome    614 non-null    int64  \n",
      " 7   CoapplicantIncome  614 non-null    float64\n",
      " 8   LoanAmount         592 non-null    float64\n",
      " 9   Loan_Amount_Term   600 non-null    float64\n",
      " 10  Credit_History     564 non-null    float64\n",
      " 11  Property_Area      614 non-null    object \n",
      " 12  Loan_Status        614 non-null    object \n",
      "dtypes: float64(4), int64(1), object(8)\n",
      "memory usage: 62.5+ KB\n",
      "\n",
      "<class 'pandas.core.frame.DataFrame'>\n",
      "RangeIndex: 614 entries, 0 to 613\n",
      "Data columns (total 13 columns):\n",
      " #   Column             Non-Null Count  Dtype  \n",
      "---  ------             --------------  -----  \n",
      " 0   Loan_ID            614 non-null    object \n",
      " 1   Gender             614 non-null    int64  \n",
      " 2   Married            614 non-null    int64  \n",
      " 3   Dependents         614 non-null    int64  \n",
      " 4   Education          614 non-null    int64  \n",
      " 5   Self_Employed      614 non-null    int64  \n",
      " 6   ApplicantIncome    614 non-null    int64  \n",
      " 7   CoapplicantIncome  614 non-null    float64\n",
      " 8   LoanAmount         614 non-null    float64\n",
      " 9   Loan_Amount_Term   614 non-null    float64\n",
      " 10  Credit_History     614 non-null    float64\n",
      " 11  Property_Area      614 non-null    int64  \n",
      " 12  Loan_Status        614 non-null    int64  \n",
      "dtypes: float64(4), int64(8), object(1)\n",
      "memory usage: 62.5+ KB\n"
     ]
    },
    {
     "data": {
      "text/plain": [
       "Loan_ID              0\n",
       "Gender               0\n",
       "Married              0\n",
       "Dependents           0\n",
       "Education            0\n",
       "Self_Employed        0\n",
       "ApplicantIncome      0\n",
       "CoapplicantIncome    0\n",
       "LoanAmount           0\n",
       "Loan_Amount_Term     0\n",
       "Credit_History       0\n",
       "Property_Area        0\n",
       "Loan_Status          0\n",
       "dtype: int64"
      ]
     },
     "execution_count": 32,
     "metadata": {},
     "output_type": "execute_result"
    }
   ],
   "source": [
    "# 데이터 정보 미리보기\n",
    "data.info()\n",
    "data.isnull().sum()\n",
    "print(\"\")\n",
    "train_data.info()\n",
    "train_data.isnull().sum()"
   ]
  },
  {
   "cell_type": "markdown",
   "metadata": {},
   "source": [
    "### 이제 기계 학습 모델을 훈련하기 위해 전처리된 데이터를 사용할 수 있습니다."
   ]
  },
  {
   "cell_type": "markdown",
   "metadata": {
    "_uuid": "9268ba0999065f44586f186bbb19b35eb6050ccf"
   },
   "source": [
    "## 4. 예측하기"
   ]
  },
  {
   "cell_type": "code",
   "execution_count": null,
   "metadata": {},
   "outputs": [],
   "source": [
    "# 데이터, 테스트데이터 분리 안함 "
   ]
  },
  {
   "cell_type": "code",
   "execution_count": 40,
   "metadata": {
    "_uuid": "4857dbf76cad98f1b4442e89ba48af6eada56c0f"
   },
   "outputs": [],
   "source": [
    "# 기능 및 대상 분리\n",
    "# your code here\n",
    "x = train_data.drop(columns=['Loan_ID', 'Loan_Status'], axis=1) \n",
    "# inplace True를 썼을 때에만 특정행렬이 완전히 삭제 됨\n",
    "# drop 에서 Columns를 사용하는 경우 Column값에서 반드시 ' ,axis=1 을 추가할 것 '\n",
    "y = train_data[\"Loan_Status\"]\n",
    "\n",
    "# 결과를 저장하고 표시하기 위해 변수를 만듭니다.\n",
    "classifier = ('Random Forest','Decision Tree','K-Nearest Neighbor','SVM')\n",
    "y_pos = np.arange(len(classifier))\n",
    "score = []"
   ]
  },
  {
   "cell_type": "markdown",
   "metadata": {},
   "source": [
    "#### 랜덤 포레스트 분류기(Random Forest Classifier)"
   ]
  },
  {
   "cell_type": "code",
   "execution_count": 41,
   "metadata": {
    "_uuid": "5aad2f3c6d5a3e456f3d3455521174ff65a073e8"
   },
   "outputs": [
    {
     "name": "stdout",
     "output_type": "stream",
     "text": [
      "The accuration of classification is 76.70%\n"
     ]
    }
   ],
   "source": [
    "clf = RandomForestClassifier(n_estimators=10) \n",
    "scores = cross_val_score(clf, x, y,cv=5) # cv 는 5번 돌리겠다. \n",
    "score.append(scores.mean()) # 스코어의 평균값 도출\n",
    "print('The accuration of classification is %.2f%%' %(scores.mean()*100))"
   ]
  },
  {
   "cell_type": "markdown",
   "metadata": {},
   "source": [
    "#### 의사 결정 트리 분류기(Decision Tree Classifier)"
   ]
  },
  {
   "cell_type": "code",
   "execution_count": 42,
   "metadata": {
    "_uuid": "0e99d94b69e7794753e3f07f6e56e2cf20f817dd"
   },
   "outputs": [
    {
     "name": "stdout",
     "output_type": "stream",
     "text": [
      "The accuracy of classification (Decision Tree) is 71.50%\n"
     ]
    }
   ],
   "source": [
    "# your code here\n",
    "clf = DecisionTreeClassifier()  # 의사결정 트리 분류기로 변경\n",
    "scores = cross_val_score(clf, x, y, cv=5)\n",
    "score.append(scores.mean())\n",
    "print('The accuracy of classification (Decision Tree) is %.2f%%' % (scores.mean() * 100))\n",
    "\n",
    "\n",
    "\n"
   ]
  },
  {
   "cell_type": "markdown",
   "metadata": {},
   "source": [
    "#### k-최근접 이웃 분류기(K- Nearest Neighbours Classifiers)"
   ]
  },
  {
   "cell_type": "code",
   "execution_count": 43,
   "metadata": {
    "_uuid": "95e4847005cb343fd68dc69607d83ae9ad854ca4"
   },
   "outputs": [
    {
     "name": "stdout",
     "output_type": "stream",
     "text": [
      "The accuracy of classification (K-Nearest Neighbor) is 61.40%\n"
     ]
    }
   ],
   "source": [
    "clf = KNeighborsClassifier()  # KNN 분류기로 변경\n",
    "scores = cross_val_score(clf, x, y, cv=5)\n",
    "score.append(scores.mean())\n",
    "print('The accuracy of classification (K-Nearest Neighbor) is %.2f%%' % (scores.mean() * 100))\n",
    "\n",
    "\n",
    "\n"
   ]
  },
  {
   "cell_type": "markdown",
   "metadata": {},
   "source": [
    "#### 선형 SVM(Support Vector Machines) 분류기"
   ]
  },
  {
   "cell_type": "code",
   "execution_count": 38,
   "metadata": {},
   "outputs": [
    {
     "name": "stderr",
     "output_type": "stream",
     "text": [
      "C:\\Users\\isfs0\\anaconda3\\lib\\site-packages\\sklearn\\svm\\_base.py:985: ConvergenceWarning: Liblinear failed to converge, increase the number of iterations.\n",
      "  warnings.warn(\"Liblinear failed to converge, increase \"\n",
      "C:\\Users\\isfs0\\anaconda3\\lib\\site-packages\\sklearn\\svm\\_base.py:985: ConvergenceWarning: Liblinear failed to converge, increase the number of iterations.\n",
      "  warnings.warn(\"Liblinear failed to converge, increase \"\n",
      "C:\\Users\\isfs0\\anaconda3\\lib\\site-packages\\sklearn\\svm\\_base.py:985: ConvergenceWarning: Liblinear failed to converge, increase the number of iterations.\n",
      "  warnings.warn(\"Liblinear failed to converge, increase \"\n",
      "C:\\Users\\isfs0\\anaconda3\\lib\\site-packages\\sklearn\\svm\\_base.py:985: ConvergenceWarning: Liblinear failed to converge, increase the number of iterations.\n",
      "  warnings.warn(\"Liblinear failed to converge, increase \"\n"
     ]
    },
    {
     "name": "stdout",
     "output_type": "stream",
     "text": [
      "The accuracy of classification (Linear SVM) is 58.00%\n"
     ]
    },
    {
     "name": "stderr",
     "output_type": "stream",
     "text": [
      "C:\\Users\\isfs0\\anaconda3\\lib\\site-packages\\sklearn\\svm\\_base.py:985: ConvergenceWarning: Liblinear failed to converge, increase the number of iterations.\n",
      "  warnings.warn(\"Liblinear failed to converge, increase \"\n"
     ]
    }
   ],
   "source": [
    "from sklearn.svm import SVC\n",
    "clf = svm.LinearSVC(max_iter=5000)  # 선형 SVM 분류기로 변경\n",
    "scores = cross_val_score(clf, x, y, cv=5)\n",
    "score.append(scores.mean())\n",
    "print('The accuracy of classification (Linear SVM) is %.2f%%' % (scores.mean() * 100))"
   ]
  },
  {
   "cell_type": "markdown",
   "metadata": {},
   "source": [
    "#### 이제 각 분류기의 결과를 비교할 수 있습니다."
   ]
  },
  {
   "cell_type": "code",
   "execution_count": 51,
   "metadata": {},
   "outputs": [
    {
     "name": "stdout",
     "output_type": "stream",
     "text": [
      "Requirement already satisfied: tabulate in c:\\users\\isfs0\\anaconda3\\lib\\site-packages (0.9.0)\n",
      "---------------------  ----------\n",
      "Machine Learing Model  Accuracy %\n",
      "Random Forest          7670.0\n",
      "Decision Tree          7150.0\n",
      "K-Nearest Neighbor     6140.0\n",
      "Linear SVM             5800.0\n",
      "---------------------  ----------\n"
     ]
    }
   ],
   "source": [
    "!pip install tabulate\n",
    "from tabulate import tabulate\n",
    "tab=[['Machine Learing Model', 'Accuracy %']]\n",
    "for i in range(len(score)):\n",
    "    table = [classifier[i],score[i]*100]\n",
    "    tab.append(table)\n",
    "print(tabulate(tab))"
   ]
  },
  {
   "cell_type": "code",
   "execution_count": 48,
   "metadata": {},
   "outputs": [
    {
     "name": "stdout",
     "output_type": "stream",
     "text": [
      "The Best model is Random Forest with a accuracy of 76.70131947221111\n"
     ]
    }
   ],
   "source": [
    "print('The Best model is {} with a accuracy of {}'.format(classifier[score.index(max(score))],max(score)*100))"
   ]
  },
  {
   "cell_type": "markdown",
   "metadata": {
    "_uuid": "727b51cb08b3f67e1776338c4da069403409991a"
   },
   "source": [
    "## 5. Result"
   ]
  },
  {
   "cell_type": "markdown",
   "metadata": {
    "_uuid": "1df4f384625b03c549ef1f5586511548cf056cf7"
   },
   "source": [
    "결과는 랜덤 포레스트 분류기(Random Forest Classifier)가 분류 알고리즘 중에서 가장 높은 점수를 받았습니다."
   ]
  },
  {
   "cell_type": "code",
   "execution_count": 49,
   "metadata": {
    "_uuid": "1f66e16f6710d84718975d736355d74896c43365"
   },
   "outputs": [
    {
     "data": {
      "image/png": "[encoded data removed]",
      "text/plain": [
       "<Figure size 640x480 with 1 Axes>"
      ]
     },
     "metadata": {},
     "output_type": "display_data"
    }
   ],
   "source": [
    "import matplotlib.pyplot as plt\n",
    "\n",
    "# 분류기 및 점수 데이터\n",
    "classifier = ('Random Forest', 'Decision Tree', 'K-Nearest Neighbor', 'Linear SVM')\n",
    "y_pos = range(len(classifier))\n",
    "score = [76.7, 71.5, 61.4, 58.0]  # 예시 점수, 실제 데이터에 맞게 수정하세요\n",
    "\n",
    "# 그래프 그리기\n",
    "plt.barh(y_pos, score, align='center', alpha=0.5)\n",
    "plt.yticks(y_pos, classifier)\n",
    "plt.xlabel('Score')\n",
    "plt.title('Classification Performance')\n",
    "\n",
    "# 그래프 보여주기\n",
    "plt.show()"
   ]
  },
  {
   "cell_type": "markdown",
   "metadata": {
    "_uuid": "2e83b45b7a98c92b96225087b71bc0d837a5980c"
   },
   "source": [
    "## Reference\n",
    "1. J. Heo and J. Y. Yang, \"AdaBoost Based Bankruptcy Forecasting of Korean Construction Company,\" Applied Soft Computing, vol. 24, pp. 494-499, 2014.\n",
    "2. C.-F. Tsai, \"Feature Selection in Bankruptcy Prediction,\" Knowledge Based System, pp. 120-127, 2009."
   ]
  },
  {
   "cell_type": "markdown",
   "metadata": {},
   "source": [
    "## <font color=blue> 더해보기\n",
    "\n",
    "1. cross_val_score() 대해 알아보고 정리해보세요.\n",
    "2. 각 분류기별로 cross_val_score 실행 : for 문 사용하는 구문으로 적용해 보세요.\n",
    "<br>\n",
    "\n",
    "3. cross_val_score() 사용하지 말고 데이터를 학습용/테스트용으로 분리하여 각 분류기별로 학습하고 예측을 실행한 후 정확도, 정밀도, 재현율, F1-Score를 구해 출력해 보세요"
   ]
  },
  {
   "cell_type": "code",
   "execution_count": 55,
   "metadata": {},
   "outputs": [
    {
     "data": {
      "image/png": "[encoded data removed]",
      "text/plain": [
       "<Figure size 640x480 with 1 Axes>"
      ]
     },
     "metadata": {},
     "output_type": "display_data"
    }
   ],
   "source": [
    "plt.barh(y_pos, score, align='center', alpha=0.5)\n",
    "plt.yticks(y_pos, classifier)\n",
    "plt.xlabel('Score')\n",
    "plt.title('Classification Performance')\n",
    "plt.show()"
   ]
  },
  {
   "cell_type": "code",
   "execution_count": 56,
   "metadata": {},
   "outputs": [
    {
     "name": "stdout",
     "output_type": "stream",
     "text": [
      "The accuracy of Random Forest is 0.79\n",
      "The accuracy of Decision Tree is 0.71\n",
      "The accuracy of K-Nearest Neighbor is 0.61\n",
      "The accuracy of SVM is 0.69\n"
     ]
    }
   ],
   "source": [
    "# cross_val_score()에 대해 알아보고 정리 다시 해볼from sklearn.ensemble import RandomForestClassifier\n",
    "from sklearn.ensemble import RandomForestClassifier\n",
    "from sklearn.tree import DecisionTreeClassifier\n",
    "from sklearn.neighbors import KNeighborsClassifier\n",
    "from sklearn import svm\n",
    "\n",
    "from sklearn.model_selection import cross_val_score\n",
    "\n",
    "# 분류기 초기화\n",
    "classifiers = {\n",
    "    'Random Forest': RandomForestClassifier(),\n",
    "    'Decision Tree': DecisionTreeClassifier(),\n",
    "    'K-Nearest Neighbor': KNeighborsClassifier(),\n",
    "    'SVM': svm.SVC()\n",
    "}\n",
    "# 점수를 저장할 딕셔너리\n",
    "scores = {}\n",
    "\n",
    "# 각 분류기별로 cross_val_score 실행\n",
    "for name, clf in classifiers.items():\n",
    "    score = cross_val_score(clf, x, y, cv=5)\n",
    "    scores[name] = score.mean()\n",
    "\n",
    "# 결과 출력\n",
    "for name, score in scores.items():\n",
    "    print(f\"The accuracy of {name} is {score:.2f}\")"
   ]
  },
  {
   "cell_type": "code",
   "execution_count": 57,
   "metadata": {},
   "outputs": [
    {
     "name": "stdout",
     "output_type": "stream",
     "text": [
      "Results for Random Forest:\n",
      "Accuracy: 0.85\n",
      "Precision: 0.85\n",
      "Recall: 0.95\n",
      "F1-Score: 0.90\n",
      "Confusion Matrix:\n",
      "[[24 14]\n",
      " [ 4 81]]\n",
      "\n",
      "Results for Decision Tree:\n",
      "Accuracy: 0.74\n",
      "Precision: 0.84\n",
      "Recall: 0.78\n",
      "F1-Score: 0.80\n",
      "Confusion Matrix:\n",
      "[[25 13]\n",
      " [19 66]]\n",
      "\n",
      "Results for K-Nearest Neighbor:\n",
      "Accuracy: 0.65\n",
      "Precision: 0.72\n",
      "Recall: 0.81\n",
      "F1-Score: 0.76\n",
      "Confusion Matrix:\n",
      "[[11 27]\n",
      " [16 69]]\n",
      "\n",
      "Results for SVM:\n",
      "Accuracy: 0.69\n",
      "Precision: 0.69\n",
      "Recall: 1.00\n",
      "F1-Score: 0.82\n",
      "Confusion Matrix:\n",
      "[[ 0 38]\n",
      " [ 0 85]]\n",
      "\n"
     ]
    }
   ],
   "source": [
    "from sklearn.model_selection import train_test_split\n",
    "from sklearn.metrics import accuracy_score, precision_score, recall_score, f1_score, confusion_matrix\n",
    "\n",
    "# 데이터를 학습 및 테스트 데이터로 분리\n",
    "x_train, x_test, y_train, y_test = train_test_split(x, y, test_size=0.2, random_state=42, stratify=y )\n",
    "\n",
    "# 만약 y_train이 텍스트라면 숫자로 인코딩\n",
    "if isinstance(y_train[0], str):\n",
    "    # 레이블 인코딩\n",
    "    from sklearn.preprocessing import LabelEncoder\n",
    "    le = LabelEncoder()\n",
    "    y_train = le.fit_transform(y_train)\n",
    "    y_test = le.transform(y_test)\n",
    "\n",
    "# 분류기 초기화\n",
    "classifiers = {\n",
    "    'Random Forest': RandomForestClassifier(),\n",
    "    'Decision Tree': DecisionTreeClassifier(),\n",
    "    'K-Nearest Neighbor': KNeighborsClassifier(),\n",
    "    'SVM': svm.SVC()\n",
    "}\n",
    "\n",
    "# 결과를 저장할 딕셔너리\n",
    "results = {}\n",
    "\n",
    "# 각 분류기별로 학습, 예측, 평가\n",
    "for name, clf in classifiers.items():\n",
    "    # 학습\n",
    "    clf.fit(x_train, y_train)\n",
    "\n",
    "    # 예측\n",
    "    y_pred = clf.predict(x_test)\n",
    "\n",
    "    # 평가\n",
    "    accuracy = accuracy_score(y_test, y_pred)\n",
    "    precision = precision_score(y_test, y_pred)\n",
    "    recall = recall_score(y_test, y_pred)\n",
    "    f1 = f1_score(y_test, y_pred)\n",
    "    confusion = confusion_matrix(y_test, y_pred)\n",
    "\n",
    "    results[name] = [accuracy, precision, recall, f1, confusion]\n",
    "\n",
    "# 결과 출력\n",
    "for name, metrics in results.items():\n",
    "    print(f\"Results for {name}:\")\n",
    "    print(f\"Accuracy: {metrics[0]:.2f}\")\n",
    "    print(f\"Precision: {metrics[1]:.2f}\")\n",
    "    print(f\"Recall: {metrics[2]:.2f}\")\n",
    "    print(f\"F1-Score: {metrics[3]:.2f}\")\n",
    "    print(f\"Confusion Matrix:\\n{metrics[4]}\\n\")"
   ]
  },
  {
   "cell_type": "code",
   "execution_count": null,
   "metadata": {},
   "outputs": [],
   "source": []
  }
 ],
 "metadata": {
  "kernelspec": {
   "display_name": "Python 3 (ipykernel)",
   "language": "python",
   "name": "python3"
  },
  "language_info": {
   "codemirror_mode": {
    "name": "ipython",
    "version": 3
   },
   "file_extension": ".py",
   "mimetype": "text/x-python",
   "name": "python",
   "nbconvert_exporter": "python",
   "pygments_lexer": "ipython3",
   "version": "3.8.8"
  }
 },
 "nbformat": 4,
 "nbformat_minor": 1
}
