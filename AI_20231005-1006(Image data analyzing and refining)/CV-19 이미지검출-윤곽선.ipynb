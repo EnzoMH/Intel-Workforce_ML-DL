{
 "cells": [
  {
   "cell_type": "code",
   "execution_count": 2,
   "id": "3742ba6c",
   "metadata": {},
   "outputs": [],
   "source": []
  },
  {
   "cell_type": "code",
   "execution_count": 9,
   "id": "4955a79e",
   "metadata": {},
   "outputs": [],
   "source": [
    "import cv2\n",
    "\n",
    "img_file = './[Dataset] Module 20 images/card.png'\n",
    "img = cv2.imread(img_file)\n",
    "dst_img = img.copy()\n",
    "\n",
    "# 1. 회색조로 이미지 변경\n",
    "gray = cv2.cvtColor(img, cv2.COLOR_BGR2GRAY)\n",
    "# 2. 이진화하기\n",
    "ret , otsu = cv2.threshold(gray, -1, 255, cv2.THRESH_BINARY | cv2.THRESH_OTSU)\n",
    "\n",
    "# 3. 윤곽선 찾기\n",
    "contours, hierarchy = cv2.findContours(otsu, cv2.RETR_LIST, cv2.CHAIN_APPROX_NONE) # 윤곽선 찾는 함수\n",
    "\n",
    "# cv2.RETR_EXTERNAL : 가장 외곽의 윤곽선\n",
    "# cv2.RETR_LIST : 모든 윤곽선\n",
    "\n",
    "COLOR = (0, 200, 2)\n",
    "\n",
    "# 4. 윤곽선 그리기\n",
    "cv2.drawContours(dst_img, contours, -1, COLOR, 2)\n",
    "\n",
    "cv2.imshow('img', img)\n",
    "cv2.imshow('gray', gray)\n",
    "cv2.imshow('otsu', otsu)\n",
    "cv2.imshow('contours', dst_img)\n",
    "\n",
    "cv2.waitKey(0)\n",
    "cv2.destroyAllWindows()"
   ]
  },
  {
   "cell_type": "markdown",
   "id": "815cd8be",
   "metadata": {},
   "source": [
    "cv2.findContours(image, mode, method[, contours[, hierarchy[, offset]]]):\n",
    "\n",
    "image: 입력 이미지. 이 함수는 흑백 이미지 또는 이진화된 이미지를 대상으로 합니다.\n",
    "mode: 윤곽선 검출 모드를 설정합니다. 예를 들어, cv2.RETR_EXTERNAL은 외부 윤곽선만 검출하고 cv2.RETR_LIST는 모든 윤곽선을 검출합니다.\n",
    "method: 윤곽선 근사화 방법을 설정합니다. 예를 들어, cv2.CHAIN_APPROX_SIMPLE은 윤곽선을 간단한 형태로 근사화합니다.\n",
    "contours: 검출된 윤곽선을 저장할 리스트 변수. 함수가 호출된 후 이 변수에 윤곽선 데이터가 저장됩니다.\n",
    "hierarchy: 윤곽선의 계층 정보를 저장할 변수.\n",
    "offset: 윤곽선 좌표에 대한 옵셋을 지정합니다.\n",
    "cv2.drawContours(image, contours, contourIdx, color[, thickness[, lineType[, hierarchy[, maxLevel[, offset]]]]]):\n",
    "\n",
    "image: 윤곽선을 그릴 대상 이미지.\n",
    "contours: 그릴 윤곽선의 리스트.\n",
    "contourIdx: 그릴 윤곽선의 인덱스 또는 -1로 설정하면 모든 윤곽선을 그립니다.\n",
    "color: 윤곽선의 색상.\n",
    "thickness: 윤곽선의 두께. 음수 값을 사용하면 윤곽선 내부를 채웁니다.\n",
    "lineType: 그림선의 종류 (예: cv2.LINE_8, cv2.LINE_4, 등).\n",
    "hierarchy: 계층 정보 (일반적으로 cv2.findContours와 함께 사용).\n",
    "maxLevel: 그릴 윤곽선의 최대 계층 레벨 (일반적으로 cv2.findContours와 함께 사용).\n",
    "offset: 윤곽선 좌표에 대한 옵셋.\n"
   ]
  },
  {
   "cell_type": "code",
   "execution_count": 14,
   "id": "d4ab4bc9",
   "metadata": {},
   "outputs": [],
   "source": [
    "import cv2\n",
    "img = cv2.imread('./[Dataset] Module 20 images/card.png')\n",
    "target_img = img.copy()  # 사본이미지\n",
    "gray = cv2.cvtColor(img, cv2.COLOR_BGR2GRAY)\n",
    "ret, otsu = cv2.threshold(gray, -1, 255, cv2.THRESH_BINARY | cv2.THRESH_OTSU )\n",
    "contours , hierarchy = cv2.findContours(otsu, cv2.RETR_LIST, cv2.CHAIN_APPROX_NONE)\n",
    "COLOR = (0, 200, 2) # 녹색\n",
    "for cnt in contours:\n",
    "    x, y, width, height = cv2.boundingRect(cnt)\n",
    "    cv2.rectangle(target_img, (x, y), (x+width, y+ height), COLOR, 2)\n",
    "cv2.imshow('img', img)\n",
    "cv2.imshow('gray', gray)\n",
    "cv2.imshow('otsu', otsu)\n",
    "cv2.imshow('contour', target_img)\n",
    "cv2.waitKey(0)\n",
    "cv2.destroyAllWindows()"
   ]
  },
  {
   "cell_type": "code",
   "execution_count": null,
   "id": "95bd3707",
   "metadata": {},
   "outputs": [],
   "source": []
  }
 ],
 "metadata": {
  "kernelspec": {
   "display_name": "Python 3 (ipykernel)",
   "language": "python",
   "name": "python3"
  },
  "language_info": {
   "codemirror_mode": {
    "name": "ipython",
    "version": 3
   },
   "file_extension": ".py",
   "mimetype": "text/x-python",
   "name": "python",
   "nbconvert_exporter": "python",
   "pygments_lexer": "ipython3",
   "version": "3.8.8"
  }
 },
 "nbformat": 4,
 "nbformat_minor": 5
}
