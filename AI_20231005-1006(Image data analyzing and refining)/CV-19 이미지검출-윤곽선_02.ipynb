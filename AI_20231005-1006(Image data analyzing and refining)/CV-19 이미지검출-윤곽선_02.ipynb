{
 "cells": [
  {
   "cell_type": "code",
   "execution_count": 2,
   "id": "3742ba6c",
   "metadata": {},
   "outputs": [],
   "source": []
  },
  {
   "cell_type": "code",
   "execution_count": 2,
   "id": "4955a79e",
   "metadata": {},
   "outputs": [
    {
     "ename": "AttributeError",
     "evalue": "'NoneType' object has no attribute 'copy'",
     "output_type": "error",
     "traceback": [
      "\u001b[1;31m---------------------------------------------------------------------------\u001b[0m",
      "\u001b[1;31mAttributeError\u001b[0m                            Traceback (most recent call last)",
      "Cell \u001b[1;32mIn[2], line 5\u001b[0m\n\u001b[0;32m      3\u001b[0m img_file \u001b[38;5;241m=\u001b[39m \u001b[38;5;124m'\u001b[39m\u001b[38;5;124m./[Dataset] Module 20 images/card.png\u001b[39m\u001b[38;5;124m'\u001b[39m\n\u001b[0;32m      4\u001b[0m img \u001b[38;5;241m=\u001b[39m cv2\u001b[38;5;241m.\u001b[39mimread(\u001b[38;5;124m'\u001b[39m\u001b[38;5;124m./[Dataset] Module 20 images/card.png\u001b[39m\u001b[38;5;124m'\u001b[39m)\n\u001b[1;32m----> 5\u001b[0m dst_img \u001b[38;5;241m=\u001b[39m \u001b[43mimg\u001b[49m\u001b[38;5;241;43m.\u001b[39;49m\u001b[43mcopy\u001b[49m()\n\u001b[0;32m      7\u001b[0m \u001b[38;5;66;03m# 1. 회색조로 이미지 변경\u001b[39;00m\n\u001b[0;32m      8\u001b[0m gray \u001b[38;5;241m=\u001b[39m cv2\u001b[38;5;241m.\u001b[39mcvtColor(img, cv2\u001b[38;5;241m.\u001b[39mCOLOR_BGR2GRAY)\n",
      "\u001b[1;31mAttributeError\u001b[0m: 'NoneType' object has no attribute 'copy'"
     ]
    }
   ],
   "source": [
    "import cv2\n",
    "\n",
    "img_file = './[Dataset] Module 20 images/card.png'\n",
    "img = cv2.imread('./[Dataset] Module 20 images/card.png')\n",
    "dst_img = img.copy()\n",
    "\n",
    "# 1. 회색조로 이미지 변경\n",
    "gray = cv2.cvtColor(img, cv2.COLOR_BGR2GRAY)\n",
    "# 2. 이진화하기\n",
    "ret , otsu = cv2.threshold(gray, -1, 255, cv2.THRES_Binary | cv2.THRESH_OTSU)\n",
    "# 3. 윤곽선 찾기\n",
    "cv2.findContours(orsu, cv2.findContours(otsu, cv2.RETR_LIST, cv2.CHAIN_APPROX_NONE)) # 윤곽선 찾는 함수\n",
    "\n",
    "COLOR = (0, 200, 2)\n",
    "\n",
    "# 4. 윤곽선 그리기\n",
    "cv2.drwContours(dst_img, contours, -1, COLOR, 2)\n",
    "\n",
    "cv2.imshow('img', img)\n",
    "cv2.imshow('grey', grey)\n",
    "cv2.imshow('otsu', otsu)\n",
    "cv2.imshow('contours', dst_img)\n",
    "\n",
    "cv2.waitKey(0)\n",
    "cv2.destroyAllWindows()"
   ]
  },
  {
   "cell_type": "code",
   "execution_count": 17,
   "id": "3d0bcef4",
   "metadata": {},
   "outputs": [
    {
     "name": "stdout",
     "output_type": "stream",
     "text": [
      "이미지를 읽을 수 없습니다. 파일 경로를 확인하세요.\n"
     ]
    }
   ],
   "source": [
    "import cv2\n",
    "\n",
    "img_file = '[Dataset] Module 20 images/card.png'\n",
    "img = cv2.imread(img_file)\n",
    "\n",
    "if img is not None:\n",
    "    dst_img = img.copy()\n",
    "\n",
    "    gray = cv2.cvtColor(img, cv2.COLOR_BGR2GRAY)\n",
    "    ret , otsu = cv2.threshold(gray, -1, 255, cv2.THRESH_BINARY | cv2.THRESH_OTSU)\n",
    "\n",
    "    cv2.imshow('img', img)\n",
    "    \n",
    "    cv2.waitKey(0)\n",
    "    cv2.destroyAllWindows()\n",
    "else:\n",
    "    print(\"이미지를 읽을 수 없습니다. 파일 경로를 확인하세요.\")"
   ]
  },
  {
   "cell_type": "code",
   "execution_count": null,
   "id": "d4ab4bc9",
   "metadata": {},
   "outputs": [],
   "source": []
  }
 ],
 "metadata": {
  "kernelspec": {
   "display_name": "Python 3 (ipykernel)",
   "language": "python",
   "name": "python3"
  },
  "language_info": {
   "codemirror_mode": {
    "name": "ipython",
    "version": 3
   },
   "file_extension": ".py",
   "mimetype": "text/x-python",
   "name": "python",
   "nbconvert_exporter": "python",
   "pygments_lexer": "ipython3",
   "version": "3.8.8"
  }
 },
 "nbformat": 4,
 "nbformat_minor": 5
}
