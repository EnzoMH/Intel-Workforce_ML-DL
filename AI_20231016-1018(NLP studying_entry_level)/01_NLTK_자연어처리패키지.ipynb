{
 "cells": [
  {
   "cell_type": "markdown",
   "metadata": {
    "id": "xELMwsuuXGWn"
   },
   "source": [
    "## NLTK 자연어 처리 패키지¶"
   ]
  },
  {
   "cell_type": "markdown",
   "metadata": {
    "id": "7XysVlI_XGWr"
   },
   "source": [
    "#### NLTK(Natural Language Toolkit) : 교육용으로 개발된 자연어 처리 및 문서 분석용 파이썬 패키지\n",
    "\n",
    "#### NLTK 패키지가 제공하는 주요 기능\n",
    "\n",
    "* 말뭉치\n",
    "* 토큰 생성\n",
    "* 형태소 분석\n",
    "* 품사 태깅\n"
   ]
  },
  {
   "cell_type": "code",
   "execution_count": 1,
   "metadata": {
    "colab": {
     "base_uri": "https://localhost:8080/",
     "height": 35
    },
    "executionInfo": {
     "elapsed": 2025,
     "status": "ok",
     "timestamp": 1697440939544,
     "user": {
      "displayName": "강희숙",
      "userId": "05520711596090317319"
     },
     "user_tz": -540
    },
    "id": "Ehy6r7unXGWs",
    "outputId": "597d9ea0-a914-4b23-a65c-0c0d66fe3836"
   },
   "outputs": [
    {
     "data": {
      "text/plain": [
       "'3.6.1'"
      ]
     },
     "execution_count": 1,
     "metadata": {},
     "output_type": "execute_result"
    }
   ],
   "source": [
    "# ! pip install nltk\n",
    "import nltk\n",
    "nltk.__version__"
   ]
  },
  {
   "cell_type": "markdown",
   "metadata": {
    "id": "AjbtO3UsXGWt"
   },
   "source": [
    "### 0. 말뭉치(Corpus) 다운로드"
   ]
  },
  {
   "cell_type": "code",
   "execution_count": 2,
   "metadata": {
    "colab": {
     "base_uri": "https://localhost:8080/"
    },
    "executionInfo": {
     "elapsed": 16831,
     "status": "ok",
     "timestamp": 1697441616615,
     "user": {
      "displayName": "강희숙",
      "userId": "05520711596090317319"
     },
     "user_tz": -540
    },
    "id": "dDFnRXygXGWu",
    "outputId": "35f9335d-a3df-4861-ecf4-892d7f6922c1"
   },
   "outputs": [
    {
     "name": "stdout",
     "output_type": "stream",
     "text": [
      "*** Introductory Examples for the NLTK Book ***\n",
      "Loading text1, ..., text9 and sent1, ..., sent9\n",
      "Type the name of the text or sentence to view it.\n",
      "Type: 'texts()' or 'sents()' to list the materials.\n",
      "text1: Moby Dick by Herman Melville 1851\n",
      "text2: Sense and Sensibility by Jane Austen 1811\n",
      "text3: The Book of Genesis\n",
      "text4: Inaugural Address Corpus\n",
      "text5: Chat Corpus\n",
      "text6: Monty Python and the Holy Grail\n",
      "text7: Wall Street Journal\n",
      "text8: Personals Corpus\n",
      "text9: The Man Who Was Thursday by G . K . Chesterton 1908\n"
     ]
    }
   ],
   "source": [
    "nltk.download(\"book\",quiet=True)\n",
    "from nltk.book import *"
   ]
  },
  {
   "cell_type": "markdown",
   "metadata": {
    "id": "kzJljoIXXGWu"
   },
   "source": [
    "#### 저작권이 말소된 문학작품을 포함하는 gutenberg 말뭉치에 들어 있는 작품 샘플들"
   ]
  },
  {
   "cell_type": "code",
   "execution_count": 3,
   "metadata": {
    "colab": {
     "base_uri": "https://localhost:8080/"
    },
    "executionInfo": {
     "elapsed": 417,
     "status": "ok",
     "timestamp": 1697441758047,
     "user": {
      "displayName": "강희숙",
      "userId": "05520711596090317319"
     },
     "user_tz": -540
    },
    "id": "psuexr8YXGWv",
    "outputId": "f3194675-8869-4409-dcd7-c1d82e3339da"
   },
   "outputs": [
    {
     "data": {
      "text/plain": [
       "['austen-emma.txt',\n",
       " 'austen-persuasion.txt',\n",
       " 'austen-sense.txt',\n",
       " 'bible-kjv.txt',\n",
       " 'blake-poems.txt',\n",
       " 'bryant-stories.txt',\n",
       " 'burgess-busterbrown.txt',\n",
       " 'carroll-alice.txt',\n",
       " 'chesterton-ball.txt',\n",
       " 'chesterton-brown.txt',\n",
       " 'chesterton-thursday.txt',\n",
       " 'edgeworth-parents.txt',\n",
       " 'melville-moby_dick.txt',\n",
       " 'milton-paradise.txt',\n",
       " 'shakespeare-caesar.txt',\n",
       " 'shakespeare-hamlet.txt',\n",
       " 'shakespeare-macbeth.txt',\n",
       " 'whitman-leaves.txt']"
      ]
     },
     "execution_count": 3,
     "metadata": {},
     "output_type": "execute_result"
    }
   ],
   "source": [
    "nltk.corpus.gutenberg.fileids()"
   ]
  },
  {
   "cell_type": "markdown",
   "metadata": {},
   "source": [
    "### 1. gutenberg 말뭉치(Corpus) 가져오기 \n",
    "- William Shakespeare의 Hamlet (1599) "
   ]
  },
  {
   "cell_type": "code",
   "execution_count": 5,
   "metadata": {
    "colab": {
     "base_uri": "https://localhost:8080/"
    },
    "executionInfo": {
     "elapsed": 465,
     "status": "ok",
     "timestamp": 1697441791626,
     "user": {
      "displayName": "강희숙",
      "userId": "05520711596090317319"
     },
     "user_tz": -540
    },
    "id": "v3ekf8nRXGWw",
    "outputId": "2008b585-b944-420c-e66b-d78e17df5151"
   },
   "outputs": [
    {
     "name": "stdout",
     "output_type": "stream",
     "text": [
      "[The Tragedie of Hamlet by William Shakespeare 1599]\n",
      "\n",
      "\n",
      "Actus Primus. Scoena Prima.\n",
      "\n",
      "Enter Barnardo and Francisco two Centinels.\n",
      "\n",
      "  Barnardo. Who's there?\n",
      "  Fran. Nay answer me: Stand & vnfold\n",
      "your selfe\n",
      "\n",
      "   Bar. Long liue the King\n",
      "\n",
      "   Fran. Barnardo?\n",
      "  Bar. He\n",
      "\n",
      "   Fran. You come most carefully vpon your houre\n",
      "\n",
      "   Bar. 'Tis now strook twelue, get thee to bed Francisco\n",
      "\n",
      "   Fran. For this releefe much thankes: 'Tis bitter cold,\n",
      "And I am sicke at heart\n",
      "\n",
      "   Barn. Haue you had quiet Guard?\n",
      "  Fran. Not a Mouse stirring\n",
      "\n",
      "   Barn. Well, goodnight. If you do meet Horatio and\n",
      "Marcellus, the Riuals of my Watch, bid them make hast.\n",
      "Enter Horatio and Marcellus.\n",
      "\n",
      "  Fran. I thinke I heare them. Stand: who's there?\n",
      "  Hor. Friends to this ground\n",
      "\n",
      "   Mar. And Leige-men to the Dane\n",
      "\n",
      "   Fran. Giue you good night\n",
      "\n",
      "   Mar. O farwel honest Soldier, who hath relieu'd you?\n",
      "  Fra. Barnardo ha's my place: giue you goodnight.\n",
      "\n",
      "Exit Fran.\n",
      "\n",
      "\n"
     ]
    }
   ],
   "source": [
    "hamlet_raw = nltk.corpus.gutenberg.raw('shakespeare-hamlet.txt')\n",
    "print(hamlet_raw[:924])"
   ]
  },
  {
   "cell_type": "markdown",
   "metadata": {
    "id": "o4iV15_CXGWx"
   },
   "source": [
    "### 2. 토큰 생성"
   ]
  },
  {
   "cell_type": "markdown",
   "metadata": {
    "id": "S6kV-JtdXGWx"
   },
   "source": [
    "- 문자열 단위를 토큰(token)이라고 하고 문자열을 토큰으로 나누는 작업을 토큰 생성(tokenizing)이라 한다\n",
    "- 영어 경우 문장, 단어등을 토큰으로 사용.\n",
    "- 문자열을 토큰으로 분리하는 함수를 토큰 생성 함수(tokenizer)라고 한다. 토큰 생성 함수는 문자열을 입력받아 토큰 문자열의 리스트를 출력한다.컴마"
   ]
  },
  {
   "cell_type": "markdown",
   "metadata": {},
   "source": [
    "#### 2.1 문장 토큰화(Sentence Tokenization)\n",
    "- 보통 갖고있는 코퍼스가 정제되지 않은 상태라면, 코퍼스는 문장 단위로 구분되어 있지 않아서 이를 사용하고자 하는 용도에 맞게 문장 토큰화가 필요할 수 있음\n",
    "- 보통은 문장이 끝나는 명확한 구분자 ?나 마침표(.)나 ! 기준으로 문장을 잘라냄.\n",
    "- 하지만 마침표는 끝이 아니더라도 등장할 수 있"
   ]
  },
  {
   "cell_type": "code",
   "execution_count": 6,
   "metadata": {},
   "outputs": [
    {
     "name": "stdout",
     "output_type": "stream",
     "text": [
      "['Barnardo and Francisco two Centinels.', 'Barnardo.', \"Who's there?\", 'Fran.', 'Nay answer me: Stand & vnfold\\nyour selfe\\n\\n   Bar.']\n"
     ]
    }
   ],
   "source": [
    "from nltk.tokenize import sent_tokenize\n",
    "print(sent_tokenize(hamlet_raw[90:212]))"
   ]
  },
  {
   "cell_type": "markdown",
   "metadata": {},
   "source": [
    "#### 2.2 단어 토큰화(word tokenization)\n",
    "- 구두점을 지운 뒤에 띄어쓰기(whitespace)를 기준으로 잘라\n",
    "- 입력 : Time is an illusion. Lunchtime double so!\n",
    "- 토근화 => 출력 : \"Time\", \"is\", \"an\", \"illustion\", \"Lunchtime\", \"double\", \"so\"\n",
    "- 구두점이나 특수문자를 전부 제거하는 정제(cleaning) 작업을 수행하는 것만으로 해결되지 않음 => 구두점이나 특수문자를 전부 제거하면 토큰이 의미를 잃어버리는 경우가 발생하기 때문 ( 특히 한국어는 더욱 그러함 )"
   ]
  },
  {
   "cell_type": "markdown",
   "metadata": {},
   "source": [
    "##### 2.2.1 word_tokenize\n",
    "- Who's => Who / 's 로 분리"
   ]
  },
  {
   "cell_type": "code",
   "execution_count": 9,
   "metadata": {},
   "outputs": [
    {
     "data": {
      "text/plain": [
       "['Barnardo',\n",
       " 'and',\n",
       " 'Francisco',\n",
       " 'two',\n",
       " 'Centinels',\n",
       " '.',\n",
       " 'Barnardo',\n",
       " '.',\n",
       " 'Who',\n",
       " \"'s\",\n",
       " 'there',\n",
       " '?',\n",
       " 'Fran',\n",
       " '.',\n",
       " 'Nay',\n",
       " 'answer',\n",
       " 'me',\n",
       " ':',\n",
       " 'Stand',\n",
       " '&',\n",
       " 'vnfold',\n",
       " 'your',\n",
       " 'selfe',\n",
       " 'Bar',\n",
       " '.']"
      ]
     },
     "execution_count": 9,
     "metadata": {},
     "output_type": "execute_result"
    }
   ],
   "source": [
    "from nltk.tokenize import word_tokenize\n",
    "word_tokenize(hamlet_raw[90:212])"
   ]
  },
  {
   "cell_type": "code",
   "execution_count": 8,
   "metadata": {},
   "outputs": [
    {
     "data": {
      "text/plain": [
       "['``', '오늘은', '즐거운', '휴가야', '!', \"''\", '친구가', '말했다']"
      ]
     },
     "execution_count": 8,
     "metadata": {},
     "output_type": "execute_result"
    }
   ],
   "source": [
    "word_tokenize('\"오늘은 즐거운 휴가야!\" 친구가 말했다')"
   ]
  },
  {
   "cell_type": "markdown",
   "metadata": {},
   "source": [
    "##### 2.2.2 WordPunctTokenizer\n",
    "- WordPunctTokenizer는 구두점을 별도로 분류하는 특징을 갖고 있음\n",
    "- Who's => Who , ' ,  s 로 분리"
   ]
  },
  {
   "cell_type": "code",
   "execution_count": 8,
   "metadata": {},
   "outputs": [
    {
     "data": {
      "text/plain": [
       "['Barnardo',\n",
       " 'and',\n",
       " 'Francisco',\n",
       " 'two',\n",
       " 'Centinels',\n",
       " '.',\n",
       " 'Barnardo',\n",
       " '.',\n",
       " 'Who',\n",
       " \"'\",\n",
       " 's',\n",
       " 'there',\n",
       " '?',\n",
       " 'Fran',\n",
       " '.',\n",
       " 'Nay',\n",
       " 'answer',\n",
       " 'me',\n",
       " ':',\n",
       " 'Stand',\n",
       " '&',\n",
       " 'vnfold',\n",
       " 'your',\n",
       " 'sel']"
      ]
     },
     "execution_count": 8,
     "metadata": {},
     "output_type": "execute_result"
    }
   ],
   "source": [
    "from nltk.tokenize import WordPunctTokenizer \n",
    "WordPunctTokenizer().tokenize(hamlet_raw[90:200])"
   ]
  },
  {
   "cell_type": "markdown",
   "metadata": {},
   "source": [
    "##### 2.2.3 RegexpTokenizer\n",
    "- 정규 표현식을 사용한 토큰 생성"
   ]
  },
  {
   "cell_type": "code",
   "execution_count": 12,
   "metadata": {},
   "outputs": [
    {
     "data": {
      "text/plain": [
       "['9', 'Actus', 'Primus', 'Scoena', 'Prima', 'Enter', 'Barnardo', 'a']"
      ]
     },
     "execution_count": 12,
     "metadata": {},
     "output_type": "execute_result"
    }
   ],
   "source": [
    "from nltk.tokenize import RegexpTokenizer\n",
    "retokenize = RegexpTokenizer(\"[\\w]+\") # w = 문자/숫자\n",
    "# \\w - 문자+숫자(alphanumeric)와 매치, [a-zA-Z0-9_]와 동일한 표현식이다.\n",
    "retokenize.tokenize(hamlet_raw[50:100])"
   ]
  },
  {
   "cell_type": "markdown",
   "metadata": {},
   "source": [
    "### *토근화 주의사항 \n",
    "1. 구두점이나 특수 문자를 단순 제외해서는 안 된다.\n",
    "    - m.p.h나 Ph.D나 AT&T 같은 경우\n",
    "    - 특수 문자의 달러나 슬래시(/)\n",
    "       - 예: $45.55와 같은 가격을 의미 => 45.55를 하나로 취급\n",
    "       - 예 : 01/02/06은 날짜를 의미 \n",
    "    - 숫자 사이에 컴마(,)가 들어가는 경우 - 보통 수치를 표현할 때\n",
    "        - 예: 123,456,789 같이 세 자리 단위로 컴마\n",
    "2. 줄임말과 단어 내에 띄어쓰기가 있는 경우\n",
    "   - 하나의 단어지만 중간에 띄어쓰기 있는 경우\n",
    "       - 예: rock 'n' roll"
   ]
  },
  {
   "cell_type": "markdown",
   "metadata": {
    "id": "E7F4HOT8XGWx"
   },
   "source": [
    "### [연습문제] \n",
    "\n",
    "- 위 과정을 Jane Austen의 Emma (1816) 사용하여 진행해보기"
   ]
  },
  {
   "cell_type": "markdown",
   "metadata": {},
   "source": [
    "### 1. gutenberg 말뭉치(Corpus) 가져오기 \n",
    "- Jane Austen의 Emma (1816)\n",
    "- 'austen-emma.txt' 파일을 가져와 emma_raw 에 저장하고 출력해보기\n",
    "- 복사붙여넣기하지말고 코드 직접 타이핑 및 암기 "
   ]
  },
  {
   "cell_type": "code",
   "execution_count": 13,
   "metadata": {
    "colab": {
     "base_uri": "https://localhost:8080/"
    },
    "executionInfo": {
     "elapsed": 426,
     "status": "ok",
     "timestamp": 1697441802270,
     "user": {
      "displayName": "강희숙",
      "userId": "05520711596090317319"
     },
     "user_tz": -540
    },
    "id": "x86gRI1ZXGWx",
    "outputId": "60d7f799-5ca4-4915-b3c5-59b738b7637e"
   },
   "outputs": [],
   "source": [
    "# your code here  \n",
    "nltk.download(\"gutenberg\",quiet=True)\n",
    "from nltk.book import *"
   ]
  },
  {
   "cell_type": "code",
   "execution_count": 16,
   "metadata": {},
   "outputs": [
    {
     "data": {
      "text/plain": [
       "['austen-emma.txt',\n",
       " 'austen-persuasion.txt',\n",
       " 'austen-sense.txt',\n",
       " 'bible-kjv.txt',\n",
       " 'blake-poems.txt',\n",
       " 'bryant-stories.txt',\n",
       " 'burgess-busterbrown.txt',\n",
       " 'carroll-alice.txt',\n",
       " 'chesterton-ball.txt',\n",
       " 'chesterton-brown.txt',\n",
       " 'chesterton-thursday.txt',\n",
       " 'edgeworth-parents.txt',\n",
       " 'melville-moby_dick.txt',\n",
       " 'milton-paradise.txt',\n",
       " 'shakespeare-caesar.txt',\n",
       " 'shakespeare-hamlet.txt',\n",
       " 'shakespeare-macbeth.txt',\n",
       " 'whitman-leaves.txt']"
      ]
     },
     "execution_count": 16,
     "metadata": {},
     "output_type": "execute_result"
    }
   ],
   "source": [
    "nltk.corpus.gutenberg.fileids()"
   ]
  },
  {
   "cell_type": "code",
   "execution_count": 17,
   "metadata": {},
   "outputs": [
    {
     "name": "stdout",
     "output_type": "stream",
     "text": [
      "[Emma by Jane Austen 1816]\n",
      "\n",
      "VOLUME I\n",
      "\n",
      "CHAPTER I\n",
      "\n",
      "\n",
      "Emma Woodhouse, handsome, clever, and rich, with a comfortable home\n",
      "and happy disposition, seemed to unite some of the best blessings\n",
      "of existence; and had lived nearly twenty-one years in the world\n",
      "with very little to distress or vex her.\n",
      "\n",
      "She was the youngest of the two daughters of a most affectionate,\n",
      "indulgent father; and had, in consequence of her sister's marriage,\n",
      "been mistress of his house from a very early period.  Her mother\n",
      "had died too long ago for her to have more than an indistinct\n",
      "remembrance of her caresses; and her place had been supplied\n",
      "by an excellent woman as governess, who had fallen little short\n",
      "of a mother in affection.\n",
      "\n",
      "Sixteen years had Miss Taylor been in Mr. Woodhouse's family,\n",
      "less as a governess than a friend, very fond of both daughters,\n",
      "but particularly of Emma.  Between _them_ it was more the intimacy\n",
      "of sisters.  Even before Mi\n"
     ]
    }
   ],
   "source": [
    "emma_raw = nltk.corpus.gutenberg.raw('austen-emma.txt')\n",
    "print(emma_raw[:924])"
   ]
  },
  {
   "cell_type": "markdown",
   "metadata": {},
   "source": [
    "### 2. 토큰화\n",
    "#### 2.1 문장 토큰화(Sentence Tokenization)\n",
    "- sent_tokenize 모듈 가져오기\n",
    "- emma_raw[:800] 에 대해 sent_tokenize 하기 "
   ]
  },
  {
   "cell_type": "code",
   "execution_count": 18,
   "metadata": {
    "id": "ux9sEUyjXGWx",
    "outputId": "ac68603e-9a8b-4b67-e39b-2211ff69b30a"
   },
   "outputs": [
    {
     "name": "stdout",
     "output_type": "stream",
     "text": [
      "['[Emma by Jane Austen 1816]\\n\\nVOLUME I\\n\\nCHAPTER I\\n\\n\\nEmma Woodhouse, handsome, clever, and rich, with a comfortable home\\nand happy disposition, seemed to unite some of the best blessings\\nof existence; and had lived nearly twenty-one years in the world\\nwith very little to distress or vex her.', \"She was the youngest of the two daughters of a most affectionate,\\nindulgent father; and had, in consequence of her sister's marriage,\\nbeen mistress of his house from a very early period.\", 'Her mother\\nhad died too long ago for her to have more than an indistinct\\nremembrance of her caresses; and her place had been supplied\\nby an excellent woman as governess, who had fallen little short\\nof a mother in affection.', \"Sixteen years had Miss Taylor been in Mr. Woodhouse's family,\\nless as a governess than a friend,\"]\n"
     ]
    }
   ],
   "source": [
    "# your code here \n",
    "from nltk.tokenize import sent_tokenize\n",
    "print(sent_tokenize(emma_raw[:800]))\n"
   ]
  },
  {
   "cell_type": "markdown",
   "metadata": {},
   "source": [
    "#### 2.2 단어 토큰화(word tokenization)\n",
    "##### 2.2.1 word_tokenize\n",
    "- word_tokenize 모듈 가져오기\n",
    "- emma_raw[702:800] 에 대해 word_tokenize하기"
   ]
  },
  {
   "cell_type": "code",
   "execution_count": 19,
   "metadata": {
    "id": "sjKhv7JhXGWy",
    "outputId": "20da6d09-5c7d-402b-9cff-e9c30035a2ad"
   },
   "outputs": [
    {
     "data": {
      "text/plain": [
       "['Sixteen',\n",
       " 'years',\n",
       " 'had',\n",
       " 'Miss',\n",
       " 'Taylor',\n",
       " 'been',\n",
       " 'in',\n",
       " 'Mr.',\n",
       " 'Woodhouse',\n",
       " \"'s\",\n",
       " 'family',\n",
       " ',',\n",
       " 'less',\n",
       " 'as',\n",
       " 'a',\n",
       " 'governess',\n",
       " 'than',\n",
       " 'a',\n",
       " 'friend',\n",
       " ',']"
      ]
     },
     "execution_count": 19,
     "metadata": {},
     "output_type": "execute_result"
    }
   ],
   "source": [
    "# your code here \n",
    "from nltk.tokenize import word_tokenize\n",
    "word_tokenize(emma_raw[702:800])\n"
   ]
  },
  {
   "cell_type": "markdown",
   "metadata": {},
   "source": [
    "##### 2.2.2 WordPunctTokenizer\n",
    "- WordPunctTokenizer 모듈 가져오기\n",
    "- emma_raw[702:800] 에 대해 WordPunctTokenizer() 사용하여 토큰화하기"
   ]
  },
  {
   "cell_type": "code",
   "execution_count": 20,
   "metadata": {},
   "outputs": [
    {
     "data": {
      "text/plain": [
       "['Sixteen',\n",
       " 'years',\n",
       " 'had',\n",
       " 'Miss',\n",
       " 'Taylor',\n",
       " 'been',\n",
       " 'in',\n",
       " 'Mr',\n",
       " '.',\n",
       " 'Woodhouse',\n",
       " \"'\",\n",
       " 's',\n",
       " 'family',\n",
       " ',',\n",
       " 'less',\n",
       " 'as',\n",
       " 'a',\n",
       " 'governess',\n",
       " 'than',\n",
       " 'a',\n",
       " 'friend',\n",
       " ',']"
      ]
     },
     "execution_count": 20,
     "metadata": {},
     "output_type": "execute_result"
    }
   ],
   "source": [
    "# your code here\n",
    "from nltk.tokenize import WordPunctTokenizer\n",
    "WordPunctTokenizer().tokenize(emma_raw[702:800])\n"
   ]
  },
  {
   "cell_type": "markdown",
   "metadata": {},
   "source": [
    "##### 2.2.3 RegexpTokenizer - 정규 표현식을 사용한 토큰 생성\n",
    "- RegexpTokenizer 모듈 가져오기\n",
    "- RegexpTokenizer 사용하여 emma_raw[702:800] 토큰화하기"
   ]
  },
  {
   "cell_type": "code",
   "execution_count": 33,
   "metadata": {
    "id": "fnxNry3aXGWy",
    "outputId": "3fd91f5b-6c8f-41db-d1aa-251d2d1a5396"
   },
   "outputs": [
    {
     "data": {
      "text/plain": [
       "['Sixteen',\n",
       " 'years',\n",
       " 'had',\n",
       " 'Miss',\n",
       " 'Taylor',\n",
       " 'been',\n",
       " 'in',\n",
       " 'Mr',\n",
       " 'Woodhouse',\n",
       " 's',\n",
       " 'family',\n",
       " 'less',\n",
       " 'as',\n",
       " 'a',\n",
       " 'governess',\n",
       " 'than',\n",
       " 'a',\n",
       " 'friend']"
      ]
     },
     "execution_count": 33,
     "metadata": {},
     "output_type": "execute_result"
    }
   ],
   "source": [
    "# your code here\n",
    "\n",
    "\n",
    "\n"
   ]
  },
  {
   "cell_type": "markdown",
   "metadata": {},
   "source": [
    "### [ 정체(Cleaning) and 정규화(Normalization) ]\n",
    "- 토큰화 전,후에 텍스트 데이터를 용도에 맞게 정제 및 정규화 하는 일을 항상 함께함\n",
    "- 정제 : 코퍼스로부터 노이즈 데이터 제거\n",
    "- 정규화 : 표현 방법이 다른 단어들을 통합시켜 같은 단어로 만듬\n",
    "\n",
    "1. 규칙에 기반한 표기가 단어가 다른 단어들의 통합\n",
    "   - 예 : USA / US 같은 의미 , uh-huh / uh-huh\n",
    "2. 대, 소문자 통합 - 단어의 개수를 줄일 수 있는 정규화 방법 - 소문자로 변환\n",
    "   - Automobile / automobile\n",
    "   - 하지만 미국 US 와 목적격 us 는 다르므로 통합하면 안되고 사람이름 Bush 와 덤블 bush 는 그대로 두는게 좋음\n",
    "3. 불필요한 단어 제거\n",
    "- 노이즈 데이터 : 아무 의미도 갖지 않은 글자들(특수 문자 등) 또는 분석하고자 하는 목적에 맞지 않은 불필요한 단어들\n",
    "1) 등장 빈도가 적은 단어\n",
    "    - 예: 스팸 메일 분류기 제작시 100,000개의 메일 중 3~4번 나오는 나오는 단어\n",
    "2) 길이가 짧은 단어\n",
    "    - 영어의 평균 단어 길이는 6~7 , 따라서 1~2 이하는 제거 ( a, I, at, to, on, in, by ...)\n",
    "  \n",
    "4. 정규 표현식을 사용해서 노이즈 데이터의 특징을 찾아 제거\n",
    "    - 정규식 연습 사이트 : https://regexr.com/ , https://moonsupport.tistory.com/173\n",
    "    - https://regexper.com/\n",
    "    - 사용법안내 https://inpa.tistory.com/entry/%F0%9F%92%BB-%EC%A0%95%EA%B7%9C%EC%8B%9D-%ED%85%8C%EC%8A%A4%ED%8A%B8-%EC%82%AC%EC%9D%B4%ED%8A%B8-%F0%9F%8E%81-%EB%AA%A8%EC%9D%8C"
   ]
  },
  {
   "cell_type": "code",
   "execution_count": 54,
   "metadata": {},
   "outputs": [
    {
     "name": "stdout",
     "output_type": "stream",
     "text": [
      " was wondering anyone out there could enlighten this car.\n"
     ]
    }
   ],
   "source": [
    "# 정규식 표현 연습\n",
    "import re\n",
    "text = \"I was wondering if anyone out there could enlighten me on this car.\"\n",
    "\n",
    "# 길이가 1~2인 단어들을 정규 표현식을 이용하여 삭제\n",
    "shortword = re.compile(r'\\W*\\b\\w{1,2}\\b')\n",
    "print(shortword.sub('', text))"
   ]
  },
  {
   "cell_type": "markdown",
   "metadata": {
    "id": "07bMWoTyXGWy"
   },
   "source": [
    "## 3. 형태소 분석\n",
    "1) 형태소(morpheme) : 일정한 의미가 있는 가장 작은 말의 단위, 자연어 처리에서는 토큰으로 형태소를 이용한다. <br>\n",
    "2) 형태소 분석(morphological analysis) : 단어로부터 어근, 접두사, 접미사, 품사 등 다양한 언어적 속성을 파악하고 이를 이용하여 형태소를 찾아내거나 처리하는 작업이다\n",
    "3) 형태소\n",
    "   - 어간(stem) : 단어의 의미를 담고 있는 단어의 핵심 부분\n",
    "   - 접사(affix) : 단어에 추가적인 의미를 주는 부분\n",
    "   - 예: cats => cat / s 로 분리\n",
    "5)  서로 다른 단어들이지만, 하나의 단어로 일반화시킬 수 있다면 하나의 단어로 일반화시켜서 문서 내의 단어 수를 줄이는 것이 목적 => 단어의 빈도수를 기반으로 문제를 풀고자 BoW(Bag of Words) 사용하는 자연어 처리에 주로 사용\n",
    "\n",
    "* 어간 추출(stemming)\n",
    "* 표제어(원형) 추출 (lemmatization) : NLTK-WordNetLemmatizer 사\n",
    "* 품사 태깅(Part-Of-Speech tagging)"
   ]
  },
  {
   "cell_type": "markdown",
   "metadata": {
    "id": "fR7vIr8GXGWy"
   },
   "source": [
    "### 3.1 어간 추출(stemming)\n",
    "- 어간 추출(stemming)은 변화된 단어의 접미사나 어미를 제거하여 같은 의미를 가지는 형태소의 기본형을 찾는 방법이다. <br>\n",
    "- NLTK는 `PorterStemmer`  `LancasterStemmer` 등을 제공한다. <br>\n",
    "- 어간 추출법은 단순히 어미를 제거(정해진 규칙만 보고 단어의 어미를 자르는 어림짐작의 작업)할 뿐이므로 단어의 원형의 정확히 찾아주지는 않는다. => 결과 단어는 사전에 존재하지 않는 단어일 수도 있음\n",
    "- 어간 추출 속도는 표제어 추출보다 일반적으로 빠르고 정확도도 높은 편"
   ]
  },
  {
   "cell_type": "code",
   "execution_count": 22,
   "metadata": {
    "id": "UwX_zA6vXGWy",
    "outputId": "c27cb538-a29d-4a0f-967e-50a8bddd66cd"
   },
   "outputs": [
    {
     "name": "stdout",
     "output_type": "stream",
     "text": [
      "PorterStemmer    전 : ['fly', 'flies', 'flying', 'flew', 'flown']\n",
      "PorterStemmer    후 : ['fli', 'fli', 'fli', 'flew', 'flown']\n",
      "LancasterStemmer 후 : ['fly', 'fli', 'fly', 'flew', 'flown']\n"
     ]
    }
   ],
   "source": [
    "from nltk.tokenize import word_tokenize\n",
    "from nltk.stem import PorterStemmer, LancasterStemmer\n",
    "\n",
    "porter_stemmer  = PorterStemmer()\n",
    "lancaster_stemmer  = LancasterStemmer()\n",
    "\n",
    "words = [\"fly\", \"flies\", \"flying\", \"flew\", \"flown\"]\n",
    "\n",
    "print('PorterStemmer    전 :', words)\n",
    "print('PorterStemmer    후 :',[porter_stemmer.stem(w) for w in words])\n",
    "print('LancasterStemmer 후 :',[lancaster_stemmer.stem(w) for w in words])"
   ]
  },
  {
   "cell_type": "code",
   "execution_count": 23,
   "metadata": {},
   "outputs": [
    {
     "name": "stdout",
     "output_type": "stream",
     "text": [
      "어간 추출 전 : ['This', 'was', 'not', 'the', 'map', 'we', 'found', 'in', 'Billy', 'Bones', \"'s\", 'chest', ',', 'but', 'an', 'accurate', 'copy', ',', 'complete', 'in', 'all', 'things', '--', 'names', 'and', 'heights', 'and', 'soundings', '--', 'with', 'the', 'single', 'exception', 'of', 'the', 'red', 'crosses', 'and', 'the', 'written', 'notes', '.']\n",
      "어간 추출 후 : ['thi', 'wa', 'not', 'the', 'map', 'we', 'found', 'in', 'billi', 'bone', \"'s\", 'chest', ',', 'but', 'an', 'accur', 'copi', ',', 'complet', 'in', 'all', 'thing', '--', 'name', 'and', 'height', 'and', 'sound', '--', 'with', 'the', 'singl', 'except', 'of', 'the', 'red', 'cross', 'and', 'the', 'written', 'note', '.']\n"
     ]
    }
   ],
   "source": [
    "sentence = \"This was not the map we found in Billy Bones's chest, but an accurate copy, complete in all things--names and heights and soundings--with the single exception of the red crosses and the written notes.\"\n",
    "tokenized_sentence = word_tokenize(sentence)\n",
    "\n",
    "print('어간 추출 전 :', tokenized_sentence)\n",
    "print('어간 추출 후 :',[porter_stemmer.stem(word) for word in tokenized_sentence])"
   ]
  },
  {
   "cell_type": "code",
   "execution_count": 53,
   "metadata": {},
   "outputs": [
    {
     "name": "stdout",
     "output_type": "stream",
     "text": [
      "어간 추출 전 : ['policy', 'doing', 'organization', 'have', 'going', 'love', 'lives', 'fly', 'dies', 'watched', 'has', 'starting']\n",
      "포터 스테머의 어간 추출 후: ['polici', 'do', 'organ', 'have', 'go', 'love', 'live', 'fli', 'die', 'watch', 'ha', 'start']\n",
      "랭커스터 스테머의 어간 추출 후: ['policy', 'doing', 'org', 'hav', 'going', 'lov', 'liv', 'fly', 'die', 'watch', 'has', 'start']\n"
     ]
    }
   ],
   "source": [
    "words = ['policy', 'doing', 'organization', 'have', 'going', 'love', 'lives', 'fly', 'dies', 'watched', 'has', 'starting']\n",
    "print('어간 추출 전 :', words)\n",
    "print('포터 스테머의 어간 추출 후:',[porter_stemmer.stem(w) for w in words])\n",
    "print('랭커스터 스테머의 어간 추출 후:',[lancaster_stemmer.stem(w) for w in words])"
   ]
  },
  {
   "cell_type": "markdown",
   "metadata": {},
   "source": [
    "### <font color=red>▲ organization / organ / org , have / have / hav 각기 다 \n",
    "- 사용하고자 하는 코퍼스에 스태머를 적용해보고 어떤 스태머가 해당 코퍼스에 적합한지를 판단한 후에 사용 \n",
    "    --> 작업자가 결정한다"
   ]
  },
  {
   "cell_type": "markdown",
   "metadata": {
    "id": "32FBRVhqXGWy"
   },
   "source": [
    "### 3.2 표제어(원형) 추출 (lemmatization)\n",
    "lemmatization 은 같은 의미를 가지는 여러 단어를 사전형으로 통일하는 작업이다. <br>\n",
    "품사(part of speech)를 지정하는 경우 좀 더 정확한 원형을 찾을 수 있다.\n",
    "\n",
    "- Stemming         \n",
    "  am → am       \n",
    "  the going → the go         \n",
    "  having → hav          \n",
    "<br>\n",
    "\n",
    "- Lemmatization        \n",
    "  am → be        \n",
    "  the going → the going        \n",
    "  having → have"
   ]
  },
  {
   "cell_type": "code",
   "execution_count": 24,
   "metadata": {
    "id": "RGY5wa3HXGWz",
    "outputId": "5ef34175-9d70-4567-d4e4-95c174081696"
   },
   "outputs": [
    {
     "name": "stdout",
     "output_type": "stream",
     "text": [
      "lemmatize 전 : ['fly', 'flies', 'flying', 'flew', 'flown']\n",
      "lemmatize 후 : ['fly', 'fly', 'fly', 'fly', 'fly']\n"
     ]
    }
   ],
   "source": [
    "from nltk.stem import WordNetLemmatizer\n",
    "lemmatizer  = WordNetLemmatizer()\n",
    "\n",
    "# 예1\n",
    "words = [\"fly\", \"flies\", \"flying\", \"flew\", \"flown\"]\n",
    "print('lemmatize 전 :', words)\n",
    "print('lemmatize 후 :', [lemmatizer .lemmatize(w,pos=\"v\") for w in words])"
   ]
  },
  {
   "cell_type": "code",
   "execution_count": 25,
   "metadata": {},
   "outputs": [
    {
     "name": "stdout",
     "output_type": "stream",
     "text": [
      "lemmatize 전 : ['policy', 'doing', 'organization', 'have', 'going', 'love', 'lives', 'fly', 'dies', 'watched', 'has', 'starting']\n",
      "lemmatize 후 : ['policy', 'doing', 'organization', 'have', 'going', 'love', 'life', 'fly', 'dy', 'watched', 'ha', 'starting']\n"
     ]
    }
   ],
   "source": [
    "# 예2\n",
    "words = ['policy', 'doing', 'organization', 'have', 'going', 'love', 'lives', 'fly', 'dies', 'watched', 'has', 'starting']\n",
    "\n",
    "print('lemmatize 전 :', words)\n",
    "print('lemmatize 후 :',[lemmatizer .lemmatize(word) for word in words])"
   ]
  },
  {
   "cell_type": "markdown",
   "metadata": {},
   "source": [
    "### <font color=red>▲ dies : dy, has : ha 적절하지 못한 단어 추출 \n",
    "- 단어의 품사 정보 필요\n",
    "- 표제어 추출은 본래 단어의 품사 정보를 알아야만 정확한 결과를 얻을 수 있음"
   ]
  },
  {
   "cell_type": "code",
   "execution_count": 26,
   "metadata": {},
   "outputs": [
    {
     "name": "stdout",
     "output_type": "stream",
     "text": [
      "die\n",
      "dy\n",
      "watch\n",
      "have\n",
      "ha\n"
     ]
    }
   ],
   "source": [
    "# WordNetLemmatizer 품사 파악하기\n",
    "print(lemmatizer.lemmatize('dies', 'v'))\n",
    "print(lemmatizer.lemmatize('dies', 'n'))\n",
    "print(lemmatizer.lemmatize('watched', 'v'))\n",
    "print(lemmatizer.lemmatize('has', 'v'))\n",
    "print(lemmatizer.lemmatize('has', 'n'))"
   ]
  },
  {
   "cell_type": "markdown",
   "metadata": {
    "id": "sbZYAhLEXGWz"
   },
   "source": [
    "### 3.3 품사(POS, part-of-speech) 태깅\n",
    "- 품사(POS, part-of-speech) : 낱말을 문법적인 기능이나 형태, 뜻에 따라 구분한 것이다. 품사의 구분은 언어마다 그리고 학자마다 다르다.<br>\n",
    "- 단어는 표기는 같지만 품사에 따라서 단어의 의미가 달라지기도 합\n",
    "- 예: 'fly' : 동사-'날다' , 명사- '파리' / '못' : 명사 - 목재등을 고정하는물건, 부사- '못'먹는 \n",
    "- 예: NLTK에서는 펜 트리뱅크 태그세트(Penn Treebank Tagset)라는 것을 이용한다. 다음은 펜 트리뱅크 태그세트에서 사용하는 품사의 예이다.\n",
    "\n",
    "- https://www.ling.upenn.edu/courses/Fall_2003/ling001/penn_treebank_pos.html\n",
    "- https://dbrang.tistory.com/1139\n",
    "\n",
    "    * NNP: 단수 고유명사\n",
    "    * NNS :복수형 명사\n",
    "    * VB: 동사\n",
    "    * VBP: 동사 현재형\n",
    "    * TO: to 전치사\n",
    "    * NN: 명사(단수형 혹은 집합형)\n",
    "    * DT: 관형사(or 관사)\n",
    "    * PRP : 인칭 대명사\n",
    "    * RB : 부사\n",
    "    * VBG : 현재부사\n",
    "    * IN : 전치사\n",
    "    * CC : 접속사\n",
    "\n",
    "- `nltk.help.upenn_tagset` 명령으로 자세한 설명을 볼 수 있다."
   ]
  },
  {
   "cell_type": "code",
   "execution_count": 27,
   "metadata": {
    "id": "vM1Hb_gyXGWz",
    "outputId": "af4b8ff4-5dd2-4b4c-fe33-0dd384c80e33"
   },
   "outputs": [
    {
     "name": "stdout",
     "output_type": "stream",
     "text": [
      "VB: verb, base form\n",
      "    ask assemble assess assign assume atone attention avoid bake balkanize\n",
      "    bank begin behold believe bend benefit bevel beware bless boil bomb\n",
      "    boost brace break bring broil brush build ...\n"
     ]
    }
   ],
   "source": [
    "nltk.help.upenn_tagset('VB')"
   ]
  },
  {
   "cell_type": "markdown",
   "metadata": {
    "id": "wT7x3tjcXGWz"
   },
   "source": [
    "- `pos_tag` 명령을 사용하면 단어 토큰에 품사를 부착하여 튜플로 출력한다. <br>\n",
    "다음 예문에서 refuse, permit이라는 같은 철자의 단어가 각각 동사와 명사로 다르게 품사 태깅된 것을 볼 수 있다"
   ]
  },
  {
   "cell_type": "code",
   "execution_count": 28,
   "metadata": {
    "id": "PHREB2bdXGWz",
    "outputId": "377eef98-bde4-4a65-a6f4-690cf77d45f3"
   },
   "outputs": [
    {
     "name": "stdout",
     "output_type": "stream",
     "text": [
      "['Emma', 'refused', 'to', 'permit', 'us', 'to', 'obtain', 'the', 'refuse', 'permit']\n"
     ]
    },
    {
     "data": {
      "text/plain": [
       "[('Emma', 'NNP'),\n",
       " ('refused', 'VBD'),\n",
       " ('to', 'TO'),\n",
       " ('permit', 'VB'),\n",
       " ('us', 'PRP'),\n",
       " ('to', 'TO'),\n",
       " ('obtain', 'VB'),\n",
       " ('the', 'DT'),\n",
       " ('refuse', 'NN'),\n",
       " ('permit', 'NN')]"
      ]
     },
     "execution_count": 28,
     "metadata": {},
     "output_type": "execute_result"
    }
   ],
   "source": [
    "from nltk.tag import pos_tag\n",
    "sentence = \"Emma refused to permit us to obtain the refuse permit\"\n",
    "tagged_list = pos_tag(word_tokenize(sentence))\n",
    "print(word_tokenize(sentence))\n",
    "tagged_list"
   ]
  },
  {
   "cell_type": "markdown",
   "metadata": {
    "id": "6t1gPzaNXGWz"
   },
   "source": [
    "- 품사 태그 정보를 사용하면 명사인 토큰만 선택할 수 있다."
   ]
  },
  {
   "cell_type": "code",
   "execution_count": 29,
   "metadata": {
    "id": "rYocqHVtXGWz",
    "outputId": "d9ba8f79-8988-47df-b50e-1476ac025ea9"
   },
   "outputs": [
    {
     "data": {
      "text/plain": [
       "['refuse', 'permit']"
      ]
     },
     "execution_count": 29,
     "metadata": {},
     "output_type": "execute_result"
    }
   ],
   "source": [
    "nouns_list = [t[0] for t in tagged_list if t[1] == 'NN']\n",
    "nouns_list\n",
    "# tagged_list는 형태소 분석 또는 품사 태깅을 통해 텍스트 데이터를 처리한 결과물로, \n",
    "# 각 단어 또는 형태소와 해당 단어의 품사 정보를 쌍으로 가지고 있는 리스트일 것입니다.\n",
    "\n",
    "# for t in tagged_list는 tagged_list에서 각 항목(t)을 하나씩 반복적으로 가져오는 루프입니다.\n",
    "\n",
    "# if t[1] == 'NN'는 t 항목에서 두 번째 요소(t[1])가 'NN' (명사)인 경우를 검사합니다.\n",
    "\n",
    "# t[0]는 t 항목에서 첫 번째 요소(t[0])를 추출하며, 이것은 실제 단어 또는 형태소를 나타냅니다.\n",
    "\n",
    "# 따라서, nouns_list는 tagged_list에서 명사 형태소만을 추출하여 리스트로 저장한 것입니다."
   ]
  },
  {
   "cell_type": "markdown",
   "metadata": {
    "id": "6mTIMhN2XGWz"
   },
   "source": [
    "- `untag` 명령을 사용하면 태그 튜플을 제거할 수 있다."
   ]
  },
  {
   "cell_type": "code",
   "execution_count": 30,
   "metadata": {
    "id": "xv0x5zmdXGWz",
    "outputId": "e2e1cf45-dc53-4ed5-d47b-5650c44c9614"
   },
   "outputs": [
    {
     "data": {
      "text/plain": [
       "['Emma',\n",
       " 'refused',\n",
       " 'to',\n",
       " 'permit',\n",
       " 'us',\n",
       " 'to',\n",
       " 'obtain',\n",
       " 'the',\n",
       " 'refuse',\n",
       " 'permit']"
      ]
     },
     "execution_count": 30,
     "metadata": {},
     "output_type": "execute_result"
    }
   ],
   "source": [
    "from nltk.tag import untag\n",
    "untag(tagged_list) # 태그튜플 제거 = '단어, 품사'에서 품사 제거"
   ]
  },
  {
   "cell_type": "markdown",
   "metadata": {
    "id": "X9wdUCz7XGWz"
   },
   "source": [
    "- Scikit-Learn 등에서 자연어 분석을 할 때는 같은 토큰이라도 품사가 다르면 다른 토큰으로 처리해야 하는 경우가 많은데\n",
    "이 때는 원래의 토큰과 품사를 붙여서 새로운 토큰 이름을 만들어 사용하면 철자가 같고 품사가 다른 단어를 구분할 수 있다."
   ]
  },
  {
   "cell_type": "code",
   "execution_count": 31,
   "metadata": {
    "id": "Pg7TsNgfXGWz",
    "outputId": "c73b637a-07b1-4dea-f848-0c7da911f0bf"
   },
   "outputs": [
    {
     "data": {
      "text/plain": [
       "['Emma/NNP',\n",
       " 'refused/VBD',\n",
       " 'to/TO',\n",
       " 'permit/VB',\n",
       " 'us/PRP',\n",
       " 'to/TO',\n",
       " 'obtain/VB',\n",
       " 'the/DT',\n",
       " 'refuse/NN',\n",
       " 'permit/NN']"
      ]
     },
     "execution_count": 31,
     "metadata": {},
     "output_type": "execute_result"
    }
   ],
   "source": [
    "def tokenizer(doc):\n",
    "    tagged_list = pos_tag(word_tokenize(doc))\n",
    "    return ['/'.join(p) for p in tagged_list]\n",
    "tokenizer(sentence)"
   ]
  },
  {
   "cell_type": "markdown",
   "metadata": {
    "id": "mbWbTKtVXGW0"
   },
   "source": [
    "## [ Text 클래스 ]\n",
    "- NLTK의 `Text` 클래스는 문서 분석에 유용한 여러가지 메서드를 제공한다. 토큰열을 입력하여 생성한다."
   ]
  },
  {
   "cell_type": "code",
   "execution_count": 32,
   "metadata": {
    "id": "qirKDOmmXGW0",
    "outputId": "ddb119ba-5d33-4cda-9ebb-bacf4185ef7c"
   },
   "outputs": [
    {
     "name": "stdout",
     "output_type": "stream",
     "text": [
      "<class 'nltk.text.Text'>\n"
     ]
    },
    {
     "data": {
      "text/plain": [
       "<Text: Emma by Jane Austen 1816 VOLUME I CHAPTER...>"
      ]
     },
     "execution_count": 32,
     "metadata": {},
     "output_type": "execute_result"
    }
   ],
   "source": [
    "from nltk import Text\n",
    "from matplotlib import pyplot as plt\n",
    "\n",
    "text = Text(retokenize.tokenize(emma_raw))  #  전체 데이터를 사용\n",
    "print(type(text))\n",
    "text"
   ]
  },
  {
   "cell_type": "markdown",
   "metadata": {
    "id": "SJkDueh6XGW0"
   },
   "source": [
    "- plot() 메소드를 사용하면 각 단어(토큰)의 사용 빈도를 그래프로 그려준다."
   ]
  },
  {
   "cell_type": "code",
   "execution_count": 33,
   "metadata": {
    "id": "Tp6toua5XGW0",
    "outputId": "3a6bf132-b33a-48aa-c0e8-45c7959d673d"
   },
   "outputs": [
    {
     "data": {
      "image/png": "[encoded data removed]",
      "text/plain": [
       "<Figure size 640x480 with 1 Axes>"
      ]
     },
     "metadata": {},
     "output_type": "display_data"
    }
   ],
   "source": [
    "text.plot(20)  # 20개 단어의 빈도\n",
    "plt.show()"
   ]
  },
  {
   "cell_type": "markdown",
   "metadata": {
    "id": "QE8fmk2VXGW0"
   },
   "source": [
    "- dispersion_plot() 메서드는 단어가 사용된 위치를 시각화한다. 소설 엠마의 각 등장인물에 대해 적용하면 다음과 같은 결과를 얻는다."
   ]
  },
  {
   "cell_type": "code",
   "execution_count": 34,
   "metadata": {
    "id": "QhwKytxxXGW3",
    "outputId": "c857e6a3-495a-4451-901e-093d2873b235"
   },
   "outputs": [
    {
     "data": {
      "image/png": "[encoded data removed]",
      "text/plain": [
       "<Figure size 640x480 with 1 Axes>"
      ]
     },
     "metadata": {},
     "output_type": "display_data"
    }
   ],
   "source": [
    "text.dispersion_plot([\"Emma\", \"Knightley\", \"Frank\", \"Jane\", \"Harriet\", \"Robert\"])"
   ]
  },
  {
   "cell_type": "markdown",
   "metadata": {
    "id": "fSEPXxuRXGW4"
   },
   "source": [
    "- concordance() 메서드로 단어가 사용된 위치를 직접 표시하면 문맥(context)이 어떤지 볼 수 있다. 여기에서 문맥은 해당 단어의 앞과 뒤에 사용된 단어를 뜻한다."
   ]
  },
  {
   "cell_type": "code",
   "execution_count": 35,
   "metadata": {
    "id": "kLDHDSzEXGW4",
    "outputId": "42212737-b5f9-4738-d406-2585cfd6ed36"
   },
   "outputs": [
    {
     "name": "stdout",
     "output_type": "stream",
     "text": [
      "Displaying 25 of 865 matches:\n",
      " Emma by Jane Austen 1816 VOLUME I CHAPTER\n",
      " Jane Austen 1816 VOLUME I CHAPTER I Emma Woodhouse handsome clever and rich w\n",
      "f both daughters but particularly of Emma Between _them_ it was more the intim\n",
      "nd friend very mutually attached and Emma doing just what she liked highly est\n",
      " by her own The real evils indeed of Emma s situation were the power of having\n",
      "ding day of this beloved friend that Emma first sat in mournful thought of any\n",
      "going only half a mile from them but Emma was aware that great must be the dif\n",
      "a day It was a melancholy change and Emma could not but sigh over it and wish \n",
      "ll the rest of her life at Hartfield Emma smiled and chatted as cheerfully as \n",
      "l be able to tell her how we all are Emma spared no exertions to maintain this\n",
      "or I have a great regard for you and Emma but when it comes to the question of\n",
      "a fanciful troublesome creature said Emma playfully That is what you have in y\n",
      "e few people who could see faults in Emma Woodhouse and the only one who ever \n",
      "is was not particularly agreeable to Emma herself she knew it would be so much\n",
      " being thought perfect by every body Emma knows I never flatter her said Mr Kn\n",
      " that she must be a gainer Well said Emma willing to let it pass you want to h\n",
      " were sure of meeting every day Dear Emma bears every thing so well said her f\n",
      "l_ miss her more than she thinks for Emma turned away her head divided between\n",
      "ars and smiles It is impossible that Emma should not miss such a companion sai\n",
      "rgotten one matter of joy to me said Emma and a very considerable one that I m\n",
      "lf than good to them by interference Emma never thinks of herself if she can d\n",
      "ch better thing Invite him to dinner Emma and help him to the best of the fish\n",
      " and could not think without pain of Emma s losing a single pleasure or suffer\n",
      "nt of her companionableness but dear Emma was of no feeble character she was m\n",
      "ent was so just and so apparent that Emma well as she knew her father was some\n"
     ]
    }
   ],
   "source": [
    "text.concordance('Emma')"
   ]
  },
  {
   "cell_type": "markdown",
   "metadata": {
    "id": "0jPrLa2VXGW4"
   },
   "source": [
    "similar() 메서드는 같은 문맥에서 주어진 단어 대신 사용된 횟수가 높은 단어들을 찾는다"
   ]
  },
  {
   "cell_type": "code",
   "execution_count": 36,
   "metadata": {
    "id": "sWzRLUv2XGW4",
    "outputId": "90d8d8be-830d-4858-db05-87c5939d51dc"
   },
   "outputs": [
    {
     "name": "stdout",
     "output_type": "stream",
     "text": [
      "she it he i harriet you her jane him that me and all they them herself\n",
      "there but be isabella\n"
     ]
    }
   ],
   "source": [
    "text.similar(\"Emma\")"
   ]
  },
  {
   "cell_type": "markdown",
   "metadata": {
    "id": "yrAMUpBNXGW4"
   },
   "source": [
    "- 두 단어의 공통 문맥을 보려면 `common_contexts` 메서드를 사용한다"
   ]
  },
  {
   "cell_type": "code",
   "execution_count": 37,
   "metadata": {
    "id": "8C0SgD_KXGW4",
    "outputId": "777168d9-32f3-4cc7-faa3-88537c805c14"
   },
   "outputs": [
    {
     "name": "stdout",
     "output_type": "stream",
     "text": [
      "said_i and_could but_could said_as and_was that_could and_felt\n",
      "which_could that_began than_had but_was that_should this_could\n",
      "there_was said_in as_could think_was as_felt that_was which_had\n"
     ]
    }
   ],
   "source": [
    "text.common_contexts([\"Emma\",\"she\"])"
   ]
  },
  {
   "cell_type": "markdown",
   "metadata": {
    "id": "9Bxg4dD-XGW4"
   },
   "source": [
    "## [ FreqDist ( Frequency Distributions ) ]\n",
    "- `FreqDist` 클래스는 문서에 사용된 단어(토큰)의 사용빈도 정보를 담는 클래스이다.\n",
    "- `Text` 클래스의 `vocab` 메서드로 추출할 수 있다."
   ]
  },
  {
   "cell_type": "code",
   "execution_count": 39,
   "metadata": {
    "id": "sJ1N2UYLXGW4",
    "outputId": "130f613f-49aa-4bdb-d229-2afb9d1ef5ed"
   },
   "outputs": [
    {
     "name": "stdout",
     "output_type": "stream",
     "text": [
      "['Jane', 'Austen', 'VOLUME', 'Emma', 'Woodhouse', 'Sixteen', 'Taylor', 'Woodhouse', 'Emma', 'Between']\n"
     ]
    }
   ],
   "source": [
    "from nltk import FreqDist\n",
    "\n",
    "stopwords = [\"Mr.\", \"Mrs.\", \"Miss\", \"Mr\", \"Mrs\", \"Dear\"]  # 불용어\n",
    "emma_tokens = pos_tag(retokenize.tokenize(emma_raw))\n",
    "\n",
    "# 품사 태그에서 NNP(고유명사)이면서 필요없는 단어(stopwords)는 제거한다.\n",
    "names_list = [t[0] for t in emma_tokens if t[1] == 'NNP' and t[0] not in stopwords]\n",
    "print(names_list[:10])"
   ]
  },
  {
   "cell_type": "markdown",
   "metadata": {
    "id": "3UwHnZ_iXGW4"
   },
   "source": [
    "- `FreqDist` 클래스는 단어를 키(key), 출현빈도를 값(value)으로 가지는 사전 자료형과 유사하다. 다음 코드는 전체 단어의 수, \"Emma\"라는 단어의 출현 횟수, 확률을 각각 계산한다."
   ]
  },
  {
   "cell_type": "code",
   "execution_count": 40,
   "metadata": {
    "id": "PhBwjFGkXGW4"
   },
   "outputs": [],
   "source": [
    "fd_names = FreqDist(names_list)"
   ]
  },
  {
   "cell_type": "code",
   "execution_count": 41,
   "metadata": {
    "id": "_4lu1nrsXGW4",
    "outputId": "48fa2447-878c-48a5-9d11-52dba0ea338f"
   },
   "outputs": [
    {
     "data": {
      "text/plain": [
       "(7863, 830, 0.10555767518758744)"
      ]
     },
     "execution_count": 41,
     "metadata": {},
     "output_type": "execute_result"
    }
   ],
   "source": [
    "fd_names.N(), fd_names['Emma'], fd_names.freq(\"Emma\")"
   ]
  },
  {
   "cell_type": "markdown",
   "metadata": {
    "id": "CUkFpiB9XGW4"
   },
   "source": [
    "- `most_common` 메서드를 사용하면 가장 출현 횟수가 높은 단어를 찾는다."
   ]
  },
  {
   "cell_type": "code",
   "execution_count": 42,
   "metadata": {
    "id": "nvmltKunXGW4",
    "outputId": "b191dc01-1f8a-4f95-848f-5fe5062c51ab"
   },
   "outputs": [
    {
     "data": {
      "text/plain": [
       "[('Emma', 830),\n",
       " ('Harriet', 491),\n",
       " ('Weston', 439),\n",
       " ('Knightley', 389),\n",
       " ('Elton', 385)]"
      ]
     },
     "execution_count": 42,
     "metadata": {},
     "output_type": "execute_result"
    }
   ],
   "source": [
    "fd_names.most_common(5)"
   ]
  },
  {
   "cell_type": "markdown",
   "metadata": {
    "id": "1wSEcCagXGW5"
   },
   "source": [
    "## [ 워드클라우드 ]"
   ]
  },
  {
   "cell_type": "code",
   "execution_count": 43,
   "metadata": {
    "id": "mcbRIgVyXGW5"
   },
   "outputs": [
    {
     "name": "stdout",
     "output_type": "stream",
     "text": [
      "Collecting wordcloud\n",
      "  Obtaining dependency information for wordcloud from https://files.pythonhosted.org/packages/9d/06/059a7e33548acf6c7bd29f96b2e495571797b4397353bf79631559b97948/wordcloud-1.9.2-cp38-cp38-win_amd64.whl.metadata\n",
      "  Downloading wordcloud-1.9.2-cp38-cp38-win_amd64.whl.metadata (3.4 kB)\n",
      "Requirement already satisfied: numpy>=1.6.1 in c:\\users\\isfs0\\anaconda3\\lib\\site-packages (from wordcloud) (1.16.6)\n",
      "Requirement already satisfied: pillow in c:\\users\\isfs0\\anaconda3\\lib\\site-packages (from wordcloud) (8.2.0)\n",
      "Requirement already satisfied: matplotlib in c:\\users\\isfs0\\anaconda3\\lib\\site-packages (from wordcloud) (3.3.4)\n",
      "Requirement already satisfied: cycler>=0.10 in c:\\users\\isfs0\\anaconda3\\lib\\site-packages (from matplotlib->wordcloud) (0.10.0)\n",
      "Requirement already satisfied: kiwisolver>=1.0.1 in c:\\users\\isfs0\\anaconda3\\lib\\site-packages (from matplotlib->wordcloud) (1.3.1)\n",
      "Requirement already satisfied: pyparsing!=2.0.4,!=2.1.2,!=2.1.6,>=2.0.3 in c:\\users\\isfs0\\anaconda3\\lib\\site-packages (from matplotlib->wordcloud) (2.4.7)\n",
      "Requirement already satisfied: python-dateutil>=2.1 in c:\\users\\isfs0\\appdata\\roaming\\python\\python38\\site-packages (from matplotlib->wordcloud) (2.8.2)\n",
      "Requirement already satisfied: six in c:\\users\\isfs0\\appdata\\roaming\\python\\python38\\site-packages (from cycler>=0.10->matplotlib->wordcloud) (1.16.0)\n",
      "Downloading wordcloud-1.9.2-cp38-cp38-win_amd64.whl (153 kB)\n",
      "   ---------------------------------------- 0.0/153.1 kB ? eta -:--:--\n",
      "   ------------------------------------- -- 143.4/153.1 kB 2.8 MB/s eta 0:00:01\n",
      "   ---------------------------------------- 153.1/153.1 kB 3.0 MB/s eta 0:00:00\n",
      "Installing collected packages: wordcloud\n",
      "Successfully installed wordcloud-1.9.2\n"
     ]
    },
    {
     "name": "stderr",
     "output_type": "stream",
     "text": [
      "DEPRECATION: pyodbc 4.0.0-unsupported has a non-standard version number. pip 23.3 will enforce this behaviour change. A possible replacement is to upgrade to a newer version of pyodbc or contact the author to suggest that they release a version with a conforming version number. Discussion can be found at https://github.com/pypa/pip/issues/12063\n",
      "\n",
      "[notice] A new release of pip is available: 23.2.1 -> 23.3\n",
      "[notice] To update, run: python.exe -m pip install --upgrade pip\n"
     ]
    }
   ],
   "source": [
    "! pip install wordcloud"
   ]
  },
  {
   "cell_type": "markdown",
   "metadata": {
    "id": "AuA4T6M5XGW5"
   },
   "source": [
    "- wordcloud 패키지를 사용하면 단어의 사용 빈도수에 따라 워드클라우드(Word Cloud) 시각화를 할 수 있다."
   ]
  },
  {
   "cell_type": "code",
   "execution_count": 48,
   "metadata": {
    "id": "V0p76N2yXGW5",
    "outputId": "cb21ba46-be56-4472-d82a-2a56b7748ed5"
   },
   "outputs": [],
   "source": [
    "from wordcloud import WordCloud\n",
    "wc = WordCloud(width=1000, height=600, background_color=\"white\", random_state=0)\n",
    "plt.imshow(wc.generate_from_frequencies(fd_names))\n",
    "plt.axis('off')\n",
    "plt.show()"
   ]
  },
  {
   "cell_type": "code",
   "execution_count": 51,
   "metadata": {},
   "outputs": [
    {
     "ename": "AttributeError",
     "evalue": "'TransposedFont' object has no attribute 'getbbox'",
     "output_type": "error",
     "traceback": [
      "\u001b[1;31m---------------------------------------------------------------------------\u001b[0m",
      "\u001b[1;31mAttributeError\u001b[0m                            Traceback (most recent call last)",
      "Cell \u001b[1;32mIn[51], line 5\u001b[0m\n\u001b[0;32m      2\u001b[0m wc \u001b[38;5;241m=\u001b[39m WordCloud(width\u001b[38;5;241m=\u001b[39m\u001b[38;5;241m1000\u001b[39m, height\u001b[38;5;241m=\u001b[39m\u001b[38;5;241m600\u001b[39m, background_color\u001b[38;5;241m=\u001b[39m\u001b[38;5;124m\"\u001b[39m\u001b[38;5;124mwhite\u001b[39m\u001b[38;5;124m\"\u001b[39m, random_state\u001b[38;5;241m=\u001b[39m\u001b[38;5;241m0\u001b[39m)\n\u001b[0;32m      3\u001b[0m \u001b[38;5;66;03m# WordCloud 객체를 만들 때 폰트 지정을 추가합니다.\u001b[39;00m\n\u001b[0;32m      4\u001b[0m \u001b[38;5;66;03m# 예시로, 'arial' 폰트를 사용합니다. 필요한 폰트가 시스템에 설치되어 있어야 합니다.\u001b[39;00m\n\u001b[1;32m----> 5\u001b[0m \u001b[43mwc\u001b[49m\u001b[38;5;241;43m.\u001b[39;49m\u001b[43mgenerate_from_frequencies\u001b[49m\u001b[43m(\u001b[49m\u001b[43mfd_names\u001b[49m\u001b[43m)\u001b[49m\n\u001b[0;32m      7\u001b[0m plt\u001b[38;5;241m.\u001b[39mimshow(wc)\n\u001b[0;32m      8\u001b[0m plt\u001b[38;5;241m.\u001b[39maxis(\u001b[38;5;124m'\u001b[39m\u001b[38;5;124moff\u001b[39m\u001b[38;5;124m'\u001b[39m)\n",
      "File \u001b[1;32m~\\anaconda3\\lib\\site-packages\\wordcloud\\wordcloud.py:453\u001b[0m, in \u001b[0;36mWordCloud.generate_from_frequencies\u001b[1;34m(self, frequencies, max_font_size)\u001b[0m\n\u001b[0;32m    451\u001b[0m     font_size \u001b[38;5;241m=\u001b[39m \u001b[38;5;28mself\u001b[39m\u001b[38;5;241m.\u001b[39mheight\n\u001b[0;32m    452\u001b[0m \u001b[38;5;28;01melse\u001b[39;00m:\n\u001b[1;32m--> 453\u001b[0m     \u001b[38;5;28;43mself\u001b[39;49m\u001b[38;5;241;43m.\u001b[39;49m\u001b[43mgenerate_from_frequencies\u001b[49m\u001b[43m(\u001b[49m\u001b[38;5;28;43mdict\u001b[39;49m\u001b[43m(\u001b[49m\u001b[43mfrequencies\u001b[49m\u001b[43m[\u001b[49m\u001b[43m:\u001b[49m\u001b[38;5;241;43m2\u001b[39;49m\u001b[43m]\u001b[49m\u001b[43m)\u001b[49m\u001b[43m,\u001b[49m\n\u001b[0;32m    454\u001b[0m \u001b[43m                                   \u001b[49m\u001b[43mmax_font_size\u001b[49m\u001b[38;5;241;43m=\u001b[39;49m\u001b[38;5;28;43mself\u001b[39;49m\u001b[38;5;241;43m.\u001b[39;49m\u001b[43mheight\u001b[49m\u001b[43m)\u001b[49m\n\u001b[0;32m    455\u001b[0m     \u001b[38;5;66;03m# find font sizes\u001b[39;00m\n\u001b[0;32m    456\u001b[0m     sizes \u001b[38;5;241m=\u001b[39m [x[\u001b[38;5;241m1\u001b[39m] \u001b[38;5;28;01mfor\u001b[39;00m x \u001b[38;5;129;01min\u001b[39;00m \u001b[38;5;28mself\u001b[39m\u001b[38;5;241m.\u001b[39mlayout_]\n",
      "File \u001b[1;32m~\\anaconda3\\lib\\site-packages\\wordcloud\\wordcloud.py:508\u001b[0m, in \u001b[0;36mWordCloud.generate_from_frequencies\u001b[1;34m(self, frequencies, max_font_size)\u001b[0m\n\u001b[0;32m    505\u001b[0m transposed_font \u001b[38;5;241m=\u001b[39m ImageFont\u001b[38;5;241m.\u001b[39mTransposedFont(\n\u001b[0;32m    506\u001b[0m     font, orientation\u001b[38;5;241m=\u001b[39morientation)\n\u001b[0;32m    507\u001b[0m \u001b[38;5;66;03m# get size of resulting text\u001b[39;00m\n\u001b[1;32m--> 508\u001b[0m box_size \u001b[38;5;241m=\u001b[39m \u001b[43mdraw\u001b[49m\u001b[38;5;241;43m.\u001b[39;49m\u001b[43mtextbbox\u001b[49m\u001b[43m(\u001b[49m\u001b[43m(\u001b[49m\u001b[38;5;241;43m0\u001b[39;49m\u001b[43m,\u001b[49m\u001b[43m \u001b[49m\u001b[38;5;241;43m0\u001b[39;49m\u001b[43m)\u001b[49m\u001b[43m,\u001b[49m\u001b[43m \u001b[49m\u001b[43mword\u001b[49m\u001b[43m,\u001b[49m\u001b[43m \u001b[49m\u001b[43mfont\u001b[49m\u001b[38;5;241;43m=\u001b[39;49m\u001b[43mtransposed_font\u001b[49m\u001b[43m,\u001b[49m\u001b[43m \u001b[49m\u001b[43manchor\u001b[49m\u001b[38;5;241;43m=\u001b[39;49m\u001b[38;5;124;43m\"\u001b[39;49m\u001b[38;5;124;43mlt\u001b[39;49m\u001b[38;5;124;43m\"\u001b[39;49m\u001b[43m)\u001b[49m\n\u001b[0;32m    509\u001b[0m \u001b[38;5;66;03m# find possible places using integral image:\u001b[39;00m\n\u001b[0;32m    510\u001b[0m result \u001b[38;5;241m=\u001b[39m occupancy\u001b[38;5;241m.\u001b[39msample_position(box_size[\u001b[38;5;241m3\u001b[39m] \u001b[38;5;241m+\u001b[39m \u001b[38;5;28mself\u001b[39m\u001b[38;5;241m.\u001b[39mmargin,\n\u001b[0;32m    511\u001b[0m                                    box_size[\u001b[38;5;241m2\u001b[39m] \u001b[38;5;241m+\u001b[39m \u001b[38;5;28mself\u001b[39m\u001b[38;5;241m.\u001b[39mmargin,\n\u001b[0;32m    512\u001b[0m                                    random_state)\n",
      "File \u001b[1;32m~\\anaconda3\\lib\\site-packages\\PIL\\ImageDraw.py:657\u001b[0m, in \u001b[0;36mImageDraw.textbbox\u001b[1;34m(self, xy, text, font, anchor, spacing, align, direction, features, language, stroke_width, embedded_color)\u001b[0m\n\u001b[0;32m    655\u001b[0m     font \u001b[38;5;241m=\u001b[39m \u001b[38;5;28mself\u001b[39m\u001b[38;5;241m.\u001b[39mgetfont()\n\u001b[0;32m    656\u001b[0m mode \u001b[38;5;241m=\u001b[39m \u001b[38;5;124m\"\u001b[39m\u001b[38;5;124mRGBA\u001b[39m\u001b[38;5;124m\"\u001b[39m \u001b[38;5;28;01mif\u001b[39;00m embedded_color \u001b[38;5;28;01melse\u001b[39;00m \u001b[38;5;28mself\u001b[39m\u001b[38;5;241m.\u001b[39mfontmode\n\u001b[1;32m--> 657\u001b[0m bbox \u001b[38;5;241m=\u001b[39m \u001b[43mfont\u001b[49m\u001b[38;5;241;43m.\u001b[39;49m\u001b[43mgetbbox\u001b[49m(\n\u001b[0;32m    658\u001b[0m     text, mode, direction, features, language, stroke_width, anchor\n\u001b[0;32m    659\u001b[0m )\n\u001b[0;32m    660\u001b[0m \u001b[38;5;28;01mreturn\u001b[39;00m bbox[\u001b[38;5;241m0\u001b[39m] \u001b[38;5;241m+\u001b[39m xy[\u001b[38;5;241m0\u001b[39m], bbox[\u001b[38;5;241m1\u001b[39m] \u001b[38;5;241m+\u001b[39m xy[\u001b[38;5;241m1\u001b[39m], bbox[\u001b[38;5;241m2\u001b[39m] \u001b[38;5;241m+\u001b[39m xy[\u001b[38;5;241m0\u001b[39m], bbox[\u001b[38;5;241m3\u001b[39m] \u001b[38;5;241m+\u001b[39m xy[\u001b[38;5;241m1\u001b[39m]\n",
      "\u001b[1;31mAttributeError\u001b[0m: 'TransposedFont' object has no attribute 'getbbox'"
     ]
    }
   ],
   "source": [
    "# 수정된 코드\n",
    "wc = WordCloud(width=1000, height=600, background_color=\"white\", random_state=0)\n",
    "# WordCloud 객체를 만들 때 폰트 지정을 추가합니다.\n",
    "# 예시로, 'arial' 폰트를 사용합니다. 필요한 폰트가 시스템에 설치되어 있어야 합니다.\n",
    "wc.generate_from_frequencies(fd_names)\n",
    "\n",
    "plt.imshow(wc)\n",
    "plt.axis('off')\n",
    "plt.show()"
   ]
  },
  {
   "cell_type": "markdown",
   "metadata": {
    "id": "JRRvX1NHXGW5"
   },
   "source": [
    "## 4. 불용어(stopword)\n",
    "- 큰 의미가 없는 단어 토큰을 제거하는 작업이 필요 - 자주 등장하지만 분석을 하는 것에 있어서는 큰 도움이 되지 않는 단어\n",
    "- NLTK에서는 100여개 이상의 영어 단어들을 불용어로 패키지 내에서 미리 정의"
   ]
  },
  {
   "cell_type": "markdown",
   "metadata": {},
   "source": [
    "### 4.1 불용어 확인하기"
   ]
  },
  {
   "cell_type": "code",
   "execution_count": 46,
   "metadata": {},
   "outputs": [
    {
     "name": "stdout",
     "output_type": "stream",
     "text": [
      "불용어 개수 : 179\n",
      "불용어 10개 출력 : ['i', 'me', 'my', 'myself', 'we', 'our', 'ours', 'ourselves', 'you', \"you're\"]\n"
     ]
    }
   ],
   "source": [
    "from nltk.corpus import stopwords\n",
    "from nltk.tokenize import word_tokenize \n",
    "\n",
    "stop_words_list = stopwords.words('english')\n",
    "print('불용어 개수 :', len(stop_words_list))\n",
    "print('불용어 10개 출력 :',stop_words_list[:10])"
   ]
  },
  {
   "cell_type": "markdown",
   "metadata": {},
   "source": [
    "### 4.2 불용어 제거하기"
   ]
  },
  {
   "cell_type": "code",
   "execution_count": 47,
   "metadata": {},
   "outputs": [
    {
     "name": "stdout",
     "output_type": "stream",
     "text": [
      "불용어 제거 전 : ['Family', 'is', 'not', 'an', 'important', 'thing', '.', 'It', \"'s\", 'everything', '.']\n",
      "불용어 제거 후 : ['Family', 'important', 'thing', '.', 'It', \"'s\", 'everything', '.']\n"
     ]
    }
   ],
   "source": [
    "example = \"Family is not an important thing. It's everything.\"\n",
    "stop_words = set(stopwords.words('english')) \n",
    "\n",
    "word_tokens = word_tokenize(example)\n",
    "\n",
    "result = []\n",
    "for word in word_tokens: \n",
    "    if word not in stop_words: \n",
    "        result.append(word) \n",
    "\n",
    "print('불용어 제거 전 :',word_tokens) \n",
    "print('불용어 제거 후 :',result)"
   ]
  },
  {
   "cell_type": "code",
   "execution_count": null,
   "metadata": {},
   "outputs": [],
   "source": []
  }
 ],
 "metadata": {
  "colab": {
   "provenance": []
  },
  "kernelspec": {
   "display_name": "Python 3 (ipykernel)",
   "language": "python",
   "name": "python3"
  },
  "language_info": {
   "codemirror_mode": {
    "name": "ipython",
    "version": 3
   },
   "file_extension": ".py",
   "mimetype": "text/x-python",
   "name": "python",
   "nbconvert_exporter": "python",
   "pygments_lexer": "ipython3",
   "version": "3.8.8"
  }
 },
 "nbformat": 4,
 "nbformat_minor": 4
}
