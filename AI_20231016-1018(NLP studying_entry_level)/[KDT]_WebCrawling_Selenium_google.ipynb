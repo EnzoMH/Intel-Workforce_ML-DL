{
 "cells": [
  {
   "cell_type": "code",
   "execution_count": 1,
   "metadata": {
    "scrolled": true
   },
   "outputs": [
    {
     "name": "stdout",
     "output_type": "stream",
     "text": [
      "Collecting selenium\n",
      "  Obtaining dependency information for selenium from https://files.pythonhosted.org/packages/fc/df/a8972c41279fc9e9404cad87bc1f4d6d3d824b84c5c072dca0e986a89680/selenium-4.14.0-py3-none-any.whl.metadata\n",
      "  Downloading selenium-4.14.0-py3-none-any.whl.metadata (6.9 kB)\n",
      "Requirement already satisfied: urllib3[socks]<3,>=1.26 in c:\\users\\isfs0\\anaconda3\\lib\\site-packages (from selenium) (1.26.4)\n",
      "Collecting trio~=0.17 (from selenium)\n",
      "  Obtaining dependency information for trio~=0.17 from https://files.pythonhosted.org/packages/a3/dd/b61fa61b186d3267ef3903048fbee29132963ae762fb70b08d4a3cd6f7aa/trio-0.22.2-py3-none-any.whl.metadata\n",
      "  Downloading trio-0.22.2-py3-none-any.whl.metadata (4.7 kB)\n",
      "Collecting trio-websocket~=0.9 (from selenium)\n",
      "  Obtaining dependency information for trio-websocket~=0.9 from https://files.pythonhosted.org/packages/48/be/a9ae5f50cad5b6f85bd2574c2c923730098530096e170c1ce7452394d7aa/trio_websocket-0.11.1-py3-none-any.whl.metadata\n",
      "  Downloading trio_websocket-0.11.1-py3-none-any.whl.metadata (4.7 kB)\n",
      "Collecting certifi>=2021.10.8 (from selenium)\n",
      "  Obtaining dependency information for certifi>=2021.10.8 from https://files.pythonhosted.org/packages/4c/dd/2234eab22353ffc7d94e8d13177aaa050113286e93e7b40eae01fbf7c3d9/certifi-2023.7.22-py3-none-any.whl.metadata\n",
      "  Downloading certifi-2023.7.22-py3-none-any.whl.metadata (2.2 kB)\n",
      "Requirement already satisfied: attrs>=20.1.0 in c:\\users\\isfs0\\anaconda3\\lib\\site-packages (from trio~=0.17->selenium) (20.3.0)\n",
      "Requirement already satisfied: sortedcontainers in c:\\users\\isfs0\\anaconda3\\lib\\site-packages (from trio~=0.17->selenium) (2.3.0)\n",
      "Requirement already satisfied: idna in c:\\users\\isfs0\\anaconda3\\lib\\site-packages (from trio~=0.17->selenium) (2.10)\n",
      "Collecting outcome (from trio~=0.17->selenium)\n",
      "  Downloading outcome-1.2.0-py2.py3-none-any.whl (9.7 kB)\n",
      "Requirement already satisfied: sniffio in c:\\users\\isfs0\\anaconda3\\lib\\site-packages (from trio~=0.17->selenium) (1.2.0)\n",
      "Requirement already satisfied: cffi>=1.14 in c:\\users\\isfs0\\anaconda3\\lib\\site-packages (from trio~=0.17->selenium) (1.14.5)\n",
      "Collecting exceptiongroup>=1.0.0rc9 (from trio~=0.17->selenium)\n",
      "  Obtaining dependency information for exceptiongroup>=1.0.0rc9 from https://files.pythonhosted.org/packages/ad/83/b71e58666f156a39fb29417e4c8ca4bc7400c0dd4ed9e8842ab54dc8c344/exceptiongroup-1.1.3-py3-none-any.whl.metadata\n",
      "  Downloading exceptiongroup-1.1.3-py3-none-any.whl.metadata (6.1 kB)\n",
      "Collecting wsproto>=0.14 (from trio-websocket~=0.9->selenium)\n",
      "  Downloading wsproto-1.2.0-py3-none-any.whl (24 kB)\n",
      "Requirement already satisfied: PySocks!=1.5.7,<2.0,>=1.5.6 in c:\\users\\isfs0\\anaconda3\\lib\\site-packages (from urllib3[socks]<3,>=1.26->selenium) (1.7.1)\n",
      "Requirement already satisfied: pycparser in c:\\users\\isfs0\\anaconda3\\lib\\site-packages (from cffi>=1.14->trio~=0.17->selenium) (2.20)\n",
      "Collecting h11<1,>=0.9.0 (from wsproto>=0.14->trio-websocket~=0.9->selenium)\n",
      "  Downloading h11-0.14.0-py3-none-any.whl (58 kB)\n",
      "     ---------------------------------------- 0.0/58.3 kB ? eta -:--:--\n",
      "     ---------------------------------------- 58.3/58.3 kB 3.2 MB/s eta 0:00:00\n",
      "Downloading selenium-4.14.0-py3-none-any.whl (9.9 MB)\n",
      "   ---------------------------------------- 0.0/9.9 MB ? eta -:--:--\n",
      "   ---------------------------------------- 0.1/9.9 MB 2.6 MB/s eta 0:00:04\n",
      "   - -------------------------------------- 0.3/9.9 MB 3.5 MB/s eta 0:00:03\n",
      "   - -------------------------------------- 0.5/9.9 MB 3.5 MB/s eta 0:00:03\n",
      "   --- ------------------------------------ 0.8/9.9 MB 4.5 MB/s eta 0:00:03\n",
      "   ----- ---------------------------------- 1.3/9.9 MB 5.9 MB/s eta 0:00:02\n",
      "   ------ --------------------------------- 1.5/9.9 MB 5.6 MB/s eta 0:00:02\n",
      "   ------- -------------------------------- 1.8/9.9 MB 5.7 MB/s eta 0:00:02\n",
      "   --------- ------------------------------ 2.3/9.9 MB 6.2 MB/s eta 0:00:02\n",
      "   ---------- ----------------------------- 2.6/9.9 MB 6.2 MB/s eta 0:00:02\n",
      "   ----------- ---------------------------- 2.8/9.9 MB 6.1 MB/s eta 0:00:02\n",
      "   ------------ --------------------------- 3.0/9.9 MB 5.9 MB/s eta 0:00:02\n",
      "   ------------ --------------------------- 3.0/9.9 MB 5.9 MB/s eta 0:00:02\n",
      "   ------------ --------------------------- 3.2/9.9 MB 5.3 MB/s eta 0:00:02\n",
      "   ------------ --------------------------- 3.2/9.9 MB 5.3 MB/s eta 0:00:02\n",
      "   -------------- ------------------------- 3.6/9.9 MB 5.2 MB/s eta 0:00:02\n",
      "   --------------- ------------------------ 3.7/9.9 MB 5.0 MB/s eta 0:00:02\n",
      "   --------------- ------------------------ 3.8/9.9 MB 4.8 MB/s eta 0:00:02\n",
      "   ----------------- ---------------------- 4.2/9.9 MB 5.0 MB/s eta 0:00:02\n",
      "   ------------------ --------------------- 4.6/9.9 MB 5.2 MB/s eta 0:00:02\n",
      "   ------------------- -------------------- 4.9/9.9 MB 5.2 MB/s eta 0:00:01\n",
      "   --------------------- ------------------ 5.3/9.9 MB 5.3 MB/s eta 0:00:01\n",
      "   --------------------- ------------------ 5.3/9.9 MB 5.2 MB/s eta 0:00:01\n",
      "   ---------------------- ----------------- 5.6/9.9 MB 5.1 MB/s eta 0:00:01\n",
      "   ---------------------- ----------------- 5.7/9.9 MB 5.0 MB/s eta 0:00:01\n",
      "   ------------------------ --------------- 6.1/9.9 MB 5.2 MB/s eta 0:00:01\n",
      "   ------------------------ --------------- 6.1/9.9 MB 5.2 MB/s eta 0:00:01\n",
      "   ------------------------- -------------- 6.4/9.9 MB 5.0 MB/s eta 0:00:01\n",
      "   --------------------------- ------------ 6.8/9.9 MB 5.2 MB/s eta 0:00:01\n",
      "   --------------------------- ------------ 6.8/9.9 MB 5.2 MB/s eta 0:00:01\n",
      "   --------------------------- ------------ 6.8/9.9 MB 4.9 MB/s eta 0:00:01\n",
      "   ----------------------------- ---------- 7.3/9.9 MB 5.0 MB/s eta 0:00:01\n",
      "   ------------------------------- -------- 7.8/9.9 MB 5.1 MB/s eta 0:00:01\n",
      "   --------------------------------- ------ 8.4/9.9 MB 5.4 MB/s eta 0:00:01\n",
      "   ----------------------------------- ---- 8.8/9.9 MB 5.5 MB/s eta 0:00:01\n",
      "   ------------------------------------ --- 8.9/9.9 MB 5.4 MB/s eta 0:00:01\n",
      "   -------------------------------------- - 9.5/9.9 MB 5.6 MB/s eta 0:00:01\n",
      "   ---------------------------------------  9.9/9.9 MB 5.7 MB/s eta 0:00:01\n",
      "   ---------------------------------------- 9.9/9.9 MB 5.6 MB/s eta 0:00:00\n",
      "Downloading certifi-2023.7.22-py3-none-any.whl (158 kB)\n",
      "   ---------------------------------------- 0.0/158.3 kB ? eta -:--:--\n",
      "   ---------------------------------------- 158.3/158.3 kB 4.8 MB/s eta 0:00:00\n",
      "Downloading trio-0.22.2-py3-none-any.whl (400 kB)\n",
      "   ---------------------------------------- 0.0/400.2 kB ? eta -:--:--\n",
      "   - -------------------------------------- 10.2/400.2 kB ? eta -:--:--\n",
      "   --------- ------------------------------ 92.2/400.2 kB 1.1 MB/s eta 0:00:01\n",
      "   ---------------------------------------- 400.2/400.2 kB 3.1 MB/s eta 0:00:00\n",
      "Downloading trio_websocket-0.11.1-py3-none-any.whl (17 kB)\n",
      "Downloading exceptiongroup-1.1.3-py3-none-any.whl (14 kB)\n",
      "Installing collected packages: outcome, h11, exceptiongroup, certifi, wsproto, trio, trio-websocket, selenium\n",
      "  Attempting uninstall: certifi\n",
      "    Found existing installation: certifi 2020.12.5\n",
      "    Uninstalling certifi-2020.12.5:\n",
      "      Successfully uninstalled certifi-2020.12.5\n",
      "Successfully installed certifi-2023.7.22 exceptiongroup-1.1.3 h11-0.14.0 outcome-1.2.0 selenium-4.14.0 trio-0.22.2 trio-websocket-0.11.1 wsproto-1.2.0\n"
     ]
    },
    {
     "name": "stderr",
     "output_type": "stream",
     "text": [
      "DEPRECATION: pyodbc 4.0.0-unsupported has a non-standard version number. pip 23.3 will enforce this behaviour change. A possible replacement is to upgrade to a newer version of pyodbc or contact the author to suggest that they release a version with a conforming version number. Discussion can be found at https://github.com/pypa/pip/issues/12063\n",
      "ERROR: pip's dependency resolver does not currently take into account all the packages that are installed. This behaviour is the source of the following dependency conflicts.\n",
      "tensorflow-intel 2.13.0 requires flatbuffers>=23.1.21, but you have flatbuffers 2.0.7 which is incompatible.\n",
      "tensorflow-intel 2.13.0 requires keras<2.14,>=2.13.1, but you have keras 2.7.0 which is incompatible.\n",
      "tensorflow-intel 2.13.0 requires numpy<=1.24.3,>=1.22, but you have numpy 1.16.6 which is incompatible.\n",
      "tensorflow-intel 2.13.0 requires protobuf!=4.21.0,!=4.21.1,!=4.21.2,!=4.21.3,!=4.21.4,!=4.21.5,<5.0.0dev,>=3.20.3, but you have protobuf 3.19.6 which is incompatible.\n",
      "tensorflow-intel 2.13.0 requires tensorflow-estimator<2.14,>=2.13.0, but you have tensorflow-estimator 2.7.0 which is incompatible.\n"
     ]
    }
   ],
   "source": [
    "# 설치하기\n",
    "!pip install selenium"
   ]
  },
  {
   "cell_type": "markdown",
   "metadata": {},
   "source": [
    "## Selenium 모듈\n",
    "- BeautifulSoup 모듈과 비슷하게 HTML 문서의 구조에 따라 접근할 수 있음\n",
    "- BeautifulSoup 에서 원하는 태그, 속성등을 가져오기 위해 단일 객체는 find(), 복수 객체는 find_all() 함수로 접근했다면 selenium에서는 태그 종류에 따라 각각 함수가 있음\n",
    "- selenium version 4.3.2 에서 사용가능 / 더 높은 버전에서는 에러남\n",
    "\n",
    "    - find_element_by_id() / find_elements_by_class_name()\n",
    "    - find_element_by_css_selector() / find_elements_by_xpath()\n",
    "    - find_element_by_class_name() / find_elements_by_tag_name()"
   ]
  },
  {
   "cell_type": "code",
   "execution_count": 19,
   "metadata": {},
   "outputs": [],
   "source": [
    "import os\n",
    "from selenium import webdriver\n",
    "\n",
    "# chromedriver.exe 경로 지정하기\n",
    "path = os.path.join(os.getcwd(), \"chromedriver.exe\")\n",
    "\n",
    "# 서비스를 생성하고 chromedriver의 경로를 지정합니다..\n",
    "service = webdriver.chrome.service.Service(path)\n",
    "\n",
    "# 지정된 서비스를 사용하여 Chrome 브라우저를 시작합니다.\n",
    "driver = webdriver.Chrome(service=service)\n",
    "\n",
    "# webdriver가 google 페이지에 접속하도록 명령\n",
    "driver.get(\"http://www.google.co.kr\")\n",
    "\n",
    "# 페이지 제목을 확인하여 Google 사이트에 접속했는지 확인하기.\n",
    "assert \"Google\" in driver.title"
   ]
  },
  {
   "cell_type": "code",
   "execution_count": 20,
   "metadata": {},
   "outputs": [],
   "source": [
    "#검색 입력 부분에 커서를 올리고\n",
    "#검색 입력 부분에 다양한 명령을 내리기 위해 elem 변수에 할당\n",
    "#elem = driver.find_element_by_name(\"q\")\n",
    "elem = driver.find_element(\"name\", \"q\")\n",
    "\n",
    "#입력 부분에 지운다-default로 값이 있을 수 있는 경우 고려\n",
    "elem.clear()\n",
    " \n",
    "#검색어 입력\n",
    "elem.send_keys(\"Selenium\")\n",
    " \n",
    "#검색 실행\n",
    "elem.submit()\n",
    " \n",
    "#검색이 제대로 됐는지 확인\n",
    "assert \"No results found.\" not in driver.page_source"
   ]
  },
  {
   "cell_type": "code",
   "execution_count": 21,
   "metadata": {},
   "outputs": [],
   "source": [
    "# webdriver를 종료하여 창이 사라진다\n",
    "driver.close()"
   ]
  },
  {
   "cell_type": "markdown",
   "metadata": {},
   "source": [
    "### 네이버 금융에서 최근 인기종목 5개 수집"
   ]
  },
  {
   "cell_type": "code",
   "execution_count": 22,
   "metadata": {},
   "outputs": [],
   "source": [
    "import os\n",
    "from selenium import webdriver\n",
    "from bs4 import BeautifulSoup\n",
    "import time"
   ]
  },
  {
   "cell_type": "code",
   "execution_count": 55,
   "metadata": {},
   "outputs": [
    {
     "name": "stdout",
     "output_type": "stream",
     "text": [
      "종목명: 모비스       , 현재가: 6,380, 전일대비: 1,465\n",
      "종목명: 에코프로      , 현재가: 856,000, 전일대비: 21,000\n",
      "종목명: 삼성전자      , 현재가: 68,200, 전일대비: 900\n",
      "종목명: 포스코DX     , 현재가: 56,100, 전일대비: 1,000\n",
      "종목명: 에코프로비엠    , 현재가: 254,000, 전일대비: 11,500\n"
     ]
    }
   ],
   "source": [
    "#     driver = webdriver.Chrome('/Users/cooju/Downloads/chromedriver')  # 여기에 실제 ChromeDriver 경로를 입력\n",
    "#     driver = webdriver.Chrome('C:/Users/cooju/Downloads/chromedriver.exe')\n",
    "#     driver = webdriver.Chrome('C:\\\\Users\\\\cooju\\\\Downloads\\\\chromedriver.exe')\n",
    "def get_stock_info():\n",
    "#     driver = webdriver.Chrome('chromedriver.exe')\n",
    "    path = os.path.join(os.getcwd(), \"chromedriver.exe\")\n",
    "    # 서비스를 생성하고 chromedriver의 경로를 지정합니다..\n",
    "    service = webdriver.chrome.service.Service(path)\n",
    "    # 지정된 서비스를 사용하여 Chrome 브라우저를 시작합니다.\n",
    "    driver = webdriver.Chrome(service=service)\n",
    "    \n",
    "    url = \"https://finance.naver.com/sise/lastsearch2.nhn\"\n",
    "    driver.get(url) # request.get 과 같은 기능 \n",
    "\n",
    "    soup = BeautifulSoup(driver.page_source, 'lxml') # 웹페이지 다 긁어오는것 \n",
    "\n",
    "    data_rows = soup.find(\"table\", attrs={\"class\":\"type_5\"}).find(\"tbody\").find_all(\"tr\")\n",
    "    \n",
    "    for idx, row in enumerate(data_rows):\n",
    "        columns = row.find_all(\"td\")\n",
    "        if len(columns) <= 1:  # 의미없는 데이터 스킵\n",
    "            continue\n",
    "        data = [column.get_text().strip() for column in columns]\n",
    "        print(f\"종목명: {data[1]:10}, 현재가: {data[3]}, 전일대비: {data[4]}\")\n",
    "        \n",
    "        if idx >= 6:  # 상위 5개만 출력\n",
    "            break\n",
    "    \n",
    "    time.sleep(1)  \n",
    "    driver.quit()\n",
    "\n",
    "get_stock_info()"
   ]
  },
  {
   "cell_type": "code",
   "execution_count": 29,
   "metadata": {},
   "outputs": [
    {
     "ename": "AttributeError",
     "evalue": "'str' object has no attribute 'capabilities'",
     "output_type": "error",
     "traceback": [
      "\u001b[1;31m---------------------------------------------------------------------------\u001b[0m",
      "\u001b[1;31mAttributeError\u001b[0m                            Traceback (most recent call last)",
      "File \u001b[1;32m~\\anaconda3\\lib\\site-packages\\selenium\\webdriver\\common\\driver_finder.py:38\u001b[0m, in \u001b[0;36mDriverFinder.get_path\u001b[1;34m(service, options)\u001b[0m\n\u001b[0;32m     37\u001b[0m \u001b[38;5;28;01mtry\u001b[39;00m:\n\u001b[1;32m---> 38\u001b[0m     path \u001b[38;5;241m=\u001b[39m \u001b[43mSeleniumManager\u001b[49m\u001b[43m(\u001b[49m\u001b[43m)\u001b[49m\u001b[38;5;241;43m.\u001b[39;49m\u001b[43mdriver_location\u001b[49m\u001b[43m(\u001b[49m\u001b[43moptions\u001b[49m\u001b[43m)\u001b[49m \u001b[38;5;28;01mif\u001b[39;00m path \u001b[38;5;129;01mis\u001b[39;00m \u001b[38;5;28;01mNone\u001b[39;00m \u001b[38;5;28;01melse\u001b[39;00m path\n\u001b[0;32m     39\u001b[0m \u001b[38;5;28;01mexcept\u001b[39;00m \u001b[38;5;167;01mException\u001b[39;00m \u001b[38;5;28;01mas\u001b[39;00m err:\n",
      "File \u001b[1;32m~\\anaconda3\\lib\\site-packages\\selenium\\webdriver\\common\\selenium_manager.py:79\u001b[0m, in \u001b[0;36mSeleniumManager.driver_location\u001b[1;34m(self, options)\u001b[0m\n\u001b[0;32m     72\u001b[0m \u001b[38;5;250m\u001b[39m\u001b[38;5;124;03m\"\"\"Determines the path of the correct driver.\u001b[39;00m\n\u001b[0;32m     73\u001b[0m \n\u001b[0;32m     74\u001b[0m \u001b[38;5;124;03m:Args:\u001b[39;00m\n\u001b[0;32m     75\u001b[0m \u001b[38;5;124;03m - browser: which browser to get the driver path for.\u001b[39;00m\n\u001b[0;32m     76\u001b[0m \u001b[38;5;124;03m:Returns: The driver path to use\u001b[39;00m\n\u001b[0;32m     77\u001b[0m \u001b[38;5;124;03m\"\"\"\u001b[39;00m\n\u001b[1;32m---> 79\u001b[0m browser \u001b[38;5;241m=\u001b[39m \u001b[43moptions\u001b[49m\u001b[38;5;241;43m.\u001b[39;49m\u001b[43mcapabilities\u001b[49m[\u001b[38;5;124m\"\u001b[39m\u001b[38;5;124mbrowserName\u001b[39m\u001b[38;5;124m\"\u001b[39m]\n\u001b[0;32m     81\u001b[0m args \u001b[38;5;241m=\u001b[39m [\u001b[38;5;28mstr\u001b[39m(\u001b[38;5;28mself\u001b[39m\u001b[38;5;241m.\u001b[39mget_binary()), \u001b[38;5;124m\"\u001b[39m\u001b[38;5;124m--browser\u001b[39m\u001b[38;5;124m\"\u001b[39m, browser]\n",
      "\u001b[1;31mAttributeError\u001b[0m: 'str' object has no attribute 'capabilities'",
      "\nDuring handling of the above exception, another exception occurred:\n",
      "\u001b[1;31mAttributeError\u001b[0m                            Traceback (most recent call last)",
      "Cell \u001b[1;32mIn[29], line 25\u001b[0m\n\u001b[0;32m     22\u001b[0m     time\u001b[38;5;241m.\u001b[39msleep(\u001b[38;5;241m1\u001b[39m)\n\u001b[0;32m     23\u001b[0m     driver\u001b[38;5;241m.\u001b[39mquit()\n\u001b[1;32m---> 25\u001b[0m \u001b[43mget_stock_info\u001b[49m\u001b[43m(\u001b[49m\u001b[43m)\u001b[49m\n",
      "Cell \u001b[1;32mIn[29], line 3\u001b[0m, in \u001b[0;36mget_stock_info\u001b[1;34m()\u001b[0m\n\u001b[0;32m      1\u001b[0m \u001b[38;5;28;01mdef\u001b[39;00m \u001b[38;5;21mget_stock_info\u001b[39m():\n\u001b[0;32m      2\u001b[0m     \u001b[38;5;66;03m# ChromeDriver 실행 파일의 경로를 지정합니다.\u001b[39;00m\n\u001b[1;32m----> 3\u001b[0m     driver \u001b[38;5;241m=\u001b[39m \u001b[43mwebdriver\u001b[49m\u001b[38;5;241;43m.\u001b[39;49m\u001b[43mChrome\u001b[49m\u001b[43m(\u001b[49m\u001b[38;5;124;43m'\u001b[39;49m\u001b[38;5;124;43mchromedriver.exe\u001b[39;49m\u001b[38;5;124;43m'\u001b[39;49m\u001b[43m)\u001b[49m  \u001b[38;5;66;03m# chromedriver.exe 파일의 경로를 지정해야 합니다.\u001b[39;00m\n\u001b[0;32m      5\u001b[0m     url \u001b[38;5;241m=\u001b[39m \u001b[38;5;124m\"\u001b[39m\u001b[38;5;124mhttps://finance.naver.com/sise/lastsearch2.nhn\u001b[39m\u001b[38;5;124m\"\u001b[39m\n\u001b[0;32m      6\u001b[0m     driver\u001b[38;5;241m.\u001b[39mget(url)\n",
      "File \u001b[1;32m~\\anaconda3\\lib\\site-packages\\selenium\\webdriver\\chrome\\webdriver.py:45\u001b[0m, in \u001b[0;36mWebDriver.__init__\u001b[1;34m(self, options, service, keep_alive)\u001b[0m\n\u001b[0;32m     42\u001b[0m service \u001b[38;5;241m=\u001b[39m service \u001b[38;5;28;01mif\u001b[39;00m service \u001b[38;5;28;01melse\u001b[39;00m Service()\n\u001b[0;32m     43\u001b[0m options \u001b[38;5;241m=\u001b[39m options \u001b[38;5;28;01mif\u001b[39;00m options \u001b[38;5;28;01melse\u001b[39;00m Options()\n\u001b[1;32m---> 45\u001b[0m \u001b[38;5;28;43msuper\u001b[39;49m\u001b[43m(\u001b[49m\u001b[43m)\u001b[49m\u001b[38;5;241;43m.\u001b[39;49m\u001b[38;5;21;43m__init__\u001b[39;49m\u001b[43m(\u001b[49m\n\u001b[0;32m     46\u001b[0m \u001b[43m    \u001b[49m\u001b[43mDesiredCapabilities\u001b[49m\u001b[38;5;241;43m.\u001b[39;49m\u001b[43mCHROME\u001b[49m\u001b[43m[\u001b[49m\u001b[38;5;124;43m\"\u001b[39;49m\u001b[38;5;124;43mbrowserName\u001b[39;49m\u001b[38;5;124;43m\"\u001b[39;49m\u001b[43m]\u001b[49m\u001b[43m,\u001b[49m\n\u001b[0;32m     47\u001b[0m \u001b[43m    \u001b[49m\u001b[38;5;124;43m\"\u001b[39;49m\u001b[38;5;124;43mgoog\u001b[39;49m\u001b[38;5;124;43m\"\u001b[39;49m\u001b[43m,\u001b[49m\n\u001b[0;32m     48\u001b[0m \u001b[43m    \u001b[49m\u001b[43moptions\u001b[49m\u001b[43m,\u001b[49m\n\u001b[0;32m     49\u001b[0m \u001b[43m    \u001b[49m\u001b[43mservice\u001b[49m\u001b[43m,\u001b[49m\n\u001b[0;32m     50\u001b[0m \u001b[43m    \u001b[49m\u001b[43mkeep_alive\u001b[49m\u001b[43m,\u001b[49m\n\u001b[0;32m     51\u001b[0m \u001b[43m\u001b[49m\u001b[43m)\u001b[49m\n",
      "File \u001b[1;32m~\\anaconda3\\lib\\site-packages\\selenium\\webdriver\\chromium\\webdriver.py:51\u001b[0m, in \u001b[0;36mChromiumDriver.__init__\u001b[1;34m(self, browser_name, vendor_prefix, options, service, keep_alive)\u001b[0m\n\u001b[0;32m     47\u001b[0m \u001b[38;5;28mself\u001b[39m\u001b[38;5;241m.\u001b[39mvendor_prefix \u001b[38;5;241m=\u001b[39m vendor_prefix\n\u001b[0;32m     49\u001b[0m \u001b[38;5;28mself\u001b[39m\u001b[38;5;241m.\u001b[39mservice \u001b[38;5;241m=\u001b[39m service\n\u001b[1;32m---> 51\u001b[0m \u001b[38;5;28mself\u001b[39m\u001b[38;5;241m.\u001b[39mservice\u001b[38;5;241m.\u001b[39mpath \u001b[38;5;241m=\u001b[39m \u001b[43mDriverFinder\u001b[49m\u001b[38;5;241;43m.\u001b[39;49m\u001b[43mget_path\u001b[49m\u001b[43m(\u001b[49m\u001b[38;5;28;43mself\u001b[39;49m\u001b[38;5;241;43m.\u001b[39;49m\u001b[43mservice\u001b[49m\u001b[43m,\u001b[49m\u001b[43m \u001b[49m\u001b[43moptions\u001b[49m\u001b[43m)\u001b[49m\n\u001b[0;32m     53\u001b[0m \u001b[38;5;28mself\u001b[39m\u001b[38;5;241m.\u001b[39mservice\u001b[38;5;241m.\u001b[39mstart()\n\u001b[0;32m     55\u001b[0m \u001b[38;5;28;01mtry\u001b[39;00m:\n",
      "File \u001b[1;32m~\\anaconda3\\lib\\site-packages\\selenium\\webdriver\\common\\driver_finder.py:40\u001b[0m, in \u001b[0;36mDriverFinder.get_path\u001b[1;34m(service, options)\u001b[0m\n\u001b[0;32m     38\u001b[0m     path \u001b[38;5;241m=\u001b[39m SeleniumManager()\u001b[38;5;241m.\u001b[39mdriver_location(options) \u001b[38;5;28;01mif\u001b[39;00m path \u001b[38;5;129;01mis\u001b[39;00m \u001b[38;5;28;01mNone\u001b[39;00m \u001b[38;5;28;01melse\u001b[39;00m path\n\u001b[0;32m     39\u001b[0m \u001b[38;5;28;01mexcept\u001b[39;00m \u001b[38;5;167;01mException\u001b[39;00m \u001b[38;5;28;01mas\u001b[39;00m err:\n\u001b[1;32m---> 40\u001b[0m     msg \u001b[38;5;241m=\u001b[39m \u001b[38;5;124mf\u001b[39m\u001b[38;5;124m\"\u001b[39m\u001b[38;5;124mUnable to obtain driver for \u001b[39m\u001b[38;5;132;01m{\u001b[39;00moptions\u001b[38;5;241m.\u001b[39mcapabilities[\u001b[38;5;124m'\u001b[39m\u001b[38;5;124mbrowserName\u001b[39m\u001b[38;5;124m'\u001b[39m]\u001b[38;5;132;01m}\u001b[39;00m\u001b[38;5;124m using Selenium Manager.\u001b[39m\u001b[38;5;124m\"\u001b[39m\n\u001b[0;32m     41\u001b[0m     \u001b[38;5;28;01mraise\u001b[39;00m NoSuchDriverException(msg) \u001b[38;5;28;01mfrom\u001b[39;00m \u001b[38;5;21;01merr\u001b[39;00m\n\u001b[0;32m     43\u001b[0m \u001b[38;5;28;01mif\u001b[39;00m path \u001b[38;5;129;01mis\u001b[39;00m \u001b[38;5;28;01mNone\u001b[39;00m \u001b[38;5;129;01mor\u001b[39;00m \u001b[38;5;129;01mnot\u001b[39;00m Path(path)\u001b[38;5;241m.\u001b[39mis_file():\n",
      "\u001b[1;31mAttributeError\u001b[0m: 'str' object has no attribute 'capabilities'"
     ]
    }
   ],
   "source": [
    "def get_stock_info():\n",
    "    # ChromeDriver 실행 파일의 경로를 지정합니다.\n",
    "    driver = webdriver.Chrome('chromedriver.exe')  # chromedriver.exe 파일의 경로를 지정해야 합니다.\n",
    "\n",
    "    url = \"https://finance.naver.com/sise/lastsearch2.nhn\"\n",
    "    driver.get(url)\n",
    "\n",
    "    soup = BeautifulSoup(driver.page_source, 'lxml')\n",
    "\n",
    "    data_rows = soup.find(\"table\", attrs={\"class\": \"type_5\"}).find(\"tbody\").find_all(\"tr\")\n",
    "\n",
    "    for idx, row in enumerate(data_rows):\n",
    "        columns = row.find_all(\"td\")\n",
    "        if len(columns) <= 1:\n",
    "            continue\n",
    "        data = [column.get_text().strip() for column in columns]\n",
    "        print(f\"종목명: {data[1]:10}, 현재가: {data[3]}, 전일대비: {data[4]}\")\n",
    "\n",
    "        if idx >= 6:\n",
    "            break\n",
    "\n",
    "    time.sleep(1)\n",
    "    driver.quit()\n",
    "\n",
    "get_stock_info()"
   ]
  },
  {
   "cell_type": "code",
   "execution_count": 39,
   "metadata": {},
   "outputs": [
    {
     "name": "stdout",
     "output_type": "stream",
     "text": [
      "4.14.0\n"
     ]
    }
   ],
   "source": [
    "import selenium\n",
    "print(selenium.__version__)"
   ]
  },
  {
   "cell_type": "markdown",
   "metadata": {},
   "source": [
    "## Selenium+BeautifulSoup 응용 - 폼 양식 전송 실습\n",
    "- selenium + Web driver 를 활용하여 버튼을 클릭하거나 자바스크립트 삽입 등 특정 조건이 충족되어야만 접근 가능한 데이터를 모듈을 활용하여 가져올 수 있음\n",
    "\n",
    "### Step1 : selenium을 활용한 naver 로그인 및 메일 탭 클릭\n",
    "- 활성 탭 전환하기 : https://devyurim.github.io/python/crawler/2018/08/13/crawler-3.html"
   ]
  },
  {
   "cell_type": "code",
   "execution_count": 49,
   "metadata": {},
   "outputs": [],
   "source": [
    "from selenium import webdriver\n",
    "from selenium.webdriver.common.by import By\n",
    "from bs4 import BeautifulSoup\n",
    "import time\n",
    "import os\n",
    "\n",
    "#chromedriver.exe 경로 지정하기\n",
    "path = os.path.join(os.getcwd(), \"chromedriver.exe\")\n",
    "# 서비스를 생성하고 chromedriver의 경로를 지정합니다..\n",
    "service = webdriver.chrome.service.Service(path)\n",
    "# # 지정된 서비스를 사용하여 Chrome 브라우저를 시작합니다.\n",
    "driver = webdriver.Chrome(service=service)\n",
    "#driver = webdriver.Chrome(path)  # 여기에 실제 ChromeDriver 경로를 입력\n",
    "\n",
    "url = \"https://www.naver.com\"\n",
    "driver.get(url)\n",
    "\n",
    "element = driver.find_element(By.CLASS_NAME,'MyView-module__link_login___HpHMW')\n",
    "\n",
    "element.click()"
   ]
  },
  {
   "cell_type": "code",
   "execution_count": 50,
   "metadata": {},
   "outputs": [],
   "source": [
    "# 네이버 ID/PWD 입력\n",
    "id = 'isgs003'\n",
    "pw = 'Smh213417!'"
   ]
  },
  {
   "cell_type": "code",
   "execution_count": 51,
   "metadata": {},
   "outputs": [],
   "source": [
    "# 로그인 시 자동입력방지하기 위한 Captchar프로그램 실행을 방지하기 위해 직접 아이디와 패스워드값을 프로그램에 입력하는 것이 좋음\n",
    "driver.execute_script(\"document.getElementById('id').value=\\'\" + id + \"\\'\")\n",
    "# element = driver.find_element(By.ID, \"id\")\n",
    "# element.send_keys(id)\n",
    "time.sleep(1)\n",
    "# element = driver.find_element(By.ID, \"pw\")\n",
    "# element.send_keys(pw)\n",
    "driver.execute_script(\"document.getElementById('pw').value=\\'\" + pw + \"\\'\")\n",
    "time.sleep(1)\n",
    "element = driver.find_element(By.CLASS_NAME,'btn_text')\n",
    "element.click()\n",
    "time.sleep(1)\n"
   ]
  },
  {
   "cell_type": "code",
   "execution_count": 52,
   "metadata": {},
   "outputs": [],
   "source": [
    "element = driver.find_element(By.CLASS_NAME,'service_icon.type_mail')\n",
    "element.click()"
   ]
  },
  {
   "cell_type": "code",
   "execution_count": 53,
   "metadata": {},
   "outputs": [],
   "source": [
    "# 최근 열린 탭으로 전환\n",
    "driver.switch_to.window(driver.window_handles[-1])\n",
    "\n",
    "# 로딩 기다리기\n",
    "time.sleep(5)"
   ]
  },
  {
   "cell_type": "markdown",
   "metadata": {},
   "source": [
    "### Step2 : 메일함 페이지 소스 가져오기"
   ]
  },
  {
   "cell_type": "code",
   "execution_count": 54,
   "metadata": {},
   "outputs": [
    {
     "name": "stdout",
     "output_type": "stream",
     "text": [
      "1\n",
      "보낸 사람 :  메일 본문 미리보기 열기\n",
      "메일 제목 :  [DailyRecipe] 코리아스타트업포럼이 추천한 ‘성장 예감 스타트업 30’ - 2023.10.17.[DailyRecipe] 코리아스타트업포럼이 추천한 ‘성장 예감 스타트업 30’ - 2023.10.17.\n",
      "2\n",
      "보낸 사람 :  메일 본문 미리보기 열기\n",
      "메일 제목 :  ⚡10월 3주 | CX 트렌드 리포트 2023⚡10월 3주 | CX 트렌드 리포트 2023\n",
      "3\n",
      "보낸 사람 :  메일 본문 미리보기 열기\n",
      "메일 제목 :  [StartupRecipe] 3분기 투자 선방…하반기 청신호? - 2023.10.16.[StartupRecipe] 3분기 투자 선방…하반기 청신호? - 2023.10.16.\n",
      "4\n",
      "보낸 사람 :  메일 본문 미리보기 열기\n",
      "메일 제목 :  [DailyRecipe] “스타트업 3천개 육성” 경기도가 내건 전략은? - 2023.10.14.[DailyRecipe] “스타트업 3천개 육성” 경기도가 내건 전략은? - 2023.10.14.\n",
      "5\n",
      "보낸 사람 :  메일 본문 미리보기 열기\n",
      "메일 제목 :  [DailyRecipe] 오일머니 유치 나서는 스타트업 10곳 - 2023.10.13.[DailyRecipe] 오일머니 유치 나서는 스타트업 10곳 - 2023.10.13.\n",
      "6\n",
      "보낸 사람 :  메일 본문 미리보기 열기\n",
      "메일 제목 :  [DailyRecipe] M&A 가장 많은 벤처 업종은 바로 이곳 - 2023.10.12.[DailyRecipe] M&A 가장 많은 벤처 업종은 바로 이곳 - 2023.10.12.\n",
      "7\n",
      "보낸 사람 :  메일 본문 미리보기 열기\n",
      "메일 제목 :  [DailyRecipe] 국내 최대 창업경진대회 왕중왕전 참여 기업 30곳 - 2023.10.11.[DailyRecipe] 국내 최대 창업경진대회 왕중왕전 참여 기업 30곳 - 2023.10.11.\n",
      "8\n",
      "보낸 사람 :  메일 본문 미리보기 열기\n",
      "메일 제목 :  SK Telecom 2023년 10월 요금안내서(010-49**-69**,6175805019,신**호)SK Telecom 2023년 10월 요금안내서(010-49**-69**,6175805019,신**호)\n",
      "9\n",
      "보낸 사람 :  메일 본문 미리보기 열기\n",
      "메일 제목 :  [StartupRecipe] 디지털헬스케어…맞춤형·진단 서비스 주목하라 - 2023.10.10.[StartupRecipe] 디지털헬스케어…맞춤형·진단 서비스 주목하라 - 2023.10.10.\n",
      "10\n",
      "보낸 사람 :  메일 본문 미리보기 열기\n",
      "메일 제목 :  네이버페이 고객확인제도 정책에 따른 이행 안내입니다네이버페이 고객확인제도 정책에 따른 이행 안내입니다\n",
      "11\n",
      "보낸 사람 :  메일 본문 미리보기 열기\n",
      "메일 제목 :  [DailyRecipe] 인재육성형 중소기업 327개는 누구? - 2023.10.07.[DailyRecipe] 인재육성형 중소기업 327개는 누구? - 2023.10.07.\n",
      "12\n",
      "보낸 사람 :  메일 본문 미리보기 열기\n",
      "메일 제목 :  [DailyRecipe] 벤처투자 활력 촉진…”중소 VC에 이 혜택 준다” - 2023.10.06.[DailyRecipe] 벤처투자 활력 촉진…”중소 VC에 이 혜택 준다” - 2023.10.06.\n",
      "13\n",
      "보낸 사람 :  메일 본문 미리보기 열기\n",
      "메일 제목 :  2023-102023-10\n",
      "14\n",
      "보낸 사람 :  메일 본문 미리보기 열기\n",
      "메일 제목 :  [DailyRecipe] 핀테크가 바꾸는 삶…서울핀테크위크 열린다 - 2023.10.05.[DailyRecipe] 핀테크가 바꾸는 삶…서울핀테크위크 열린다 - 2023.10.05.\n",
      "15\n",
      "보낸 사람 :  메일 본문 미리보기 열기\n",
      "메일 제목 :  [StartupRecipe] 올해 푸드테크 시장…투자 몰린 세부 분야는? - 2023.10.04.[StartupRecipe] 올해 푸드테크 시장…투자 몰린 세부 분야는? - 2023.10.04.\n"
     ]
    }
   ],
   "source": [
    "from bs4 import BeautifulSoup\n",
    "\n",
    "page_source = driver.page_source\n",
    "soup = BeautifulSoup(page_source, 'html.parser')\n",
    "\n",
    "mail_list = soup.select('div.mail_title')\n",
    "mail_sender = soup.select('div.mail_sender')\n",
    "\n",
    "cnt = 1\n",
    "for i in mail_list:\n",
    "    print(cnt)\n",
    "    print('보낸 사람 : ', i.select_one('button').text)\n",
    "    print('메일 제목 : ', i.select_one('a').text)\n",
    "    cnt += 1"
   ]
  },
  {
   "cell_type": "code",
   "execution_count": null,
   "metadata": {},
   "outputs": [],
   "source": []
  }
 ],
 "metadata": {
  "kernelspec": {
   "display_name": "Python 3 (ipykernel)",
   "language": "python",
   "name": "python3"
  },
  "language_info": {
   "codemirror_mode": {
    "name": "ipython",
    "version": 3
   },
   "file_extension": ".py",
   "mimetype": "text/x-python",
   "name": "python",
   "nbconvert_exporter": "python",
   "pygments_lexer": "ipython3",
   "version": "3.8.8"
  }
 },
 "nbformat": 4,
 "nbformat_minor": 4
}
