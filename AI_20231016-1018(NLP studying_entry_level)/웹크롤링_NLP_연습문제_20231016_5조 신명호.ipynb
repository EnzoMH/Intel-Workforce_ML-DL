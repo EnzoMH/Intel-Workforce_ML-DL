{
 "cells": [
  {
   "cell_type": "code",
   "execution_count": 1,
   "id": "6933e879",
   "metadata": {},
   "outputs": [
    {
     "ename": "ModuleNotFoundError",
     "evalue": "No module named 'selenium'",
     "output_type": "error",
     "traceback": [
      "\u001b[1;31m---------------------------------------------------------------------------\u001b[0m",
      "\u001b[1;31mModuleNotFoundError\u001b[0m                       Traceback (most recent call last)",
      "Cell \u001b[1;32mIn[1], line 4\u001b[0m\n\u001b[0;32m      2\u001b[0m \u001b[38;5;28;01mimport\u001b[39;00m \u001b[38;5;21;01mos\u001b[39;00m\n\u001b[0;32m      3\u001b[0m \u001b[38;5;28;01mimport\u001b[39;00m \u001b[38;5;21;01mtime\u001b[39;00m\n\u001b[1;32m----> 4\u001b[0m \u001b[38;5;28;01mfrom\u001b[39;00m \u001b[38;5;21;01mselenium\u001b[39;00m \u001b[38;5;28;01mimport\u001b[39;00m webdriver\n\u001b[0;32m      5\u001b[0m \u001b[38;5;28;01mfrom\u001b[39;00m \u001b[38;5;21;01mbs4\u001b[39;00m \u001b[38;5;28;01mimport\u001b[39;00m BeautifulSoup\n\u001b[0;32m      6\u001b[0m \u001b[38;5;28;01mfrom\u001b[39;00m \u001b[38;5;21;01murllib\u001b[39;00m\u001b[38;5;21;01m.\u001b[39;00m\u001b[38;5;21;01mparse\u001b[39;00m \u001b[38;5;28;01mimport\u001b[39;00m quote_plus\n",
      "\u001b[1;31mModuleNotFoundError\u001b[0m: No module named 'selenium'"
     ]
    }
   ],
   "source": [
    "import requests\n",
    "import os\n",
    "import time\n",
    "from selenium import webdriver\n",
    "from bs4 import BeautifulSoup\n",
    "from urllib.parse import quote_plus\n",
    "\n",
    "# Selenium 웹 드라이버 설정 (크롬 드라이버 사용)\n",
    "driver = webdriver.Chrome()\n",
    "url = \"https://news.naver.com/main/main.naver?mode=LSD&mid=shm&sid1=102\"\n",
    "driver.get(url)\n",
    "# 페이지 로딩 대기\n",
    "time.sleep(2)\n",
    "html = driver.page_source\n",
    "soup = BeautifulSoup(html, 'html.parser')\n",
    "content = []\n",
    "for i, text in enumerate(soup.select(\".sh_text\")):\n",
    "    if i < 5:\n",
    "        content.append(text.select_one('a').get_text())\n",
    "#headlines = soup.find_all('div', {'class':'sh_text'})\n",
    "#print(headlines)\n",
    "\n",
    "# 브라우저 닫기\n",
    "driver.quit()\n",
    "\n",
    "with open(\"newsnews.txt\", 'w') as f:\n",
    "  f.write(\"뉴스 5개 모음\\n\\n\")\n",
    "  for i in range(len(content)):\n",
    "    f.writelines(content[i]+\"\\n\")"
   ]
  },
  {
   "cell_type": "code",
   "execution_count": 6,
   "id": "0162d1b7",
   "metadata": {},
   "outputs": [],
   "source": [
    "import requests\n",
    "from bs4 import BeautifulSoup"
   ]
  },
  {
   "cell_type": "code",
   "execution_count": 9,
   "id": "a44086e2",
   "metadata": {},
   "outputs": [],
   "source": [
    "requests.packages.urllib3.disable_warnings()\n",
    "url = 'https://news.naver.com/main/main.naver?mode=LSD&mid=shm&sid1=102'\n",
    "response = requests.get(url, verify=False)  # verify=False를 사용하여 SSL 인증서 검사를 비활성화\n",
    "soup = BeautifulSoup(response.text, 'html.parser')"
   ]
  },
  {
   "cell_type": "code",
   "execution_count": 11,
   "id": "8614d110",
   "metadata": {},
   "outputs": [],
   "source": [
    "tit_areas = soup.find_all('div', class_='sh_text')\n",
    "for area in tit_areas:\n",
    "    headline = area.find('a', class_='sh_text_headline').text.strip()\n",
    "    lede = area.find('div', class_='sh_text_lede').text.strip()\n",
    "    print(\"headline:\", headline)\n",
    "    print(\"lede:\", lede)"
   ]
  },
  {
   "cell_type": "code",
   "execution_count": null,
   "id": "bed642a5",
   "metadata": {},
   "outputs": [],
   "source": []
  }
 ],
 "metadata": {
  "kernelspec": {
   "display_name": "Python 3 (ipykernel)",
   "language": "python",
   "name": "python3"
  },
  "language_info": {
   "codemirror_mode": {
    "name": "ipython",
    "version": 3
   },
   "file_extension": ".py",
   "mimetype": "text/x-python",
   "name": "python",
   "nbconvert_exporter": "python",
   "pygments_lexer": "ipython3",
   "version": "3.8.8"
  }
 },
 "nbformat": 4,
 "nbformat_minor": 5
}
