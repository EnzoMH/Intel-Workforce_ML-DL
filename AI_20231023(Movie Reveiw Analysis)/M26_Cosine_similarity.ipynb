{
 "cells": [
  {
   "cell_type": "markdown",
   "id": "c6353157-e0a2-4c6c-9248-163647f6e1d8",
   "metadata": {},
   "source": [
    "### @khs note - 코사인 유사도\n",
    "\n",
    "- 벡터와 벡터간의 유사도를 비교할 때 두 벡터간의 사잇각을 구해서 얼마나 유사한지 수치로 나타내는 것임\n",
    "- 벡터 값의 관계\n",
    "    - 벡터 방향이 반대가 될수록 반대 관계\n",
    "    - 벡터 방향이 90도 일때는 관련성 없음\n",
    "    - 벡터 방향이 비슷할 수록 두 벡터는 유사\n",
    "\n",
    "<img src='./images/CosineS.png'>\n",
    "\n",
    "    - 피처 벡터 행렬은 음수값이 없으므로 유사도가 음수가 되지는 않아 코사인 유사도는 0~1 사이 값을 갖음\n",
    "\n",
    "- <img src='./images/ABVector.png'>\n",
    "- <img src='./images/Similarity.png'>  "
   ]
  },
  {
   "cell_type": "code",
   "execution_count": 12,
   "id": "74784a5a-529a-4133-9d9d-8dfd39419ad7",
   "metadata": {},
   "outputs": [
    {
     "name": "stdout",
     "output_type": "stream",
     "text": [
      "doc1 과 doc2의 유사도 : 0.67\n",
      "doc1 과 doc3의 유사도 : 0.67\n",
      "doc2 와 doc3의 유사도 : 1.0\n"
     ]
    }
   ],
   "source": [
    "# 유사도 이해하기 - 예시1\n",
    "import numpy as np\n",
    "from numpy import dot\n",
    "from numpy.linalg import norm\n",
    "\n",
    "'''\n",
    "doc1 : 저는 사과 좋아요           \n",
    "doc2 : 저는 바나나 좋아요\n",
    "doc3 : 저는 바나나 좋아요 저는 바나나 좋아요\n",
    "\n",
    "doc matrix : 바나나 사과 저는 좋아요 \n",
    "- 길이가 비슷한 경우 유사도 높을 수 있지만 cosine 유사도를 사용하여 해결\n",
    "'''\n",
    "\n",
    "doc1 = np.array([0,1,1,1])\n",
    "doc2 = np.array([1,0,1,1])\n",
    "doc3 = np.array([2,0,2,2])\n",
    "\n",
    "def cos_sim(A, B):\n",
    "  return dot(A, B)/(norm(A)*norm(B))\n",
    "\n",
    "print('doc1 과 doc2의 유사도 :',cos_sim(doc1, doc2).round(2))\n",
    "print('doc1 과 doc3의 유사도 :',cos_sim(doc1, doc3).round(2))\n",
    "print('doc2 와 doc3의 유사도 :',cos_sim(doc2, doc3).round(2))"
   ]
  },
  {
   "cell_type": "markdown",
   "id": "939988fa",
   "metadata": {},
   "source": [
    "▲ 결과 이해\n",
    "- doc1 과 doc2의 코사인 유사도 와 doc1과 doc3의 코사인 유사도가 같다\n",
    "- doc2 와 doc2의 코사인 유사도가 1 이다"
   ]
  },
  {
   "cell_type": "code",
   "execution_count": 13,
   "id": "27241c19-2a2b-43f2-ad61-148163449579",
   "metadata": {},
   "outputs": [
    {
     "name": "stdout",
     "output_type": "stream",
     "text": [
      "(3, 18)\n",
      "<class 'scipy.sparse.csr.csr_matrix'>\n",
      "  (0, 2)\t0.41556360057939173\n",
      "  (0, 13)\t0.41556360057939173\n",
      "  (0, 8)\t0.24543855687841593\n",
      "  (0, 0)\t0.41556360057939173\n",
      "  (0, 15)\t0.49087711375683185\n",
      "  (0, 14)\t0.24543855687841593\n",
      "  (0, 17)\t0.24543855687841593\n",
      "  (0, 6)\t0.24543855687841593\n",
      "  (1, 16)\t0.39624495215024286\n",
      "  (1, 7)\t0.39624495215024286\n",
      "  (1, 12)\t0.39624495215024286\n",
      "  (1, 10)\t0.3013544995034864\n",
      "  (1, 8)\t0.2340286519091622\n",
      "  (1, 15)\t0.2340286519091622\n",
      "  (1, 14)\t0.2340286519091622\n",
      "  (1, 17)\t0.4680573038183244\n",
      "  (1, 6)\t0.2340286519091622\n",
      "  (2, 3)\t0.3098560092999078\n",
      "  (2, 4)\t0.3098560092999078\n",
      "  (2, 9)\t0.3098560092999078\n",
      "  (2, 1)\t0.3098560092999078\n",
      "  (2, 5)\t0.3098560092999078\n",
      "  (2, 11)\t0.3098560092999078\n",
      "  (2, 10)\t0.23565348175165166\n",
      "  (2, 8)\t0.1830059506093466\n",
      "  (2, 15)\t0.3660119012186932\n",
      "  (2, 14)\t0.1830059506093466\n",
      "  (2, 17)\t0.3660119012186932\n",
      "  (2, 6)\t0.1830059506093466\n",
      "doc1, doc2 코사인 유사도: 0.402\n",
      "doc1, doc3 코사인 유사도: 0.404\n",
      "doc2, doc3 코사인 유사도: 0.456\n"
     ]
    }
   ],
   "source": [
    "# 유사도 사용하기 - 예시2\n",
    "import numpy as np\n",
    "\n",
    "# 코사인 유사도 함수 정의\n",
    "def cos_similarity(v1, v2):    \n",
    "    dot_product = np.dot(v1, v2)        \n",
    "    l2_norm = (np.sqrt(sum(np.square(v1))) * np.sqrt(sum(np.square(v2))))         \n",
    "    similarity = dot_product / l2_norm                   \n",
    "                              \n",
    "    return similarity  \n",
    "\n",
    "# Tfidf 구하기\n",
    "from sklearn.feature_extraction.text import TfidfVectorizer\n",
    "\n",
    "doc_list = ['if you take the blue pill, the story ends' ,\n",
    "            'if you take the red pill, you stay in Wonderland',\n",
    "            'if you take the red pill, I show you how deep the rabbit hole goes']\n",
    "\n",
    "tfidf_vect_simple = TfidfVectorizer()\n",
    "feature_vect_simple = tfidf_vect_simple.fit_transform(doc_list)\n",
    "\n",
    "print(feature_vect_simple.shape)\n",
    "print(type(feature_vect_simple))\n",
    "print(feature_vect_simple)\n",
    "\n",
    "# TFidfVectorizer로 transform()한 결과는 Sparse Matrix이므로 Dense Matrix로 변환. \n",
    "feature_vect_dense = feature_vect_simple.todense()\n",
    "\n",
    "#첫번째, 두번째, 세번째 문장 feature vector 추출\n",
    "vect1 = np.array(feature_vect_dense[0]).reshape(-1,)\n",
    "vect2 = np.array(feature_vect_dense[1]).reshape(-1,)\n",
    "vect3 = np.array(feature_vect_dense[2]).reshape(-1,)\n",
    "\n",
    "#첫번째 문장과 두번째 문장의 feature vector로 두개 문장의 Cosine 유사도 추출\n",
    "similarity_simple1 = cos_similarity(vect1, vect2)\n",
    "similarity_simple2 = cos_similarity(vect1, vect3)\n",
    "similarity_simple3 = cos_similarity(vect2, vect3)\n",
    "print('doc1, doc2 코사인 유사도: {0:.3f}'.format(similarity_simple1))\n",
    "print('doc1, doc3 코사인 유사도: {0:.3f}'.format(similarity_simple2))\n",
    "print('doc2, doc3 코사인 유사도: {0:.3f}'.format(similarity_simple3))"
   ]
  },
  {
   "cell_type": "markdown",
   "id": "42995571-0f1e-4df1-933f-8d3df6404bf9",
   "metadata": {},
   "source": [
    "▲ 결과해석\n",
    "\n",
    "1. to_dense : 희소행렬(Sparse Matrix)로 나타냄\n",
    "- . `TfidfVectorizer`가 반환하는 행렬은 대부분의 값이 0이므로, 효율적인 메모리 사용을 위해 0이 아닌 값 저장하여 출력니다:\n",
    "- **(0, 2) 0.4155636005791`(문서 인덱스, 단어 인덱스) TF-IDF 값`의 형태     73**: \n",
    "  - 첫 번째 문서(인덱스 0)의 단어 인덱스 2에 해당하는 단어의 TF-IDF 값은 약\n",
    "  - 값이 클수록 해당 단어가 해당 문서에 더 중요\n",
    "\n",
    "2. reshape(-1,) \n",
    "- 2차원 행렬 형태로 되어 있는 첫 번째 문서의 벡터 표현을 1차원 배열 형태로 평탄화(flatten) : 변환된 1차원 배열은 다양한 연산이나 함수에 더 적합하게 사용연산을 가능하게 합니다."
   ]
  },
  {
   "cell_type": "code",
   "execution_count": 14,
   "id": "9c80382f-2164-46c8-ba5f-90715421f3d3",
   "metadata": {},
   "outputs": [
    {
     "name": "stdout",
     "output_type": "stream",
     "text": [
      "[[1.         0.40207758 0.40425045]\n",
      " [0.40207758 1.         0.45647296]\n",
      " [0.40425045 0.45647296 1.        ]]\n"
     ]
    }
   ],
   "source": [
    "# 유사도 사용하기 - 예시3\n",
    "from sklearn.metrics.pairwise import cosine_similarity\n",
    "\n",
    "similarity_simple_pair = cosine_similarity(feature_vect_simple , feature_vect_simple)\n",
    "print(similarity_simple_pair)"
   ]
  },
  {
   "cell_type": "markdown",
   "id": "b09033ca-20d1-492f-bfa6-506e84a6e26c",
   "metadata": {},
   "source": [
    "▲ 결과해석\n",
    "sklearn.metrics.pairwise.cosine_similarity는 희소 행렬을 직접 지원하므로 todense() 변환 없이도 사용할 수 있음"
   ]
  },
  {
   "cell_type": "markdown",
   "id": "3d49e702-2b59-4e52-9a05-c7bfd58e71d4",
   "metadata": {},
   "source": [
    "### <유사도(cosine_similarity)를 이용한 영화 추천 시스템>"
   ]
  },
  {
   "cell_type": "code",
   "execution_count": 15,
   "id": "d2a05a04-4280-488a-8d99-fa69f49babdb",
   "metadata": {},
   "outputs": [
    {
     "data": {
      "text/html": [
       "<div>\n",
       "<style scoped>\n",
       "    .dataframe tbody tr th:only-of-type {\n",
       "        vertical-align: middle;\n",
       "    }\n",
       "\n",
       "    .dataframe tbody tr th {\n",
       "        vertical-align: top;\n",
       "    }\n",
       "\n",
       "    .dataframe thead th {\n",
       "        text-align: right;\n",
       "    }\n",
       "</style>\n",
       "<table border=\"1\" class=\"dataframe\">\n",
       "  <thead>\n",
       "    <tr style=\"text-align: right;\">\n",
       "      <th></th>\n",
       "      <th>adult</th>\n",
       "      <th>belongs_to_collection</th>\n",
       "      <th>budget</th>\n",
       "      <th>genres</th>\n",
       "      <th>homepage</th>\n",
       "      <th>id</th>\n",
       "      <th>imdb_id</th>\n",
       "      <th>original_language</th>\n",
       "      <th>original_title</th>\n",
       "      <th>overview</th>\n",
       "      <th>...</th>\n",
       "      <th>release_date</th>\n",
       "      <th>revenue</th>\n",
       "      <th>runtime</th>\n",
       "      <th>spoken_languages</th>\n",
       "      <th>status</th>\n",
       "      <th>tagline</th>\n",
       "      <th>title</th>\n",
       "      <th>video</th>\n",
       "      <th>vote_average</th>\n",
       "      <th>vote_count</th>\n",
       "    </tr>\n",
       "  </thead>\n",
       "  <tbody>\n",
       "    <tr>\n",
       "      <th>0</th>\n",
       "      <td>False</td>\n",
       "      <td>{'id': 10194, 'name': 'Toy Story Collection', ...</td>\n",
       "      <td>30000000</td>\n",
       "      <td>[{'id': 16, 'name': 'Animation'}, {'id': 35, '...</td>\n",
       "      <td>http://toystory.disney.com/toy-story</td>\n",
       "      <td>862</td>\n",
       "      <td>tt0114709</td>\n",
       "      <td>en</td>\n",
       "      <td>Toy Story</td>\n",
       "      <td>Led by Woody, Andy's toys live happily in his ...</td>\n",
       "      <td>...</td>\n",
       "      <td>1995-10-30</td>\n",
       "      <td>373554033.0</td>\n",
       "      <td>81.0</td>\n",
       "      <td>[{'iso_639_1': 'en', 'name': 'English'}]</td>\n",
       "      <td>Released</td>\n",
       "      <td>NaN</td>\n",
       "      <td>Toy Story</td>\n",
       "      <td>False</td>\n",
       "      <td>7.7</td>\n",
       "      <td>5415.0</td>\n",
       "    </tr>\n",
       "    <tr>\n",
       "      <th>1</th>\n",
       "      <td>False</td>\n",
       "      <td>NaN</td>\n",
       "      <td>65000000</td>\n",
       "      <td>[{'id': 12, 'name': 'Adventure'}, {'id': 14, '...</td>\n",
       "      <td>NaN</td>\n",
       "      <td>8844</td>\n",
       "      <td>tt0113497</td>\n",
       "      <td>en</td>\n",
       "      <td>Jumanji</td>\n",
       "      <td>When siblings Judy and Peter discover an encha...</td>\n",
       "      <td>...</td>\n",
       "      <td>1995-12-15</td>\n",
       "      <td>262797249.0</td>\n",
       "      <td>104.0</td>\n",
       "      <td>[{'iso_639_1': 'en', 'name': 'English'}, {'iso...</td>\n",
       "      <td>Released</td>\n",
       "      <td>Roll the dice and unleash the excitement!</td>\n",
       "      <td>Jumanji</td>\n",
       "      <td>False</td>\n",
       "      <td>6.9</td>\n",
       "      <td>2413.0</td>\n",
       "    </tr>\n",
       "  </tbody>\n",
       "</table>\n",
       "<p>2 rows × 24 columns</p>\n",
       "</div>"
      ],
      "text/plain": [
       "   adult                              belongs_to_collection    budget  \\\n",
       "0  False  {'id': 10194, 'name': 'Toy Story Collection', ...  30000000   \n",
       "1  False                                                NaN  65000000   \n",
       "\n",
       "                                              genres  \\\n",
       "0  [{'id': 16, 'name': 'Animation'}, {'id': 35, '...   \n",
       "1  [{'id': 12, 'name': 'Adventure'}, {'id': 14, '...   \n",
       "\n",
       "                               homepage    id    imdb_id original_language  \\\n",
       "0  http://toystory.disney.com/toy-story   862  tt0114709                en   \n",
       "1                                   NaN  8844  tt0113497                en   \n",
       "\n",
       "  original_title                                           overview  ...  \\\n",
       "0      Toy Story  Led by Woody, Andy's toys live happily in his ...  ...   \n",
       "1        Jumanji  When siblings Judy and Peter discover an encha...  ...   \n",
       "\n",
       "  release_date      revenue runtime  \\\n",
       "0   1995-10-30  373554033.0    81.0   \n",
       "1   1995-12-15  262797249.0   104.0   \n",
       "\n",
       "                                    spoken_languages    status  \\\n",
       "0           [{'iso_639_1': 'en', 'name': 'English'}]  Released   \n",
       "1  [{'iso_639_1': 'en', 'name': 'English'}, {'iso...  Released   \n",
       "\n",
       "                                     tagline      title  video vote_average  \\\n",
       "0                                        NaN  Toy Story  False          7.7   \n",
       "1  Roll the dice and unleash the excitement!    Jumanji  False          6.9   \n",
       "\n",
       "  vote_count  \n",
       "0     5415.0  \n",
       "1     2413.0  \n",
       "\n",
       "[2 rows x 24 columns]"
      ]
     },
     "execution_count": 15,
     "metadata": {},
     "output_type": "execute_result"
    }
   ],
   "source": [
    "import pandas as pd\n",
    "from sklearn.feature_extraction.text import TfidfVectorizer\n",
    "from sklearn.metrics.pairwise import cosine_similarity\n",
    "\n",
    "data = pd.read_csv('movies_metadata.csv', low_memory=False)\n",
    "data.head(2)"
   ]
  },
  {
   "cell_type": "code",
   "execution_count": 16,
   "id": "04dd34be-1f77-4b62-a3e0-6be6cef29209",
   "metadata": {},
   "outputs": [],
   "source": [
    "df = data.head(20000) # 데이터 양이 많아 상위 200000개만 사용"
   ]
  },
  {
   "cell_type": "code",
   "execution_count": 17,
   "id": "388f70b0-409f-49b9-aca2-052bf6d3d421",
   "metadata": {},
   "outputs": [
    {
     "data": {
      "text/plain": [
       "135"
      ]
     },
     "execution_count": 17,
     "metadata": {},
     "output_type": "execute_result"
    }
   ],
   "source": [
    "df['overview'].isnull().sum() # overview 열에 존재하는 모든 결측값을 전부 카운트하여 출력"
   ]
  },
  {
   "cell_type": "code",
   "execution_count": 18,
   "id": "d7e3afec-4d8e-4734-9791-b2f3304ce480",
   "metadata": {},
   "outputs": [
    {
     "name": "stderr",
     "output_type": "stream",
     "text": [
      "C:\\Users\\isfs0\\anaconda3\\lib\\site-packages\\pandas\\core\\indexing.py:1676: SettingWithCopyWarning: \n",
      "A value is trying to be set on a copy of a slice from a DataFrame.\n",
      "Try using .loc[row_indexer,col_indexer] = value instead\n",
      "\n",
      "See the caveats in the documentation: https://pandas.pydata.org/pandas-docs/stable/user_guide/indexing.html#returning-a-view-versus-a-copy\n",
      "  self._setitem_single_column(ilocs[0], value, pi)\n"
     ]
    }
   ],
   "source": [
    "# 결측값을 빈 값으로 대체 ( copy()해서 사용하거나 다음처럼 사용)\n",
    "df.loc[:, 'overview'] = df['overview'].fillna('')"
   ]
  },
  {
   "cell_type": "markdown",
   "id": "b774b0ad-fd6a-463b-a733-f83c8a1f158f",
   "metadata": {},
   "source": [
    "### scikit-learn : TfidfVectorizer()\n",
    "CountVectorizer()+ TfidfTransformer()       \n",
    "=> TfidfVectorizer() : 사용자의 편의를 위해 TF-IDF 변환을 빠르게 적용"
   ]
  },
  {
   "cell_type": "code",
   "execution_count": 19,
   "id": "9b9f9ee1-50a8-4f18-83a9-87df4292058a",
   "metadata": {},
   "outputs": [
    {
     "data": {
      "text/plain": [
       "(20000, 47487)"
      ]
     },
     "execution_count": 19,
     "metadata": {},
     "output_type": "execute_result"
    }
   ],
   "source": [
    "tfidf = TfidfVectorizer(stop_words='english')\n",
    "tfidf_matrix = tfidf.fit_transform(df['overview'])\n",
    "tfidf_matrix.shape"
   ]
  },
  {
   "cell_type": "code",
   "execution_count": 20,
   "id": "a1e99405-8349-48c3-bd3d-f7b331141784",
   "metadata": {},
   "outputs": [
    {
     "name": "stdout",
     "output_type": "stream",
     "text": [
      "코사인 유사도 연산 결과 : (20000, 20000)\n"
     ]
    }
   ],
   "source": [
    "# 200000개의 문서 벡터와 자기 자신을 포함한 20,000개의 문서 벡터간의 유사도 행렬 (즉, 각 영화의 개요에 대한 TF-IDF 벡터) 간의 코사인 유사도를 계산\n",
    "cosine_sim = cosine_similarity(tfidf_matrix, tfidf_matrix)\n",
    "print('코사인 유사도 연산 결과 :',cosine_sim.shape)"
   ]
  },
  {
   "cell_type": "code",
   "execution_count": 23,
   "id": "a26c82be-75c2-4ea5-bd86-0c5223662804",
   "metadata": {},
   "outputs": [
    {
     "name": "stdout",
     "output_type": "stream",
     "text": [
      "4\n"
     ]
    }
   ],
   "source": [
    "title_to_index = dict(zip(df['title'], df.index))\n",
    "\n",
    "# 영화 제목 Father of the Bride Part II의 인덱스를 리턴\n",
    "idx = title_to_index['Father of the Bride Part II']\n",
    "print(idx)"
   ]
  },
  {
   "cell_type": "code",
   "execution_count": 24,
   "id": "074caa15-81c8-415d-bb56-42baf3809442",
   "metadata": {},
   "outputs": [],
   "source": [
    "def get_recommendations(title, cosine_sim=cosine_sim):\n",
    "    # 선택한 영화의 타이틀로부터 해당 영화의 인덱스를 받아온다.\n",
    "    idx = title_to_index[title]\n",
    "\n",
    "    # 해당 영화와 모든 영화와의 유사도를 가져온다.\n",
    "    sim_scores = list(enumerate(cosine_sim[idx]))\n",
    "\n",
    "    # 유사도에 따라 영화들을 정렬한다.\n",
    "    sim_scores = sorted(sim_scores, key=lambda x: x[1], reverse=True)\n",
    "\n",
    "    # 가장 유사한 10개의 영화를 받아온다.\n",
    "    sim_scores = sim_scores[1:11]\n",
    "\n",
    "    # 가장 유사한 10개의 영화의 인덱스를 얻는다.\n",
    "    movie_indices = [idx[0] for idx in sim_scores]\n",
    "\n",
    "    # 가장 유사한 10개의 영화의 제목을 리턴한다.\n",
    "    return df['title'].iloc[movie_indices]\n"
   ]
  },
  {
   "cell_type": "code",
   "execution_count": 25,
   "id": "928f6a5b-ec3a-4500-9faf-e4b8b36449ba",
   "metadata": {},
   "outputs": [
    {
     "data": {
      "text/plain": [
       "12481                            The Dark Knight\n",
       "150                               Batman Forever\n",
       "1328                              Batman Returns\n",
       "15511                 Batman: Under the Red Hood\n",
       "585                                       Batman\n",
       "9230          Batman Beyond: Return of the Joker\n",
       "18035                           Batman: Year One\n",
       "19792    Batman: The Dark Knight Returns, Part 1\n",
       "3095                Batman: Mask of the Phantasm\n",
       "10122                              Batman Begins\n",
       "Name: title, dtype: object"
      ]
     },
     "execution_count": 25,
     "metadata": {},
     "output_type": "execute_result"
    }
   ],
   "source": [
    "# 다크 나이트 라이즈와 overview가 유사한 영화 찾기\n",
    "get_recommendations('The Dark Knight Rises')"
   ]
  },
  {
   "cell_type": "markdown",
   "id": "db1f16e5-22f0-4e0e-960b-63988d4d6923",
   "metadata": {},
   "source": [
    "### <유사도(cosine_similarity)를 이용한 영화 추천 시스템> 통합코드"
   ]
  },
  {
   "cell_type": "code",
   "execution_count": 26,
   "id": "5d3a44e7-d1f8-4463-b3ae-dd3e36c2c0be",
   "metadata": {},
   "outputs": [
    {
     "data": {
      "text/plain": [
       "12481                            The Dark Knight\n",
       "150                               Batman Forever\n",
       "1328                              Batman Returns\n",
       "15511                 Batman: Under the Red Hood\n",
       "585                                       Batman\n",
       "9230          Batman Beyond: Return of the Joker\n",
       "18035                           Batman: Year One\n",
       "19792    Batman: The Dark Knight Returns, Part 1\n",
       "3095                Batman: Mask of the Phantasm\n",
       "10122                              Batman Begins\n",
       "Name: title, dtype: object"
      ]
     },
     "execution_count": 26,
     "metadata": {},
     "output_type": "execute_result"
    }
   ],
   "source": [
    "import pandas as pd\n",
    "from sklearn.feature_extraction.text import TfidfVectorizer\n",
    "from sklearn.metrics.pairwise import cosine_similarity\n",
    "\n",
    "data = pd.read_csv('movies_metadata.csv', low_memory=False)\n",
    "df = data.head(20000)\n",
    "#df['overview'].isnull().sum()\n",
    "df.loc[:, 'overview'] = df['overview'].fillna('')\n",
    "\n",
    "# tfidf 구하기\n",
    "tfidf = TfidfVectorizer(stop_words='english')\n",
    "tfidf_matrix = tfidf.fit_transform(df['overview'])\n",
    "\n",
    "cosine_sim = cosine_similarity(tfidf_matrix, tfidf_matrix)\n",
    "\n",
    "title_to_index = dict(zip(df['title'], df.index))\n",
    "\n",
    "def get_recommendations(title, cosine_sim=cosine_sim):\n",
    "    # 선택한 영화의 타이틀로부터 해당 영화의 인덱스를 받아온다.\n",
    "    idx = title_to_index[title]\n",
    "\n",
    "    # 해당 영화와 모든 영화와의 유사도를 가져온다.\n",
    "    sim_scores = list(enumerate(cosine_sim[idx]))\n",
    "\n",
    "    # 유사도에 따라 영화들을 정렬한다.\n",
    "    sim_scores = sorted(sim_scores, key=lambda x: x[1], reverse=True)\n",
    "\n",
    "    # 가장 유사한 10개의 영화를 받아온다. \n",
    "    # 0번 인덱스에는 선택한 영화와의 유사도가 저장되어 있어 이를 제외하고 나머지 영화들(1번부터 10번까지)의 유사도를 가져옴\n",
    "    sim_scores = sim_scores[1:11]\n",
    "\n",
    "    # 가장 유사한 10개의 영화의 인덱스를 얻는다.\n",
    "    movie_indices = [idx[0] for idx in sim_scores]\n",
    "\n",
    "    # 가장 유사한 10개의 영화의 제목을 리턴한다.\n",
    "    return df['title'].iloc[movie_indices]\n",
    "\n",
    "get_recommendations('The Dark Knight Rises')"
   ]
  },
  {
   "cell_type": "code",
   "execution_count": null,
   "id": "f84ce5f5",
   "metadata": {},
   "outputs": [],
   "source": []
  }
 ],
 "metadata": {
  "kernelspec": {
   "display_name": "Python 3 (ipykernel)",
   "language": "python",
   "name": "python3"
  },
  "language_info": {
   "codemirror_mode": {
    "name": "ipython",
    "version": 3
   },
   "file_extension": ".py",
   "mimetype": "text/x-python",
   "name": "python",
   "nbconvert_exporter": "python",
   "pygments_lexer": "ipython3",
   "version": "3.8.8"
  }
 },
 "nbformat": 4,
 "nbformat_minor": 5
}
