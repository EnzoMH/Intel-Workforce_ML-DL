{
 "cells": [
  {
   "cell_type": "markdown",
   "id": "ccbbe17c",
   "metadata": {},
   "source": [
    "# LSTM을 이용하여 텍스트 생성하기"
   ]
  },
  {
   "cell_type": "markdown",
   "id": "8dc44eee",
   "metadata": {},
   "source": [
    "#### 1. 데이터에 대한 이해와 전처리"
   ]
  },
  {
   "cell_type": "markdown",
   "id": "efc7ec06",
   "metadata": {},
   "source": [
    "1-1. 라이브러리 불러오기"
   ]
  },
  {
   "cell_type": "code",
   "execution_count": 1,
   "id": "6020605d",
   "metadata": {},
   "outputs": [
    {
     "name": "stderr",
     "output_type": "stream",
     "text": [
      "C:\\Users\\isfs0\\anaconda3\\lib\\site-packages\\numpy\\_distributor_init.py:30: UserWarning: loaded more than 1 DLL from .libs:\n",
      "C:\\Users\\isfs0\\anaconda3\\lib\\site-packages\\numpy\\.libs\\libopenblas.EL2C6PLE4ZYW3ECEVIV3OXXGRN2NRFM2.gfortran-win_amd64.dll\n",
      "C:\\Users\\isfs0\\anaconda3\\lib\\site-packages\\numpy\\.libs\\libopenblas64__v0.3.21-gcc_10_3_0.dll\n",
      "  warnings.warn(\"loaded more than 1 DLL from .libs:\"\n"
     ]
    }
   ],
   "source": [
    "import pandas as pd \n",
    "from string import punctuation \n",
    "from tensorflow.keras.preprocessing.text import Tokenizer \n",
    "from tensorflow.keras.preprocessing.sequence import pad_sequences \n",
    "import numpy as np \n",
    "from tensorflow.keras.utils import to_categorical "
   ]
  },
  {
   "cell_type": "markdown",
   "id": "a814696c",
   "metadata": {},
   "source": [
    "#### 라이브러리의 기능\n",
    "1. from string import punctuation\n",
    " - string 모듈에서 punctuation 상수를 가져옵니다.\n",
    " - punctuation 상수에는 일반적으로 텍스트에서 제거해야 할 구두점 문자가 포함이러한 구두점 문자는 일반적으로 텍스트 전처리나 텍스트 처리 작업 중에서 제거되거나 다루어집니다. 예를 들어, 쉼표, 마침표, 느낌표, 물음표 등이 포함될 수 있습니다.\n",
    " \n",
    "2. from tensorflow.keras.utils import to_categorical\n",
    " - 다중 클래스 분류 작업을 위해 사용, 정수로 된 클래스 레이블을 이진 또는 원-핫 인코딩된 벡터로 변환하는 데 사용\n",
    " - 변환된 벡터는 신경망 모델의 출력 레이어에서 사용되며, 각 클래스에 대한 확률 값을 반환\n",
    " \n",
    "3. 짚고넘어가기 - 원핫 인코딩\n",
    " - 주형 데이터(카테고리, 클래스, 레이블)를 수치형 데이터로 변환하는 방법 중 하나"
   ]
  },
  {
   "cell_type": "markdown",
   "id": "9a516705",
   "metadata": {},
   "source": [
    "#### 2. 모델 설계하기"
   ]
  },
  {
   "cell_type": "code",
   "execution_count": 2,
   "id": "e2395db2",
   "metadata": {},
   "outputs": [
    {
     "data": {
      "text/html": [
       "<div>\n",
       "<style scoped>\n",
       "    .dataframe tbody tr th:only-of-type {\n",
       "        vertical-align: middle;\n",
       "    }\n",
       "\n",
       "    .dataframe tbody tr th {\n",
       "        vertical-align: top;\n",
       "    }\n",
       "\n",
       "    .dataframe thead th {\n",
       "        text-align: right;\n",
       "    }\n",
       "</style>\n",
       "<table border=\"1\" class=\"dataframe\">\n",
       "  <thead>\n",
       "    <tr style=\"text-align: right;\">\n",
       "      <th></th>\n",
       "      <th>articleID</th>\n",
       "      <th>articleWordCount</th>\n",
       "      <th>byline</th>\n",
       "      <th>documentType</th>\n",
       "      <th>headline</th>\n",
       "      <th>keywords</th>\n",
       "      <th>multimedia</th>\n",
       "      <th>newDesk</th>\n",
       "      <th>printPage</th>\n",
       "      <th>pubDate</th>\n",
       "      <th>sectionName</th>\n",
       "      <th>snippet</th>\n",
       "      <th>source</th>\n",
       "      <th>typeOfMaterial</th>\n",
       "      <th>webURL</th>\n",
       "    </tr>\n",
       "  </thead>\n",
       "  <tbody>\n",
       "    <tr>\n",
       "      <th>0</th>\n",
       "      <td>5adf6684068401528a2aa69b</td>\n",
       "      <td>781</td>\n",
       "      <td>By JOHN BRANCH</td>\n",
       "      <td>article</td>\n",
       "      <td>Former N.F.L. Cheerleaders’ Settlement Offer: ...</td>\n",
       "      <td>['Workplace Hazards and Violations', 'Football...</td>\n",
       "      <td>68</td>\n",
       "      <td>Sports</td>\n",
       "      <td>0</td>\n",
       "      <td>2018-04-24 17:16:49</td>\n",
       "      <td>Pro Football</td>\n",
       "      <td>“I understand that they could meet with us, pa...</td>\n",
       "      <td>The New York Times</td>\n",
       "      <td>News</td>\n",
       "      <td>https://www.nytimes.com/2018/04/24/sports/foot...</td>\n",
       "    </tr>\n",
       "    <tr>\n",
       "      <th>1</th>\n",
       "      <td>5adf653f068401528a2aa697</td>\n",
       "      <td>656</td>\n",
       "      <td>By LISA FRIEDMAN</td>\n",
       "      <td>article</td>\n",
       "      <td>E.P.A. to Unveil a New Rule. Its Effect: Less ...</td>\n",
       "      <td>['Environmental Protection Agency', 'Pruitt, S...</td>\n",
       "      <td>68</td>\n",
       "      <td>Climate</td>\n",
       "      <td>0</td>\n",
       "      <td>2018-04-24 17:11:21</td>\n",
       "      <td>Unknown</td>\n",
       "      <td>The agency plans to publish a new regulation T...</td>\n",
       "      <td>The New York Times</td>\n",
       "      <td>News</td>\n",
       "      <td>https://www.nytimes.com/2018/04/24/climate/epa...</td>\n",
       "    </tr>\n",
       "    <tr>\n",
       "      <th>2</th>\n",
       "      <td>5adf4626068401528a2aa628</td>\n",
       "      <td>2427</td>\n",
       "      <td>By PETE WELLS</td>\n",
       "      <td>article</td>\n",
       "      <td>The New Noma, Explained</td>\n",
       "      <td>['Restaurants', 'Noma (Copenhagen, Restaurant)...</td>\n",
       "      <td>66</td>\n",
       "      <td>Dining</td>\n",
       "      <td>0</td>\n",
       "      <td>2018-04-24 14:58:44</td>\n",
       "      <td>Unknown</td>\n",
       "      <td>What’s it like to eat at the second incarnatio...</td>\n",
       "      <td>The New York Times</td>\n",
       "      <td>News</td>\n",
       "      <td>https://www.nytimes.com/2018/04/24/dining/noma...</td>\n",
       "    </tr>\n",
       "    <tr>\n",
       "      <th>3</th>\n",
       "      <td>5adf40d2068401528a2aa619</td>\n",
       "      <td>626</td>\n",
       "      <td>By JULIE HIRSCHFELD DAVIS and PETER BAKER</td>\n",
       "      <td>article</td>\n",
       "      <td>Unknown</td>\n",
       "      <td>['Macron, Emmanuel (1977- )', 'Trump, Donald J...</td>\n",
       "      <td>68</td>\n",
       "      <td>Washington</td>\n",
       "      <td>0</td>\n",
       "      <td>2018-04-24 14:35:57</td>\n",
       "      <td>Europe</td>\n",
       "      <td>President Trump welcomed President Emmanuel Ma...</td>\n",
       "      <td>The New York Times</td>\n",
       "      <td>News</td>\n",
       "      <td>https://www.nytimes.com/2018/04/24/world/europ...</td>\n",
       "    </tr>\n",
       "    <tr>\n",
       "      <th>4</th>\n",
       "      <td>5adf3d64068401528a2aa60f</td>\n",
       "      <td>815</td>\n",
       "      <td>By IAN AUSTEN and DAN BILEFSKY</td>\n",
       "      <td>article</td>\n",
       "      <td>Unknown</td>\n",
       "      <td>['Toronto, Ontario, Attack (April, 2018)', 'Mu...</td>\n",
       "      <td>68</td>\n",
       "      <td>Foreign</td>\n",
       "      <td>0</td>\n",
       "      <td>2018-04-24 14:21:21</td>\n",
       "      <td>Canada</td>\n",
       "      <td>Alek Minassian, 25, a resident of Toronto’s Ri...</td>\n",
       "      <td>The New York Times</td>\n",
       "      <td>News</td>\n",
       "      <td>https://www.nytimes.com/2018/04/24/world/canad...</td>\n",
       "    </tr>\n",
       "  </tbody>\n",
       "</table>\n",
       "</div>"
      ],
      "text/plain": [
       "                  articleID  articleWordCount  \\\n",
       "0  5adf6684068401528a2aa69b               781   \n",
       "1  5adf653f068401528a2aa697               656   \n",
       "2  5adf4626068401528a2aa628              2427   \n",
       "3  5adf40d2068401528a2aa619               626   \n",
       "4  5adf3d64068401528a2aa60f               815   \n",
       "\n",
       "                                      byline documentType  \\\n",
       "0                             By JOHN BRANCH      article   \n",
       "1                           By LISA FRIEDMAN      article   \n",
       "2                              By PETE WELLS      article   \n",
       "3  By JULIE HIRSCHFELD DAVIS and PETER BAKER      article   \n",
       "4             By IAN AUSTEN and DAN BILEFSKY      article   \n",
       "\n",
       "                                            headline  \\\n",
       "0  Former N.F.L. Cheerleaders’ Settlement Offer: ...   \n",
       "1  E.P.A. to Unveil a New Rule. Its Effect: Less ...   \n",
       "2                            The New Noma, Explained   \n",
       "3                                            Unknown   \n",
       "4                                            Unknown   \n",
       "\n",
       "                                            keywords  multimedia     newDesk  \\\n",
       "0  ['Workplace Hazards and Violations', 'Football...          68      Sports   \n",
       "1  ['Environmental Protection Agency', 'Pruitt, S...          68     Climate   \n",
       "2  ['Restaurants', 'Noma (Copenhagen, Restaurant)...          66      Dining   \n",
       "3  ['Macron, Emmanuel (1977- )', 'Trump, Donald J...          68  Washington   \n",
       "4  ['Toronto, Ontario, Attack (April, 2018)', 'Mu...          68     Foreign   \n",
       "\n",
       "   printPage              pubDate   sectionName  \\\n",
       "0          0  2018-04-24 17:16:49  Pro Football   \n",
       "1          0  2018-04-24 17:11:21       Unknown   \n",
       "2          0  2018-04-24 14:58:44       Unknown   \n",
       "3          0  2018-04-24 14:35:57        Europe   \n",
       "4          0  2018-04-24 14:21:21        Canada   \n",
       "\n",
       "                                             snippet              source  \\\n",
       "0  “I understand that they could meet with us, pa...  The New York Times   \n",
       "1  The agency plans to publish a new regulation T...  The New York Times   \n",
       "2  What’s it like to eat at the second incarnatio...  The New York Times   \n",
       "3  President Trump welcomed President Emmanuel Ma...  The New York Times   \n",
       "4  Alek Minassian, 25, a resident of Toronto’s Ri...  The New York Times   \n",
       "\n",
       "  typeOfMaterial                                             webURL  \n",
       "0           News  https://www.nytimes.com/2018/04/24/sports/foot...  \n",
       "1           News  https://www.nytimes.com/2018/04/24/climate/epa...  \n",
       "2           News  https://www.nytimes.com/2018/04/24/dining/noma...  \n",
       "3           News  https://www.nytimes.com/2018/04/24/world/europ...  \n",
       "4           News  https://www.nytimes.com/2018/04/24/world/canad...  "
      ]
     },
     "execution_count": 2,
     "metadata": {},
     "output_type": "execute_result"
    }
   ],
   "source": [
    "df=pd.read_csv('ArticlesApril2018.csv') # 데이터  로드 \n",
    "df.head() "
   ]
  },
  {
   "cell_type": "code",
   "execution_count": 3,
   "id": "ebd86136",
   "metadata": {},
   "outputs": [
    {
     "name": "stdout",
     "output_type": "stream",
     "text": [
      "열의  개수:  15\n",
      "Index(['articleID', 'articleWordCount', 'byline', 'documentType', 'headline',\n",
      "       'keywords', 'multimedia', 'newDesk', 'printPage', 'pubDate',\n",
      "       'sectionName', 'snippet', 'source', 'typeOfMaterial', 'webURL'],\n",
      "      dtype='object')\n"
     ]
    }
   ],
   "source": [
    "print('열의  개수: ',len(df.columns)) \n",
    "print(df.columns)"
   ]
  },
  {
   "cell_type": "code",
   "execution_count": 4,
   "id": "ef54482c",
   "metadata": {},
   "outputs": [
    {
     "data": {
      "text/plain": [
       "False"
      ]
     },
     "execution_count": 4,
     "metadata": {},
     "output_type": "execute_result"
    }
   ],
   "source": [
    "df['headline'].isnull().values.any() #null이 하나도 없으면 false"
   ]
  },
  {
   "cell_type": "code",
   "execution_count": 5,
   "id": "860371e8",
   "metadata": {},
   "outputs": [
    {
     "data": {
      "text/plain": [
       "['Former N.F.L. Cheerleaders’ Settlement Offer: $1 and a Meeting With Goodell',\n",
       " 'E.P.A. to Unveil a New Rule. Its Effect: Less Science in Policymaking.',\n",
       " 'The New Noma, Explained',\n",
       " 'Unknown',\n",
       " 'Unknown']"
      ]
     },
     "execution_count": 5,
     "metadata": {},
     "output_type": "execute_result"
    }
   ],
   "source": [
    "headline = [] # 리스트  선언\n",
    "headline.extend(list(df.headline.values)) # 헤드라인의  값들을  리스트로  저장 \n",
    "headline[:5] # 상위  5개만  출력"
   ]
  },
  {
   "cell_type": "code",
   "execution_count": 6,
   "id": "3f5a6068",
   "metadata": {},
   "outputs": [
    {
     "name": "stdout",
     "output_type": "stream",
     "text": [
      "총  샘플의  개수  : 1324\n"
     ]
    }
   ],
   "source": [
    "print('총  샘플의  개수  : {}'.format(len(headline))) # 현재  샘플의  개수\n",
    "\n",
    "# {}는 왜 썼을까?\n",
    "# .format의 의미는 무엇일까?"
   ]
  },
  {
   "cell_type": "code",
   "execution_count": 7,
   "id": "dd73a50f",
   "metadata": {},
   "outputs": [
    {
     "name": "stdout",
     "output_type": "stream",
     "text": [
      "노이즈값  제거  후  샘플의  개수  : 1214\n"
     ]
    }
   ],
   "source": [
    "headline = [n for n in headline if n != \"Unknown\"] \n",
    "# Unknown(잡음) 값을  가진  샘플  제거 \n",
    "print('노이즈값  제거  후  샘플의  개수  : {}'.format(len(headline))) \n",
    "# 제거  후  샘플의  개수"
   ]
  },
  {
   "cell_type": "code",
   "execution_count": 8,
   "id": "b627084f",
   "metadata": {},
   "outputs": [
    {
     "data": {
      "text/plain": [
       "['Former N.F.L. Cheerleaders’ Settlement Offer: $1 and a Meeting With Goodell',\n",
       " 'E.P.A. to Unveil a New Rule. Its Effect: Less Science in Policymaking.',\n",
       " 'The New Noma, Explained',\n",
       " 'How a Bag of Texas Dirt  Became a Times Tradition',\n",
       " 'Is School a Place for Self-Expression?']"
      ]
     },
     "execution_count": 8,
     "metadata": {},
     "output_type": "execute_result"
    }
   ],
   "source": [
    "headline[:5] # 5개의  샘플  출력  확인"
   ]
  },
  {
   "cell_type": "code",
   "execution_count": 9,
   "id": "3ba3e1dc",
   "metadata": {},
   "outputs": [
    {
     "data": {
      "text/plain": [
       "['former nfl cheerleaders settlement offer 1 and a meeting with goodell',\n",
       " 'epa to unveil a new rule its effect less science in policymaking',\n",
       " 'the new noma explained',\n",
       " 'how a bag of texas dirt  became a times tradition',\n",
       " 'is school a place for selfexpression']"
      ]
     },
     "execution_count": 9,
     "metadata": {},
     "output_type": "execute_result"
    }
   ],
   "source": [
    "def repreprocessing(s): \n",
    "    # repreprocessing 함수 정의\n",
    "    # s: 입력으로 받는 문자열\n",
    "\n",
    "    # 1. 비 ASCII 문자를 제거하고 ASCII 문자로 변환\n",
    "    s = s.encode(\"utf8\").decode(\"ascii\", 'ignore')\n",
    "\n",
    "    # 2. 구두점을 제거하고 동시에 소문자화\n",
    "    # ''.join(c for c in s if c not in punctuation)은 \n",
    "    # s에서 구두점을 제외한 문자들을 합친다.\n",
    "    # 그리고 이어지는 .lower()로 소문자로 변환한다.\n",
    "    return ''.join(c for c in s if c not in punctuation).lower() \n",
    "\n",
    "# repreprocessing 함수는 이제 정의되었습니다.\n",
    "# 이 함수는 텍스트를 전처리하여 비 ASCII 문자를 제거하고 구두점을 제거한 후 소문자로 변환하는 역할을 합니다.\n",
    "\n",
    "# 아래는 repreprocessing 함수를 headline 리스트의 각 요소에 적용하여 전처리된 텍스트를 생성하는 부분입니다.\n",
    "text = [repreprocessing(x) for x in headline]\n",
    "\n",
    "# text 리스트는 전처리된 텍스트로 채워집니다.\n",
    "\n",
    "# 이제, text 리스트의 처음 5개 요소를 출력합니다.\n",
    "text[:5]"
   ]
  },
  {
   "cell_type": "code",
   "execution_count": 10,
   "id": "9e52c0b5",
   "metadata": {},
   "outputs": [
    {
     "name": "stdout",
     "output_type": "stream",
     "text": [
      "단어 집합의 크기 : 3494\n"
     ]
    }
   ],
   "source": [
    "# Tokenizer 객체 생성\n",
    "t = Tokenizer()\n",
    "\n",
    "# Tokenizer에 텍스트 데이터를 학습시킴\n",
    "t.fit_on_texts(text)\n",
    "\n",
    "# 단어 집합의 크기 계산\n",
    "vocab_size = len(t.word_index) + 1\n",
    "\n",
    "# 단어 집합의 크기를 출력\n",
    "print('단어 집합의 크기 : %d' % vocab_size)"
   ]
  },
  {
   "cell_type": "code",
   "execution_count": 11,
   "id": "8822e06d",
   "metadata": {},
   "outputs": [
    {
     "data": {
      "text/plain": [
       "[[99, 269],\n",
       " [99, 269, 371],\n",
       " [99, 269, 371, 1115],\n",
       " [99, 269, 371, 1115, 582],\n",
       " [99, 269, 371, 1115, 582, 52],\n",
       " [99, 269, 371, 1115, 582, 52, 7],\n",
       " [99, 269, 371, 1115, 582, 52, 7, 2],\n",
       " [99, 269, 371, 1115, 582, 52, 7, 2, 372],\n",
       " [99, 269, 371, 1115, 582, 52, 7, 2, 372, 10],\n",
       " [99, 269, 371, 1115, 582, 52, 7, 2, 372, 10, 1116],\n",
       " [100, 3]]"
      ]
     },
     "execution_count": 11,
     "metadata": {},
     "output_type": "execute_result"
    }
   ],
   "source": [
    "# 학습할 데이터 생성\n",
    "sequences = list() \n",
    "\n",
    "for line in text: \n",
    "    encoded = t.texts_to_sequences([line])[0] # 각  샘플에  대한  정수  인코딩 \n",
    "    for i in range(1, len(encoded)): \n",
    "        sequence = encoded[:i+1] \n",
    "        sequences.append(sequence) \n",
    "\n",
    "sequences[:11] # 11개의  샘플  출력"
   ]
  },
  {
   "cell_type": "code",
   "execution_count": 12,
   "id": "0bf614f2",
   "metadata": {},
   "outputs": [
    {
     "data": {
      "text/plain": [
       "7803"
      ]
     },
     "execution_count": 12,
     "metadata": {},
     "output_type": "execute_result"
    }
   ],
   "source": [
    "len(sequences)"
   ]
  },
  {
   "cell_type": "code",
   "execution_count": 13,
   "id": "26523f66",
   "metadata": {},
   "outputs": [
    {
     "name": "stdout",
     "output_type": "stream",
     "text": [
      "빈도수  상위  582번  단어  : offer\n"
     ]
    }
   ],
   "source": [
    "index_to_word={} \n",
    "for key, value in t.word_index.items(): # 인덱스를  단어로  바꾸기  위해  index_to_word를  생성 \n",
    "    index_to_word[value] = key  \n",
    "\n",
    "print('빈도수  상위  582번  단어  : {}'.format(index_to_word[582]))"
   ]
  },
  {
   "cell_type": "code",
   "execution_count": 14,
   "id": "e9326511",
   "metadata": {},
   "outputs": [
    {
     "name": "stdout",
     "output_type": "stream",
     "text": [
      "샘플의  최대  길이  : 24\n"
     ]
    }
   ],
   "source": [
    "max_len=max(len(l) for l in sequences) # 가장  긴  샘플의  길이  확인 \n",
    "print('샘플의  최대  길이  : {}'.format(max_len))"
   ]
  },
  {
   "cell_type": "code",
   "execution_count": 15,
   "id": "c4d625b5",
   "metadata": {},
   "outputs": [
    {
     "name": "stdout",
     "output_type": "stream",
     "text": [
      "[[   0    0    0    0    0    0    0    0    0    0    0    0    0    0\n",
      "     0    0    0    0    0    0    0    0   99  269]\n",
      " [   0    0    0    0    0    0    0    0    0    0    0    0    0    0\n",
      "     0    0    0    0    0    0    0   99  269  371]\n",
      " [   0    0    0    0    0    0    0    0    0    0    0    0    0    0\n",
      "     0    0    0    0    0    0   99  269  371 1115]]\n"
     ]
    }
   ],
   "source": [
    "# 가장  긴  샘플의  길이인  24로  모든  샘플의  길이를  패딩 \n",
    "sequences = pad_sequences(sequences, maxlen=max_len, padding='pre') \n",
    "print(sequences[:3])"
   ]
  },
  {
   "cell_type": "code",
   "execution_count": 16,
   "id": "4fe86214",
   "metadata": {},
   "outputs": [
    {
     "name": "stdout",
     "output_type": "stream",
     "text": [
      "[[  0   0   0   0   0   0   0   0   0   0   0   0   0   0   0   0   0   0\n",
      "    0   0   0   0  99]\n",
      " [  0   0   0   0   0   0   0   0   0   0   0   0   0   0   0   0   0   0\n",
      "    0   0   0  99 269]\n",
      " [  0   0   0   0   0   0   0   0   0   0   0   0   0   0   0   0   0   0\n",
      "    0   0  99 269 371]]\n"
     ]
    }
   ],
   "source": [
    "sequences = np.array(sequences) \n",
    "X = sequences[:,:-1] # 학습 데이터 \n",
    "y = sequences[:,-1]  # 정답 데이터 \n",
    "print(X[:3])"
   ]
  },
  {
   "cell_type": "code",
   "execution_count": 17,
   "id": "719b8048",
   "metadata": {},
   "outputs": [
    {
     "name": "stdout",
     "output_type": "stream",
     "text": [
      "[ 269  371 1115]\n"
     ]
    }
   ],
   "source": [
    "print(y[:3]) # 레이블  3개  출력"
   ]
  },
  {
   "cell_type": "code",
   "execution_count": 18,
   "id": "8c125ee5",
   "metadata": {},
   "outputs": [
    {
     "data": {
      "text/plain": [
       "array([[0., 0., 0., ..., 0., 0., 0.],\n",
       "       [0., 0., 0., ..., 0., 0., 0.],\n",
       "       [0., 0., 0., ..., 0., 0., 0.],\n",
       "       ...,\n",
       "       [0., 0., 0., ..., 0., 0., 0.],\n",
       "       [0., 0., 1., ..., 0., 0., 0.],\n",
       "       [0., 0., 0., ..., 0., 0., 0.]], dtype=float32)"
      ]
     },
     "execution_count": 18,
     "metadata": {},
     "output_type": "execute_result"
    }
   ],
   "source": [
    "y = to_categorical(y, num_classes=vocab_size) # 레이블  데이터  y에  대해서  원-핪  인코딩  수행 \n",
    "y"
   ]
  },
  {
   "cell_type": "markdown",
   "id": "0dc472d5",
   "metadata": {},
   "source": [
    "# 2. 모델  설계하기"
   ]
  },
  {
   "cell_type": "code",
   "execution_count": 19,
   "id": "905052ff",
   "metadata": {},
   "outputs": [],
   "source": [
    "from tensorflow.keras.models import Sequential \n",
    "from tensorflow.keras.layers import Embedding, Dense, LSTM "
   ]
  },
  {
   "cell_type": "code",
   "execution_count": 20,
   "id": "d3a2baa8",
   "metadata": {},
   "outputs": [
    {
     "name": "stdout",
     "output_type": "stream",
     "text": [
      "Epoch 1/100\n",
      "244/244 - 61s - loss: 7.6463 - accuracy: 0.0279 - 61s/epoch - 251ms/step\n",
      "Epoch 2/100\n",
      "244/244 - 31s - loss: 7.1225 - accuracy: 0.0310 - 31s/epoch - 126ms/step\n",
      "Epoch 3/100\n",
      "244/244 - 29s - loss: 6.9868 - accuracy: 0.0286 - 29s/epoch - 118ms/step\n",
      "Epoch 4/100\n",
      "244/244 - 35s - loss: 6.8691 - accuracy: 0.0374 - 35s/epoch - 144ms/step\n",
      "Epoch 5/100\n",
      "244/244 - 26s - loss: 6.7344 - accuracy: 0.0442 - 26s/epoch - 107ms/step\n",
      "Epoch 6/100\n",
      "244/244 - 33s - loss: 6.5735 - accuracy: 0.0434 - 33s/epoch - 135ms/step\n",
      "Epoch 7/100\n",
      "244/244 - 34s - loss: 6.4197 - accuracy: 0.0499 - 34s/epoch - 139ms/step\n",
      "Epoch 8/100\n",
      "244/244 - 36s - loss: 6.1873 - accuracy: 0.0559 - 36s/epoch - 146ms/step\n",
      "Epoch 9/100\n",
      "244/244 - 35s - loss: 5.9888 - accuracy: 0.0595 - 35s/epoch - 145ms/step\n",
      "Epoch 10/100\n",
      "244/244 - 37s - loss: 5.8008 - accuracy: 0.0627 - 37s/epoch - 150ms/step\n",
      "Epoch 11/100\n",
      "244/244 - 35s - loss: 5.6239 - accuracy: 0.0693 - 35s/epoch - 143ms/step\n",
      "Epoch 12/100\n",
      "244/244 - 32s - loss: 5.4553 - accuracy: 0.0730 - 32s/epoch - 133ms/step\n",
      "Epoch 13/100\n",
      "244/244 - 31s - loss: 5.2998 - accuracy: 0.0792 - 31s/epoch - 129ms/step\n",
      "Epoch 14/100\n",
      "244/244 - 36s - loss: 5.1464 - accuracy: 0.0828 - 36s/epoch - 149ms/step\n",
      "Epoch 15/100\n",
      "244/244 - 34s - loss: 5.0007 - accuracy: 0.0914 - 34s/epoch - 139ms/step\n",
      "Epoch 16/100\n",
      "244/244 - 37s - loss: 4.8627 - accuracy: 0.0960 - 37s/epoch - 150ms/step\n",
      "Epoch 17/100\n",
      "244/244 - 35s - loss: 4.7285 - accuracy: 0.1135 - 35s/epoch - 145ms/step\n",
      "Epoch 18/100\n",
      "244/244 - 34s - loss: 4.6002 - accuracy: 0.1291 - 34s/epoch - 138ms/step\n",
      "Epoch 19/100\n",
      "244/244 - 29s - loss: 4.4739 - accuracy: 0.1432 - 29s/epoch - 117ms/step\n",
      "Epoch 20/100\n",
      "244/244 - 32s - loss: 4.3562 - accuracy: 0.1562 - 32s/epoch - 131ms/step\n",
      "Epoch 21/100\n",
      "244/244 - 30s - loss: 4.2380 - accuracy: 0.1753 - 30s/epoch - 123ms/step\n",
      "Epoch 22/100\n",
      "244/244 - 20s - loss: 4.1232 - accuracy: 0.1924 - 20s/epoch - 83ms/step\n",
      "Epoch 23/100\n",
      "244/244 - 23s - loss: 4.0139 - accuracy: 0.2115 - 23s/epoch - 93ms/step\n",
      "Epoch 24/100\n",
      "244/244 - 26s - loss: 3.9091 - accuracy: 0.2261 - 26s/epoch - 105ms/step\n",
      "Epoch 25/100\n",
      "244/244 - 30s - loss: 3.8057 - accuracy: 0.2426 - 30s/epoch - 122ms/step\n",
      "Epoch 26/100\n",
      "244/244 - 32s - loss: 3.7049 - accuracy: 0.2575 - 32s/epoch - 129ms/step\n",
      "Epoch 27/100\n",
      "244/244 - 25s - loss: 3.6082 - accuracy: 0.2800 - 25s/epoch - 104ms/step\n",
      "Epoch 28/100\n",
      "244/244 - 22s - loss: 3.5160 - accuracy: 0.2960 - 22s/epoch - 91ms/step\n",
      "Epoch 29/100\n",
      "244/244 - 22s - loss: 3.4253 - accuracy: 0.3127 - 22s/epoch - 92ms/step\n",
      "Epoch 30/100\n",
      "244/244 - 16s - loss: 3.3394 - accuracy: 0.3258 - 16s/epoch - 65ms/step\n",
      "Epoch 31/100\n",
      "244/244 - 13s - loss: 3.2540 - accuracy: 0.3412 - 13s/epoch - 52ms/step\n",
      "Epoch 32/100\n",
      "244/244 - 26s - loss: 3.1727 - accuracy: 0.3556 - 26s/epoch - 107ms/step\n",
      "Epoch 33/100\n",
      "244/244 - 34s - loss: 3.0960 - accuracy: 0.3693 - 34s/epoch - 138ms/step\n",
      "Epoch 34/100\n",
      "244/244 - 37s - loss: 3.0180 - accuracy: 0.3827 - 37s/epoch - 151ms/step\n",
      "Epoch 35/100\n",
      "244/244 - 37s - loss: 2.9452 - accuracy: 0.3989 - 37s/epoch - 150ms/step\n",
      "Epoch 36/100\n",
      "244/244 - 35s - loss: 2.8738 - accuracy: 0.4130 - 35s/epoch - 145ms/step\n",
      "Epoch 37/100\n",
      "244/244 - 30s - loss: 2.8045 - accuracy: 0.4280 - 30s/epoch - 124ms/step\n",
      "Epoch 38/100\n",
      "244/244 - 32s - loss: 2.7388 - accuracy: 0.4385 - 32s/epoch - 131ms/step\n",
      "Epoch 39/100\n",
      "244/244 - 33s - loss: 2.6757 - accuracy: 0.4459 - 33s/epoch - 137ms/step\n",
      "Epoch 40/100\n",
      "244/244 - 552s - loss: 2.6115 - accuracy: 0.4606 - 552s/epoch - 2s/step\n",
      "Epoch 41/100\n",
      "244/244 - 7s - loss: 2.5503 - accuracy: 0.4752 - 7s/epoch - 29ms/step\n",
      "Epoch 42/100\n",
      "244/244 - 7s - loss: 2.4930 - accuracy: 0.4849 - 7s/epoch - 28ms/step\n",
      "Epoch 43/100\n",
      "244/244 - 7s - loss: 2.4339 - accuracy: 0.4994 - 7s/epoch - 28ms/step\n",
      "Epoch 44/100\n",
      "244/244 - 7s - loss: 2.3793 - accuracy: 0.5049 - 7s/epoch - 27ms/step\n",
      "Epoch 45/100\n",
      "244/244 - 7s - loss: 2.3247 - accuracy: 0.5207 - 7s/epoch - 28ms/step\n",
      "Epoch 46/100\n",
      "244/244 - 7s - loss: 2.2691 - accuracy: 0.5311 - 7s/epoch - 29ms/step\n",
      "Epoch 47/100\n",
      "244/244 - 7s - loss: 2.2188 - accuracy: 0.5421 - 7s/epoch - 30ms/step\n",
      "Epoch 48/100\n",
      "244/244 - 7s - loss: 2.1695 - accuracy: 0.5509 - 7s/epoch - 30ms/step\n",
      "Epoch 49/100\n",
      "244/244 - 7s - loss: 2.1188 - accuracy: 0.5622 - 7s/epoch - 30ms/step\n",
      "Epoch 50/100\n",
      "244/244 - 7s - loss: 2.0734 - accuracy: 0.5748 - 7s/epoch - 29ms/step\n",
      "Epoch 51/100\n",
      "244/244 - 7s - loss: 2.0274 - accuracy: 0.5857 - 7s/epoch - 30ms/step\n",
      "Epoch 52/100\n",
      "244/244 - 7s - loss: 1.9797 - accuracy: 0.5962 - 7s/epoch - 29ms/step\n",
      "Epoch 53/100\n",
      "244/244 - 7s - loss: 1.9350 - accuracy: 0.6023 - 7s/epoch - 30ms/step\n",
      "Epoch 54/100\n",
      "244/244 - 7s - loss: 1.8891 - accuracy: 0.6168 - 7s/epoch - 28ms/step\n",
      "Epoch 55/100\n",
      "244/244 - 7s - loss: 1.8478 - accuracy: 0.6276 - 7s/epoch - 27ms/step\n",
      "Epoch 56/100\n",
      "244/244 - 7s - loss: 1.8018 - accuracy: 0.6376 - 7s/epoch - 29ms/step\n",
      "Epoch 57/100\n",
      "244/244 - 7s - loss: 1.7621 - accuracy: 0.6469 - 7s/epoch - 30ms/step\n",
      "Epoch 58/100\n",
      "244/244 - 8s - loss: 1.7218 - accuracy: 0.6591 - 8s/epoch - 32ms/step\n",
      "Epoch 59/100\n",
      "244/244 - 7s - loss: 1.6784 - accuracy: 0.6608 - 7s/epoch - 31ms/step\n",
      "Epoch 60/100\n",
      "244/244 - 7s - loss: 1.6395 - accuracy: 0.6719 - 7s/epoch - 30ms/step\n",
      "Epoch 61/100\n",
      "244/244 - 7s - loss: 1.6032 - accuracy: 0.6801 - 7s/epoch - 29ms/step\n",
      "Epoch 62/100\n",
      "244/244 - 7s - loss: 1.5650 - accuracy: 0.6904 - 7s/epoch - 29ms/step\n",
      "Epoch 63/100\n",
      "244/244 - 7s - loss: 1.5283 - accuracy: 0.6978 - 7s/epoch - 30ms/step\n",
      "Epoch 64/100\n",
      "244/244 - 7s - loss: 1.4941 - accuracy: 0.6984 - 7s/epoch - 30ms/step\n",
      "Epoch 65/100\n",
      "244/244 - 7s - loss: 1.4585 - accuracy: 0.7106 - 7s/epoch - 30ms/step\n",
      "Epoch 66/100\n",
      "244/244 - 8s - loss: 1.4259 - accuracy: 0.7151 - 8s/epoch - 31ms/step\n",
      "Epoch 67/100\n",
      "244/244 - 8s - loss: 1.3889 - accuracy: 0.7278 - 8s/epoch - 31ms/step\n",
      "Epoch 68/100\n",
      "244/244 - 8s - loss: 1.3581 - accuracy: 0.7274 - 8s/epoch - 31ms/step\n",
      "Epoch 69/100\n",
      "244/244 - 7s - loss: 1.3250 - accuracy: 0.7352 - 7s/epoch - 31ms/step\n",
      "Epoch 70/100\n",
      "244/244 - 8s - loss: 1.2917 - accuracy: 0.7452 - 8s/epoch - 31ms/step\n",
      "Epoch 71/100\n",
      "244/244 - 8s - loss: 1.2611 - accuracy: 0.7512 - 8s/epoch - 31ms/step\n",
      "Epoch 72/100\n",
      "244/244 - 8s - loss: 1.2331 - accuracy: 0.7582 - 8s/epoch - 32ms/step\n",
      "Epoch 73/100\n",
      "244/244 - 8s - loss: 1.2033 - accuracy: 0.7637 - 8s/epoch - 31ms/step\n",
      "Epoch 74/100\n",
      "244/244 - 8s - loss: 1.1717 - accuracy: 0.7680 - 8s/epoch - 31ms/step\n",
      "Epoch 75/100\n",
      "244/244 - 8s - loss: 1.1454 - accuracy: 0.7775 - 8s/epoch - 31ms/step\n",
      "Epoch 76/100\n",
      "244/244 - 8s - loss: 1.1188 - accuracy: 0.7784 - 8s/epoch - 32ms/step\n",
      "Epoch 77/100\n",
      "244/244 - 8s - loss: 1.0937 - accuracy: 0.7848 - 8s/epoch - 33ms/step\n",
      "Epoch 78/100\n",
      "244/244 - 7s - loss: 1.0636 - accuracy: 0.7919 - 7s/epoch - 31ms/step\n",
      "Epoch 79/100\n",
      "244/244 - 7s - loss: 1.0402 - accuracy: 0.7939 - 7s/epoch - 30ms/step\n",
      "Epoch 80/100\n",
      "244/244 - 8s - loss: 1.0120 - accuracy: 0.7998 - 8s/epoch - 31ms/step\n",
      "Epoch 81/100\n",
      "244/244 - 8s - loss: 0.9884 - accuracy: 0.8067 - 8s/epoch - 32ms/step\n",
      "Epoch 82/100\n",
      "244/244 - 8s - loss: 0.9675 - accuracy: 0.8090 - 8s/epoch - 31ms/step\n",
      "Epoch 83/100\n",
      "244/244 - 8s - loss: 0.9439 - accuracy: 0.8160 - 8s/epoch - 32ms/step\n",
      "Epoch 84/100\n",
      "244/244 - 8s - loss: 0.9206 - accuracy: 0.8202 - 8s/epoch - 31ms/step\n",
      "Epoch 85/100\n",
      "244/244 - 8s - loss: 0.8993 - accuracy: 0.8248 - 8s/epoch - 32ms/step\n",
      "Epoch 86/100\n",
      "244/244 - 8s - loss: 0.8785 - accuracy: 0.8288 - 8s/epoch - 32ms/step\n",
      "Epoch 87/100\n",
      "244/244 - 8s - loss: 0.8568 - accuracy: 0.8301 - 8s/epoch - 32ms/step\n",
      "Epoch 88/100\n",
      "244/244 - 8s - loss: 0.8374 - accuracy: 0.8343 - 8s/epoch - 32ms/step\n",
      "Epoch 89/100\n",
      "244/244 - 8s - loss: 0.8148 - accuracy: 0.8394 - 8s/epoch - 32ms/step\n",
      "Epoch 90/100\n",
      "244/244 - 8s - loss: 0.7949 - accuracy: 0.8431 - 8s/epoch - 32ms/step\n",
      "Epoch 91/100\n",
      "244/244 - 8s - loss: 0.7785 - accuracy: 0.8453 - 8s/epoch - 32ms/step\n",
      "Epoch 92/100\n",
      "244/244 - 8s - loss: 0.7619 - accuracy: 0.8486 - 8s/epoch - 32ms/step\n",
      "Epoch 93/100\n",
      "244/244 - 8s - loss: 0.7420 - accuracy: 0.8545 - 8s/epoch - 32ms/step\n",
      "Epoch 94/100\n",
      "244/244 - 9s - loss: 0.7249 - accuracy: 0.8566 - 9s/epoch - 38ms/step\n",
      "Epoch 95/100\n",
      "244/244 - 9s - loss: 0.7094 - accuracy: 0.8580 - 9s/epoch - 37ms/step\n",
      "Epoch 96/100\n",
      "244/244 - 9s - loss: 0.6918 - accuracy: 0.8639 - 9s/epoch - 37ms/step\n",
      "Epoch 97/100\n",
      "244/244 - 9s - loss: 0.6756 - accuracy: 0.8666 - 9s/epoch - 37ms/step\n",
      "Epoch 98/100\n",
      "244/244 - 9s - loss: 0.6590 - accuracy: 0.8693 - 9s/epoch - 37ms/step\n"
     ]
    },
    {
     "name": "stdout",
     "output_type": "stream",
     "text": [
      "Epoch 99/100\n",
      "244/244 - 9s - loss: 0.6445 - accuracy: 0.8709 - 9s/epoch - 36ms/step\n",
      "Epoch 100/100\n",
      "244/244 - 9s - loss: 0.6320 - accuracy: 0.8733 - 9s/epoch - 37ms/step\n"
     ]
    },
    {
     "data": {
      "text/plain": [
       "<keras.src.callbacks.History at 0x25eccacb610>"
      ]
     },
     "execution_count": 20,
     "metadata": {},
     "output_type": "execute_result"
    }
   ],
   "source": [
    "model = Sequential() \n",
    "# y데이터를  분리하였으므로  이제  X데이터의  길이는  기존  데이터의  길이  - 1 \n",
    "model.add(Embedding(vocab_size, 10, input_length=max_len-1)) # 10: 계산된 결과를 몇개까지 만들것인다\n",
    "model.add(LSTM(128)) \n",
    "model.add(Dense(vocab_size, activation='softmax')) \n",
    "model.compile(loss='categorical_crossentropy', optimizer='adam', metrics=['accuracy']) \n",
    "model.fit(X, y, epochs=100, verbose=2)"
   ]
  },
  {
   "cell_type": "code",
   "execution_count": 21,
   "id": "687613a5",
   "metadata": {},
   "outputs": [],
   "source": [
    "def sentence_generation(model, t, current_word, n): # 모델, 토크나이저, 현재  단어, 반복핛  횟수 \n",
    "    init_word = current_word # 처음  들어온  단어도  마지막에  같이  출력하기위해  저장 \n",
    "    sentence = '' \n",
    "    for _ in range(n): # n번  반복 \n",
    "        encoded = t.texts_to_sequences([current_word])[0] # 현재  단어에  대핚  정수  인코딩 \n",
    "        encoded = pad_sequences([encoded], maxlen=23, padding='pre') # 데이터에  대한  패딩 \n",
    "        result = model.predict_classes(encoded, verbose=0) \n",
    "        for word, index in t.word_index.items(): \n",
    "            if index == result: # 맊약  예측핚  단어와  인덱스와  동일한  단어가  있다면 \n",
    "                break # 해당  단어가  예측  단어이므로  break \n",
    "        current_word = current_word + ' '  + word # 현재  단어  + ' ' + 예측  단어를  현재  단어로  변경 \n",
    "        sentence = sentence + ' ' + word # 예측  단어를  문장에  저장 \n",
    "        \n",
    "    sentence = init_word + sentence \n",
    "    return sentence"
   ]
  },
  {
   "cell_type": "code",
   "execution_count": 22,
   "id": "28413ec2",
   "metadata": {},
   "outputs": [
    {
     "ename": "AttributeError",
     "evalue": "'Sequential' object has no attribute 'predict_classes'",
     "output_type": "error",
     "traceback": [
      "\u001b[1;31m---------------------------------------------------------------------------\u001b[0m",
      "\u001b[1;31mAttributeError\u001b[0m                            Traceback (most recent call last)",
      "Cell \u001b[1;32mIn[22], line 2\u001b[0m\n\u001b[0;32m      1\u001b[0m \u001b[38;5;66;03m# 임의의  단어  'i'에  대해서  10개의  단어를  추가  생성 \u001b[39;00m\n\u001b[1;32m----> 2\u001b[0m \u001b[38;5;28mprint\u001b[39m(\u001b[43msentence_generation\u001b[49m\u001b[43m(\u001b[49m\u001b[43mmodel\u001b[49m\u001b[43m,\u001b[49m\u001b[43m \u001b[49m\u001b[43mt\u001b[49m\u001b[43m,\u001b[49m\u001b[43m \u001b[49m\u001b[38;5;124;43m'\u001b[39;49m\u001b[38;5;124;43mi\u001b[39;49m\u001b[38;5;124;43m'\u001b[39;49m\u001b[43m,\u001b[49m\u001b[43m \u001b[49m\u001b[38;5;241;43m10\u001b[39;49m\u001b[43m)\u001b[49m)\n",
      "Cell \u001b[1;32mIn[21], line 7\u001b[0m, in \u001b[0;36msentence_generation\u001b[1;34m(model, t, current_word, n)\u001b[0m\n\u001b[0;32m      5\u001b[0m encoded \u001b[38;5;241m=\u001b[39m t\u001b[38;5;241m.\u001b[39mtexts_to_sequences([current_word])[\u001b[38;5;241m0\u001b[39m] \u001b[38;5;66;03m# 현재  단어에  대핚  정수  인코딩 \u001b[39;00m\n\u001b[0;32m      6\u001b[0m encoded \u001b[38;5;241m=\u001b[39m pad_sequences([encoded], maxlen\u001b[38;5;241m=\u001b[39m\u001b[38;5;241m23\u001b[39m, padding\u001b[38;5;241m=\u001b[39m\u001b[38;5;124m'\u001b[39m\u001b[38;5;124mpre\u001b[39m\u001b[38;5;124m'\u001b[39m) \u001b[38;5;66;03m# 데이터에  대한  패딩 \u001b[39;00m\n\u001b[1;32m----> 7\u001b[0m result \u001b[38;5;241m=\u001b[39m \u001b[43mmodel\u001b[49m\u001b[38;5;241;43m.\u001b[39;49m\u001b[43mpredict_classes\u001b[49m(encoded, verbose\u001b[38;5;241m=\u001b[39m\u001b[38;5;241m0\u001b[39m) \n\u001b[0;32m      8\u001b[0m \u001b[38;5;28;01mfor\u001b[39;00m word, index \u001b[38;5;129;01min\u001b[39;00m t\u001b[38;5;241m.\u001b[39mword_index\u001b[38;5;241m.\u001b[39mitems(): \n\u001b[0;32m      9\u001b[0m     \u001b[38;5;28;01mif\u001b[39;00m index \u001b[38;5;241m==\u001b[39m result: \u001b[38;5;66;03m# 맊약  예측핚  단어와  인덱스와  동일한  단어가  있다면 \u001b[39;00m\n",
      "\u001b[1;31mAttributeError\u001b[0m: 'Sequential' object has no attribute 'predict_classes'"
     ]
    }
   ],
   "source": [
    "# 임의의  단어  'i'에  대해서  10개의  단어를  추가  생성 \n",
    "print(sentence_generation(model, t, 'i', 10))"
   ]
  },
  {
   "cell_type": "code",
   "execution_count": null,
   "id": "9e370ba0",
   "metadata": {},
   "outputs": [],
   "source": [
    "# 임의의  단어  'how'에  대해서  10개의  단어를  추가  생성 \n",
    "print(sentence_generation(model, t, 'how', 10))"
   ]
  },
  {
   "cell_type": "code",
   "execution_count": null,
   "id": "b6d06fde",
   "metadata": {},
   "outputs": [],
   "source": []
  }
 ],
 "metadata": {
  "kernelspec": {
   "display_name": "Python 3 (ipykernel)",
   "language": "python",
   "name": "python3"
  },
  "language_info": {
   "codemirror_mode": {
    "name": "ipython",
    "version": 3
   },
   "file_extension": ".py",
   "mimetype": "text/x-python",
   "name": "python",
   "nbconvert_exporter": "python",
   "pygments_lexer": "ipython3",
   "version": "3.8.8"
  }
 },
 "nbformat": 4,
 "nbformat_minor": 5
}
