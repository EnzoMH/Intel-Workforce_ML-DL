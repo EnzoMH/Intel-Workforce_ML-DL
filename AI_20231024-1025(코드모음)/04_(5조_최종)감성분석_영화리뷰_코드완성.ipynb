{
 "cells": [
  {
   "cell_type": "markdown",
   "metadata": {
    "id": "iCCnWkA-mR9s"
   },
   "source": [
    "## 감성분석(Sentiment Analysis) - 영화리뷰"
   ]
  },
  {
   "cell_type": "code",
   "execution_count": null,
   "metadata": {
    "id": "Go3vuIXEmR9v"
   },
   "outputs": [],
   "source": [
    "# 라이브러리 가져오기\n",
    "import tensorflow as tf\n",
    "import numpy as np"
   ]
  },
  {
   "cell_type": "code",
   "execution_count": null,
   "metadata": {
    "id": "sX_dJDnrmR91"
   },
   "outputs": [],
   "source": [
    "# Naver Sentiment Movie Corpus v1.0 다운로드하기\n",
    "path_to_train_file = tf.keras.utils.get_file('train.txt', 'https://raw.githubusercontent.com/e9t/nsmc/master/ratings_train.txt')\n",
    "path_to_test_file = tf.keras.utils.get_file('test.txt', 'https://raw.githubusercontent.com/e9t/nsmc/master/ratings_test.txt')"
   ]
  },
  {
   "cell_type": "markdown",
   "metadata": {
    "id": "ndujrsvqmR92"
   },
   "source": [
    "## 1. 데이터 가져와서 X, y 생성하기 : 방법1"
   ]
  },
  {
   "cell_type": "code",
   "execution_count": null,
   "metadata": {
    "colab": {
     "base_uri": "https://localhost:8080/"
    },
    "id": "7BXdywjXmR92",
    "outputId": "2ad15045-e2ba-4cab-9551-ac92c44739ba"
   },
   "outputs": [
    {
     "name": "stdout",
     "output_type": "stream",
     "text": [
      "train text length: 6937271  characters\n",
      "test  text length: 2318260  characters\n",
      "id\tdocument\tlabel\n",
      "9976970\t아 더빙.. 진짜 짜증나네요 목소리\t0\n",
      "3819312\t흠...포스터보고 초딩영화줄....오버연기조차 가볍지 않구나\t1\n",
      "10265843\t너무재밓었다그래서보는것을추천한다\t0\n",
      "9045019\t교도소 이야기구먼 ..솔직히 재미는 없다..평점 조정\t0\n",
      "6483659\t사이몬페그의 익살스런 연기가 돋보였던 영화!스파이더맨에서 늙어보이기만 했던 커스틴 던스트가 너무나도 이뻐보였다\t1\n",
      "5403919\t막 걸음마 뗀 3세부터 초등학교 1학년생인 8살용영화.ㅋㅋㅋ...별반개도 아까움.\t0\n",
      "7797314\t원작의\n"
     ]
    }
   ],
   "source": [
    "# 1. 데이터 읽어 저장하기 : encoding 형식으로 utf-8 을 지정해야합니다.\n",
    "# path_to_train_file / path_to_test_file 을 open() 해서 read()한후 decode(encoding='utf-8') 한 후 train_text / test_text 에 저장합니다.\n",
    "\n",
    "train_text = open(path_to_train_file, 'rb').read().decode(encoding='utf-8') # ... your code\n",
    "test_text = open(path_to_test_file, 'rb').read().decode(encoding='utf-8') # ... your code\n",
    "\n",
    "print('train text length:', len(train_text),' characters')\n",
    "print('test  text length:', len(test_text),' characters')\n",
    "# print(train_text[:5])\n",
    "print(train_text[:300])"
   ]
  },
  {
   "cell_type": "code",
   "execution_count": null,
   "metadata": {
    "colab": {
     "base_uri": "https://localhost:8080/"
    },
    "id": "wbPYBlCqmR93",
    "outputId": "8817c773-3e49-489b-e075-5e0420364388"
   },
   "outputs": [
    {
     "name": "stdout",
     "output_type": "stream",
     "text": [
      "150000\n"
     ]
    },
    {
     "data": {
      "text/plain": [
       "['아 더빙.. 진짜 짜증나네요 목소리',\n",
       " '흠...포스터보고 초딩영화줄....오버연기조차 가볍지 않구나',\n",
       " '너무재밓었다그래서보는것을추천한다',\n",
       " '교도소 이야기구먼 ..솔직히 재미는 없다..평점 조정',\n",
       " '사이몬페그의 익살스런 연기가 돋보였던 영화!스파이더맨에서 늙어보이기만 했던 커스틴 던스트가 너무나도 이뻐보였다']"
      ]
     },
     "execution_count": 8,
     "metadata": {},
     "output_type": "execute_result"
    }
   ],
   "source": [
    "# X 값을 추출합니다.\n",
    "# 각 문장을 '\\n'으로 분리(split('\\n') 사용\n",
    "# -> 헤더제외 : split('\\n')[1:]\n",
    "# -> '\\t'으로 분리\n",
    "train_text_X = [row.split('\\t')[1] for row in train_text.split('\\n')[1:] if row.count('\\t') > 0 ]\n",
    "print(len(train_text_X))\n",
    "train_text_X[:5]"
   ]
  },
  {
   "cell_type": "code",
   "execution_count": null,
   "metadata": {
    "colab": {
     "base_uri": "https://localhost:8080/"
    },
    "id": "UrJyAUxHmR93",
    "outputId": "a16c6b54-a5b8-4f5f-9f63-d0f93d222f3e"
   },
   "outputs": [
    {
     "name": "stdout",
     "output_type": "stream",
     "text": [
      "(150000, 1) (50000, 1)\n",
      "[[0]\n",
      " [1]\n",
      " [0]\n",
      " [0]\n",
      " [1]]\n"
     ]
    }
   ],
   "source": [
    "# Y 레이블 추출합니다. - X 와 같은 방식으로\n",
    "# 각 문장을 '\\n'으로 분리 -> 헤더제외 -> '\\t'으로 분리 -> 마지막 문자 정수로 변환하여 2차원으로 변환\n",
    "train_Y = np.array([[int(row.split('\\t')[2])] for row in train_text.split('\\n')[1:] if row.count('\\t') > 0])\n",
    "test_Y = np.array([[int(row.split('\\t')[2])] for row in test_text.split('\\n')[1:] if row.count('\\t') > 0])\n",
    "\n",
    "print(train_Y.shape, test_Y.shape)\n",
    "print(train_Y[:5])"
   ]
  },
  {
   "cell_type": "markdown",
   "metadata": {
    "id": "vs67wQyqmR93"
   },
   "source": [
    "### 텍스트 전처리"
   ]
  },
  {
   "cell_type": "code",
   "execution_count": null,
   "metadata": {
    "colab": {
     "base_uri": "https://localhost:8080/"
    },
    "id": "aAK3WVh4mR93",
    "outputId": "5ddec1f9-4035-4c46-959d-7f556df5f444"
   },
   "outputs": [
    {
     "data": {
      "text/plain": [
       "['아 더빙 진짜 짜증나네요 목소리',\n",
       " '흠 포스터보고 초딩영화줄 오버연기조차 가볍지 않구나',\n",
       " '너무재밓었다그래서보는것을추천한다',\n",
       " '교도소 이야기구먼 솔직히 재미는 없다 평점 조정',\n",
       " '사이몬페그의 익살스런 연기가 돋보였던 영화 ! 스파이더맨에서 늙어보이기만 했던 커스틴 던스트가 너무나도 이뻐보였다']"
      ]
     },
     "execution_count": 10,
     "metadata": {},
     "output_type": "execute_result"
    }
   ],
   "source": [
    "# train_text_X  데이터의 입력(X)에 대한 정제(Cleaning)하기\n",
    "import re\n",
    "# From https://github.com/yoonkim/CNN_sentence/blob/master/process_data.py\n",
    "def clean_str(string):\n",
    "    string = re.sub(r\"[^가-힝A-Za-z0-9(),!?\\'\\`]\", \" \", string)\n",
    "    string = re.sub(r\"\\'s\", \" \\'s\", string)\n",
    "    string = re.sub(r\"\\'ve\", \" \\'ve\", string)\n",
    "    string = re.sub(r\"n\\'t\", \" n\\'t\", string)\n",
    "    string = re.sub(r\"\\'re\", \" \\'re\", string)\n",
    "    string = re.sub(r\"\\'d\", \" \\'d\", string)\n",
    "    string = re.sub(r\"\\'ll\", \" \\'ll\", string)\n",
    "    string = re.sub(r\",\", \" , \", string)\n",
    "    string = re.sub(r\"!\", \" ! \", string)\n",
    "    string = re.sub(r\"\\(\", \" \\( \", string)\n",
    "    string = re.sub(r\"\\)\", \" \\) \", string)\n",
    "    string = re.sub(r\"\\?\", \" \\? \", string)\n",
    "    string = re.sub(r\"\\s{2,}\", \" \", string)\n",
    "    string = re.sub(r\"\\'{2,}\", \"\\'\", string)\n",
    "    string = re.sub(r\"\\'\", \"\", string)\n",
    "\n",
    "    return string.lower()\n",
    "\n",
    "train_text_X = [clean_str(sentence) for sentence in train_text_X] # ... code here\n",
    "train_text_X[:5]"
   ]
  },
  {
   "cell_type": "code",
   "execution_count": null,
   "metadata": {
    "colab": {
     "base_uri": "https://localhost:8080/"
    },
    "id": "BaE0WFxzmR94",
    "outputId": "a4c987ad-8451-46e0-dc2b-e22a78ad1a18"
   },
   "outputs": [
    {
     "data": {
      "text/plain": [
       "[['아', '더빙', '진짜', '짜증나네요', '목소리'],\n",
       " ['흠포스터보고', '초딩영화줄오버연기조차', '가볍지', '않구나'],\n",
       " ['너무재밓었다그래서보는것을추천한다']]"
      ]
     },
     "execution_count": 11,
     "metadata": {},
     "output_type": "execute_result"
    }
   ],
   "source": [
    "# train_text_X 에 대해 문장을 띄어쓰기 단위로 단어 분리\n",
    "sentences = [sentence.split(' ') for sentence in train_text_X] # ... code here\n",
    "sentences[:5]\n",
    "\n",
    "[['아', '더빙', '진짜', '짜증나네요', '목소리'],\n",
    " ['흠포스터보고', '초딩영화줄오버연기조차', '가볍지', '않구나'], ['너무재밓었다그래서보는것을추천한다']]"
   ]
  },
  {
   "cell_type": "code",
   "execution_count": null,
   "metadata": {
    "colab": {
     "base_uri": "https://localhost:8080/",
     "height": 467
    },
    "id": "Scue0WSkmR94",
    "outputId": "afb5118b-b864-4168-80c3-5f8054d542bc"
   },
   "outputs": [
    {
     "data": {
      "image/png": "[encoded data removed]",
      "text/plain": [
       "<Figure size 640x480 with 1 Axes>"
      ]
     },
     "metadata": {},
     "output_type": "display_data"
    },
    {
     "name": "stdout",
     "output_type": "stream",
     "text": [
      "142587\n"
     ]
    }
   ],
   "source": [
    "# 150000개 문장의 단어 길이 확인\n",
    "import matplotlib.pyplot as plt\n",
    "# sentences 에 대해 각 문장의 길이를 구해를 구해  sentence_len 저장하기\n",
    "sentence_len = [len(sentence) for sentence in sentences] # ... code here\n",
    "# sentence_len 정렬하기\n",
    "sentence_len.sort()  # ... code here\n",
    "# sentence_len 으로 plot 하기\n",
    "plt.plot(sentence_len) # ... code here\n",
    "plt.xlabel('index')\n",
    "plt.ylabel('count')\n",
    "plt.show()\n",
    "\n",
    "# sentence_len 길이가 25개 이하인 것 합계구하고 출력하기\n",
    "print(sum([int(l<=25) for l in sentence_len]))\n",
    "# 15 만개 문장 중 단어 갯수가 25개 이하인 문장의 수가 142590개이다, 25를 sequence_length로 사용"
   ]
  },
  {
   "cell_type": "code",
   "execution_count": null,
   "metadata": {
    "colab": {
     "base_uri": "https://localhost:8080/"
    },
    "id": "zosiZkG0mR94",
    "outputId": "e2d13d38-0466-410f-b827-0ce10dda59ba"
   },
   "outputs": [
    {
     "data": {
      "text/plain": [
       "[['아', '더빙', '진짜', '짜증나네요', '목소리'],\n",
       " ['흠', '포스터보고', '초딩영화줄', '오버연기조', '가볍지', '않구나'],\n",
       " ['너무재밓었'],\n",
       " ['교도소', '이야기구먼', '솔직히', '재미는', '없다', '평점', '조정'],\n",
       " ['사이몬페그',\n",
       "  '익살스런',\n",
       "  '연기가',\n",
       "  '돋보였던',\n",
       "  '영화',\n",
       "  '!',\n",
       "  '스파이더맨',\n",
       "  '늙어보이기',\n",
       "  '했던',\n",
       "  '커스틴',\n",
       "  '던스트가',\n",
       "  '너무나도',\n",
       "  '이뻐보였다']]"
      ]
     },
     "execution_count": 13,
     "metadata": {},
     "output_type": "execute_result"
    }
   ],
   "source": [
    "# 단어 정제 및 문장 길이 줄임 : 각 단어의 최대 길이를 5로 고정하기\n",
    "\n",
    "sentences_new = []\n",
    "for sentence in sentences:\n",
    "    # 문장의 최대 길이를 25로 잡고 그 이상은 잘라내고 단어의 앞에서 5글자씩만 잘라서 사용하기\n",
    "    sentences_new.append([word[:5] for word in sentence[:25]])  # ... code here\n",
    "\n",
    "sentences = sentences_new\n",
    "sentences[:5]"
   ]
  },
  {
   "cell_type": "markdown",
   "metadata": {
    "id": "ng3ZdzZtmR94"
   },
   "source": [
    "### Tokenizer와 pad_sequences를 사용한 문장 전처리"
   ]
  },
  {
   "cell_type": "code",
   "execution_count": null,
   "metadata": {
    "colab": {
     "base_uri": "https://localhost:8080/"
    },
    "id": "EZEEZ6-UmR95",
    "outputId": "ef0dc107-f97b-4aab-edd9-49eac723c7b0"
   },
   "outputs": [
    {
     "data": {
      "text/plain": [
       "array([[   25,   884,     8,  5795,  1111,     0,     0,     0,     0,\n",
       "            0,     0,     0,     0,     0,     0,     0,     0,     0,\n",
       "            0,     0,     0,     0,     0,     0,     0],\n",
       "       [  588,  5796,  6697,     0,     0,     0,     0,     0,     0,\n",
       "            0,     0,     0,     0,     0,     0,     0,     0,     0,\n",
       "            0,     0,     0,     0,     0,     0,     0],\n",
       "       [    0,     0,     0,     0,     0,     0,     0,     0,     0,\n",
       "            0,     0,     0,     0,     0,     0,     0,     0,     0,\n",
       "            0,     0,     0,     0,     0,     0,     0],\n",
       "       [   71,   346,    31,    35, 10468,     0,     0,     0,     0,\n",
       "            0,     0,     0,     0,     0,     0,     0,     0,     0,\n",
       "            0,     0,     0,     0,     0,     0,     0],\n",
       "       [  106,  5338,     4,     2,  2169,   869,   573,     0,     0,\n",
       "            0,     0,     0,     0,     0,     0,     0,     0,     0,\n",
       "            0,     0,     0,     0,     0,     0,     0]], dtype=int32)"
      ]
     },
     "execution_count": 14,
     "metadata": {},
     "output_type": "execute_result"
    }
   ],
   "source": [
    "#  Tokenizer와 pad_sequences를 사용한 문장 전처리\n",
    "from tensorflow.keras.preprocessing.text import Tokenizer\n",
    "from tensorflow.keras.preprocessing.sequence import pad_sequences\n",
    "\n",
    "max_words = 20000\n",
    "max_length = 25\n",
    "# 가장 빈도가 높은 20000개(max_words)의 단어들만 사용하여 토큰화 인스턴스 생성하기 : tokenizer\n",
    "tokenizer = Tokenizer(num_words=max_words) # 빈도수가 높은 20000개 단어만 사용하여 숫자로 반환하고 나머지는 공백으로 반환\n",
    "# 단어(sentences) 인덱스 구축\n",
    "tokenizer.fit_on_texts(sentences)\n",
    "# 문자열을 정수 인덱스의 리스트로 변환\n",
    "sequences = tokenizer.texts_to_sequences(sentences)\n",
    "# 시퀀스 패딩 : 벡터 표현을 얻음, padding = 'post' - 문장의 뒤부분으로 0을 패딩\n",
    "train_X = pad_sequences(sequences, padding = 'post')\n",
    "\n",
    "train_X[:5]"
   ]
  },
  {
   "cell_type": "markdown",
   "metadata": {
    "id": "JiPDi_WpmR95"
   },
   "source": [
    "### 학습 모델 구현"
   ]
  },
  {
   "cell_type": "code",
   "execution_count": null,
   "metadata": {
    "colab": {
     "base_uri": "https://localhost:8080/"
    },
    "id": "xnCFRpwemR95",
    "outputId": "e8e66450-6b3b-4865-e4f9-26be826a45ab"
   },
   "outputs": [
    {
     "name": "stdout",
     "output_type": "stream",
     "text": [
      "Model: \"sequential_1\"\n",
      "_________________________________________________________________\n",
      " Layer (type)                Output Shape              Param #   \n",
      "=================================================================\n",
      " embedding_1 (Embedding)     (None, 25, 300)           6000000   \n",
      "                                                                 \n",
      " lstm_1 (LSTM)               (None, 50)                70200     \n",
      "                                                                 \n",
      " dense_1 (Dense)             (None, 5)                 255       \n",
      "                                                                 \n",
      "=================================================================\n",
      "Total params: 6070455 (23.16 MB)\n",
      "Trainable params: 6070455 (23.16 MB)\n",
      "Non-trainable params: 0 (0.00 Byte)\n",
      "_________________________________________________________________\n"
     ]
    }
   ],
   "source": [
    "# 토이프로젝트용 코드\n",
    "model = tf.keras.Sequential([\n",
    "    tf.keras.layers.Embedding(max_words, 300, input_length=max_length),\n",
    "    tf.keras.layers.LSTM(units=50),\n",
    "    tf.keras.layers.Dense(5, activation='softmax')\n",
    "])\n",
    "\n",
    "model.compile(optimizer='adam', loss='categorical_crossentropy', metrics=['accuracy'])\n",
    "model.summary()"
   ]
  },
  {
   "cell_type": "code",
   "execution_count": null,
   "metadata": {
    "id": "qquUwdc8mR95"
   },
   "outputs": [],
   "source": [
    "# model = tf.keras.Sequential([\n",
    "#     # Embedding 층 : max_words, 임베딩된 단어 벡터의 차원 : 300,  입력 데이터의 크기 : max_len : 25\n",
    "#     tf.keras.layers.Embedding(max_words, 300, input_length=max_length), # V:20000, D:300, T:25  --> (?,25,300)\n",
    "#      # LSTM 층 : units = 50\n",
    "#     tf.keras.layers.LSTM(units=50),                       # (?,50)\n",
    "#     # 출력 : class_num, activation = 'softmax'\n",
    "#     tf.keras.layers.Dense(2, activation='softmax')\n",
    "# ])\n",
    "\n",
    "# # sparse_categorical_crossentropy : 정답 Y가 희소인 다중 분류 모델의 loss\n",
    "# # categorical_crossentropy: 다중 분류 모델의 loss\n",
    "\n",
    "# # loss 종류\n",
    "# # mean_squared_error : 평균제곱 오차\n",
    "# # binary_crossentropy : 이진분류 오차\n",
    "# # categorical_crossentropy : 다중 분류 오차. one-hot encoding 클래스, [0.2, 0.3, 0.5] 와 같은 출력값과 실측값의 오차값을 계산한다.\n",
    "# # sparse_categorical_crossentropy: 다중 분류 오차. 위와 동일하지만 , integer type 클래스라는 것이 다르다.\n",
    "\n",
    "# model.compile(optimizer='adam', loss='sparse_categorical_crossentropy', metrics=['accuracy'])\n",
    "# model.summary()"
   ]
  },
  {
   "cell_type": "code",
   "execution_count": null,
   "metadata": {
    "colab": {
     "base_uri": "https://localhost:8080/"
    },
    "id": "ZXXpZLwAmR95",
    "outputId": "60783aba-0c5c-455b-f95e-3a8aa0c2cb8c"
   },
   "outputs": [
    {
     "name": "stdout",
     "output_type": "stream",
     "text": [
      "Epoch 1/20\n",
      "938/938 [==============================] - 7s 7ms/step - loss: 0.0807 - accuracy: 0.9535 - val_loss: 1.1622 - val_accuracy: 0.7925\n",
      "Epoch 2/20\n",
      "938/938 [==============================] - 8s 8ms/step - loss: 0.0784 - accuracy: 0.9536 - val_loss: 1.1787 - val_accuracy: 0.7945\n",
      "Epoch 3/20\n",
      "938/938 [==============================] - 8s 8ms/step - loss: 0.0780 - accuracy: 0.9541 - val_loss: 1.1956 - val_accuracy: 0.7861\n",
      "Epoch 4/20\n",
      "938/938 [==============================] - 7s 7ms/step - loss: 0.0768 - accuracy: 0.9547 - val_loss: 1.2378 - val_accuracy: 0.7929\n",
      "Epoch 5/20\n",
      "938/938 [==============================] - 9s 9ms/step - loss: 0.0760 - accuracy: 0.9548 - val_loss: 1.2094 - val_accuracy: 0.7899\n",
      "Epoch 6/20\n",
      "938/938 [==============================] - 7s 7ms/step - loss: 0.0753 - accuracy: 0.9548 - val_loss: 1.1673 - val_accuracy: 0.7922\n",
      "Epoch 7/20\n",
      "938/938 [==============================] - 8s 8ms/step - loss: 0.0744 - accuracy: 0.9553 - val_loss: 1.2177 - val_accuracy: 0.7910\n",
      "Epoch 8/20\n",
      "938/938 [==============================] - 7s 8ms/step - loss: 0.0738 - accuracy: 0.9554 - val_loss: 1.2815 - val_accuracy: 0.7895\n",
      "Epoch 9/20\n",
      "938/938 [==============================] - 7s 7ms/step - loss: 0.0726 - accuracy: 0.9562 - val_loss: 1.2947 - val_accuracy: 0.7881\n",
      "Epoch 10/20\n",
      "938/938 [==============================] - 8s 8ms/step - loss: 0.0725 - accuracy: 0.9558 - val_loss: 1.2693 - val_accuracy: 0.7919\n",
      "Epoch 11/20\n",
      "938/938 [==============================] - 8s 8ms/step - loss: 0.0718 - accuracy: 0.9561 - val_loss: 1.2563 - val_accuracy: 0.7882\n",
      "Epoch 12/20\n",
      "938/938 [==============================] - 8s 8ms/step - loss: 0.0712 - accuracy: 0.9559 - val_loss: 1.3480 - val_accuracy: 0.7891\n",
      "Epoch 13/20\n",
      "938/938 [==============================] - 7s 8ms/step - loss: 0.0715 - accuracy: 0.9565 - val_loss: 1.2529 - val_accuracy: 0.7892\n",
      "Epoch 14/20\n",
      "938/938 [==============================] - 7s 7ms/step - loss: 0.0702 - accuracy: 0.9569 - val_loss: 1.3326 - val_accuracy: 0.7881\n",
      "Epoch 15/20\n",
      "938/938 [==============================] - 7s 8ms/step - loss: 0.0696 - accuracy: 0.9574 - val_loss: 1.3599 - val_accuracy: 0.7918\n",
      "Epoch 16/20\n",
      "938/938 [==============================] - 7s 7ms/step - loss: 0.0698 - accuracy: 0.9569 - val_loss: 1.2113 - val_accuracy: 0.7903\n",
      "Epoch 17/20\n",
      "938/938 [==============================] - 7s 8ms/step - loss: 0.0695 - accuracy: 0.9577 - val_loss: 1.3555 - val_accuracy: 0.7924\n",
      "Epoch 18/20\n",
      "938/938 [==============================] - 7s 7ms/step - loss: 0.0690 - accuracy: 0.9575 - val_loss: 1.3054 - val_accuracy: 0.7888\n",
      "Epoch 19/20\n",
      "938/938 [==============================] - 8s 8ms/step - loss: 0.0683 - accuracy: 0.9576 - val_loss: 1.3482 - val_accuracy: 0.7859\n",
      "Epoch 20/20\n",
      "938/938 [==============================] - 7s 8ms/step - loss: 0.0679 - accuracy: 0.9583 - val_loss: 1.4527 - val_accuracy: 0.7890\n"
     ]
    }
   ],
   "source": [
    "#토이프젝용 코드\n",
    "from tensorflow.keras.utils import to_categorical\n",
    "\n",
    "# train_Y를 원-핫 인코딩\n",
    "train_Y_onehot = to_categorical(train_Y, num_classes=5)\n",
    "test_Y_onehot = to_categorical(train_Y, num_classes=5)\n",
    "\n",
    "# 모델 훈련\n",
    "history = model.fit(train_X, train_Y_onehot, epochs=20, batch_size=128, validation_split=0.2)\n"
   ]
  },
  {
   "cell_type": "code",
   "execution_count": null,
   "metadata": {
    "id": "iIiCHY71mR96",
    "outputId": "82086b5d-a259-4ac1-aefb-c7ac42543f26"
   },
   "outputs": [
    {
     "name": "stdout",
     "output_type": "stream",
     "text": [
      "Epoch 1/5\n",
      "938/938 [==============================] - 74s 75ms/step - loss: 0.4338 - accuracy: 0.7845 - val_loss: 0.3858 - val_accuracy: 0.8190\n",
      "Epoch 2/5\n",
      "938/938 [==============================] - 70s 74ms/step - loss: 0.3252 - accuracy: 0.8475 - val_loss: 0.3918 - val_accuracy: 0.8205\n",
      "Epoch 3/5\n",
      "938/938 [==============================] - 63s 67ms/step - loss: 0.2744 - accuracy: 0.8683 - val_loss: 0.4203 - val_accuracy: 0.8169\n",
      "Epoch 4/5\n",
      "938/938 [==============================] - 66s 71ms/step - loss: 0.2292 - accuracy: 0.8891 - val_loss: 0.4879 - val_accuracy: 0.8101\n",
      "Epoch 5/5\n",
      " 36/938 [>.............................] - ETA: 55s - loss: 0.1775 - accuracy: 0.9169"
     ]
    },
    {
     "ename": "KeyboardInterrupt",
     "evalue": "",
     "output_type": "error",
     "traceback": [
      "\u001b[1;31m---------------------------------------------------------------------------\u001b[0m",
      "\u001b[1;31mKeyboardInterrupt\u001b[0m                         Traceback (most recent call last)",
      "\u001b[1;32mc:\\Users\\cute7\\Python\\감성분석_영화리뷰\\04_감성분석_영화리뷰_코드완성.ipynb Cell 17\u001b[0m line \u001b[0;36m2\n\u001b[0;32m      <a href='vscode-notebook-cell:/c%3A/Users/cute7/Python/%EA%B0%90%EC%84%B1%EB%B6%84%EC%84%9D_%EC%98%81%ED%99%94%EB%A6%AC%EB%B7%B0/04_%EA%B0%90%EC%84%B1%EB%B6%84%EC%84%9D_%EC%98%81%ED%99%94%EB%A6%AC%EB%B7%B0_%EC%BD%94%EB%93%9C%EC%99%84%EC%84%B1.ipynb#X22sZmlsZQ%3D%3D?line=0'>1</a>\u001b[0m \u001b[39m# 감성 분석 모델 학습 : 약 15분 소요\u001b[39;00m\n\u001b[1;32m----> <a href='vscode-notebook-cell:/c%3A/Users/cute7/Python/%EA%B0%90%EC%84%B1%EB%B6%84%EC%84%9D_%EC%98%81%ED%99%94%EB%A6%AC%EB%B7%B0/04_%EA%B0%90%EC%84%B1%EB%B6%84%EC%84%9D_%EC%98%81%ED%99%94%EB%A6%AC%EB%B7%B0_%EC%BD%94%EB%93%9C%EC%99%84%EC%84%B1.ipynb#X22sZmlsZQ%3D%3D?line=1'>2</a>\u001b[0m history \u001b[39m=\u001b[39m model\u001b[39m.\u001b[39mfit(train_X,train_Y, epochs\u001b[39m=\u001b[39m\u001b[39m5\u001b[39m, batch_size\u001b[39m=\u001b[39m\u001b[39m128\u001b[39m, validation_split\u001b[39m=\u001b[39m\u001b[39m0.2\u001b[39m)\n",
      "File \u001b[1;32mc:\\Users\\cute7\\anaconda3\\Lib\\site-packages\\keras\\src\\utils\\traceback_utils.py:65\u001b[0m, in \u001b[0;36mfilter_traceback.<locals>.error_handler\u001b[1;34m(*args, **kwargs)\u001b[0m\n\u001b[0;32m     63\u001b[0m filtered_tb \u001b[39m=\u001b[39m \u001b[39mNone\u001b[39;00m\n\u001b[0;32m     64\u001b[0m \u001b[39mtry\u001b[39;00m:\n\u001b[1;32m---> 65\u001b[0m     \u001b[39mreturn\u001b[39;00m fn(\u001b[39m*\u001b[39margs, \u001b[39m*\u001b[39m\u001b[39m*\u001b[39mkwargs)\n\u001b[0;32m     66\u001b[0m \u001b[39mexcept\u001b[39;00m \u001b[39mException\u001b[39;00m \u001b[39mas\u001b[39;00m e:\n\u001b[0;32m     67\u001b[0m     filtered_tb \u001b[39m=\u001b[39m _process_traceback_frames(e\u001b[39m.\u001b[39m__traceback__)\n",
      "File \u001b[1;32mc:\\Users\\cute7\\anaconda3\\Lib\\site-packages\\keras\\src\\engine\\training.py:1783\u001b[0m, in \u001b[0;36mModel.fit\u001b[1;34m(self, x, y, batch_size, epochs, verbose, callbacks, validation_split, validation_data, shuffle, class_weight, sample_weight, initial_epoch, steps_per_epoch, validation_steps, validation_batch_size, validation_freq, max_queue_size, workers, use_multiprocessing)\u001b[0m\n\u001b[0;32m   1775\u001b[0m \u001b[39mwith\u001b[39;00m tf\u001b[39m.\u001b[39mprofiler\u001b[39m.\u001b[39mexperimental\u001b[39m.\u001b[39mTrace(\n\u001b[0;32m   1776\u001b[0m     \u001b[39m\"\u001b[39m\u001b[39mtrain\u001b[39m\u001b[39m\"\u001b[39m,\n\u001b[0;32m   1777\u001b[0m     epoch_num\u001b[39m=\u001b[39mepoch,\n\u001b[1;32m   (...)\u001b[0m\n\u001b[0;32m   1780\u001b[0m     _r\u001b[39m=\u001b[39m\u001b[39m1\u001b[39m,\n\u001b[0;32m   1781\u001b[0m ):\n\u001b[0;32m   1782\u001b[0m     callbacks\u001b[39m.\u001b[39mon_train_batch_begin(step)\n\u001b[1;32m-> 1783\u001b[0m     tmp_logs \u001b[39m=\u001b[39m \u001b[39mself\u001b[39m\u001b[39m.\u001b[39mtrain_function(iterator)\n\u001b[0;32m   1784\u001b[0m     \u001b[39mif\u001b[39;00m data_handler\u001b[39m.\u001b[39mshould_sync:\n\u001b[0;32m   1785\u001b[0m         context\u001b[39m.\u001b[39masync_wait()\n",
      "File \u001b[1;32mc:\\Users\\cute7\\anaconda3\\Lib\\site-packages\\tensorflow\\python\\util\\traceback_utils.py:150\u001b[0m, in \u001b[0;36mfilter_traceback.<locals>.error_handler\u001b[1;34m(*args, **kwargs)\u001b[0m\n\u001b[0;32m    148\u001b[0m filtered_tb \u001b[39m=\u001b[39m \u001b[39mNone\u001b[39;00m\n\u001b[0;32m    149\u001b[0m \u001b[39mtry\u001b[39;00m:\n\u001b[1;32m--> 150\u001b[0m   \u001b[39mreturn\u001b[39;00m fn(\u001b[39m*\u001b[39margs, \u001b[39m*\u001b[39m\u001b[39m*\u001b[39mkwargs)\n\u001b[0;32m    151\u001b[0m \u001b[39mexcept\u001b[39;00m \u001b[39mException\u001b[39;00m \u001b[39mas\u001b[39;00m e:\n\u001b[0;32m    152\u001b[0m   filtered_tb \u001b[39m=\u001b[39m _process_traceback_frames(e\u001b[39m.\u001b[39m__traceback__)\n",
      "File \u001b[1;32mc:\\Users\\cute7\\anaconda3\\Lib\\site-packages\\tensorflow\\python\\eager\\polymorphic_function\\polymorphic_function.py:831\u001b[0m, in \u001b[0;36mFunction.__call__\u001b[1;34m(self, *args, **kwds)\u001b[0m\n\u001b[0;32m    828\u001b[0m compiler \u001b[39m=\u001b[39m \u001b[39m\"\u001b[39m\u001b[39mxla\u001b[39m\u001b[39m\"\u001b[39m \u001b[39mif\u001b[39;00m \u001b[39mself\u001b[39m\u001b[39m.\u001b[39m_jit_compile \u001b[39melse\u001b[39;00m \u001b[39m\"\u001b[39m\u001b[39mnonXla\u001b[39m\u001b[39m\"\u001b[39m\n\u001b[0;32m    830\u001b[0m \u001b[39mwith\u001b[39;00m OptionalXlaContext(\u001b[39mself\u001b[39m\u001b[39m.\u001b[39m_jit_compile):\n\u001b[1;32m--> 831\u001b[0m   result \u001b[39m=\u001b[39m \u001b[39mself\u001b[39m\u001b[39m.\u001b[39m_call(\u001b[39m*\u001b[39margs, \u001b[39m*\u001b[39m\u001b[39m*\u001b[39mkwds)\n\u001b[0;32m    833\u001b[0m new_tracing_count \u001b[39m=\u001b[39m \u001b[39mself\u001b[39m\u001b[39m.\u001b[39mexperimental_get_tracing_count()\n\u001b[0;32m    834\u001b[0m without_tracing \u001b[39m=\u001b[39m (tracing_count \u001b[39m==\u001b[39m new_tracing_count)\n",
      "File \u001b[1;32mc:\\Users\\cute7\\anaconda3\\Lib\\site-packages\\tensorflow\\python\\eager\\polymorphic_function\\polymorphic_function.py:867\u001b[0m, in \u001b[0;36mFunction._call\u001b[1;34m(self, *args, **kwds)\u001b[0m\n\u001b[0;32m    864\u001b[0m   \u001b[39mself\u001b[39m\u001b[39m.\u001b[39m_lock\u001b[39m.\u001b[39mrelease()\n\u001b[0;32m    865\u001b[0m   \u001b[39m# In this case we have created variables on the first call, so we run the\u001b[39;00m\n\u001b[0;32m    866\u001b[0m   \u001b[39m# defunned version which is guaranteed to never create variables.\u001b[39;00m\n\u001b[1;32m--> 867\u001b[0m   \u001b[39mreturn\u001b[39;00m tracing_compilation\u001b[39m.\u001b[39mcall_function(\n\u001b[0;32m    868\u001b[0m       args, kwds, \u001b[39mself\u001b[39m\u001b[39m.\u001b[39m_no_variable_creation_config\n\u001b[0;32m    869\u001b[0m   )\n\u001b[0;32m    870\u001b[0m \u001b[39melif\u001b[39;00m \u001b[39mself\u001b[39m\u001b[39m.\u001b[39m_variable_creation_config \u001b[39mis\u001b[39;00m \u001b[39mnot\u001b[39;00m \u001b[39mNone\u001b[39;00m:\n\u001b[0;32m    871\u001b[0m   \u001b[39m# Release the lock early so that multiple threads can perform the call\u001b[39;00m\n\u001b[0;32m    872\u001b[0m   \u001b[39m# in parallel.\u001b[39;00m\n\u001b[0;32m    873\u001b[0m   \u001b[39mself\u001b[39m\u001b[39m.\u001b[39m_lock\u001b[39m.\u001b[39mrelease()\n",
      "File \u001b[1;32mc:\\Users\\cute7\\anaconda3\\Lib\\site-packages\\tensorflow\\python\\eager\\polymorphic_function\\tracing_compilation.py:139\u001b[0m, in \u001b[0;36mcall_function\u001b[1;34m(args, kwargs, tracing_options)\u001b[0m\n\u001b[0;32m    137\u001b[0m bound_args \u001b[39m=\u001b[39m function\u001b[39m.\u001b[39mfunction_type\u001b[39m.\u001b[39mbind(\u001b[39m*\u001b[39margs, \u001b[39m*\u001b[39m\u001b[39m*\u001b[39mkwargs)\n\u001b[0;32m    138\u001b[0m flat_inputs \u001b[39m=\u001b[39m function\u001b[39m.\u001b[39mfunction_type\u001b[39m.\u001b[39munpack_inputs(bound_args)\n\u001b[1;32m--> 139\u001b[0m \u001b[39mreturn\u001b[39;00m function\u001b[39m.\u001b[39m_call_flat(  \u001b[39m# pylint: disable=protected-access\u001b[39;00m\n\u001b[0;32m    140\u001b[0m     flat_inputs, captured_inputs\u001b[39m=\u001b[39mfunction\u001b[39m.\u001b[39mcaptured_inputs\n\u001b[0;32m    141\u001b[0m )\n",
      "File \u001b[1;32mc:\\Users\\cute7\\anaconda3\\Lib\\site-packages\\tensorflow\\python\\eager\\polymorphic_function\\concrete_function.py:1264\u001b[0m, in \u001b[0;36mConcreteFunction._call_flat\u001b[1;34m(self, tensor_inputs, captured_inputs)\u001b[0m\n\u001b[0;32m   1260\u001b[0m possible_gradient_type \u001b[39m=\u001b[39m gradients_util\u001b[39m.\u001b[39mPossibleTapeGradientTypes(args)\n\u001b[0;32m   1261\u001b[0m \u001b[39mif\u001b[39;00m (possible_gradient_type \u001b[39m==\u001b[39m gradients_util\u001b[39m.\u001b[39mPOSSIBLE_GRADIENT_TYPES_NONE\n\u001b[0;32m   1262\u001b[0m     \u001b[39mand\u001b[39;00m executing_eagerly):\n\u001b[0;32m   1263\u001b[0m   \u001b[39m# No tape is watching; skip to running the function.\u001b[39;00m\n\u001b[1;32m-> 1264\u001b[0m   \u001b[39mreturn\u001b[39;00m \u001b[39mself\u001b[39m\u001b[39m.\u001b[39m_inference_function\u001b[39m.\u001b[39mflat_call(args)\n\u001b[0;32m   1265\u001b[0m forward_backward \u001b[39m=\u001b[39m \u001b[39mself\u001b[39m\u001b[39m.\u001b[39m_select_forward_and_backward_functions(\n\u001b[0;32m   1266\u001b[0m     args,\n\u001b[0;32m   1267\u001b[0m     possible_gradient_type,\n\u001b[0;32m   1268\u001b[0m     executing_eagerly)\n\u001b[0;32m   1269\u001b[0m forward_function, args_with_tangents \u001b[39m=\u001b[39m forward_backward\u001b[39m.\u001b[39mforward()\n",
      "File \u001b[1;32mc:\\Users\\cute7\\anaconda3\\Lib\\site-packages\\tensorflow\\python\\eager\\polymorphic_function\\atomic_function.py:217\u001b[0m, in \u001b[0;36mAtomicFunction.flat_call\u001b[1;34m(self, args)\u001b[0m\n\u001b[0;32m    215\u001b[0m \u001b[39mdef\u001b[39;00m \u001b[39mflat_call\u001b[39m(\u001b[39mself\u001b[39m, args: Sequence[core\u001b[39m.\u001b[39mTensor]) \u001b[39m-\u001b[39m\u001b[39m>\u001b[39m Any:\n\u001b[0;32m    216\u001b[0m \u001b[39m  \u001b[39m\u001b[39m\"\"\"Calls with tensor inputs and returns the structured output.\"\"\"\u001b[39;00m\n\u001b[1;32m--> 217\u001b[0m   flat_outputs \u001b[39m=\u001b[39m \u001b[39mself\u001b[39m(\u001b[39m*\u001b[39margs)\n\u001b[0;32m    218\u001b[0m   \u001b[39mreturn\u001b[39;00m \u001b[39mself\u001b[39m\u001b[39m.\u001b[39mfunction_type\u001b[39m.\u001b[39mpack_output(flat_outputs)\n",
      "File \u001b[1;32mc:\\Users\\cute7\\anaconda3\\Lib\\site-packages\\tensorflow\\python\\eager\\polymorphic_function\\atomic_function.py:252\u001b[0m, in \u001b[0;36mAtomicFunction.__call__\u001b[1;34m(self, *args)\u001b[0m\n\u001b[0;32m    250\u001b[0m \u001b[39mwith\u001b[39;00m record\u001b[39m.\u001b[39mstop_recording():\n\u001b[0;32m    251\u001b[0m   \u001b[39mif\u001b[39;00m \u001b[39mself\u001b[39m\u001b[39m.\u001b[39m_bound_context\u001b[39m.\u001b[39mexecuting_eagerly():\n\u001b[1;32m--> 252\u001b[0m     outputs \u001b[39m=\u001b[39m \u001b[39mself\u001b[39m\u001b[39m.\u001b[39m_bound_context\u001b[39m.\u001b[39mcall_function(\n\u001b[0;32m    253\u001b[0m         \u001b[39mself\u001b[39m\u001b[39m.\u001b[39mname,\n\u001b[0;32m    254\u001b[0m         \u001b[39mlist\u001b[39m(args),\n\u001b[0;32m    255\u001b[0m         \u001b[39mlen\u001b[39m(\u001b[39mself\u001b[39m\u001b[39m.\u001b[39mfunction_type\u001b[39m.\u001b[39mflat_outputs),\n\u001b[0;32m    256\u001b[0m     )\n\u001b[0;32m    257\u001b[0m   \u001b[39melse\u001b[39;00m:\n\u001b[0;32m    258\u001b[0m     outputs \u001b[39m=\u001b[39m make_call_op_in_graph(\n\u001b[0;32m    259\u001b[0m         \u001b[39mself\u001b[39m,\n\u001b[0;32m    260\u001b[0m         \u001b[39mlist\u001b[39m(args),\n\u001b[0;32m    261\u001b[0m         \u001b[39mself\u001b[39m\u001b[39m.\u001b[39m_bound_context\u001b[39m.\u001b[39mfunction_call_options\u001b[39m.\u001b[39mas_attrs(),\n\u001b[0;32m    262\u001b[0m     )\n",
      "File \u001b[1;32mc:\\Users\\cute7\\anaconda3\\Lib\\site-packages\\tensorflow\\python\\eager\\context.py:1479\u001b[0m, in \u001b[0;36mContext.call_function\u001b[1;34m(self, name, tensor_inputs, num_outputs)\u001b[0m\n\u001b[0;32m   1477\u001b[0m cancellation_context \u001b[39m=\u001b[39m cancellation\u001b[39m.\u001b[39mcontext()\n\u001b[0;32m   1478\u001b[0m \u001b[39mif\u001b[39;00m cancellation_context \u001b[39mis\u001b[39;00m \u001b[39mNone\u001b[39;00m:\n\u001b[1;32m-> 1479\u001b[0m   outputs \u001b[39m=\u001b[39m execute\u001b[39m.\u001b[39mexecute(\n\u001b[0;32m   1480\u001b[0m       name\u001b[39m.\u001b[39mdecode(\u001b[39m\"\u001b[39m\u001b[39mutf-8\u001b[39m\u001b[39m\"\u001b[39m),\n\u001b[0;32m   1481\u001b[0m       num_outputs\u001b[39m=\u001b[39mnum_outputs,\n\u001b[0;32m   1482\u001b[0m       inputs\u001b[39m=\u001b[39mtensor_inputs,\n\u001b[0;32m   1483\u001b[0m       attrs\u001b[39m=\u001b[39mattrs,\n\u001b[0;32m   1484\u001b[0m       ctx\u001b[39m=\u001b[39m\u001b[39mself\u001b[39m,\n\u001b[0;32m   1485\u001b[0m   )\n\u001b[0;32m   1486\u001b[0m \u001b[39melse\u001b[39;00m:\n\u001b[0;32m   1487\u001b[0m   outputs \u001b[39m=\u001b[39m execute\u001b[39m.\u001b[39mexecute_with_cancellation(\n\u001b[0;32m   1488\u001b[0m       name\u001b[39m.\u001b[39mdecode(\u001b[39m\"\u001b[39m\u001b[39mutf-8\u001b[39m\u001b[39m\"\u001b[39m),\n\u001b[0;32m   1489\u001b[0m       num_outputs\u001b[39m=\u001b[39mnum_outputs,\n\u001b[1;32m   (...)\u001b[0m\n\u001b[0;32m   1493\u001b[0m       cancellation_manager\u001b[39m=\u001b[39mcancellation_context,\n\u001b[0;32m   1494\u001b[0m   )\n",
      "File \u001b[1;32mc:\\Users\\cute7\\anaconda3\\Lib\\site-packages\\tensorflow\\python\\eager\\execute.py:60\u001b[0m, in \u001b[0;36mquick_execute\u001b[1;34m(op_name, num_outputs, inputs, attrs, ctx, name)\u001b[0m\n\u001b[0;32m     53\u001b[0m   \u001b[39m# Convert any objects of type core_types.Tensor to Tensor.\u001b[39;00m\n\u001b[0;32m     54\u001b[0m   inputs \u001b[39m=\u001b[39m [\n\u001b[0;32m     55\u001b[0m       tensor_conversion_registry\u001b[39m.\u001b[39mconvert(t)\n\u001b[0;32m     56\u001b[0m       \u001b[39mif\u001b[39;00m \u001b[39misinstance\u001b[39m(t, core_types\u001b[39m.\u001b[39mTensor)\n\u001b[0;32m     57\u001b[0m       \u001b[39melse\u001b[39;00m t\n\u001b[0;32m     58\u001b[0m       \u001b[39mfor\u001b[39;00m t \u001b[39min\u001b[39;00m inputs\n\u001b[0;32m     59\u001b[0m   ]\n\u001b[1;32m---> 60\u001b[0m   tensors \u001b[39m=\u001b[39m pywrap_tfe\u001b[39m.\u001b[39mTFE_Py_Execute(ctx\u001b[39m.\u001b[39m_handle, device_name, op_name,\n\u001b[0;32m     61\u001b[0m                                       inputs, attrs, num_outputs)\n\u001b[0;32m     62\u001b[0m \u001b[39mexcept\u001b[39;00m core\u001b[39m.\u001b[39m_NotOkStatusException \u001b[39mas\u001b[39;00m e:\n\u001b[0;32m     63\u001b[0m   \u001b[39mif\u001b[39;00m name \u001b[39mis\u001b[39;00m \u001b[39mnot\u001b[39;00m \u001b[39mNone\u001b[39;00m:\n",
      "\u001b[1;31mKeyboardInterrupt\u001b[0m: "
     ]
    }
   ],
   "source": [
    "# 감성 분석 모델 학습 : 약 15분 소요\n",
    "# history = model.fit(train_X,train_Y, epochs=5, batch_size=128, validation_split=0.2)"
   ]
  },
  {
   "cell_type": "code",
   "execution_count": null,
   "metadata": {
    "colab": {
     "base_uri": "https://localhost:8080/"
    },
    "id": "eql_NTQPmR96",
    "outputId": "5da0745d-73d3-41e4-ab7d-d3844dae98e3"
   },
   "outputs": [
    {
     "data": {
      "text/plain": [
       "[0.817633330821991,\n",
       " 0.8230999708175659,\n",
       " 0.8185666799545288,\n",
       " 0.8133333325386047,\n",
       " 0.8051999807357788,\n",
       " 0.8044999837875366,\n",
       " 0.8021000027656555,\n",
       " 0.7997000217437744,\n",
       " 0.7993333339691162,\n",
       " 0.8031333088874817,\n",
       " 0.7955666780471802,\n",
       " 0.7983333468437195,\n",
       " 0.7979000210762024,\n",
       " 0.7958999872207642,\n",
       " 0.7918333411216736,\n",
       " 0.794700026512146,\n",
       " 0.7929333448410034,\n",
       " 0.789900004863739,\n",
       " 0.7917666435241699,\n",
       " 0.7924000024795532]"
      ]
     },
     "execution_count": 23,
     "metadata": {},
     "output_type": "execute_result"
    }
   ],
   "source": [
    "history.history['loss']\n",
    "history.history['val_loss']\n",
    "history.history['accuracy']\n",
    "history.history['val_accuracy']"
   ]
  },
  {
   "cell_type": "code",
   "execution_count": null,
   "metadata": {
    "colab": {
     "base_uri": "https://localhost:8080/",
     "height": 393
    },
    "id": "xIZZi7VrmR96",
    "outputId": "71c05de7-e45c-4bb6-9041-475859aad86c"
   },
   "outputs": [
    {
     "data": {
      "image/png": "[encoded data removed]",
      "text/plain": [
       "<Figure size 1200x400 with 2 Axes>"
      ]
     },
     "metadata": {},
     "output_type": "display_data"
    }
   ],
   "source": [
    "# 감성 분석 모델 학습 결과 확인\n",
    "import matplotlib.pyplot as plt\n",
    "plt.figure(figsize=(12, 4))\n",
    "\n",
    "plt.subplot(1, 2, 1)\n",
    "plt.plot(history.history['loss'], 'b-', label='loss')\n",
    "plt.plot(history.history['val_loss'], 'r--', label='val_loss')\n",
    "plt.xlabel('Epoch')\n",
    "plt.legend()\n",
    "\n",
    "plt.subplot(1, 2, 2)\n",
    "plt.plot(history.history['accuracy'], 'g-', label='accuracy')\n",
    "plt.plot(history.history['val_accuracy'], 'k--', label='val_accuracy')\n",
    "plt.xlabel('Epoch')\n",
    "plt.ylim(0.7, 1)\n",
    "plt.legend()\n",
    "\n",
    "plt.show()"
   ]
  },
  {
   "cell_type": "markdown",
   "metadata": {
    "id": "pZwx4ATAmR96"
   },
   "source": [
    "### 정확도 측정하기"
   ]
  },
  {
   "cell_type": "code",
   "execution_count": null,
   "metadata": {
    "colab": {
     "base_uri": "https://localhost:8080/"
    },
    "id": "Dc-AHPxomR96",
    "outputId": "a21c95e6-b9f6-482f-d39a-6caf6448f857"
   },
   "outputs": [
    {
     "data": {
      "text/plain": [
       "array([[  594,     1,     0,     0,     0,     0,     0,     0,     0,\n",
       "            0,     0,     0,     0,     0,     0,     0,     0,     0,\n",
       "            0,     0,     0,     0,     0,     0,     0],\n",
       "       [    0,     0,     0,     0,     0,     0,     0,     0,     0,\n",
       "            0,     0,     0,     0,     0,     0,     0,     0,     0,\n",
       "            0,     0,     0,     0,     0,     0,     0],\n",
       "       [  357,     9,  4626,   990,    69,  3348,  2773,     0,     0,\n",
       "            0,     0,     0,     0,     0,     0,     0,     0,     0,\n",
       "            0,     0,     0,     0,     0,     0,     0],\n",
       "       [ 2110,    32, 12562,   506,  1450,     1,     0,     0,     0,\n",
       "            0,     0,     0,     0,     0,     0,     0,     0,     0,\n",
       "            0,     0,     0,     0,     0,     0,     0],\n",
       "       [17857,   109, 12074,   244, 18890,    11,  3365,   348,   468,\n",
       "        12715,     5,     5,     1,     0,     0,     0,     0,     0,\n",
       "            0,     0,     0,     0,     0,     0,     0]], dtype=int32)"
      ]
     },
     "execution_count": 25,
     "metadata": {},
     "output_type": "execute_result"
    }
   ],
   "source": [
    "# test_X 값 추출하기\n",
    "test_text_X = [row.split('\\t')[1] for row in test_text.split('\\n')[1:] if row.count('\\t') > 0]\n",
    "\n",
    "# test_text_X  데이터의 입력(X)에 대한 정제(Cleaning)하기\n",
    "test_text_X =[clean_str(sentence) for sentence in test_text_X ] # ... code here\n",
    "\n",
    "# 문장을 띄어쓰기 단위로 단어 분리하여 test_sentences 저장하기 : split()\n",
    "test_sentences = [sentence.split(' ') for sentence in test_text_X] # ... code here\n",
    "\n",
    "# 단어 정제 및 문장 길이 줄임 : 각 단어의 최대 길이를 5로 고정\n",
    "# 문장의 최대 길이를 25로 잡고 그 이상은 잘라내고 단어의 앞에서 5글자씩만 잘라서 사용한다\n",
    "test_sentences_new = []\n",
    "for sentence in test_sentences:\n",
    "    test_sentences_new.append([word[:5] for word in sentence[:25]])\n",
    "test_sentences = test_sentences_new\n",
    "\n",
    "# 테스트 데이터 셋 토근화하기 : texts_to_sequences()\n",
    "test_sentences = tokenizer.texts_to_sequences(test_sentences)\n",
    "# 테스트 데이터 셋 패딩하기 : pad_sequences()  - 문장의 뒤부분으로 0을 패딩\n",
    "test_X = pad_sequences(test_sentences, padding='post')\n",
    "\n",
    "test_X[:5]  # 25개의 길이로 패딩이 완성됨"
   ]
  },
  {
   "cell_type": "code",
   "execution_count": null,
   "metadata": {
    "colab": {
     "base_uri": "https://localhost:8080/",
     "height": 754
    },
    "id": "x1ouyvcEmR96",
    "outputId": "ace648a1-4409-45d9-e6ac-c5da0728a861"
   },
   "outputs": [
    {
     "ename": "ValueError",
     "evalue": "ignored",
     "output_type": "error",
     "traceback": [
      "\u001b[0;31m---------------------------------------------------------------------------\u001b[0m",
      "\u001b[0;31mValueError\u001b[0m                                Traceback (most recent call last)",
      "\u001b[0;32m<ipython-input-26-7a17ed56dac6>\u001b[0m in \u001b[0;36m<cell line: 1>\u001b[0;34m()\u001b[0m\n\u001b[0;32m----> 1\u001b[0;31m \u001b[0maccr\u001b[0m \u001b[0;34m=\u001b[0m \u001b[0mmodel\u001b[0m\u001b[0;34m.\u001b[0m\u001b[0mevaluate\u001b[0m\u001b[0;34m(\u001b[0m\u001b[0mtest_X\u001b[0m\u001b[0;34m,\u001b[0m \u001b[0mtest_Y\u001b[0m\u001b[0;34m,\u001b[0m \u001b[0mverbose\u001b[0m\u001b[0;34m=\u001b[0m\u001b[0;36m0\u001b[0m\u001b[0;34m)\u001b[0m\u001b[0;34m\u001b[0m\u001b[0;34m\u001b[0m\u001b[0m\n\u001b[0m",
      "\u001b[0;32m/usr/local/lib/python3.10/dist-packages/keras/src/utils/traceback_utils.py\u001b[0m in \u001b[0;36merror_handler\u001b[0;34m(*args, **kwargs)\u001b[0m\n\u001b[1;32m     68\u001b[0m             \u001b[0;31m# To get the full stack trace, call:\u001b[0m\u001b[0;34m\u001b[0m\u001b[0;34m\u001b[0m\u001b[0m\n\u001b[1;32m     69\u001b[0m             \u001b[0;31m# `tf.debugging.disable_traceback_filtering()`\u001b[0m\u001b[0;34m\u001b[0m\u001b[0;34m\u001b[0m\u001b[0m\n\u001b[0;32m---> 70\u001b[0;31m             \u001b[0;32mraise\u001b[0m \u001b[0me\u001b[0m\u001b[0;34m.\u001b[0m\u001b[0mwith_traceback\u001b[0m\u001b[0;34m(\u001b[0m\u001b[0mfiltered_tb\u001b[0m\u001b[0;34m)\u001b[0m \u001b[0;32mfrom\u001b[0m \u001b[0;32mNone\u001b[0m\u001b[0;34m\u001b[0m\u001b[0;34m\u001b[0m\u001b[0m\n\u001b[0m\u001b[1;32m     71\u001b[0m         \u001b[0;32mfinally\u001b[0m\u001b[0;34m:\u001b[0m\u001b[0;34m\u001b[0m\u001b[0;34m\u001b[0m\u001b[0m\n\u001b[1;32m     72\u001b[0m             \u001b[0;32mdel\u001b[0m \u001b[0mfiltered_tb\u001b[0m\u001b[0;34m\u001b[0m\u001b[0;34m\u001b[0m\u001b[0m\n",
      "\u001b[0;32m/usr/local/lib/python3.10/dist-packages/keras/src/engine/training.py\u001b[0m in \u001b[0;36mtf__test_function\u001b[0;34m(iterator)\u001b[0m\n\u001b[1;32m     13\u001b[0m                 \u001b[0;32mtry\u001b[0m\u001b[0;34m:\u001b[0m\u001b[0;34m\u001b[0m\u001b[0;34m\u001b[0m\u001b[0m\n\u001b[1;32m     14\u001b[0m                     \u001b[0mdo_return\u001b[0m \u001b[0;34m=\u001b[0m \u001b[0;32mTrue\u001b[0m\u001b[0;34m\u001b[0m\u001b[0;34m\u001b[0m\u001b[0m\n\u001b[0;32m---> 15\u001b[0;31m                     \u001b[0mretval_\u001b[0m \u001b[0;34m=\u001b[0m \u001b[0mag__\u001b[0m\u001b[0;34m.\u001b[0m\u001b[0mconverted_call\u001b[0m\u001b[0;34m(\u001b[0m\u001b[0mag__\u001b[0m\u001b[0;34m.\u001b[0m\u001b[0mld\u001b[0m\u001b[0;34m(\u001b[0m\u001b[0mstep_function\u001b[0m\u001b[0;34m)\u001b[0m\u001b[0;34m,\u001b[0m \u001b[0;34m(\u001b[0m\u001b[0mag__\u001b[0m\u001b[0;34m.\u001b[0m\u001b[0mld\u001b[0m\u001b[0;34m(\u001b[0m\u001b[0mself\u001b[0m\u001b[0;34m)\u001b[0m\u001b[0;34m,\u001b[0m \u001b[0mag__\u001b[0m\u001b[0;34m.\u001b[0m\u001b[0mld\u001b[0m\u001b[0;34m(\u001b[0m\u001b[0miterator\u001b[0m\u001b[0;34m)\u001b[0m\u001b[0;34m)\u001b[0m\u001b[0;34m,\u001b[0m \u001b[0;32mNone\u001b[0m\u001b[0;34m,\u001b[0m \u001b[0mfscope\u001b[0m\u001b[0;34m)\u001b[0m\u001b[0;34m\u001b[0m\u001b[0;34m\u001b[0m\u001b[0m\n\u001b[0m\u001b[1;32m     16\u001b[0m                 \u001b[0;32mexcept\u001b[0m\u001b[0;34m:\u001b[0m\u001b[0;34m\u001b[0m\u001b[0;34m\u001b[0m\u001b[0m\n\u001b[1;32m     17\u001b[0m                     \u001b[0mdo_return\u001b[0m \u001b[0;34m=\u001b[0m \u001b[0;32mFalse\u001b[0m\u001b[0;34m\u001b[0m\u001b[0;34m\u001b[0m\u001b[0m\n",
      "\u001b[0;31mValueError\u001b[0m: in user code:\n\n    File \"/usr/local/lib/python3.10/dist-packages/keras/src/engine/training.py\", line 2042, in test_function  *\n        return step_function(self, iterator)\n    File \"/usr/local/lib/python3.10/dist-packages/keras/src/engine/training.py\", line 2025, in step_function  **\n        outputs = model.distribute_strategy.run(run_step, args=(data,))\n    File \"/usr/local/lib/python3.10/dist-packages/keras/src/engine/training.py\", line 2013, in run_step  **\n        outputs = model.test_step(data)\n    File \"/usr/local/lib/python3.10/dist-packages/keras/src/engine/training.py\", line 1895, in test_step\n        self.compute_loss(x, y, y_pred, sample_weight)\n    File \"/usr/local/lib/python3.10/dist-packages/keras/src/engine/training.py\", line 1185, in compute_loss\n        return self.compiled_loss(\n    File \"/usr/local/lib/python3.10/dist-packages/keras/src/engine/compile_utils.py\", line 277, in __call__\n        loss_value = loss_obj(y_t, y_p, sample_weight=sw)\n    File \"/usr/local/lib/python3.10/dist-packages/keras/src/losses.py\", line 143, in __call__\n        losses = call_fn(y_true, y_pred)\n    File \"/usr/local/lib/python3.10/dist-packages/keras/src/losses.py\", line 270, in call  **\n        return ag_fn(y_true, y_pred, **self._fn_kwargs)\n    File \"/usr/local/lib/python3.10/dist-packages/keras/src/losses.py\", line 2221, in categorical_crossentropy\n        return backend.categorical_crossentropy(\n    File \"/usr/local/lib/python3.10/dist-packages/keras/src/backend.py\", line 5575, in categorical_crossentropy\n        target.shape.assert_is_compatible_with(output.shape)\n\n    ValueError: Shapes (None, 1) and (None, 5) are incompatible\n"
     ]
    }
   ],
   "source": [
    "accr = model.evaluate(test_X, test_Y, verbose=0)"
   ]
  },
  {
   "cell_type": "code",
   "execution_count": null,
   "metadata": {
    "colab": {
     "base_uri": "https://localhost:8080/",
     "height": 183
    },
    "id": "aF5csk3emR96",
    "outputId": "734be745-232a-4392-d17d-a83b55c71ed6"
   },
   "outputs": [
    {
     "ename": "NameError",
     "evalue": "ignored",
     "output_type": "error",
     "traceback": [
      "\u001b[0;31m---------------------------------------------------------------------------\u001b[0m",
      "\u001b[0;31mNameError\u001b[0m                                 Traceback (most recent call last)",
      "\u001b[0;32m<ipython-input-27-600f49e2e31f>\u001b[0m in \u001b[0;36m<cell line: 1>\u001b[0;34m()\u001b[0m\n\u001b[0;32m----> 1\u001b[0;31m \u001b[0mprint\u001b[0m\u001b[0;34m(\u001b[0m\u001b[0;34m'Test set\\n  Loss: {:0.3f}\\n  Accuracy: {:0.3f}'\u001b[0m\u001b[0;34m.\u001b[0m\u001b[0mformat\u001b[0m\u001b[0;34m(\u001b[0m\u001b[0maccr\u001b[0m\u001b[0;34m[\u001b[0m\u001b[0;36m0\u001b[0m\u001b[0;34m]\u001b[0m\u001b[0;34m,\u001b[0m\u001b[0maccr\u001b[0m\u001b[0;34m[\u001b[0m\u001b[0;36m1\u001b[0m\u001b[0;34m]\u001b[0m\u001b[0;34m)\u001b[0m\u001b[0;34m)\u001b[0m\u001b[0;34m\u001b[0m\u001b[0;34m\u001b[0m\u001b[0m\n\u001b[0m",
      "\u001b[0;31mNameError\u001b[0m: name 'accr' is not defined"
     ]
    }
   ],
   "source": [
    "print('Test set\\n  Loss: {:0.3f}\\n  Accuracy: {:0.3f}'.format(accr[0],accr[1]))"
   ]
  },
  {
   "cell_type": "markdown",
   "metadata": {
    "id": "LUsxSIIImR97"
   },
   "source": [
    "### 예측"
   ]
  },
  {
   "cell_type": "code",
   "execution_count": null,
   "metadata": {
    "colab": {
     "base_uri": "https://localhost:8080/"
    },
    "id": "J0B9u6iYmR97",
    "outputId": "5ac2789a-9ebf-4e56-e6b7-c8d9d7ab1bd6"
   },
   "outputs": [
    {
     "name": "stdout",
     "output_type": "stream",
     "text": [
      "1/1 [==============================] - 0s 22ms/step\n",
      "['재미있을']\n",
      "[4.6213082e-04 9.9953783e-01 3.3322081e-08 3.7608931e-08 2.7367003e-08]\n",
      "['재미있을', '줄']\n",
      "[4.9437005e-02 9.5056289e-01 3.7527062e-08 3.3293016e-08 2.8739647e-08]\n",
      "['재미있을', '줄', '알았는데']\n",
      "[9.9978095e-01 2.1903840e-04 9.7700603e-10 1.1020345e-09 5.2736987e-10]\n",
      "['재미있을', '줄', '알았는데', '완전']\n",
      "[9.9997079e-01 2.9227578e-05 1.6547924e-10 1.5688251e-10 8.8706015e-11]\n",
      "['재미있을', '줄', '알았는데', '완전', '실망했다.']\n",
      "[9.9997079e-01 2.9227578e-05 1.6547924e-10 1.5688251e-10 8.8706015e-11]\n",
      "['재미있을', '줄', '알았는데', '완전', '실망했다.', '너무']\n",
      "[9.9989104e-01 1.0893845e-04 2.6721411e-10 2.4807528e-10 1.3283072e-10]\n",
      "['재미있을', '줄', '알았는데', '완전', '실망했다.', '너무', '졸리고']\n",
      "[9.9997807e-01 2.1951106e-05 5.0627280e-11 5.8017566e-11 3.2274336e-11]\n",
      "['재미있을', '줄', '알았는데', '완전', '실망했다.', '너무', '졸리고', '돈이']\n",
      "[9.9999833e-01 1.6222642e-06 1.1466811e-11 1.5020549e-11 7.1676211e-12]\n",
      "['재미있을', '줄', '알았는데', '완전', '실망했다.', '너무', '졸리고', '돈이', '아까웠다.']\n",
      "[9.9999833e-01 1.6222642e-06 1.1466811e-11 1.5020549e-11 7.1676211e-12]\n"
     ]
    }
   ],
   "source": [
    "# 임의의 문장 감성 분석 예측 결과 확인해보기\n",
    "test_sent = '재미있을 줄 알았는데 완전 실망했다. 너무 졸리고 돈이 아까웠다.'\n",
    "test_sent = test_sent.split(' ') # ['재미있을', '줄', '알았는데', '완전', '실망했다.', '너무', '졸리고', '돈이', '아까웠다.']\n",
    "test_sents = []\n",
    "new_sent = []\n",
    "\n",
    "for word in test_sent:\n",
    "    new_sent.append(word)\n",
    "    test_sents.append(new_sent[:])\n",
    "# test_sentences  # 9개\n",
    "\n",
    "test_sequences = tokenizer.texts_to_sequences(test_sents)\n",
    "test_X_new = pad_sequences(test_sequences, padding='post', maxlen=25)\n",
    "# test_X_new\n",
    "\n",
    "prediction = model.predict(test_X_new)  # 분류할 값 2개가 확률로 출력\n",
    "\n",
    "for idx, sentence in enumerate(test_sents):\n",
    "    print(sentence)\n",
    "    print(prediction[idx])"
   ]
  },
  {
   "cell_type": "code",
   "execution_count": null,
   "metadata": {
    "id": "Cajks5eNrTA0"
   },
   "outputs": [],
   "source": [
    "def sentiment_predict(test_sentence):\n",
    "    test_sentence = test_sentence.split(' ')\n",
    "    test_sentences = []\n",
    "    new_sentence = []\n",
    "\n",
    "    for word in test_sentence:\n",
    "        new_sentence.append(word)\n",
    "        test_sentences.append(new_sentence[:])\n",
    "\n",
    "    sequences = tokenizer.texts_to_sequences(test_sentences)\n",
    "    test_X_new = pad_sequences(sequences, padding='post', maxlen=25)\n",
    "\n",
    "    prediction = model.predict(test_X_new)\n",
    "\n",
    "    # Initialize variables to store cumulative probabilities\n",
    "    total_prob_polar_negative = 0\n",
    "    total_prob_negative = 0\n",
    "    total_prob_neutral = 0\n",
    "    total_prob_positive = 0\n",
    "    total_prob_polar_positive = 0\n",
    "\n",
    "    for idx, sentence in enumerate(test_sentences):\n",
    "        score = prediction[idx]\n",
    "\n",
    "        total_prob_polar_negative += score[0]\n",
    "        total_prob_negative += score[1]\n",
    "        total_prob_neutral += score[2]\n",
    "        total_prob_positive += score[3]\n",
    "        total_prob_polar_positive += score[4]\n",
    "\n",
    "    # Calculate total probability\n",
    "    total_prob = total_prob_polar_negative + total_prob_negative + total_prob_neutral + total_prob_positive + total_prob_polar_positive\n",
    "\n",
    "    if total_prob == 0:\n",
    "        print(\"예측 불가능한 문장입니다.\")\n",
    "    else:\n",
    "        # Find the maximum probability and corresponding label\n",
    "        max_prob = max(total_prob_polar_negative, total_prob_negative, total_prob_neutral, total_prob_positive, total_prob_polar_positive)\n",
    "\n",
    "        if max_prob == total_prob_polar_negative:\n",
    "            result = \"불쾌함을 느낀 리뷰, 평점 : ★☆☆☆☆\"\n",
    "        elif max_prob == total_prob_negative:\n",
    "            result = \"부정적인 리뷰, 평점 :★★☆☆☆\"\n",
    "        elif max_prob == total_prob_neutral:\n",
    "            result = \"보통 리뷰, 평점 : ★★★☆☆\"\n",
    "        elif max_prob == total_prob_positive:\n",
    "            result = \"좋은 리뷰, 평점 : ★★★★☆\"\n",
    "        elif max_prob == total_prob_polar_positive:\n",
    "            result = \"행복함을 느낀 리뷰, 평점 : ★★★★★\"\n",
    "\n",
    "        print(\"{:.2f}% 확률로 {}\".format(max_prob / total_prob * 100, result))"
   ]
  },
  {
   "cell_type": "code",
   "execution_count": null,
   "metadata": {
    "colab": {
     "base_uri": "https://localhost:8080/"
    },
    "id": "u_RP7eyvmR97",
    "outputId": "0f4f9b80-29b7-4bbd-f31f-d33e06c1808e"
   },
   "outputs": [
    {
     "name": "stdout",
     "output_type": "stream",
     "text": [
      "1/1 [==============================] - 0s 20ms/step\n"
     ]
    }
   ],
   "source": [
    "prediction = model.predict(test_X_new)"
   ]
  },
  {
   "cell_type": "code",
   "execution_count": null,
   "metadata": {
    "id": "g-v5J2_nmR97"
   },
   "outputs": [],
   "source": [
    "# # 감성 분석 함수 구현\n",
    "# def sentiment_predict(test_sentence):\n",
    "#     test_sentence = test_sentence.split(' ')\n",
    "#     test_sentences = []\n",
    "#     new_sentence = []\n",
    "\n",
    "#     for word in test_sentence:\n",
    "#         new_sentence.append(word)\n",
    "#         test_sentences.append(new_sentence[:])\n",
    "\n",
    "#     sequences = tokenizer.texts_to_sequences(test_sentences)\n",
    "#     test_X_new = pad_sequences(sequences,padding='post', maxlen=25)\n",
    "\n",
    "#     prediction = model.predict(test_X_new)\n",
    "\n",
    "#     for idx, sentence in enumerate(test_sentences):\n",
    "#         score = prediction[idx]\n",
    "\n",
    "#     if(score[0] > score[1]):\n",
    "#         print(\"{:.2f}% 확률로 부정 리뷰입니다.\".format(score[0] * 100))\n",
    "#     else:\n",
    "#         print(\"{:.2f}% 확률로 긍정 리뷰입니다.\".format((1 - score[0]) * 100))"
   ]
  },
  {
   "cell_type": "code",
   "execution_count": null,
   "metadata": {
    "colab": {
     "base_uri": "https://localhost:8080/"
    },
    "id": "Uw8QnCeDmR97",
    "outputId": "64470bcc-4d45-422a-a6db-1f8bf928760f"
   },
   "outputs": [
    {
     "name": "stdout",
     "output_type": "stream",
     "text": [
      "1/1 [==============================] - 0s 18ms/step\n",
      "57.13% 확률로 부정적인 리뷰, 평점 :★★☆☆☆\n"
     ]
    }
   ],
   "source": [
    "sentiment_predict('이 영화 핵평범 ~')"
   ]
  },
  {
   "cell_type": "code",
   "execution_count": null,
   "metadata": {
    "colab": {
     "base_uri": "https://localhost:8080/"
    },
    "id": "mwTFzjMomR97",
    "outputId": "c01482b3-f4a8-45c9-f6d5-720a2b4de39c"
   },
   "outputs": [
    {
     "name": "stdout",
     "output_type": "stream",
     "text": [
      "1/1 [==============================] - 0s 19ms/step\n",
      "75.01% 확률로 불쾌함을 느낀 리뷰\n"
     ]
    }
   ],
   "source": [
    "sentiment_predict('핵 재미없어 내내 졸았어요')"
   ]
  },
  {
   "cell_type": "code",
   "execution_count": null,
   "metadata": {
    "colab": {
     "base_uri": "https://localhost:8080/"
    },
    "id": "dTrT-JgZmR98",
    "outputId": "d51d2063-f5ad-4d2f-9506-b5caa85a2d05"
   },
   "outputs": [
    {
     "name": "stdout",
     "output_type": "stream",
     "text": [
      "1/1 [==============================] - 0s 21ms/step\n",
      "100.00% 확률로 불쾌함을 느낀 리뷰\n"
     ]
    }
   ],
   "source": [
    "sentiment_predict('돈이 아까워요 ')"
   ]
  },
  {
   "cell_type": "code",
   "execution_count": null,
   "metadata": {
    "colab": {
     "base_uri": "https://localhost:8080/"
    },
    "id": "08zZXayRmR98",
    "outputId": "5411fedb-5517-4170-da29-24aba9282910"
   },
   "outputs": [
    {
     "name": "stdout",
     "output_type": "stream",
     "text": [
      "1/1 [==============================] - 0s 21ms/step\n",
      "71.50% 확률로 불쾌함을 느낀 리뷰\n"
     ]
    }
   ],
   "source": [
    "sentiment_predict('이 영화 하품만 나와요~')"
   ]
  },
  {
   "cell_type": "code",
   "execution_count": null,
   "metadata": {
    "colab": {
     "base_uri": "https://localhost:8080/"
    },
    "id": "_qXccHflmR98",
    "outputId": "a05f9dca-e60d-4476-ab1f-7ce0f8838682"
   },
   "outputs": [
    {
     "name": "stdout",
     "output_type": "stream",
     "text": [
      "1/1 [==============================] - 0s 35ms/step\n",
      "99.35% 확률로 부정적인 리뷰\n"
     ]
    }
   ],
   "source": [
    "sentiment_predict('두 번 봐도 재미있어요')"
   ]
  },
  {
   "cell_type": "code",
   "execution_count": null,
   "metadata": {
    "colab": {
     "base_uri": "https://localhost:8080/"
    },
    "id": "n_qb3sNOmR98",
    "outputId": "e227a48a-d559-4297-9ab3-fff2218a55d4"
   },
   "outputs": [
    {
     "name": "stdout",
     "output_type": "stream",
     "text": [
      "1/1 [==============================] - 0s 18ms/step\n",
      "80.50% 확률로 불쾌함을 느낀 리뷰입니다.\n",
      "19.50% 확률로 부정적인 리뷰입니다.\n",
      "0.00% 확률로 보통 리뷰입니다.\n",
      "0.00% 확률로 좋은 리뷰입니다.\n",
      "0.00% 확률로 행복함을 느낀 리뷰입니다.\n"
     ]
    }
   ],
   "source": [
    "sentiment_predict('이 영화 핵노잼 ㅠㅠ')"
   ]
  },
  {
   "cell_type": "code",
   "execution_count": null,
   "metadata": {
    "colab": {
     "base_uri": "https://localhost:8080/"
    },
    "id": "avroJXGUmR98",
    "outputId": "12fbcd85-327e-42d9-999c-8f59cd5f5dda"
   },
   "outputs": [
    {
     "name": "stdout",
     "output_type": "stream",
     "text": [
      "1/1 [==============================] - 0s 20ms/step\n",
      "72.26% 확률로 불쾌함을 느낀 리뷰입니다.\n",
      "27.74% 확률로 부정적인 리뷰입니다.\n",
      "0.00% 확률로 보통 리뷰입니다.\n",
      "0.00% 확률로 좋은 리뷰입니다.\n",
      "0.00% 확률로 행복함을 느낀 리뷰입니다.\n"
     ]
    }
   ],
   "source": [
    "sentiment_predict('이 영화 왜 만든거야')"
   ]
  },
  {
   "cell_type": "code",
   "execution_count": null,
   "metadata": {
    "colab": {
     "base_uri": "https://localhost:8080/"
    },
    "id": "kFzLiii6mR98",
    "outputId": "6cd6445a-248d-40ab-cf0a-4a2d357ed1b3"
   },
   "outputs": [
    {
     "name": "stdout",
     "output_type": "stream",
     "text": [
      "1/1 [==============================] - 0s 18ms/step\n",
      "69.99% 확률로 부정적인 리뷰\n"
     ]
    }
   ],
   "source": [
    "sentiment_predict('이 영화 꼭 보세요')"
   ]
  },
  {
   "cell_type": "code",
   "execution_count": null,
   "metadata": {
    "colab": {
     "base_uri": "https://localhost:8080/"
    },
    "id": "z2uPS26PmR98",
    "outputId": "361a2285-717e-41de-e89f-839349b44d50"
   },
   "outputs": [
    {
     "name": "stdout",
     "output_type": "stream",
     "text": [
      "1/1 [==============================] - 0s 20ms/step\n",
      "99.99% 확률로 부정적인 리뷰\n"
     ]
    }
   ],
   "source": [
    "sentiment_predict('안녕하세요')"
   ]
  },
  {
   "cell_type": "code",
   "execution_count": null,
   "metadata": {
    "colab": {
     "base_uri": "https://localhost:8080/"
    },
    "id": "dMlD1JGumR-A",
    "outputId": "767b2b33-6816-4afc-945c-a8eee662c700"
   },
   "outputs": [
    {
     "name": "stdout",
     "output_type": "stream",
     "text": [
      "1/1 [==============================] - 0s 39ms/step\n",
      "66.24% 확률로 불쾌함을 느낀 리뷰입니다.\n",
      "33.76% 확률로 부정적인 리뷰입니다.\n",
      "0.00% 확률로 보통 리뷰입니다.\n",
      "0.00% 확률로 좋은 리뷰입니다.\n",
      "0.00% 확률로 행복함을 느낀 리뷰입니다.\n"
     ]
    }
   ],
   "source": [
    "sentiment_predict('그저 그래요')"
   ]
  },
  {
   "cell_type": "code",
   "execution_count": null,
   "metadata": {
    "colab": {
     "base_uri": "https://localhost:8080/"
    },
    "id": "-icd8EdUmR-A",
    "outputId": "ecec3aa1-26dd-4164-8f1b-d93da9d663a9"
   },
   "outputs": [
    {
     "name": "stdout",
     "output_type": "stream",
     "text": [
      "1/1 [==============================] - 0s 18ms/step\n",
      "67.66% 확률로 불쾌함을 느낀 리뷰입니다.\n",
      "32.34% 확률로 부정적인 리뷰입니다.\n",
      "0.00% 확률로 보통 리뷰입니다.\n",
      "0.00% 확률로 좋은 리뷰입니다.\n",
      "0.00% 확률로 행복함을 느낀 리뷰입니다.\n"
     ]
    }
   ],
   "source": [
    "sentiment_predict('좋아하는 사람들이 있을지는 모르겠지만 나는 그저그랬다')"
   ]
  },
  {
   "cell_type": "code",
   "execution_count": null,
   "metadata": {
    "colab": {
     "base_uri": "https://localhost:8080/"
    },
    "id": "SO-9zCbrpIN8",
    "outputId": "80afb5e7-5e38-45ea-e12b-21c40a1ece92"
   },
   "outputs": [
    {
     "name": "stdout",
     "output_type": "stream",
     "text": [
      "1/1 [==============================] - 0s 35ms/step\n",
      "92.38% 확률로 불쾌함을 느낀 리뷰입니다.\n",
      "7.62% 확률로 부정적인 리뷰입니다.\n",
      "0.00% 확률로 보통 리뷰입니다.\n",
      "0.00% 확률로 좋은 리뷰입니다.\n",
      "0.00% 확률로 행복함을 느낀 리뷰입니다.\n"
     ]
    }
   ],
   "source": [
    "sentiment_predict('전체적으로 제 겨털로 만들어도 이것보단 잘 만들 것 같네요! 정말 훌륭한감독의 대단한 작품입니다!')"
   ]
  },
  {
   "cell_type": "code",
   "execution_count": null,
   "metadata": {
    "colab": {
     "base_uri": "https://localhost:8080/"
    },
    "id": "heVJGYcXpUKz",
    "outputId": "79c5916c-67be-4961-e8e3-796fe9bf2edd"
   },
   "outputs": [
    {
     "name": "stdout",
     "output_type": "stream",
     "text": [
      "1/1 [==============================] - 0s 32ms/step\n",
      "94.76% 확률로 불쾌함을 느낀 리뷰입니다.\n",
      "5.24% 확률로 부정적인 리뷰입니다.\n",
      "0.00% 확률로 보통 리뷰입니다.\n",
      "0.00% 확률로 좋은 리뷰입니다.\n",
      "0.00% 확률로 행복함을 느낀 리뷰입니다.\n"
     ]
    }
   ],
   "source": [
    "sentiment_predict('존나 재미없네')"
   ]
  },
  {
   "cell_type": "code",
   "execution_count": null,
   "metadata": {
    "colab": {
     "base_uri": "https://localhost:8080/"
    },
    "id": "IAk8V8TdpYKO",
    "outputId": "dea98a8d-e47f-4169-b8fc-e1616f9def28"
   },
   "outputs": [
    {
     "name": "stdout",
     "output_type": "stream",
     "text": [
      "1/1 [==============================] - 0s 27ms/step\n",
      "99.99% 확률로 불쾌함을 느낀 리뷰입니다.\n",
      "0.01% 확률로 부정적인 리뷰입니다.\n",
      "0.00% 확률로 보통 리뷰입니다.\n",
      "0.00% 확률로 좋은 리뷰입니다.\n",
      "0.00% 확률로 행복함을 느낀 리뷰입니다.\n"
     ]
    }
   ],
   "source": [
    "sentiment_predict('감독은 생각이 있는거냐ㅋㅋㅋ')"
   ]
  },
  {
   "cell_type": "code",
   "execution_count": null,
   "metadata": {
    "colab": {
     "base_uri": "https://localhost:8080/"
    },
    "id": "B_DZ4OCapeqW",
    "outputId": "58c5383b-6adc-43d0-bc0c-59868c99f108"
   },
   "outputs": [
    {
     "name": "stdout",
     "output_type": "stream",
     "text": [
      "1/1 [==============================] - 0s 26ms/step\n",
      "91.42% 확률로 불쾌함을 느낀 리뷰입니다.\n",
      "8.58% 확률로 부정적인 리뷰입니다.\n",
      "0.00% 확률로 보통 리뷰입니다.\n",
      "0.00% 확률로 좋은 리뷰입니다.\n",
      "0.00% 확률로 행복함을 느낀 리뷰입니다.\n"
     ]
    }
   ],
   "source": [
    "sentiment_predict ('뭐 나쁘진 않음. 그렇다고 좋지도 않음')"
   ]
  },
  {
   "cell_type": "code",
   "execution_count": null,
   "metadata": {
    "id": "9BGICQWnmR-A",
    "outputId": "1a7f90ba-5b2c-4050-b319-fdd65e09a3ad"
   },
   "outputs": [
    {
     "name": "stdout",
     "output_type": "stream",
     "text": [
      "[['아', '더빙', '진짜', '짜증나네요', '목소리'], ['흠포스터보고', '초딩영화줄오버연기조차', '가볍지', '않구나'], ['너무재밓었다그래서보는것을추천한다']]\n"
     ]
    }
   ],
   "source": [
    "import pandas as pd\n",
    "\n",
    "# pandas 의 read_csv() 사용하여 가져오기\n",
    "df_train_raw = pd.read_csv(path_to_train_file, sep='\\t')\n",
    "df_test_raw  = pd.read_csv(path_to_test_file, sep='\\t')\n",
    "df_train_raw.head(3)\n",
    "\n",
    "# 입력항목 X 과 레이블 Y 생성하기\n",
    "df_trainX = df_train_raw.document\n",
    "df_trainY = df_train_raw.label\n",
    "train_Y = df_trainY.to_numpy().reshape(-1, 1)\n",
    "\n",
    "df_testX = df_test_raw.document\n",
    "df_testY = df_test_raw.label\n",
    "test_Y = df_testY.to_numpy().reshape(-1, 1)\n",
    "\n",
    "# 누락된 값 확인\n",
    "missing_values = df_trainX.isnull().sum()\n",
    "missing_values\n",
    "\n",
    "# 문장을 단어 리스트로 변환하는 함수 수정\n",
    "def tokenize_sentence(sentence):\n",
    "    if not isinstance(sentence, str):\n",
    "        return []\n",
    "    # 특수 문자 제거\n",
    "    sentence = re.sub(r'[^가-힣a-zA-Z0-9\\s]', '', sentence).split()\n",
    "    # 공백을 기준으로 단어 분리\n",
    "    words = sentence\n",
    "    return words\n",
    "\n",
    "\n",
    "# 각 문장을 단어 리스트로 변환하여 sentences 리스트에 저장\n",
    "df_trainX_sent = df_trainX.apply(tokenize_sentence).tolist()\n",
    "\n",
    "print(df_trainX_sent[:3])\n",
    "\n",
    "'''\n",
    "[['아', '더빙', '진짜', '짜증나네요', '목소리'],\n",
    " ['흠', '포스터보고', '초딩영화줄', '오버연기조차', '가볍지', '않구나'],\n",
    " ['너무재밓었다그래서보는것을추천한다'],\n",
    "'''"
   ]
  },
  {
   "cell_type": "code",
   "execution_count": null,
   "metadata": {
    "id": "8yV4WjqYmR-A",
    "outputId": "5c4f7170-5f1f-4a6c-f7ab-6e602fbc9558"
   },
   "outputs": [
    {
     "data": {
      "text/plain": [
       "[['아', '더빙', '진짜', '짜증나네요', '목소리'],\n",
       " ['흠포스터보', '초딩영화줄', '가볍지', '않구나'],\n",
       " ['너무재밓었'],\n",
       " ['교도소', '이야기구먼', '솔직히', '재미는', '없다평점', '조정'],\n",
       " ['사이몬페그',\n",
       "  '익살스런',\n",
       "  '연기가',\n",
       "  '돋보였던',\n",
       "  '영화스파이',\n",
       "  '늙어보이기',\n",
       "  '했던',\n",
       "  '커스틴',\n",
       "  '던스트가',\n",
       "  '너무나도',\n",
       "  '이뻐보였다']]"
      ]
     },
     "execution_count": 84,
     "metadata": {},
     "output_type": "execute_result"
    }
   ],
   "source": [
    "# 단어 정제 및 문장 길이 줄임 : 각 단어의 최대 길이를 5로 고정하기\n",
    "\n",
    "sentences_new = []\n",
    "for sentence in df_trainX_sent:\n",
    "    # 문장의 최대 길이를 25로 잡고 그 이상은 잘라내고 단어의 앞에서 5글자씩만 잘라서 사용하기\n",
    "    sentences_new.append([word[:5] for word in sentence[:25]])  # ... code here\n",
    "\n",
    "df_trainX_sent = sentences_new\n",
    "df_trainX_sent[:5]"
   ]
  },
  {
   "cell_type": "code",
   "execution_count": null,
   "metadata": {
    "id": "NnC3h9gAmR-B",
    "outputId": "99519632-4e10-4889-be8a-77b1a392fe03"
   },
   "outputs": [
    {
     "data": {
      "text/plain": [
       "[['아', '더빙', '..', '진짜', '짜증나네요', '목소리'],\n",
       " ['흠',\n",
       "  '...',\n",
       "  '포스터',\n",
       "  '보고',\n",
       "  '초딩',\n",
       "  '영화',\n",
       "  '줄',\n",
       "  '....',\n",
       "  '오버',\n",
       "  '연기',\n",
       "  '조차',\n",
       "  '가볍지',\n",
       "  '않구나'],\n",
       " ['너', '무재', '밓었', '다그', '래서', '보는것을', '추천', '한', '다'],\n",
       " ['교도소', '이야기', '구먼', '..', '솔직히', '재미', '는', '없다', '..', '평점', '조정'],\n",
       " ['사이',\n",
       "  '몬페',\n",
       "  '그',\n",
       "  '의',\n",
       "  '익살스런',\n",
       "  '연기',\n",
       "  '가',\n",
       "  '돋보였던',\n",
       "  '영화',\n",
       "  '!',\n",
       "  '스파이더맨',\n",
       "  '에서',\n",
       "  '늙어',\n",
       "  '보이기만',\n",
       "  '했던',\n",
       "  '커스틴',\n",
       "  '던스트',\n",
       "  '가',\n",
       "  '너무나도',\n",
       "  '이뻐',\n",
       "  '보였다']]"
      ]
     },
     "execution_count": 70,
     "metadata": {},
     "output_type": "execute_result"
    }
   ],
   "source": [
    "# 토큰화 하기 : 방법2\n",
    "from konlpy.tag import Okt\n",
    "\n",
    "okt = Okt()\n",
    "\n",
    "# 문장을 토큰화하는 함수\n",
    "def tokenize_with_okt(sentence):\n",
    "    if not isinstance(sentence, str):\n",
    "        return []\n",
    "    words = okt.morphs(sentence)\n",
    "    return words\n",
    "\n",
    "# 각 문장을 토큰화\n",
    "df_trainX_sent_with_okt = df_trainX.apply(tokenize_with_okt).tolist()\n",
    "df_trainX_sent_with_okt[:5]\n",
    "\n",
    "sentences_new = []\n",
    "for sentence in df_trainX_sent_with_okt:\n",
    "    # 문장의 최대 길이를 25로 잡고 그 이상은 잘라내고 단어의 앞에서 5글자씩만 잘라서 사용하기\n",
    "    sentences_new.append([word[:5] for word in sentence[:25]])  # ... code here\n",
    "\n",
    "df_trainX_sent_with_okt = sentences_new\n",
    "df_trainX_sent_with_okt[:5]"
   ]
  },
  {
   "cell_type": "code",
   "execution_count": null,
   "metadata": {
    "id": "f0qUv1bNmR-B",
    "outputId": "92e8c0bc-8294-4419-8bd4-19a4999e9d8e"
   },
   "outputs": [
    {
     "data": {
      "image/png": "[encoded data removed]",
      "text/plain": [
       "<Figure size 640x480 with 1 Axes>"
      ]
     },
     "metadata": {},
     "output_type": "display_data"
    },
    {
     "name": "stdout",
     "output_type": "stream",
     "text": [
      "144801\n"
     ]
    }
   ],
   "source": [
    "# 150000개 문장의 단어 길이 확인\n",
    "import matplotlib.pyplot as plt\n",
    "# sentences 에 대해 각 문장의 길이를 구해를 구해  sentence_len 저장하기\n",
    "sentence_len = [len(sentence) for sentence in df_trainX_sent] # ... code here\n",
    "# sentence_len 정렬하기\n",
    "sentence_len.sort()  # ... code here\n",
    "# sentence_len 으로 plot 하기\n",
    "plt.plot(sentence_len) # ... code here\n",
    "plt.xlabel('index')\n",
    "plt.ylabel('count')\n",
    "plt.show()\n",
    "\n",
    "# sentence_len 길이가 25개 이하인 것 합계구하고 출력하기\n",
    "print(sum([int(l<=25) for l in sentence_len]))\n",
    "# 15 만개 문장 중 단어 갯수가 25개 이하인 문장의 수가 142590개이다, 25를 sequence_length로 사용"
   ]
  },
  {
   "cell_type": "code",
   "execution_count": null,
   "metadata": {
    "id": "UtkDawoLmR-B",
    "outputId": "a6484308-baef-460d-d3aa-e240c88f6cea"
   },
   "outputs": [
    {
     "data": {
      "image/png": "[encoded data removed]",
      "text/plain": [
       "<Figure size 640x480 with 1 Axes>"
      ]
     },
     "metadata": {},
     "output_type": "display_data"
    },
    {
     "name": "stdout",
     "output_type": "stream",
     "text": [
      "130509\n"
     ]
    }
   ],
   "source": [
    "# sentences 에 대해 각 문장의 길이를 구해를 구해  sentence_len 저장하기\n",
    "sentence_len = [len(sentence) for sentence in df_trainX_sent_with_okt] # ... code here\n",
    "# sentence_len 정렬하기\n",
    "sentence_len.sort()  # ... code here\n",
    "# sentence_len 으로 plot 하기\n",
    "plt.plot(sentence_len) # ... code here\n",
    "plt.xlabel('index')\n",
    "plt.ylabel('count')\n",
    "plt.show()\n",
    "\n",
    "# sentence_len 길이가 25개 이하인 것 합계구하고 출력하기\n",
    "print(sum([int(l<=25) for l in sentence_len]))\n",
    "# 15 만개 문장 중 단어 갯수가 25개 이하인 문장의 수가 142590개이다, 25를 sequence_length로 사용"
   ]
  },
  {
   "cell_type": "markdown",
   "metadata": {
    "id": "rjnIA_LfmR-B"
   },
   "source": [
    "### Tokenizer와 pad_sequences를 사용한 문장 전처리"
   ]
  },
  {
   "cell_type": "code",
   "execution_count": null,
   "metadata": {
    "id": "-VoaCKkomR-B",
    "outputId": "39851837-d401-4d1f-96be-f2cc1d130b98"
   },
   "outputs": [
    {
     "data": {
      "text/plain": [
       "array([[   25,   884,     8,  5795,  1111,     0,     0,     0,     0,\n",
       "            0,     0,     0,     0,     0,     0,     0,     0,     0,\n",
       "            0,     0,     0,     0,     0,     0,     0],\n",
       "       [ 6697,     0,     0,     0,     0,     0,     0,     0,     0,\n",
       "            0,     0,     0,     0,     0,     0,     0,     0,     0,\n",
       "            0,     0,     0,     0,     0,     0,     0],\n",
       "       [    0,     0,     0,     0,     0,     0,     0,     0,     0,\n",
       "            0,     0,     0,     0,     0,     0,     0,     0,     0,\n",
       "            0,     0,     0,     0,     0,     0,     0],\n",
       "       [   71,   346, 10468,     0,     0,     0,     0,     0,     0,\n",
       "            0,     0,     0,     0,     0,     0,     0,     0,     0,\n",
       "            0,     0,     0,     0,     0,     0,     0],\n",
       "       [  106,  5338,   869,   573,     0,     0,     0,     0,     0,\n",
       "            0,     0,     0,     0,     0,     0,     0,     0,     0,\n",
       "            0,     0,     0,     0,     0,     0,     0]])"
      ]
     },
     "execution_count": 85,
     "metadata": {},
     "output_type": "execute_result"
    }
   ],
   "source": [
    "#  Tokenizer와 pad_sequences를 사용한 문장 전처리\n",
    "from tensorflow.keras.preprocessing.text import Tokenizer\n",
    "from tensorflow.keras.preprocessing.sequence import pad_sequences\n",
    "\n",
    "max_words = 20000\n",
    "max_length = 25\n",
    "# 가장 빈도가 높은 20000개(max_words)의 단어들만 사용하여 토큰화 인스턴스 생성하기 : tokenizer\n",
    "tokenizer = Tokenizer(num_words=max_words) # 빈도수가 높은 20000개 단어만 사용하여 숫자로 반환하고 나머지는 공백으로 반환\n",
    "# 단어(sentences) 인덱스 구축\n",
    "tokenizer.fit_on_texts(sentences)\n",
    "# 문자열을 정수 인덱스의 리스트로 변환\n",
    "df_trainX_sequences = tokenizer.texts_to_sequences(df_trainX_sent)\n",
    "# 시퀀스 패딩 : 벡터 표현을 얻음, padding = 'post' - 문장의 뒤부분으로 0을 패딩\n",
    "train_X = pad_sequences(df_trainX_sequences, padding = 'post')\n",
    "\n",
    "train_X[:5]"
   ]
  },
  {
   "cell_type": "markdown",
   "metadata": {
    "id": "wpa7Gwx-mR-B"
   },
   "source": [
    "### 학습 모델 구현"
   ]
  },
  {
   "cell_type": "code",
   "execution_count": null,
   "metadata": {
    "id": "cmY8nFszmR-B",
    "outputId": "25d707ab-15ca-4297-8cbc-b8ee162bfb9d"
   },
   "outputs": [
    {
     "name": "stdout",
     "output_type": "stream",
     "text": [
      "Model: \"sequential_2\"\n",
      "_________________________________________________________________\n",
      " Layer (type)                Output Shape              Param #   \n",
      "=================================================================\n",
      " embedding_2 (Embedding)     (None, 25, 300)           6000000   \n",
      "                                                                 \n",
      " lstm_2 (LSTM)               (None, 50)                70200     \n",
      "                                                                 \n",
      " dense_2 (Dense)             (None, 2)                 102       \n",
      "                                                                 \n",
      "=================================================================\n",
      "Total params: 6070302 (23.16 MB)\n",
      "Trainable params: 6070302 (23.16 MB)\n",
      "Non-trainable params: 0 (0.00 Byte)\n",
      "_________________________________________________________________\n"
     ]
    }
   ],
   "source": [
    "model_df = tf.keras.Sequential([\n",
    "    # Embedding 층 : max_words, 임베딩된 단어 벡터의 차원 : 300,  입력 데이터의 크기 : max_len : 25\n",
    "    tf.keras.layers.Embedding(max_words, 300, input_length=max_length), # V:20000, D:300, T:25  --> (?,25,300)\n",
    "     # LSTM 층 : units = 50\n",
    "    tf.keras.layers.LSTM(units=50),                       # (?,50)\n",
    "    # 출력 : class_num, activation = 'softmax'\n",
    "    tf.keras.layers.Dense(2, activation='softmax')\n",
    "])\n",
    "\n",
    "# sparse_categorical_crossentropy : 정답 Y가 희소인 다중 분류 모델의 loss\n",
    "# categorical_crossentropy: 다중 분류 모델의 loss\n",
    "\n",
    "# loss 종류\n",
    "# mean_squared_error : 평균제곱 오차\n",
    "# binary_crossentropy : 이진분류 오차\n",
    "# categorical_crossentropy : 다중 분류 오차. one-hot encoding 클래스, [0.2, 0.3, 0.5] 와 같은 출력값과 실측값의 오차값을 계산한다.\n",
    "# sparse_categorical_crossentropy: 다중 분류 오차. 위와 동일하지만 , integer type 클래스라는 것이 다르다.\n",
    "\n",
    "model_df.compile(optimizer='adam', loss='sparse_categorical_crossentropy', metrics=['accuracy'])\n",
    "model_df.summary()"
   ]
  },
  {
   "cell_type": "code",
   "execution_count": null,
   "metadata": {
    "id": "jl3IlSgJmR-B",
    "outputId": "34b7c07b-61d3-47ca-88a7-a6634d76cd30"
   },
   "outputs": [
    {
     "name": "stdout",
     "output_type": "stream",
     "text": [
      "Epoch 1/5\n",
      "938/938 [==============================] - 54s 55ms/step - loss: 0.4512 - accuracy: 0.7693 - val_loss: 0.4186 - val_accuracy: 0.8091\n",
      "Epoch 2/5\n",
      "938/938 [==============================] - 61s 65ms/step - loss: 0.3415 - accuracy: 0.8344 - val_loss: 0.4047 - val_accuracy: 0.8057\n",
      "Epoch 3/5\n",
      "938/938 [==============================] - 62s 66ms/step - loss: 0.2895 - accuracy: 0.8551 - val_loss: 0.4544 - val_accuracy: 0.8023\n",
      "Epoch 4/5\n",
      "938/938 [==============================] - 61s 65ms/step - loss: 0.2480 - accuracy: 0.8720 - val_loss: 0.5031 - val_accuracy: 0.8024\n",
      "Epoch 5/5\n",
      "938/938 [==============================] - 61s 65ms/step - loss: 0.2143 - accuracy: 0.8885 - val_loss: 0.5806 - val_accuracy: 0.7944\n"
     ]
    }
   ],
   "source": [
    "# 감성 분석 모델 학습 : 약 15분 소요\n",
    "\n",
    "history = model_df.fit(train_X, train_Y , epochs=5, batch_size=128, validation_split=0.2)"
   ]
  },
  {
   "cell_type": "code",
   "execution_count": null,
   "metadata": {
    "id": "hRvdV52omR-B"
   },
   "outputs": [],
   "source": [
    "# test_X 값 추출하기\n",
    "test_text_X = [row.split('\\t')[1] for row in test_text.split('\\n')[1:] if row.count('\\t') > 0]\n",
    "\n",
    "# test_text_X  데이터의 입력(X)에 대한 정제(Cleaning)하기\n",
    "test_text_X =[clean_str(sentence) for sentence in test_text_X ] # ... code here\n",
    "\n",
    "# 문장을 띄어쓰기 단위로 단어 분리하여 test_sentences 저장하기 : split()\n",
    "test_sentences = [sentence.split(' ') for sentence in test_text_X] # ... code here\n",
    "\n",
    "# 단어 정제 및 문장 길이 줄임 : 각 단어의 최대 길이를 5로 고정\n",
    "# 문장의 최대 길이를 25로 잡고 그 이상은 잘라내고 단어의 앞에서 5글자씩만 잘라서 사용한다\n",
    "test_sentences_new = []\n",
    "for sentence in test_sentences:\n",
    "    test_sentences_new.append([word[:5] for word in sentence[:25]])\n",
    "test_sentences = test_sentences_new\n",
    "\n",
    "# 테스트 데이터 셋 토근화하기 : texts_to_sequences()\n",
    "test_sentences = tokenizer.texts_to_sequences(test_sentences)\n",
    "# 테스트 데이터 셋 패딩하기 : pad_sequences()  - 문장의 뒤부분으로 0을 패딩\n",
    "test_X = pad_sequences(test_sentences, padding='post')\n",
    "\n",
    "test_X[:5]  # 25개의 길이로 패딩이 완성됨"
   ]
  }
 ],
 "metadata": {
  "accelerator": "GPU",
  "colab": {
   "gpuType": "T4",
   "provenance": []
  },
  "kernelspec": {
   "display_name": "Python 3 (ipykernel)",
   "language": "python",
   "name": "python3"
  },
  "language_info": {
   "codemirror_mode": {
    "name": "ipython",
    "version": 3
   },
   "file_extension": ".py",
   "mimetype": "text/x-python",
   "name": "python",
   "nbconvert_exporter": "python",
   "pygments_lexer": "ipython3",
   "version": "3.8.8"
  }
 },
 "nbformat": 4,
 "nbformat_minor": 1
}
