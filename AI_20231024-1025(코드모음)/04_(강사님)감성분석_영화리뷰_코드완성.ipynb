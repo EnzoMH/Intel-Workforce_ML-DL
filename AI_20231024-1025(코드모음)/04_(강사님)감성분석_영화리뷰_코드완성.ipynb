{
 "cells": [
  {
   "cell_type": "markdown",
   "metadata": {},
   "source": [
    "## 감성분석(Sentiment Analysis) - 영화리뷰"
   ]
  },
  {
   "cell_type": "code",
   "execution_count": 1,
   "metadata": {},
   "outputs": [
    {
     "name": "stderr",
     "output_type": "stream",
     "text": [
      "C:\\Users\\isfs0\\anaconda3\\lib\\site-packages\\numpy\\_distributor_init.py:30: UserWarning: loaded more than 1 DLL from .libs:\n",
      "C:\\Users\\isfs0\\anaconda3\\lib\\site-packages\\numpy\\.libs\\libopenblas.EL2C6PLE4ZYW3ECEVIV3OXXGRN2NRFM2.gfortran-win_amd64.dll\n",
      "C:\\Users\\isfs0\\anaconda3\\lib\\site-packages\\numpy\\.libs\\libopenblas64__v0.3.21-gcc_10_3_0.dll\n",
      "  warnings.warn(\"loaded more than 1 DLL from .libs:\"\n"
     ]
    }
   ],
   "source": [
    "# 라이브러리 가져오기\n",
    "import tensorflow as tf\n",
    "import numpy as np"
   ]
  },
  {
   "cell_type": "code",
   "execution_count": 2,
   "metadata": {},
   "outputs": [],
   "source": [
    "# Naver Sentiment Movie Corpus v1.0 다운로드하기\n",
    "path_to_train_file = tf.keras.utils.get_file('train.txt', 'https://raw.githubusercontent.com/e9t/nsmc/master/ratings_train.txt')\n",
    "path_to_test_file = tf.keras.utils.get_file('test.txt', 'https://raw.githubusercontent.com/e9t/nsmc/master/ratings_test.txt')"
   ]
  },
  {
   "cell_type": "markdown",
   "metadata": {},
   "source": [
    "## 1. 데이터 가져와서 X, y 생성하기 : 방법1"
   ]
  },
  {
   "cell_type": "code",
   "execution_count": 4,
   "metadata": {},
   "outputs": [
    {
     "name": "stdout",
     "output_type": "stream",
     "text": [
      "train text length: 6937271  characters\n",
      "test  text length: 2318260  characters\n",
      "id\tdocument\tlabel\n",
      "9976970\t아 더빙.. 진짜 짜증나네요 목소리\t0\n",
      "3819312\t흠...포스터보고 초딩영화줄....오버연기조차 가볍지 않구나\t1\n",
      "10265843\t너무재밓었다그래서보는것을추천한다\t0\n",
      "9045019\t교도소 이야기구먼 ..솔직히 재미는 없다..평점 조정\t0\n",
      "6483659\t사이몬페그의 익살스런 연기가 돋보였던 영화!스파이더맨에서 늙어보이기만 했던 커스틴 던스트가 너무나도 이뻐보였다\t1\n",
      "5403919\t막 걸음마 뗀 3세부터 초등학교 1학년생인 8살용영화.ㅋㅋㅋ...별반개도 아까움.\t0\n",
      "7797314\t원작의\n"
     ]
    }
   ],
   "source": [
    "# 1. 데이터 읽어 저장하기 : encoding 형식으로 utf-8 을 지정해야합니다.\n",
    "# path_to_train_file / path_to_test_file 을 open() 해서 read()한후 decode(encoding='utf-8') 한 후 train_text / test_text 에 저장합니다. \n",
    "\n",
    "train_text = open(path_to_train_file, 'rb').read().decode(encoding='utf-8') # ... your code\n",
    "test_text = open(path_to_test_file, 'rb').read().decode(encoding='utf-8') # ... your code\n",
    "\n",
    "print('train text length:', len(train_text),' characters')\n",
    "print('test  text length:', len(test_text),' characters')\n",
    "# print(train_text[:5])\n",
    "print(train_text[:300])"
   ]
  },
  {
   "cell_type": "code",
   "execution_count": 40,
   "metadata": {},
   "outputs": [
    {
     "name": "stdout",
     "output_type": "stream",
     "text": [
      "150000\n"
     ]
    },
    {
     "data": {
      "text/plain": [
       "['아 더빙.. 진짜 짜증나네요 목소리',\n",
       " '흠...포스터보고 초딩영화줄....오버연기조차 가볍지 않구나',\n",
       " '너무재밓었다그래서보는것을추천한다',\n",
       " '교도소 이야기구먼 ..솔직히 재미는 없다..평점 조정',\n",
       " '사이몬페그의 익살스런 연기가 돋보였던 영화!스파이더맨에서 늙어보이기만 했던 커스틴 던스트가 너무나도 이뻐보였다']"
      ]
     },
     "execution_count": 40,
     "metadata": {},
     "output_type": "execute_result"
    }
   ],
   "source": [
    "# X 값을 추출합니다.\n",
    "# 각 문장을 '\\n'으로 분리(split('\\n') 사용\n",
    "# -> 헤더제외 : split('\\n')[1:] \n",
    "# -> '\\t'으로 분리 \n",
    "train_text_X = [row.split('\\t')[1] for row in train_text.split('\\n')[1:] if row.count('\\t') > 0 ]\n",
    "print(len(train_text_X))\n",
    "train_text_X[:5]"
   ]
  },
  {
   "cell_type": "code",
   "execution_count": 41,
   "metadata": {},
   "outputs": [
    {
     "name": "stdout",
     "output_type": "stream",
     "text": [
      "(150000, 1) (50000, 1)\n",
      "[[0]\n",
      " [1]\n",
      " [0]\n",
      " [0]\n",
      " [1]]\n"
     ]
    }
   ],
   "source": [
    "# Y 레이블 추출합니다. - X 와 같은 방식으로 \n",
    "# 각 문장을 '\\n'으로 분리 -> 헤더제외 -> '\\t'으로 분리 -> 마지막 문자 정수로 변환하여 2차원으로 변환\n",
    "train_Y = np.array([[int(row.split('\\t')[2])] for row in train_text.split('\\n')[1:] if row.count('\\t') > 0])\n",
    "test_Y = np.array([[int(row.split('\\t')[2])] for row in test_text.split('\\n')[1:] if row.count('\\t') > 0])\n",
    "\n",
    "print(train_Y.shape, test_Y.shape)\n",
    "print(train_Y[:5])"
   ]
  },
  {
   "cell_type": "markdown",
   "metadata": {},
   "source": [
    "### 텍스트 전처리"
   ]
  },
  {
   "cell_type": "code",
   "execution_count": 42,
   "metadata": {},
   "outputs": [
    {
     "data": {
      "text/plain": [
       "['아 더빙 진짜 짜증나네요 목소리',\n",
       " '흠 포스터보고 초딩영화줄 오버연기조차 가볍지 않구나',\n",
       " '너무재밓었다그래서보는것을추천한다',\n",
       " '교도소 이야기구먼 솔직히 재미는 없다 평점 조정',\n",
       " '사이몬페그의 익살스런 연기가 돋보였던 영화 ! 스파이더맨에서 늙어보이기만 했던 커스틴 던스트가 너무나도 이뻐보였다']"
      ]
     },
     "execution_count": 42,
     "metadata": {},
     "output_type": "execute_result"
    }
   ],
   "source": [
    "# train_text_X  데이터의 입력(X)에 대한 정제(Cleaning)하기\n",
    "import re\n",
    "# From https://github.com/yoonkim/CNN_sentence/blob/master/process_data.py\n",
    "def clean_str(string):    \n",
    "    string = re.sub(r\"[^가-힝A-Za-z0-9(),!?\\'\\`]\", \" \", string)\n",
    "    string = re.sub(r\"\\'s\", \" \\'s\", string)\n",
    "    string = re.sub(r\"\\'ve\", \" \\'ve\", string)\n",
    "    string = re.sub(r\"n\\'t\", \" n\\'t\", string)\n",
    "    string = re.sub(r\"\\'re\", \" \\'re\", string)\n",
    "    string = re.sub(r\"\\'d\", \" \\'d\", string)\n",
    "    string = re.sub(r\"\\'ll\", \" \\'ll\", string)\n",
    "    string = re.sub(r\",\", \" , \", string)\n",
    "    string = re.sub(r\"!\", \" ! \", string)\n",
    "    string = re.sub(r\"\\(\", \" \\( \", string)\n",
    "    string = re.sub(r\"\\)\", \" \\) \", string)\n",
    "    string = re.sub(r\"\\?\", \" \\? \", string)\n",
    "    string = re.sub(r\"\\s{2,}\", \" \", string)\n",
    "    string = re.sub(r\"\\'{2,}\", \"\\'\", string)\n",
    "    string = re.sub(r\"\\'\", \"\", string)\n",
    "\n",
    "    return string.lower()\n",
    "\n",
    "train_text_X = [clean_str(sentence) for sentence in train_text_X] # ... code here\n",
    "train_text_X[:5]"
   ]
  },
  {
   "cell_type": "code",
   "execution_count": 43,
   "metadata": {},
   "outputs": [
    {
     "data": {
      "text/plain": [
       "[['아', '더빙', '진짜', '짜증나네요', '목소리'],\n",
       " ['흠', '포스터보고', '초딩영화줄', '오버연기조차', '가볍지', '않구나'],\n",
       " ['너무재밓었다그래서보는것을추천한다'],\n",
       " ['교도소', '이야기구먼', '솔직히', '재미는', '없다', '평점', '조정'],\n",
       " ['사이몬페그의',\n",
       "  '익살스런',\n",
       "  '연기가',\n",
       "  '돋보였던',\n",
       "  '영화',\n",
       "  '!',\n",
       "  '스파이더맨에서',\n",
       "  '늙어보이기만',\n",
       "  '했던',\n",
       "  '커스틴',\n",
       "  '던스트가',\n",
       "  '너무나도',\n",
       "  '이뻐보였다']]"
      ]
     },
     "execution_count": 43,
     "metadata": {},
     "output_type": "execute_result"
    }
   ],
   "source": [
    "# train_text_X 에 대해 문장을 띄어쓰기 단위로 단어 분리\n",
    "sentences = [sentence.split(' ') for sentence in train_text_X] # ... code here\n",
    "sentences[:5]\n",
    "\n",
    "[['아', '더빙', '진짜', '짜증나네요', '목소리'],\n",
    " ['흠포스터보고', '초딩영화줄오버연기조차', '가볍지', '않구나'], ['너무재밓었다그래서보는것을추천한다']]"
   ]
  },
  {
   "cell_type": "code",
   "execution_count": 44,
   "metadata": {},
   "outputs": [
    {
     "data": {
      "image/png": "[encoded data removed]",
      "text/plain": [
       "<Figure size 640x480 with 1 Axes>"
      ]
     },
     "metadata": {},
     "output_type": "display_data"
    },
    {
     "name": "stdout",
     "output_type": "stream",
     "text": [
      "142587\n"
     ]
    }
   ],
   "source": [
    "# 150000개 문장의 단어 길이 확인\n",
    "import matplotlib.pyplot as plt\n",
    "# sentences 에 대해 각 문장의 길이를 구해를 구해  sentence_len 저장하기\n",
    "sentence_len = [len(sentence) for sentence in sentences] # ... code here\n",
    "# sentence_len 정렬하기\n",
    "sentence_len.sort()  # ... code here\n",
    "# sentence_len 으로 plot 하기\n",
    "plt.plot(sentence_len) # ... code here\n",
    "plt.xlabel('index')\n",
    "plt.ylabel('count')\n",
    "plt.show()\n",
    "\n",
    "# sentence_len 길이가 25개 이하인 것 합계구하고 출력하기\n",
    "print(sum([int(l<=25) for l in sentence_len]))\n",
    "# 15 만개 문장 중 단어 갯수가 25개 이하인 문장의 수가 142590개이다, 25를 sequence_length로 사용"
   ]
  },
  {
   "cell_type": "code",
   "execution_count": 46,
   "metadata": {},
   "outputs": [
    {
     "data": {
      "text/plain": [
       "[['아', '더빙', '진짜', '짜증나네요', '목소리'],\n",
       " ['흠', '포스터보고', '초딩영화줄', '오버연기조', '가볍지', '않구나'],\n",
       " ['너무재밓었'],\n",
       " ['교도소', '이야기구먼', '솔직히', '재미는', '없다', '평점', '조정'],\n",
       " ['사이몬페그',\n",
       "  '익살스런',\n",
       "  '연기가',\n",
       "  '돋보였던',\n",
       "  '영화',\n",
       "  '!',\n",
       "  '스파이더맨',\n",
       "  '늙어보이기',\n",
       "  '했던',\n",
       "  '커스틴',\n",
       "  '던스트가',\n",
       "  '너무나도',\n",
       "  '이뻐보였다']]"
      ]
     },
     "execution_count": 46,
     "metadata": {},
     "output_type": "execute_result"
    }
   ],
   "source": [
    "# 단어 정제 및 문장 길이 줄임 : 각 단어의 최대 길이를 5로 고정하기\n",
    "\n",
    "sentences_new = []\n",
    "for sentence in sentences:\n",
    "    # 문장의 최대 길이를 25로 잡고 그 이상은 잘라내고 단어의 앞에서 5글자씩만 잘라서 사용하기\n",
    "    sentences_new.append([word[:5] for word in sentence[:25]])  # ... code here\n",
    "    \n",
    "sentences = sentences_new\n",
    "sentences[:5]"
   ]
  },
  {
   "cell_type": "markdown",
   "metadata": {},
   "source": [
    "### Tokenizer와 pad_sequences를 사용한 문장 전처리"
   ]
  },
  {
   "cell_type": "code",
   "execution_count": 47,
   "metadata": {},
   "outputs": [
    {
     "data": {
      "text/plain": [
       "array([[   25,   884,     8,  5795,  1111,     0,     0,     0,     0,\n",
       "            0,     0,     0,     0,     0,     0,     0,     0,     0,\n",
       "            0,     0,     0,     0,     0,     0,     0],\n",
       "       [  588,  5796,  6697,     0,     0,     0,     0,     0,     0,\n",
       "            0,     0,     0,     0,     0,     0,     0,     0,     0,\n",
       "            0,     0,     0,     0,     0,     0,     0],\n",
       "       [    0,     0,     0,     0,     0,     0,     0,     0,     0,\n",
       "            0,     0,     0,     0,     0,     0,     0,     0,     0,\n",
       "            0,     0,     0,     0,     0,     0,     0],\n",
       "       [   71,   346,    31,    35, 10468,     0,     0,     0,     0,\n",
       "            0,     0,     0,     0,     0,     0,     0,     0,     0,\n",
       "            0,     0,     0,     0,     0,     0,     0],\n",
       "       [  106,  5338,     4,     2,  2169,   869,   573,     0,     0,\n",
       "            0,     0,     0,     0,     0,     0,     0,     0,     0,\n",
       "            0,     0,     0,     0,     0,     0,     0]])"
      ]
     },
     "execution_count": 47,
     "metadata": {},
     "output_type": "execute_result"
    }
   ],
   "source": [
    "#  Tokenizer와 pad_sequences를 사용한 문장 전처리\n",
    "from tensorflow.keras.preprocessing.text import Tokenizer\n",
    "from tensorflow.keras.preprocessing.sequence import pad_sequences\n",
    "\n",
    "max_words = 20000\n",
    "max_length = 25\n",
    "# 가장 빈도가 높은 20000개(max_words)의 단어들만 사용하여 토큰화 인스턴스 생성하기 : tokenizer \n",
    "tokenizer = Tokenizer(num_words=max_words) # 빈도수가 높은 20000개 단어만 사용하여 숫자로 반환하고 나머지는 공백으로 반환\n",
    "# 단어(sentences) 인덱스 구축\n",
    "tokenizer.fit_on_texts(sentences)\n",
    "# 문자열을 정수 인덱스의 리스트로 변환\n",
    "sequences = tokenizer.texts_to_sequences(sentences)\n",
    "# 시퀀스 패딩 : 벡터 표현을 얻음, padding = 'post' - 문장의 뒤부분으로 0을 패딩\n",
    "train_X = pad_sequences(sequences, padding = 'post') \n",
    "\n",
    "train_X[:5]"
   ]
  },
  {
   "cell_type": "markdown",
   "metadata": {},
   "source": [
    "### 학습 모델 구현"
   ]
  },
  {
   "cell_type": "code",
   "execution_count": 48,
   "metadata": {},
   "outputs": [
    {
     "name": "stdout",
     "output_type": "stream",
     "text": [
      "Model: \"sequential\"\n",
      "_________________________________________________________________\n",
      " Layer (type)                Output Shape              Param #   \n",
      "=================================================================\n",
      " embedding (Embedding)       (None, 25, 300)           6000000   \n",
      "                                                                 \n",
      " lstm (LSTM)                 (None, 50)                70200     \n",
      "                                                                 \n",
      " dense (Dense)               (None, 2)                 102       \n",
      "                                                                 \n",
      "=================================================================\n",
      "Total params: 6070302 (23.16 MB)\n",
      "Trainable params: 6070302 (23.16 MB)\n",
      "Non-trainable params: 0 (0.00 Byte)\n",
      "_________________________________________________________________\n"
     ]
    }
   ],
   "source": [
    "model = tf.keras.Sequential([\n",
    "    # Embedding 층 : max_words, 임베딩된 단어 벡터의 차원 : 300,  입력 데이터의 크기 : max_len : 25\n",
    "    tf.keras.layers.Embedding(max_words, 300, input_length=max_length), # V:20000, D:300, T:25  --> (?,25,300)\n",
    "     # LSTM 층 : units = 50\n",
    "    tf.keras.layers.LSTM(units=50),                       # (?,50)\n",
    "    # 출력 : class_num, activation = 'softmax'\n",
    "    tf.keras.layers.Dense(2, activation='softmax')\n",
    "])\n",
    "\n",
    "# sparse_categorical_crossentropy : 정답 Y가 희소인 다중 분류 모델의 loss\n",
    "# categorical_crossentropy: 다중 분류 모델의 loss\n",
    "\n",
    "# loss 종류\n",
    "# mean_squared_error : 평균제곱 오차\n",
    "# binary_crossentropy : 이진분류 오차\n",
    "# categorical_crossentropy : 다중 분류 오차. one-hot encoding 클래스, [0.2, 0.3, 0.5] 와 같은 출력값과 실측값의 오차값을 계산한다.\n",
    "# sparse_categorical_crossentropy: 다중 분류 오차. 위와 동일하지만 , integer type 클래스라는 것이 다르다.\n",
    "\n",
    "model.compile(optimizer='adam', loss='sparse_categorical_crossentropy', metrics=['accuracy'])\n",
    "model.summary()"
   ]
  },
  {
   "cell_type": "code",
   "execution_count": 49,
   "metadata": {},
   "outputs": [
    {
     "name": "stdout",
     "output_type": "stream",
     "text": [
      "Epoch 1/5\n",
      "938/938 [==============================] - 76s 77ms/step - loss: 0.4322 - accuracy: 0.7845 - val_loss: 0.3852 - val_accuracy: 0.8204\n",
      "Epoch 2/5\n",
      "938/938 [==============================] - 76s 81ms/step - loss: 0.3253 - accuracy: 0.8474 - val_loss: 0.3831 - val_accuracy: 0.8192\n",
      "Epoch 3/5\n",
      "938/938 [==============================] - 81s 86ms/step - loss: 0.2692 - accuracy: 0.8716 - val_loss: 0.4238 - val_accuracy: 0.8166\n",
      "Epoch 4/5\n",
      "938/938 [==============================] - 75s 80ms/step - loss: 0.2229 - accuracy: 0.8904 - val_loss: 0.4664 - val_accuracy: 0.8151\n",
      "Epoch 5/5\n",
      "938/938 [==============================] - 80s 85ms/step - loss: 0.1861 - accuracy: 0.9083 - val_loss: 0.5568 - val_accuracy: 0.8059\n"
     ]
    }
   ],
   "source": [
    "# 감성 분석 모델 학습 : 약 15분 소요\n",
    "history = model.fit(train_X,train_Y, epochs=5, batch_size=128, validation_split=0.2)"
   ]
  },
  {
   "cell_type": "code",
   "execution_count": 14,
   "metadata": {},
   "outputs": [
    {
     "data": {
      "text/plain": [
       "[0.82226664, 0.8190333, 0.8187, 0.8113, 0.80936664]"
      ]
     },
     "execution_count": 14,
     "metadata": {},
     "output_type": "execute_result"
    }
   ],
   "source": [
    "history.history['loss']\n",
    "history.history['val_loss']\n",
    "history.history['accuracy']\n",
    "history.history['val_accuracy']"
   ]
  },
  {
   "cell_type": "code",
   "execution_count": 15,
   "metadata": {},
   "outputs": [
    {
     "data": {
      "image/png": "[encoded data removed]",
      "text/plain": [
       "<Figure size 864x288 with 2 Axes>"
      ]
     },
     "metadata": {
      "needs_background": "light"
     },
     "output_type": "display_data"
    }
   ],
   "source": [
    "# 감성 분석 모델 학습 결과 확인\n",
    "import matplotlib.pyplot as plt\n",
    "plt.figure(figsize=(12, 4))\n",
    "\n",
    "plt.subplot(1, 2, 1)\n",
    "plt.plot(history.history['loss'], 'b-', label='loss')\n",
    "plt.plot(history.history['val_loss'], 'r--', label='val_loss')\n",
    "plt.xlabel('Epoch')\n",
    "plt.legend()\n",
    "\n",
    "plt.subplot(1, 2, 2)\n",
    "plt.plot(history.history['accuracy'], 'g-', label='accuracy')\n",
    "plt.plot(history.history['val_accuracy'], 'k--', label='val_accuracy')\n",
    "plt.xlabel('Epoch')\n",
    "plt.ylim(0.7, 1)\n",
    "plt.legend()\n",
    "\n",
    "plt.show()"
   ]
  },
  {
   "cell_type": "markdown",
   "metadata": {},
   "source": [
    "### 정확도 측정하기"
   ]
  },
  {
   "cell_type": "code",
   "execution_count": 51,
   "metadata": {},
   "outputs": [
    {
     "data": {
      "text/plain": [
       "array([[  594,     1,     0,     0,     0,     0,     0,     0,     0,\n",
       "            0,     0,     0,     0,     0,     0,     0,     0,     0,\n",
       "            0,     0,     0,     0,     0,     0,     0],\n",
       "       [    0,     0,     0,     0,     0,     0,     0,     0,     0,\n",
       "            0,     0,     0,     0,     0,     0,     0,     0,     0,\n",
       "            0,     0,     0,     0,     0,     0,     0],\n",
       "       [  357,     9,  4626,   990,    69,  3348,  2773,     0,     0,\n",
       "            0,     0,     0,     0,     0,     0,     0,     0,     0,\n",
       "            0,     0,     0,     0,     0,     0,     0],\n",
       "       [ 2110,    32, 12562,   506,  1450,     1,     0,     0,     0,\n",
       "            0,     0,     0,     0,     0,     0,     0,     0,     0,\n",
       "            0,     0,     0,     0,     0,     0,     0],\n",
       "       [17857,   109, 12074,   244, 18890,    11,  3365,   348,   468,\n",
       "        12715,     5,     5,     1,     0,     0,     0,     0,     0,\n",
       "            0,     0,     0,     0,     0,     0,     0]])"
      ]
     },
     "execution_count": 51,
     "metadata": {},
     "output_type": "execute_result"
    }
   ],
   "source": [
    "# test_X 값 추출하기\n",
    "test_text_X = [row.split('\\t')[1] for row in test_text.split('\\n')[1:] if row.count('\\t') > 0]\n",
    "\n",
    "# test_text_X  데이터의 입력(X)에 대한 정제(Cleaning)하기\n",
    "test_text_X =[clean_str(sentence) for sentence in test_text_X ] # ... code here\n",
    "\n",
    "# 문장을 띄어쓰기 단위로 단어 분리하여 test_sentences 저장하기 : split()\n",
    "test_sentences = [sentence.split(' ') for sentence in test_text_X] # ... code here\n",
    "\n",
    "# 단어 정제 및 문장 길이 줄임 : 각 단어의 최대 길이를 5로 고정\n",
    "# 문장의 최대 길이를 25로 잡고 그 이상은 잘라내고 단어의 앞에서 5글자씩만 잘라서 사용한다\n",
    "test_sentences_new = []\n",
    "for sentence in test_sentences:\n",
    "    test_sentences_new.append([word[:5] for word in sentence[:25]])\n",
    "test_sentences = test_sentences_new\n",
    "\n",
    "# 테스트 데이터 셋 토근화하기 : texts_to_sequences()\n",
    "test_sentences = tokenizer.texts_to_sequences(test_sentences)  \n",
    "# 테스트 데이터 셋 패딩하기 : pad_sequences()  - 문장의 뒤부분으로 0을 패딩\n",
    "test_X = pad_sequences(test_sentences, padding='post')    \n",
    "\n",
    "test_X[:5]  # 25개의 길이로 패딩이 완성됨"
   ]
  },
  {
   "cell_type": "code",
   "execution_count": 52,
   "metadata": {},
   "outputs": [],
   "source": [
    "accr = model.evaluate(test_X, test_Y, verbose=0)"
   ]
  },
  {
   "cell_type": "code",
   "execution_count": 53,
   "metadata": {},
   "outputs": [
    {
     "name": "stdout",
     "output_type": "stream",
     "text": [
      "Test set\n",
      "  Loss: 0.569\n",
      "  Accuracy: 0.799\n"
     ]
    }
   ],
   "source": [
    "print('Test set\\n  Loss: {:0.3f}\\n  Accuracy: {:0.3f}'.format(accr[0],accr[1]))"
   ]
  },
  {
   "cell_type": "markdown",
   "metadata": {},
   "source": [
    "### 예측"
   ]
  },
  {
   "cell_type": "code",
   "execution_count": 56,
   "metadata": {},
   "outputs": [
    {
     "name": "stdout",
     "output_type": "stream",
     "text": [
      "1/1 [==============================] - 0s 30ms/step\n",
      "['재미있을']\n",
      "[0.42552653 0.57447344]\n",
      "['재미있을', '줄']\n",
      "[0.3335922  0.66640776]\n",
      "['재미있을', '줄', '알았는데']\n",
      "[0.53294015 0.46705988]\n",
      "['재미있을', '줄', '알았는데', '완전']\n",
      "[0.68086785 0.3191321 ]\n",
      "['재미있을', '줄', '알았는데', '완전', '실망했다.']\n",
      "[0.68086785 0.3191321 ]\n",
      "['재미있을', '줄', '알았는데', '완전', '실망했다.', '너무']\n",
      "[0.7323992 0.2676008]\n",
      "['재미있을', '줄', '알았는데', '완전', '실망했다.', '너무', '졸리고']\n",
      "[0.9958852  0.00411477]\n",
      "['재미있을', '줄', '알았는데', '완전', '실망했다.', '너무', '졸리고', '돈이']\n",
      "[0.9987596  0.00124033]\n",
      "['재미있을', '줄', '알았는데', '완전', '실망했다.', '너무', '졸리고', '돈이', '아까웠다.']\n",
      "[0.9987596  0.00124033]\n"
     ]
    }
   ],
   "source": [
    "# 임의의 문장 감성 분석 예측 결과 확인해보기\n",
    "test_sent = '재미있을 줄 알았는데 완전 실망했다. 너무 졸리고 돈이 아까웠다.'\n",
    "test_sent = test_sent.split(' ') # ['재미있을', '줄', '알았는데', '완전', '실망했다.', '너무', '졸리고', '돈이', '아까웠다.']\n",
    "test_sents = []\n",
    "new_sent = []\n",
    "\n",
    "for word in test_sent:\n",
    "    new_sent.append(word)\n",
    "    test_sents.append(new_sent[:])\n",
    "# test_sentences  # 9개\n",
    "\n",
    "test_sequences = tokenizer.texts_to_sequences(test_sents) \n",
    "test_X_new = pad_sequences(test_sequences, padding='post', maxlen=25) \n",
    "# test_X_new\n",
    "\n",
    "prediction = model.predict(test_X_new)  # 분류할 값 2개가 확률로 출력\n",
    "\n",
    "for idx, sentence in enumerate(test_sents):\n",
    "    print(sentence)\n",
    "    print(prediction[idx])"
   ]
  },
  {
   "cell_type": "code",
   "execution_count": 57,
   "metadata": {},
   "outputs": [],
   "source": [
    "# 감성 분석 함수 구현\n",
    "def sentiment_predict(test_sentence):\n",
    "    test_sentence = test_sentence.split(' ')\n",
    "    test_sentences = []\n",
    "    new_sentence = []\n",
    "\n",
    "    for word in test_sentence:\n",
    "        new_sentence.append(word)\n",
    "        test_sentences.append(new_sentence[:])\n",
    "\n",
    "    sequences = tokenizer.texts_to_sequences(test_sentences) \n",
    "    test_X_new = pad_sequences(sequences,padding='post', maxlen=25) \n",
    "\n",
    "    prediction = model.predict(test_X_new)  \n",
    "\n",
    "    for idx, sentence in enumerate(test_sentences):\n",
    "        score = prediction[idx]\n",
    "    \n",
    "    if(score[0] > score[1]):\n",
    "        print(\"{:.2f}% 확률로 부정 리뷰입니다.\".format(score[0] * 100))\n",
    "    else:\n",
    "        print(\"{:.2f}% 확률로 긍정 리뷰입니다.\".format((1 - score[0]) * 100)) "
   ]
  },
  {
   "cell_type": "code",
   "execution_count": 58,
   "metadata": {},
   "outputs": [
    {
     "name": "stdout",
     "output_type": "stream",
     "text": [
      "1/1 [==============================] - 0s 35ms/step\n",
      "99.52% 확률로 긍정 리뷰입니다.\n"
     ]
    }
   ],
   "source": [
    "sentiment_predict('이 영화 개꿀잼 ~')"
   ]
  },
  {
   "cell_type": "code",
   "execution_count": 59,
   "metadata": {},
   "outputs": [
    {
     "name": "stdout",
     "output_type": "stream",
     "text": [
      "1/1 [==============================] - 0s 32ms/step\n",
      "99.91% 확률로 부정 리뷰입니다.\n"
     ]
    }
   ],
   "source": [
    "sentiment_predict('넘 재미없어 내내 졸았어요')"
   ]
  },
  {
   "cell_type": "code",
   "execution_count": 60,
   "metadata": {},
   "outputs": [
    {
     "name": "stdout",
     "output_type": "stream",
     "text": [
      "1/1 [==============================] - 0s 11ms/step\n",
      "99.88% 확률로 부정 리뷰입니다.\n"
     ]
    }
   ],
   "source": [
    "sentiment_predict('돈이 아까워요 ')"
   ]
  },
  {
   "cell_type": "code",
   "execution_count": 61,
   "metadata": {},
   "outputs": [
    {
     "name": "stdout",
     "output_type": "stream",
     "text": [
      "1/1 [==============================] - 0s 34ms/step\n",
      "99.79% 확률로 부정 리뷰입니다.\n"
     ]
    }
   ],
   "source": [
    "sentiment_predict('이 영화 하품만 나와요~')"
   ]
  },
  {
   "cell_type": "code",
   "execution_count": 62,
   "metadata": {},
   "outputs": [
    {
     "name": "stdout",
     "output_type": "stream",
     "text": [
      "1/1 [==============================] - 0s 41ms/step\n",
      "99.37% 확률로 긍정 리뷰입니다.\n"
     ]
    }
   ],
   "source": [
    "sentiment_predict('두번 봐도 재미있어요')"
   ]
  },
  {
   "cell_type": "code",
   "execution_count": 63,
   "metadata": {},
   "outputs": [
    {
     "name": "stdout",
     "output_type": "stream",
     "text": [
      "1/1 [==============================] - 0s 12ms/step\n",
      "99.89% 확률로 부정 리뷰입니다.\n"
     ]
    }
   ],
   "source": [
    "sentiment_predict('이 영화 핵노잼 ㅠㅠ')"
   ]
  },
  {
   "cell_type": "code",
   "execution_count": 64,
   "metadata": {},
   "outputs": [
    {
     "name": "stdout",
     "output_type": "stream",
     "text": [
      "1/1 [==============================] - 0s 31ms/step\n",
      "99.47% 확률로 부정 리뷰입니다.\n"
     ]
    }
   ],
   "source": [
    "sentiment_predict('이 영화 왜 만든거야')"
   ]
  },
  {
   "cell_type": "code",
   "execution_count": 65,
   "metadata": {},
   "outputs": [
    {
     "name": "stdout",
     "output_type": "stream",
     "text": [
      "1/1 [==============================] - 0s 35ms/step\n",
      "85.01% 확률로 긍정 리뷰입니다.\n"
     ]
    }
   ],
   "source": [
    "sentiment_predict('이 영화 꼭 보세요')"
   ]
  },
  {
   "cell_type": "code",
   "execution_count": 66,
   "metadata": {},
   "outputs": [
    {
     "name": "stdout",
     "output_type": "stream",
     "text": [
      "1/1 [==============================] - 0s 23ms/step\n",
      "57.53% 확률로 긍정 리뷰입니다.\n"
     ]
    }
   ],
   "source": [
    "sentiment_predict('안녕하세요')"
   ]
  },
  {
   "cell_type": "code",
   "execution_count": 67,
   "metadata": {},
   "outputs": [
    {
     "name": "stdout",
     "output_type": "stream",
     "text": [
      "1/1 [==============================] - 0s 21ms/step\n",
      "99.88% 확률로 부정 리뷰입니다.\n"
     ]
    }
   ],
   "source": [
    "sentiment_predict('그저 그래요')"
   ]
  },
  {
   "cell_type": "code",
   "execution_count": 68,
   "metadata": {},
   "outputs": [
    {
     "name": "stdout",
     "output_type": "stream",
     "text": [
      "1/1 [==============================] - 0s 23ms/step\n",
      "55.36% 확률로 부정 리뷰입니다.\n"
     ]
    }
   ],
   "source": [
    "sentiment_predict('좋아하는 사람들이 있을지는 모르겠지만 나는 그저그랬다')"
   ]
  },
  {
   "cell_type": "code",
   "execution_count": null,
   "metadata": {},
   "outputs": [],
   "source": []
  },
  {
   "cell_type": "code",
   "execution_count": 97,
   "metadata": {},
   "outputs": [
    {
     "name": "stdout",
     "output_type": "stream",
     "text": [
      "[['아', '더빙', '진짜', '짜증나네요', '목소리'], ['흠포스터보고', '초딩영화줄오버연기조차', '가볍지', '않구나'], ['너무재밓었다그래서보는것을추천한다']]\n"
     ]
    }
   ],
   "source": [
    "import pandas as pd\n",
    "\n",
    "# pandas 의 read_csv() 사용하여 가져오기 \n",
    "df_train_raw = pd.read_csv(path_to_train_file, sep='\\t')  \n",
    "df_test_raw  = pd.read_csv(path_to_test_file, sep='\\t') \n",
    "df_train_raw.head(3)\n",
    "\n",
    "# 입력항목 X 과 레이블 Y 생성하기\n",
    "df_trainX = df_train_raw.document\n",
    "df_trainY = df_train_raw.label\n",
    "train_Y = df_trainY.to_numpy().reshape(-1, 1)\n",
    "\n",
    "df_testX = df_test_raw.document\n",
    "df_testY = df_test_raw.label\n",
    "test_Y = df_testY.to_numpy().reshape(-1, 1)\n",
    "\n",
    "# 누락된 값 확인\n",
    "missing_values = df_trainX.isnull().sum()\n",
    "missing_values\n",
    "\n",
    "# 문장을 단어 리스트로 변환하는 함수 수정\n",
    "def tokenize_sentence(sentence):\n",
    "    if not isinstance(sentence, str):\n",
    "        return []\n",
    "    # 특수 문자 제거\n",
    "    sentence = re.sub(r'[^가-힣a-zA-Z0-9\\s]', '', sentence).split()   \n",
    "    # 공백을 기준으로 단어 분리\n",
    "    words = sentence\n",
    "    return words\n",
    "\n",
    " \n",
    "# 각 문장을 단어 리스트로 변환하여 sentences 리스트에 저장\n",
    "df_trainX_sent = df_trainX.apply(tokenize_sentence).tolist()\n",
    "\n",
    "print(df_trainX_sent[:3])\n",
    "\n",
    "'''\n",
    "[['아', '더빙', '진짜', '짜증나네요', '목소리'],\n",
    " ['흠', '포스터보고', '초딩영화줄', '오버연기조차', '가볍지', '않구나'],\n",
    " ['너무재밓었다그래서보는것을추천한다'],\n",
    "'''"
   ]
  },
  {
   "cell_type": "code",
   "execution_count": 84,
   "metadata": {},
   "outputs": [
    {
     "data": {
      "text/plain": [
       "[['아', '더빙', '진짜', '짜증나네요', '목소리'],\n",
       " ['흠포스터보', '초딩영화줄', '가볍지', '않구나'],\n",
       " ['너무재밓었'],\n",
       " ['교도소', '이야기구먼', '솔직히', '재미는', '없다평점', '조정'],\n",
       " ['사이몬페그',\n",
       "  '익살스런',\n",
       "  '연기가',\n",
       "  '돋보였던',\n",
       "  '영화스파이',\n",
       "  '늙어보이기',\n",
       "  '했던',\n",
       "  '커스틴',\n",
       "  '던스트가',\n",
       "  '너무나도',\n",
       "  '이뻐보였다']]"
      ]
     },
     "execution_count": 84,
     "metadata": {},
     "output_type": "execute_result"
    }
   ],
   "source": [
    "# 단어 정제 및 문장 길이 줄임 : 각 단어의 최대 길이를 5로 고정하기\n",
    "\n",
    "sentences_new = []\n",
    "for sentence in df_trainX_sent:\n",
    "    # 문장의 최대 길이를 25로 잡고 그 이상은 잘라내고 단어의 앞에서 5글자씩만 잘라서 사용하기\n",
    "    sentences_new.append([word[:5] for word in sentence[:25]])  # ... code here\n",
    "    \n",
    "df_trainX_sent = sentences_new\n",
    "df_trainX_sent[:5]"
   ]
  },
  {
   "cell_type": "code",
   "execution_count": 70,
   "metadata": {},
   "outputs": [
    {
     "data": {
      "text/plain": [
       "[['아', '더빙', '..', '진짜', '짜증나네요', '목소리'],\n",
       " ['흠',\n",
       "  '...',\n",
       "  '포스터',\n",
       "  '보고',\n",
       "  '초딩',\n",
       "  '영화',\n",
       "  '줄',\n",
       "  '....',\n",
       "  '오버',\n",
       "  '연기',\n",
       "  '조차',\n",
       "  '가볍지',\n",
       "  '않구나'],\n",
       " ['너', '무재', '밓었', '다그', '래서', '보는것을', '추천', '한', '다'],\n",
       " ['교도소', '이야기', '구먼', '..', '솔직히', '재미', '는', '없다', '..', '평점', '조정'],\n",
       " ['사이',\n",
       "  '몬페',\n",
       "  '그',\n",
       "  '의',\n",
       "  '익살스런',\n",
       "  '연기',\n",
       "  '가',\n",
       "  '돋보였던',\n",
       "  '영화',\n",
       "  '!',\n",
       "  '스파이더맨',\n",
       "  '에서',\n",
       "  '늙어',\n",
       "  '보이기만',\n",
       "  '했던',\n",
       "  '커스틴',\n",
       "  '던스트',\n",
       "  '가',\n",
       "  '너무나도',\n",
       "  '이뻐',\n",
       "  '보였다']]"
      ]
     },
     "execution_count": 70,
     "metadata": {},
     "output_type": "execute_result"
    }
   ],
   "source": [
    "# 토큰화 하기 : 방법2\n",
    "from konlpy.tag import Okt\n",
    "\n",
    "okt = Okt()\n",
    "\n",
    "# 문장을 토큰화하는 함수\n",
    "def tokenize_with_okt(sentence):\n",
    "    if not isinstance(sentence, str):\n",
    "        return []\n",
    "    words = okt.morphs(sentence)\n",
    "    return words\n",
    "\n",
    "# 각 문장을 토큰화\n",
    "df_trainX_sent_with_okt = df_trainX.apply(tokenize_with_okt).tolist()\n",
    "df_trainX_sent_with_okt[:5]\n",
    "\n",
    "sentences_new = []\n",
    "for sentence in df_trainX_sent_with_okt:\n",
    "    # 문장의 최대 길이를 25로 잡고 그 이상은 잘라내고 단어의 앞에서 5글자씩만 잘라서 사용하기\n",
    "    sentences_new.append([word[:5] for word in sentence[:25]])  # ... code here\n",
    "    \n",
    "df_trainX_sent_with_okt = sentences_new\n",
    "df_trainX_sent_with_okt[:5]"
   ]
  },
  {
   "cell_type": "code",
   "execution_count": 71,
   "metadata": {},
   "outputs": [
    {
     "data": {
      "image/png": "[encoded data removed]",
      "text/plain": [
       "<Figure size 640x480 with 1 Axes>"
      ]
     },
     "metadata": {},
     "output_type": "display_data"
    },
    {
     "name": "stdout",
     "output_type": "stream",
     "text": [
      "144801\n"
     ]
    }
   ],
   "source": [
    "# 150000개 문장의 단어 길이 확인\n",
    "import matplotlib.pyplot as plt\n",
    "# sentences 에 대해 각 문장의 길이를 구해를 구해  sentence_len 저장하기\n",
    "sentence_len = [len(sentence) for sentence in df_trainX_sent] # ... code here\n",
    "# sentence_len 정렬하기\n",
    "sentence_len.sort()  # ... code here\n",
    "# sentence_len 으로 plot 하기\n",
    "plt.plot(sentence_len) # ... code here\n",
    "plt.xlabel('index')\n",
    "plt.ylabel('count')\n",
    "plt.show()\n",
    "\n",
    "# sentence_len 길이가 25개 이하인 것 합계구하고 출력하기\n",
    "print(sum([int(l<=25) for l in sentence_len]))\n",
    "# 15 만개 문장 중 단어 갯수가 25개 이하인 문장의 수가 142590개이다, 25를 sequence_length로 사용"
   ]
  },
  {
   "cell_type": "code",
   "execution_count": 72,
   "metadata": {},
   "outputs": [
    {
     "data": {
      "image/png": "[encoded data removed]",
      "text/plain": [
       "<Figure size 640x480 with 1 Axes>"
      ]
     },
     "metadata": {},
     "output_type": "display_data"
    },
    {
     "name": "stdout",
     "output_type": "stream",
     "text": [
      "130509\n"
     ]
    }
   ],
   "source": [
    "# sentences 에 대해 각 문장의 길이를 구해를 구해  sentence_len 저장하기\n",
    "sentence_len = [len(sentence) for sentence in df_trainX_sent_with_okt] # ... code here\n",
    "# sentence_len 정렬하기\n",
    "sentence_len.sort()  # ... code here\n",
    "# sentence_len 으로 plot 하기\n",
    "plt.plot(sentence_len) # ... code here\n",
    "plt.xlabel('index')\n",
    "plt.ylabel('count')\n",
    "plt.show()\n",
    "\n",
    "# sentence_len 길이가 25개 이하인 것 합계구하고 출력하기\n",
    "print(sum([int(l<=25) for l in sentence_len]))\n",
    "# 15 만개 문장 중 단어 갯수가 25개 이하인 문장의 수가 142590개이다, 25를 sequence_length로 사용"
   ]
  },
  {
   "cell_type": "markdown",
   "metadata": {},
   "source": [
    "### Tokenizer와 pad_sequences를 사용한 문장 전처리"
   ]
  },
  {
   "cell_type": "code",
   "execution_count": 85,
   "metadata": {},
   "outputs": [
    {
     "data": {
      "text/plain": [
       "array([[   25,   884,     8,  5795,  1111,     0,     0,     0,     0,\n",
       "            0,     0,     0,     0,     0,     0,     0,     0,     0,\n",
       "            0,     0,     0,     0,     0,     0,     0],\n",
       "       [ 6697,     0,     0,     0,     0,     0,     0,     0,     0,\n",
       "            0,     0,     0,     0,     0,     0,     0,     0,     0,\n",
       "            0,     0,     0,     0,     0,     0,     0],\n",
       "       [    0,     0,     0,     0,     0,     0,     0,     0,     0,\n",
       "            0,     0,     0,     0,     0,     0,     0,     0,     0,\n",
       "            0,     0,     0,     0,     0,     0,     0],\n",
       "       [   71,   346, 10468,     0,     0,     0,     0,     0,     0,\n",
       "            0,     0,     0,     0,     0,     0,     0,     0,     0,\n",
       "            0,     0,     0,     0,     0,     0,     0],\n",
       "       [  106,  5338,   869,   573,     0,     0,     0,     0,     0,\n",
       "            0,     0,     0,     0,     0,     0,     0,     0,     0,\n",
       "            0,     0,     0,     0,     0,     0,     0]])"
      ]
     },
     "execution_count": 85,
     "metadata": {},
     "output_type": "execute_result"
    }
   ],
   "source": [
    "#  Tokenizer와 pad_sequences를 사용한 문장 전처리\n",
    "from tensorflow.keras.preprocessing.text import Tokenizer\n",
    "from tensorflow.keras.preprocessing.sequence import pad_sequences\n",
    "\n",
    "max_words = 20000\n",
    "max_length = 25\n",
    "# 가장 빈도가 높은 20000개(max_words)의 단어들만 사용하여 토큰화 인스턴스 생성하기 : tokenizer \n",
    "tokenizer = Tokenizer(num_words=max_words) # 빈도수가 높은 20000개 단어만 사용하여 숫자로 반환하고 나머지는 공백으로 반환\n",
    "# 단어(sentences) 인덱스 구축\n",
    "tokenizer.fit_on_texts(sentences)\n",
    "# 문자열을 정수 인덱스의 리스트로 변환\n",
    "df_trainX_sequences = tokenizer.texts_to_sequences(df_trainX_sent)\n",
    "# 시퀀스 패딩 : 벡터 표현을 얻음, padding = 'post' - 문장의 뒤부분으로 0을 패딩\n",
    "train_X = pad_sequences(df_trainX_sequences, padding = 'post') \n",
    "\n",
    "train_X[:5]"
   ]
  },
  {
   "cell_type": "markdown",
   "metadata": {},
   "source": [
    "### 학습 모델 구현"
   ]
  },
  {
   "cell_type": "code",
   "execution_count": 86,
   "metadata": {},
   "outputs": [
    {
     "name": "stdout",
     "output_type": "stream",
     "text": [
      "Model: \"sequential_2\"\n",
      "_________________________________________________________________\n",
      " Layer (type)                Output Shape              Param #   \n",
      "=================================================================\n",
      " embedding_2 (Embedding)     (None, 25, 300)           6000000   \n",
      "                                                                 \n",
      " lstm_2 (LSTM)               (None, 50)                70200     \n",
      "                                                                 \n",
      " dense_2 (Dense)             (None, 2)                 102       \n",
      "                                                                 \n",
      "=================================================================\n",
      "Total params: 6070302 (23.16 MB)\n",
      "Trainable params: 6070302 (23.16 MB)\n",
      "Non-trainable params: 0 (0.00 Byte)\n",
      "_________________________________________________________________\n"
     ]
    }
   ],
   "source": [
    "model_df = tf.keras.Sequential([\n",
    "    # Embedding 층 : max_words, 임베딩된 단어 벡터의 차원 : 300,  입력 데이터의 크기 : max_len : 25\n",
    "    tf.keras.layers.Embedding(max_words, 300, input_length=max_length), # V:20000, D:300, T:25  --> (?,25,300)\n",
    "     # LSTM 층 : units = 50\n",
    "    tf.keras.layers.LSTM(units=50),                       # (?,50)\n",
    "    # 출력 : class_num, activation = 'softmax'\n",
    "    tf.keras.layers.Dense(2, activation='softmax')\n",
    "])\n",
    "\n",
    "# sparse_categorical_crossentropy : 정답 Y가 희소인 다중 분류 모델의 loss\n",
    "# categorical_crossentropy: 다중 분류 모델의 loss\n",
    "\n",
    "# loss 종류\n",
    "# mean_squared_error : 평균제곱 오차\n",
    "# binary_crossentropy : 이진분류 오차\n",
    "# categorical_crossentropy : 다중 분류 오차. one-hot encoding 클래스, [0.2, 0.3, 0.5] 와 같은 출력값과 실측값의 오차값을 계산한다.\n",
    "# sparse_categorical_crossentropy: 다중 분류 오차. 위와 동일하지만 , integer type 클래스라는 것이 다르다.\n",
    "\n",
    "model_df.compile(optimizer='adam', loss='sparse_categorical_crossentropy', metrics=['accuracy'])\n",
    "model_df.summary()"
   ]
  },
  {
   "cell_type": "code",
   "execution_count": 87,
   "metadata": {},
   "outputs": [
    {
     "name": "stdout",
     "output_type": "stream",
     "text": [
      "Epoch 1/5\n",
      "938/938 [==============================] - 54s 55ms/step - loss: 0.4512 - accuracy: 0.7693 - val_loss: 0.4186 - val_accuracy: 0.8091\n",
      "Epoch 2/5\n",
      "938/938 [==============================] - 61s 65ms/step - loss: 0.3415 - accuracy: 0.8344 - val_loss: 0.4047 - val_accuracy: 0.8057\n",
      "Epoch 3/5\n",
      "938/938 [==============================] - 62s 66ms/step - loss: 0.2895 - accuracy: 0.8551 - val_loss: 0.4544 - val_accuracy: 0.8023\n",
      "Epoch 4/5\n",
      "938/938 [==============================] - 61s 65ms/step - loss: 0.2480 - accuracy: 0.8720 - val_loss: 0.5031 - val_accuracy: 0.8024\n",
      "Epoch 5/5\n",
      "938/938 [==============================] - 61s 65ms/step - loss: 0.2143 - accuracy: 0.8885 - val_loss: 0.5806 - val_accuracy: 0.7944\n"
     ]
    }
   ],
   "source": [
    "# 감성 분석 모델 학습 : 약 15분 소요\n",
    "\n",
    "history = model_df.fit(train_X, train_Y , epochs=5, batch_size=128, validation_split=0.2)"
   ]
  },
  {
   "cell_type": "code",
   "execution_count": null,
   "metadata": {},
   "outputs": [],
   "source": [
    "# test_X 값 추출하기\n",
    "test_text_X = [row.split('\\t')[1] for row in test_text.split('\\n')[1:] if row.count('\\t') > 0]\n",
    "\n",
    "# test_text_X  데이터의 입력(X)에 대한 정제(Cleaning)하기\n",
    "test_text_X =[clean_str(sentence) for sentence in test_text_X ] # ... code here\n",
    "\n",
    "# 문장을 띄어쓰기 단위로 단어 분리하여 test_sentences 저장하기 : split()\n",
    "test_sentences = [sentence.split(' ') for sentence in test_text_X] # ... code here\n",
    "\n",
    "# 단어 정제 및 문장 길이 줄임 : 각 단어의 최대 길이를 5로 고정\n",
    "# 문장의 최대 길이를 25로 잡고 그 이상은 잘라내고 단어의 앞에서 5글자씩만 잘라서 사용한다\n",
    "test_sentences_new = []\n",
    "for sentence in test_sentences:\n",
    "    test_sentences_new.append([word[:5] for word in sentence[:25]])\n",
    "test_sentences = test_sentences_new\n",
    "\n",
    "# 테스트 데이터 셋 토근화하기 : texts_to_sequences()\n",
    "test_sentences = tokenizer.texts_to_sequences(test_sentences)  \n",
    "# 테스트 데이터 셋 패딩하기 : pad_sequences()  - 문장의 뒤부분으로 0을 패딩\n",
    "test_X = pad_sequences(test_sentences, padding='post')    \n",
    "\n",
    "test_X[:5]  # 25개의 길이로 패딩이 완성됨"
   ]
  }
 ],
 "metadata": {
  "kernelspec": {
   "display_name": "Python 3 (ipykernel)",
   "language": "python",
   "name": "python3"
  },
  "language_info": {
   "codemirror_mode": {
    "name": "ipython",
    "version": 3
   },
   "file_extension": ".py",
   "mimetype": "text/x-python",
   "name": "python",
   "nbconvert_exporter": "python",
   "pygments_lexer": "ipython3",
   "version": "3.8.8"
  }
 },
 "nbformat": 4,
 "nbformat_minor": 4
}
