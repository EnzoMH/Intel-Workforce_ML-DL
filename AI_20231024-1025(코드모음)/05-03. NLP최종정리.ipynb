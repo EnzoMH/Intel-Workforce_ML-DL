{
 "cells": [
  {
   "cell_type": "markdown",
   "id": "4daecfb2",
   "metadata": {},
   "source": [
    "#### NLP 정리 목차\n",
    "1. 데이터 가져오기\n",
    "-   1) 파일 open 방식\n",
    "-   2) 판다스 read_csv() 방식\n",
    "2. 텍스트 데이터 전처리 : X ( 입력) , Y (레이블 )\n",
    "-  1) 파이썬 코딩 방식 : 문장 => 단어 => 형태소\n",
    "-     split('\\n' or '\\t') , replace('\\n', ' ') 등등 정규식 사용방법\n",
    "-  2) 라이브러리 사용 : nltk.Tokenizer()\n",
    "3. 텍스트 데이터 벡터화\n",
    "-  1) Tokenizer를 사용 : fit_on_texts()\n",
    "-  2) Tokenizer를 사용 : texts_to_sequences()\n",
    "-  3) pad_sequences ()\n",
    "4. 모델 구성 및 컴파일하기\n",
    "-  1) Embedding : 입력 값 이해\n",
    "-  2) LSTM\n",
    "-  3) 출력\n",
    "5. 학습\n",
    "6. 평가하기 : test 데이터에 대한 데이터 전처리 (앞의 2번과 같은 과정 )\n",
    "7. 예측하기 - 예측기 만들기 ( 입력 문구에 대한 텍스트 데이터 전처리하기 )"
   ]
  },
  {
   "cell_type": "markdown",
   "id": "d8ed31ef",
   "metadata": {},
   "source": [
    "# 1. 데이터 가져오기"
   ]
  },
  {
   "cell_type": "markdown",
   "id": "a1984f11",
   "metadata": {},
   "source": [
    "0. 라이브러리"
   ]
  },
  {
   "cell_type": "code",
   "execution_count": 20,
   "id": "dae90e36",
   "metadata": {},
   "outputs": [],
   "source": [
    "# 라이브러리 가져오기\n",
    "import pandas as pd\n",
    "import tensorflow as tf\n",
    "import numpy as np\n",
    "import re\n",
    "import matplotlib.pyplot as plt\n",
    "from tensorflow.keras.preprocessing.text import Tokenizer\n",
    "from tensorflow.keras.preprocessing.sequence import pad_sequences\n",
    "from konlpy.tag import Okt\n",
    "from nltk.tokenize import word_tokenize"
   ]
  },
  {
   "cell_type": "markdown",
   "id": "65f09b90",
   "metadata": {},
   "source": [
    "1-1. 파일 오픈"
   ]
  },
  {
   "cell_type": "markdown",
   "id": "9df4bfc4",
   "metadata": {},
   "source": [
    "- .txt 방식"
   ]
  },
  {
   "cell_type": "code",
   "execution_count": 8,
   "id": "a5a03fbb",
   "metadata": {},
   "outputs": [],
   "source": [
    "# Naver Sentiment Movie Corpus v1.0 다운로드하기\n",
    "path_to_train_file = tf.keras.utils.get_file('train.txt', 'https://raw.githubusercontent.com/e9t/nsmc/master/ratings_train.txt')\n",
    "path_to_test_file = tf.keras.utils.get_file('test.txt', 'https://raw.githubusercontent.com/e9t/nsmc/master/ratings_test.txt')"
   ]
  },
  {
   "cell_type": "code",
   "execution_count": 12,
   "id": "4bf8cc23",
   "metadata": {},
   "outputs": [],
   "source": [
    "# 상대경로\n",
    "# with open('filename.txt', 'r') as file:\n",
    "#     data = file.read()"
   ]
  },
  {
   "cell_type": "markdown",
   "id": "876582c3",
   "metadata": {},
   "source": [
    "1-2. 판다스 read_csv () 방식 or read_excel() 방식"
   ]
  },
  {
   "cell_type": "code",
   "execution_count": 10,
   "id": "192e0ff5",
   "metadata": {},
   "outputs": [],
   "source": [
    "# import pandas as pd\n",
    "#\n",
    "## 1.상대경로 이용 \n",
    "##  1) csv 파일 리딩\n",
    "# data_file = pd.read_csv('./ArticlesApril2018.csv')\n",
    "##  2) excel 파일 리딩 \n",
    "# data_file = pd.read_excel(./ArticlesApril2018.xml')\n",
    "#\n",
    "## 2. 절대경로 이용\n",
    "#\n",
    "## 1) 백슬래시 이용\n",
    "#    csv_file_path = 'C:\\\\Users\\\\YourUsername\\\\Documents\\\\your_directory\\\\your_file.csv'\n",
    "#    excel_file_path = 'C:\\\\Users\\\\YourUsername\\\\Documents\\\\your_directory\\\\your_file.xlsx'\n",
    "#\n",
    "##   CSV 파일 읽기\n",
    "#    data_csv = pd.read_csv(csv_file_path)\n",
    "##   Excel 파일 읽기\n",
    "#    data_excel = pd.read_excel(excel_file_path)\n",
    "\n",
    "## 2) r 사용 예제:\n",
    "## `r`을 사용하여 백슬래시를 이스케이프 문자로 인식하지 않음\n",
    "#   csv_file_path = r'C:\\Users\\YourUsername\\Documents\\your_directory\\your_file.csv'\n",
    "#   excel_file_path = r'C:\\Users\\YourUsername\\Documents\\your_directory\\your_file.xlsx'\n",
    "\n",
    "##   CSV 파일 읽기\n",
    "#   data_csv = pd.read_csv(csv_file_path)\n",
    "##   Excel 파일 읽기\n",
    "#   data_excel = pd.read_excel(excel_file_path)"
   ]
  },
  {
   "cell_type": "markdown",
   "id": "efed2753",
   "metadata": {},
   "source": [
    "- 번외_Colab and Google Drive\n",
    "### if link is\n",
    "https://drive.google.com/file/d/XXXXXXXXXXXXXXXXXXXXXXXXXXXXXXXXXX/view?usp=sharing    "
   ]
  },
  {
   "cell_type": "code",
   "execution_count": 11,
   "id": "5a5532b5",
   "metadata": {},
   "outputs": [],
   "source": [
    "# # 파일 ID를 지정합니다.\n",
    "# file_id = \"XXXXXXXXXXXXXXXXXXXXXXXXXXXXXXXXXX\"\n",
    "\n",
    "# # 파일의 공유 가능한 링크 URL을 생성합니다.\n",
    "# file_url = f\"https://drive.google.com/uc?id={file_id}\"\n",
    "\n",
    "# # CSV 파일 읽기\n",
    "# data_file = pd.read_csv(file_url)\n",
    "    "
   ]
  },
  {
   "cell_type": "markdown",
   "id": "574a9f17",
   "metadata": {},
   "source": [
    "1-3. 웹크롤링"
   ]
  },
  {
   "cell_type": "markdown",
   "id": "d36495e7",
   "metadata": {},
   "source": [
    "- Requests 라이브러리를 사용한 웹 스크래핑:"
   ]
  },
  {
   "cell_type": "code",
   "execution_count": 15,
   "id": "8f3098ee",
   "metadata": {},
   "outputs": [],
   "source": [
    "# 라이브러리\n",
    "import requests\n",
    "from bs4 import BeautifulSoup"
   ]
  },
  {
   "cell_type": "code",
   "execution_count": null,
   "id": "93da9fb6",
   "metadata": {},
   "outputs": [],
   "source": [
    "# url = 'https://example.com/blog-post'\n",
    "# response = requests.get(url)\n",
    "# soup = BeautifulSoup(response.text, 'html.parser')\n",
    "# article_text = soup.find('div', {'class': 'article-content'}).get_text()"
   ]
  },
  {
   "cell_type": "markdown",
   "id": "5319d1da",
   "metadata": {},
   "source": [
    "- API를 통한 데이터 가져오기:"
   ]
  },
  {
   "cell_type": "code",
   "execution_count": 16,
   "id": "1c6c660a",
   "metadata": {},
   "outputs": [],
   "source": [
    "import requests"
   ]
  },
  {
   "cell_type": "code",
   "execution_count": null,
   "id": "5b1d5341",
   "metadata": {},
   "outputs": [],
   "source": [
    "# api_url = 'https://api.example.com/data'\n",
    "# response = requests.get(api_url)\n",
    "# data = response.json()  # JSON 응답 데이터 파싱\n",
    "# text_data = data['text']"
   ]
  },
  {
   "cell_type": "markdown",
   "id": "21c55409",
   "metadata": {},
   "source": [
    "- 웹 스크래핑 라이브러리 사용:"
   ]
  },
  {
   "cell_type": "code",
   "execution_count": 18,
   "id": "ddb718cd",
   "metadata": {},
   "outputs": [
    {
     "name": "stdout",
     "output_type": "stream",
     "text": [
      "Collecting scrapy\n",
      "  Obtaining dependency information for scrapy from https://files.pythonhosted.org/packages/08/66/22ed9609df4b6d94a66512572a11b35943a6cb36dc268f88ebfbede60be1/Scrapy-2.11.0-py2.py3-none-any.whl.metadata\n",
      "  Downloading Scrapy-2.11.0-py2.py3-none-any.whl.metadata (5.2 kB)\n",
      "Collecting Twisted<23.8.0,>=18.9.0 (from scrapy)\n",
      "  Downloading Twisted-22.10.0-py3-none-any.whl (3.1 MB)\n",
      "     ---------------------------------------- 0.0/3.1 MB ? eta -:--:--\n",
      "     --- ------------------------------------ 0.3/3.1 MB 8.6 MB/s eta 0:00:01\n",
      "     ------------------ --------------------- 1.4/3.1 MB 13.0 MB/s eta 0:00:01\n",
      "     ------------------------------- -------- 2.5/3.1 MB 17.5 MB/s eta 0:00:01\n",
      "     ---------------------------------------- 3.1/3.1 MB 18.1 MB/s eta 0:00:00\n",
      "Collecting cryptography>=36.0.0 (from scrapy)\n",
      "  Obtaining dependency information for cryptography>=36.0.0 from https://files.pythonhosted.org/packages/86/35/f03a42444866ef7f23134812a05012dcb509418214fb78ec848f28cd14b8/cryptography-41.0.5-cp37-abi3-win_amd64.whl.metadata\n",
      "  Downloading cryptography-41.0.5-cp37-abi3-win_amd64.whl.metadata (5.3 kB)\n",
      "Collecting cssselect>=0.9.1 (from scrapy)\n",
      "  Downloading cssselect-1.2.0-py2.py3-none-any.whl (18 kB)\n",
      "Collecting itemloaders>=1.0.1 (from scrapy)\n",
      "  Downloading itemloaders-1.1.0-py3-none-any.whl (11 kB)\n",
      "Collecting parsel>=1.5.0 (from scrapy)\n",
      "  Downloading parsel-1.8.1-py2.py3-none-any.whl (17 kB)\n",
      "Collecting pyOpenSSL>=21.0.0 (from scrapy)\n",
      "  Obtaining dependency information for pyOpenSSL>=21.0.0 from https://files.pythonhosted.org/packages/f0/e2/f8b4f1c67933a4907e52228241f4bd52169f3196b70af04403b29c63238a/pyOpenSSL-23.2.0-py3-none-any.whl.metadata\n",
      "  Downloading pyOpenSSL-23.2.0-py3-none-any.whl.metadata (10 kB)\n",
      "Collecting queuelib>=1.4.2 (from scrapy)\n",
      "  Downloading queuelib-1.6.2-py2.py3-none-any.whl (13 kB)\n",
      "Collecting service-identity>=18.1.0 (from scrapy)\n",
      "  Obtaining dependency information for service-identity>=18.1.0 from https://files.pythonhosted.org/packages/0c/42/bf07f277b45da6e350df3314804aa2b5411e0938d3b78b4f17da2e1302c2/service_identity-23.1.0-py3-none-any.whl.metadata\n",
      "  Downloading service_identity-23.1.0-py3-none-any.whl.metadata (5.5 kB)\n",
      "Collecting w3lib>=1.17.0 (from scrapy)\n",
      "  Obtaining dependency information for w3lib>=1.17.0 from https://files.pythonhosted.org/packages/82/e2/dcf8573d7153194eb673347cea1f9bbdb2a8e61030740fb6f50e4234a00b/w3lib-2.1.2-py3-none-any.whl.metadata\n",
      "  Downloading w3lib-2.1.2-py3-none-any.whl.metadata (1.1 kB)\n",
      "Requirement already satisfied: zope.interface>=5.1.0 in c:\\users\\isfs0\\anaconda3\\lib\\site-packages (from scrapy) (5.3.0)\n",
      "Collecting protego>=0.1.15 (from scrapy)\n",
      "  Obtaining dependency information for protego>=0.1.15 from https://files.pythonhosted.org/packages/bc/16/14fd1ecdece2e1d87279fc09fbd2d55bae5fa033783c3547af631c74d718/Protego-0.3.0-py2.py3-none-any.whl.metadata\n",
      "  Downloading Protego-0.3.0-py2.py3-none-any.whl.metadata (5.8 kB)\n",
      "Collecting itemadapter>=0.1.0 (from scrapy)\n",
      "  Downloading itemadapter-0.8.0-py3-none-any.whl (11 kB)\n",
      "Requirement already satisfied: setuptools in c:\\users\\isfs0\\anaconda3\\lib\\site-packages (from scrapy) (52.0.0.post20210125)\n",
      "Requirement already satisfied: packaging in c:\\users\\isfs0\\appdata\\roaming\\python\\python38\\site-packages (from scrapy) (23.1)\n",
      "Collecting tldextract (from scrapy)\n",
      "  Obtaining dependency information for tldextract from https://files.pythonhosted.org/packages/75/c0/038a9529d1b3cf10ab682bb66e2e253530e5380c2b656205703d9f618b30/tldextract-5.0.1-py3-none-any.whl.metadata\n",
      "  Downloading tldextract-5.0.1-py3-none-any.whl.metadata (10 kB)\n",
      "Requirement already satisfied: lxml>=4.4.1 in c:\\users\\isfs0\\anaconda3\\lib\\site-packages (from scrapy) (4.6.3)\n",
      "Collecting PyDispatcher>=2.0.5 (from scrapy)\n",
      "  Downloading PyDispatcher-2.0.7-py3-none-any.whl (12 kB)\n",
      "Requirement already satisfied: cffi>=1.12 in c:\\users\\isfs0\\anaconda3\\lib\\site-packages (from cryptography>=36.0.0->scrapy) (1.14.5)\n",
      "Collecting jmespath>=0.9.5 (from itemloaders>=1.0.1->scrapy)\n",
      "  Downloading jmespath-1.0.1-py3-none-any.whl (20 kB)\n",
      "Requirement already satisfied: attrs>=19.1.0 in c:\\users\\isfs0\\anaconda3\\lib\\site-packages (from service-identity>=18.1.0->scrapy) (20.3.0)\n",
      "Requirement already satisfied: pyasn1 in c:\\users\\isfs0\\anaconda3\\lib\\site-packages (from service-identity>=18.1.0->scrapy) (0.5.0)\n",
      "Requirement already satisfied: pyasn1-modules in c:\\users\\isfs0\\anaconda3\\lib\\site-packages (from service-identity>=18.1.0->scrapy) (0.3.0)\n",
      "Collecting constantly>=15.1 (from Twisted<23.8.0,>=18.9.0->scrapy)\n",
      "  Downloading constantly-15.1.0-py2.py3-none-any.whl (7.9 kB)\n",
      "Collecting incremental>=21.3.0 (from Twisted<23.8.0,>=18.9.0->scrapy)\n",
      "  Downloading incremental-22.10.0-py2.py3-none-any.whl (16 kB)\n",
      "Collecting Automat>=0.8.0 (from Twisted<23.8.0,>=18.9.0->scrapy)\n",
      "  Downloading Automat-22.10.0-py2.py3-none-any.whl (26 kB)\n",
      "Collecting hyperlink>=17.1.1 (from Twisted<23.8.0,>=18.9.0->scrapy)\n",
      "  Downloading hyperlink-21.0.0-py2.py3-none-any.whl (74 kB)\n",
      "     ---------------------------------------- 0.0/74.6 kB ? eta -:--:--\n",
      "     ---------------------------------------- 74.6/74.6 kB ? eta 0:00:00\n",
      "Requirement already satisfied: typing-extensions>=3.6.5 in c:\\users\\isfs0\\anaconda3\\lib\\site-packages (from Twisted<23.8.0,>=18.9.0->scrapy) (4.5.0)\n",
      "Collecting twisted-iocpsupport<2,>=1.0.2 (from Twisted<23.8.0,>=18.9.0->scrapy)\n",
      "  Obtaining dependency information for twisted-iocpsupport<2,>=1.0.2 from https://files.pythonhosted.org/packages/cc/ad/a88250f2933c5ad8170d4ee3688a8b6ac4d8c097ff136be8db790ae2b920/twisted_iocpsupport-1.0.4-cp38-cp38-win_amd64.whl.metadata\n",
      "  Downloading twisted_iocpsupport-1.0.4-cp38-cp38-win_amd64.whl.metadata (2.2 kB)\n",
      "Requirement already satisfied: idna in c:\\users\\isfs0\\anaconda3\\lib\\site-packages (from tldextract->scrapy) (2.10)\n",
      "Requirement already satisfied: requests>=2.1.0 in c:\\users\\isfs0\\anaconda3\\lib\\site-packages (from tldextract->scrapy) (2.31.0)\n",
      "Collecting requests-file>=1.4 (from tldextract->scrapy)\n",
      "  Downloading requests_file-1.5.1-py2.py3-none-any.whl (3.7 kB)\n",
      "Requirement already satisfied: filelock>=3.0.8 in c:\\users\\isfs0\\anaconda3\\lib\\site-packages (from tldextract->scrapy) (3.0.12)\n",
      "Requirement already satisfied: six in c:\\users\\isfs0\\appdata\\roaming\\python\\python38\\site-packages (from Automat>=0.8.0->Twisted<23.8.0,>=18.9.0->scrapy) (1.16.0)\n",
      "Requirement already satisfied: pycparser in c:\\users\\isfs0\\anaconda3\\lib\\site-packages (from cffi>=1.12->cryptography>=36.0.0->scrapy) (2.20)\n",
      "Requirement already satisfied: charset-normalizer<4,>=2 in c:\\users\\isfs0\\anaconda3\\lib\\site-packages (from requests>=2.1.0->tldextract->scrapy) (3.2.0)\n",
      "Requirement already satisfied: urllib3<3,>=1.21.1 in c:\\users\\isfs0\\anaconda3\\lib\\site-packages (from requests>=2.1.0->tldextract->scrapy) (1.26.4)\n",
      "Requirement already satisfied: certifi>=2017.4.17 in c:\\users\\isfs0\\anaconda3\\lib\\site-packages (from requests>=2.1.0->tldextract->scrapy) (2023.7.22)\n",
      "Downloading Scrapy-2.11.0-py2.py3-none-any.whl (286 kB)\n",
      "   ---------------------------------------- 0.0/286.4 kB ? eta -:--:--\n",
      "   --------------------------------------- 286.4/286.4 kB 17.3 MB/s eta 0:00:00\n",
      "Downloading cryptography-41.0.5-cp37-abi3-win_amd64.whl (2.7 MB)\n",
      "   ---------------------------------------- 0.0/2.7 MB ? eta -:--:--\n",
      "   ----------------- ---------------------- 1.2/2.7 MB 37.0 MB/s eta 0:00:01\n",
      "   ---------------------------------------  2.7/2.7 MB 33.9 MB/s eta 0:00:01\n",
      "   ---------------------------------------- 2.7/2.7 MB 28.6 MB/s eta 0:00:00\n",
      "Downloading Protego-0.3.0-py2.py3-none-any.whl (8.5 kB)\n",
      "Downloading pyOpenSSL-23.2.0-py3-none-any.whl (59 kB)\n",
      "   ---------------------------------------- 0.0/59.0 kB ? eta -:--:--\n",
      "   ---------------------------------------- 59.0/59.0 kB 3.0 MB/s eta 0:00:00\n",
      "Downloading service_identity-23.1.0-py3-none-any.whl (12 kB)\n",
      "Downloading w3lib-2.1.2-py3-none-any.whl (21 kB)\n",
      "Downloading tldextract-5.0.1-py3-none-any.whl (97 kB)\n",
      "   ---------------------------------------- 0.0/97.1 kB ? eta -:--:--\n",
      "   ---------------------------------------- 97.1/97.1 kB 5.8 MB/s eta 0:00:00\n",
      "Downloading twisted_iocpsupport-1.0.4-cp38-cp38-win_amd64.whl (47 kB)\n",
      "   ---------------------------------------- 0.0/47.4 kB ? eta -:--:--\n",
      "   ---------------------------------------- 47.4/47.4 kB ? eta 0:00:00\n",
      "Installing collected packages: twisted-iocpsupport, PyDispatcher, incremental, constantly, w3lib, queuelib, protego, jmespath, itemadapter, hyperlink, cssselect, Automat, Twisted, requests-file, parsel, cryptography, tldextract, service-identity, pyOpenSSL, itemloaders, scrapy\n",
      "  Attempting uninstall: cryptography\n",
      "    Found existing installation: cryptography 3.4.7\n",
      "    Uninstalling cryptography-3.4.7:\n",
      "      Successfully uninstalled cryptography-3.4.7\n",
      "  Attempting uninstall: pyOpenSSL\n",
      "    Found existing installation: pyOpenSSL 20.0.1\n",
      "    Uninstalling pyOpenSSL-20.0.1:\n",
      "      Successfully uninstalled pyOpenSSL-20.0.1\n",
      "Successfully installed Automat-22.10.0 PyDispatcher-2.0.7 Twisted-22.10.0 constantly-15.1.0 cryptography-41.0.5 cssselect-1.2.0 hyperlink-21.0.0 incremental-22.10.0 itemadapter-0.8.0 itemloaders-1.1.0 jmespath-1.0.1 parsel-1.8.1 protego-0.3.0 pyOpenSSL-23.2.0 queuelib-1.6.2 requests-file-1.5.1 scrapy-2.11.0 service-identity-23.1.0 tldextract-5.0.1 twisted-iocpsupport-1.0.4 w3lib-2.1.2\n"
     ]
    },
    {
     "name": "stderr",
     "output_type": "stream",
     "text": [
      "WARNING: Ignoring invalid distribution -rotobuf (c:\\users\\isfs0\\appdata\\roaming\\python\\python38\\site-packages)\n",
      "WARNING: Ignoring invalid distribution -rotobuf (c:\\users\\isfs0\\appdata\\roaming\\python\\python38\\site-packages)\n",
      "WARNING: Ignoring invalid distribution -ordcloud (c:\\users\\isfs0\\anaconda3\\lib\\site-packages)\n",
      "WARNING: Ignoring invalid distribution -rotobuf (c:\\users\\isfs0\\appdata\\roaming\\python\\python38\\site-packages)\n",
      "WARNING: Ignoring invalid distribution -ordcloud (c:\\users\\isfs0\\anaconda3\\lib\\site-packages)\n",
      "DEPRECATION: pyodbc 4.0.0-unsupported has a non-standard version number. pip 23.3 will enforce this behaviour change. A possible replacement is to upgrade to a newer version of pyodbc or contact the author to suggest that they release a version with a conforming version number. Discussion can be found at https://github.com/pypa/pip/issues/12063\n",
      "    WARNING: Ignoring invalid distribution -rotobuf (c:\\users\\isfs0\\appdata\\roaming\\python\\python38\\site-packages)\n",
      "    WARNING: Ignoring invalid distribution -rotobuf (c:\\users\\isfs0\\appdata\\roaming\\python\\python38\\site-packages)\n",
      "ERROR: pip's dependency resolver does not currently take into account all the packages that are installed. This behaviour is the source of the following dependency conflicts.\n",
      "spyder 4.2.5 requires pyqt5<5.13, which is not installed.\n",
      "spyder 4.2.5 requires pyqtwebengine<5.13, which is not installed.\n",
      "spyder 4.2.5 requires jedi==0.17.2, but you have jedi 0.19.0 which is incompatible.\n",
      "spyder 4.2.5 requires parso==0.7.0, but you have parso 0.8.3 which is incompatible.\n",
      "WARNING: Ignoring invalid distribution -rotobuf (c:\\users\\isfs0\\appdata\\roaming\\python\\python38\\site-packages)\n",
      "WARNING: Ignoring invalid distribution -rotobuf (c:\\users\\isfs0\\appdata\\roaming\\python\\python38\\site-packages)\n",
      "WARNING: Ignoring invalid distribution -rotobuf (c:\\users\\isfs0\\appdata\\roaming\\python\\python38\\site-packages)\n",
      "\n",
      "[notice] A new release of pip is available: 23.2.1 -> 23.3.1\n",
      "[notice] To update, run: python.exe -m pip install --upgrade pip\n"
     ]
    }
   ],
   "source": [
    "## scrapy 라이브러리 다운로드\n",
    "# !pip install scrapy"
   ]
  },
  {
   "cell_type": "code",
   "execution_count": 19,
   "id": "7291a93f",
   "metadata": {},
   "outputs": [],
   "source": [
    "import scrapy"
   ]
  },
  {
   "cell_type": "code",
   "execution_count": null,
   "id": "71f1c594",
   "metadata": {},
   "outputs": [],
   "source": [
    "# class MySpider(scrapy.Spider):\n",
    "#     name = 'my_spider'\n",
    "#     start_urls = ['https://example.com']\n",
    "    \n",
    "#     def parse(self, response):\n",
    "#         text_data = response.css('p::text').getall()\n",
    "#         # 데이터 처리 및 추출"
   ]
  },
  {
   "cell_type": "code",
   "execution_count": null,
   "id": "11fc8a20",
   "metadata": {},
   "outputs": [],
   "source": []
  },
  {
   "cell_type": "markdown",
   "id": "f2835621",
   "metadata": {},
   "source": [
    "# 2. 텍스트 데이터 전처리 : \n",
    "# X ( 입력) , Y (레이블 )"
   ]
  },
  {
   "cell_type": "code",
   "execution_count": 9,
   "id": "25ff9d97",
   "metadata": {},
   "outputs": [
    {
     "name": "stdout",
     "output_type": "stream",
     "text": [
      "train text length: 6937271  characters\n",
      "test  text length: 2318260  characters\n",
      "id\tdocument\tlabel\n",
      "9976970\t아 더빙.. 진짜 짜증나네요 목소리\t0\n",
      "3819312\t흠...포스터보고 초딩영화줄....오버연기조차 가볍지 않구나\t1\n",
      "10265843\t너무재밓었다그래서보는것을추천한다\t0\n",
      "9045019\t교도소 이야기구먼 ..솔직히 재미는 없다..평점 조정\t0\n",
      "6483659\t사이몬페그의 익살스런 연기가 돋보였던 영화!스파이더맨에서 늙어보이기만 했던 커스틴 던스트가 너무나도 이뻐보였다\t1\n",
      "5403919\t막 걸음마 뗀 3세부터 초등학교 1학년생인 8살용영화.ㅋㅋㅋ...별반개도 아까움.\t0\n",
      "7797314\t원작의\n"
     ]
    }
   ],
   "source": [
    "# 1. 데이터 읽어 저장하기 : encoding 형식으로 utf-8 을 지정해야합니다.\n",
    "# path_to_train_file / path_to_test_file 을 open() 해서 read()한후 \n",
    "# decode(encoding='utf-8') 한 후 train_text / test_text 에 저장합니다.\n",
    "\n",
    "train_text = open(path_to_train_file, 'rb').read().decode(encoding='utf-8') # ... your code\n",
    "test_text = open(path_to_test_file, 'rb').read().decode(encoding='utf-8') # ... your code\n",
    "\n",
    "print('train text length:', len(train_text),' characters')\n",
    "print('test  text length:', len(test_text),' characters')\n",
    "# print(train_text[:5])\n",
    "print(train_text[:300])"
   ]
  },
  {
   "cell_type": "markdown",
   "id": "0adc922b",
   "metadata": {},
   "source": [
    "- #### 2-1. 데이터정제 - X값 추출"
   ]
  },
  {
   "cell_type": "code",
   "execution_count": 21,
   "id": "d7d194ca",
   "metadata": {},
   "outputs": [
    {
     "name": "stdout",
     "output_type": "stream",
     "text": [
      "150000\n"
     ]
    },
    {
     "data": {
      "text/plain": [
       "['아 더빙.. 진짜 짜증나네요 목소리',\n",
       " '흠...포스터보고 초딩영화줄....오버연기조차 가볍지 않구나',\n",
       " '너무재밓었다그래서보는것을추천한다',\n",
       " '교도소 이야기구먼 ..솔직히 재미는 없다..평점 조정',\n",
       " '사이몬페그의 익살스런 연기가 돋보였던 영화!스파이더맨에서 늙어보이기만 했던 커스틴 던스트가 너무나도 이뻐보였다']"
      ]
     },
     "execution_count": 21,
     "metadata": {},
     "output_type": "execute_result"
    }
   ],
   "source": [
    "# X값 추출 및 train_text_X 리스트에 저장\n",
    "# train_text를 줄바꿈 ('\\n')으로 나누고, 각 줄을 탭('\\t') 문자로 나눈 다음, 해당 줄에서 탭의 개수가 1개 이상인 줄을 선택합니다.\n",
    "train_text_X = [row.split('\\t')[1] for row in train_text.split('\\n')[1:] if row.count('\\t') > 0 ]\n",
    "# train_text를 줄바꿈 : \\n\n",
    "# 각 줄을 문자로 나눔 : \\t\n",
    "# 문자로 나뉜 train_text의 탭의 갯수가 1개 이상인 줄을 선택\n",
    "\n",
    "# train_text_X 리스트의 길이를 출력합니다.\n",
    "print(len(train_text_X)) \n",
    "\n",
    "# train_text_X 리스트에서 처음 5개 항목을 출력합니다.\n",
    "train_text_X[:5]"
   ]
  },
  {
   "cell_type": "markdown",
   "id": "2e045e8d",
   "metadata": {},
   "source": [
    "- #### 2-2. 데이터 정제 - Y레이블 추출"
   ]
  },
  {
   "cell_type": "code",
   "execution_count": 22,
   "id": "bfa54f1a",
   "metadata": {},
   "outputs": [
    {
     "name": "stdout",
     "output_type": "stream",
     "text": [
      "(150000, 1) (50000, 1)\n",
      "[[0]\n",
      " [1]\n",
      " [0]\n",
      " [0]\n",
      " [1]]\n"
     ]
    }
   ],
   "source": [
    "# Y 레이블 추출합니다. - X 와 같은 방식으로 \n",
    "# 각 문장을 '\\n'으로 분리 -> 헤더제외 -> '\n",
    "# -> \\t'으로 분리 -> 마지막 문자 정수로 변환하여 2차원으로 변환\n",
    "train_Y = np.array([[int(row.split('\\t')[2])] for row in train_text.split('\\n')[1:] if row.count('\\t') > 0])\n",
    "test_Y = np.array([[int(row.split('\\t')[2])] for row in test_text.split('\\n')[1:] if row.count('\\t') > 0])\n",
    "\n",
    "print(train_Y.shape, test_Y.shape)\n",
    "print(train_Y[:5])"
   ]
  },
  {
   "cell_type": "markdown",
   "id": "fefdc19c",
   "metadata": {},
   "source": [
    "- #### np.array를 쓰는 이유\n",
    "- Numpy 배열로 데이터를 저장하기 위함\n",
    "- #### int()를 쓰는 이유\n",
    "- 1) 레이블 값이 현재 문자열(string) 형태\n",
    "- 2) 레이블 값을 정수로 변환\n",
    "- 3) 정수로 변환하면 모델 학습 및 평가에 활용\n",
    "\n",
    "#### Output 해설\n",
    "1. (150000, 1)은 train_Y 배열의 형태\n",
    "- 1) 150,000개의 데이터 포인트(영화 리뷰) 존재\n",
    "- 2) 각 데이터 포인트가 1차원 배열(스칼라)의 형태\n",
    "\n",
    "2. (50000, 1)은 test_Y 배열의 형태\n",
    "- 1) 50,000개의 데이터 포인트(영화 리뷰)존재 \n",
    "- 2) 각 데이터 포인트가 1차원 배열(스칼라)의 형태를 가짐을 의미합니다.\n",
    "\n",
    "- 3. train_Y의 첫 번째 데이터 포인트는 0으로 레이블링\n",
    "- 두 번째 데이터 포인트는 1로 레이블링 -> 이진분류\n",
    "- #### 레이블링 형태\n",
    "- 긍정적인 영화 리뷰(1)\n",
    "- 부정적인 영화 리뷰(0)"
   ]
  },
  {
   "cell_type": "markdown",
   "id": "dfa064d1",
   "metadata": {},
   "source": [
    "- #### 2-3. 텍스트전처리"
   ]
  },
  {
   "cell_type": "markdown",
   "id": "1a6a5be9",
   "metadata": {},
   "source": [
    "- #### 2-3-1)  문장 => 단어 => 형태소\n",
    "- split('\\n' or '\\t') , replace('\\n', ' ') 등등 정규식 사용"
   ]
  },
  {
   "cell_type": "code",
   "execution_count": 24,
   "id": "ac3d926d",
   "metadata": {},
   "outputs": [
    {
     "data": {
      "text/plain": [
       "['아 더빙 진짜 짜증나네요 목소리',\n",
       " '흠 포스터보고 초딩영화줄 오버연기조차 가볍지 않구나',\n",
       " '너무재밓었다그래서보는것을추천한다',\n",
       " '교도소 이야기구먼 솔직히 재미는 없다 평점 조정',\n",
       " '사이몬페그의 익살스런 연기가 돋보였던 영화 ! 스파이더맨에서 늙어보이기만 했던 커스틴 던스트가 너무나도 이뻐보였다']"
      ]
     },
     "execution_count": 24,
     "metadata": {},
     "output_type": "execute_result"
    }
   ],
   "source": [
    "import re\n",
    "def clean_str(string):    \n",
    "    string = re.sub(r\"[^가-힝A-Za-z0-9(),!?\\'\\`]\", \" \", string)\n",
    "    string = re.sub(r\"\\'s\", \" \\'s\", string)\n",
    "    string = re.sub(r\"\\'ve\", \" \\'ve\", string)\n",
    "    string = re.sub(r\"n\\'t\", \" n\\'t\", string)\n",
    "    string = re.sub(r\"\\'re\", \" \\'re\", string)\n",
    "    string = re.sub(r\"\\'d\", \" \\'d\", string)\n",
    "    string = re.sub(r\"\\'ll\", \" \\'ll\", string)\n",
    "    string = re.sub(r\",\", \" , \", string)\n",
    "    string = re.sub(r\"!\", \" ! \", string)\n",
    "    string = re.sub(r\"\\(\", \" \\( \", string)\n",
    "    string = re.sub(r\"\\)\", \" \\) \", string)\n",
    "    string = re.sub(r\"\\?\", \" \\? \", string)\n",
    "    string = re.sub(r\"\\s{2,}\", \" \", string)\n",
    "    string = re.sub(r\"\\'{2,}\", \"\\'\", string)\n",
    "    string = re.sub(r\"\\'\", \"\", string)\n",
    "\n",
    "    return string.lower()\n",
    "\n",
    "train_text_X = [clean_str(sentence) for sentence in train_text_X] # ... code here\n",
    "train_text_X[:5]"
   ]
  },
  {
   "cell_type": "code",
   "execution_count": 29,
   "id": "aff6855c",
   "metadata": {},
   "outputs": [
    {
     "data": {
      "text/plain": [
       "[['아', '더빙', '진짜', '짜증나네요', '목소리'],\n",
       " ['흠포스터보고', '초딩영화줄오버연기조차', '가볍지', '않구나'],\n",
       " ['너무재밓었다그래서보는것을추천한다']]"
      ]
     },
     "execution_count": 29,
     "metadata": {},
     "output_type": "execute_result"
    }
   ],
   "source": [
    "# train_text_X 에 대해 문장을 띄어쓰기 단위로 단어 분리\n",
    "sentences = [sentence.split(' ') for sentence in train_text_X] # ... code here\n",
    "sentences[:5]\n",
    "\n",
    "[['아', '더빙', '진짜', '짜증나네요', '목소리'],\n",
    " ['흠포스터보고', '초딩영화줄오버연기조차', '가볍지', '않구나'], ['너무재밓었다그래서보는것을추천한다']]"
   ]
  },
  {
   "cell_type": "markdown",
   "id": "6fa29384",
   "metadata": {},
   "source": [
    "- #### 2-4. 전처리된 데이터파일 시각화로 확인해보기"
   ]
  },
  {
   "cell_type": "code",
   "execution_count": 30,
   "id": "7dacb920",
   "metadata": {},
   "outputs": [
    {
     "data": {
      "image/png": "[encoded data removed]",
      "text/plain": [
       "<Figure size 640x480 with 1 Axes>"
      ]
     },
     "metadata": {},
     "output_type": "display_data"
    },
    {
     "name": "stdout",
     "output_type": "stream",
     "text": [
      "142587\n"
     ]
    }
   ],
   "source": [
    "# 150000개 문장의 단어 길이 확인\n",
    "import matplotlib.pyplot as plt\n",
    "# sentences 에 대해 각 문장의 길이를 구해를 구해  sentence_len 저장하기\n",
    "sentence_len = [len(sentence) for sentence in sentences] # ... code here\n",
    "# sentence_len 정렬하기\n",
    "sentence_len.sort()  # ... code here\n",
    "# sentence_len 으로 plot 하기\n",
    "plt.plot(sentence_len) # ... code here\n",
    "plt.xlabel('index')\n",
    "plt.ylabel('count')\n",
    "plt.show()\n",
    "\n",
    "# sentence_len 길이가 25개 이하인 것 합계구하고 출력하기\n",
    "print(sum([int(l<=25) for l in sentence_len]))\n",
    "# 15 만개 문장 중 단어 갯수가 25개 이하인 문장의 수가 142590개이다, 25를 sequence_length로 사용"
   ]
  },
  {
   "cell_type": "markdown",
   "id": "a61e437c",
   "metadata": {},
   "source": [
    "#### 2-2. 라이브러리 사용 : nltk.Tokenizer()"
   ]
  },
  {
   "cell_type": "code",
   "execution_count": 32,
   "id": "91c01cbe",
   "metadata": {},
   "outputs": [],
   "source": [
    "# 라이브러리\n",
    "from tensorflow.keras.preprocessing.text import Tokenizer\n",
    "from tensorflow.keras.preprocessing.sequence import pad_sequences"
   ]
  },
  {
   "cell_type": "code",
   "execution_count": 33,
   "id": "0e46f610",
   "metadata": {},
   "outputs": [
    {
     "data": {
      "text/plain": [
       "array([[   26,   898,     8,  6750,  1094,     0,     0,     0,     0,\n",
       "            0,     0,     0,     0,     0,     0,     0,     0,     0,\n",
       "            0,     0,     0,     0,     0,     0,     0,     0,     0,\n",
       "            0,     0,     0,     0,     0,     0,     0,     0,     0,\n",
       "            0,     0,     0,     0,     0,     0,     0,     0,     0,\n",
       "            0,     0,     0,     0,     0,     0,     0,     0,     0,\n",
       "            0,     0,     0,     0,     0,     0,     0,     0,     0,\n",
       "            0,     0,     0,     0,     0,     0,     0,     0,     0,\n",
       "            0,     0,     0,     0,     0,     0,     0,     0,     0,\n",
       "            0,     0,     0,     0,     0],\n",
       "       [  591,  5848,  6751,     0,     0,     0,     0,     0,     0,\n",
       "            0,     0,     0,     0,     0,     0,     0,     0,     0,\n",
       "            0,     0,     0,     0,     0,     0,     0,     0,     0,\n",
       "            0,     0,     0,     0,     0,     0,     0,     0,     0,\n",
       "            0,     0,     0,     0,     0,     0,     0,     0,     0,\n",
       "            0,     0,     0,     0,     0,     0,     0,     0,     0,\n",
       "            0,     0,     0,     0,     0,     0,     0,     0,     0,\n",
       "            0,     0,     0,     0,     0,     0,     0,     0,     0,\n",
       "            0,     0,     0,     0,     0,     0,     0,     0,     0,\n",
       "            0,     0,     0,     0,     0],\n",
       "       [    0,     0,     0,     0,     0,     0,     0,     0,     0,\n",
       "            0,     0,     0,     0,     0,     0,     0,     0,     0,\n",
       "            0,     0,     0,     0,     0,     0,     0,     0,     0,\n",
       "            0,     0,     0,     0,     0,     0,     0,     0,     0,\n",
       "            0,     0,     0,     0,     0,     0,     0,     0,     0,\n",
       "            0,     0,     0,     0,     0,     0,     0,     0,     0,\n",
       "            0,     0,     0,     0,     0,     0,     0,     0,     0,\n",
       "            0,     0,     0,     0,     0,     0,     0,     0,     0,\n",
       "            0,     0,     0,     0,     0,     0,     0,     0,     0,\n",
       "            0,     0,     0,     0,     0],\n",
       "       [   73,   350,    31,    36, 10469,     0,     0,     0,     0,\n",
       "            0,     0,     0,     0,     0,     0,     0,     0,     0,\n",
       "            0,     0,     0,     0,     0,     0,     0,     0,     0,\n",
       "            0,     0,     0,     0,     0,     0,     0,     0,     0,\n",
       "            0,     0,     0,     0,     0,     0,     0,     0,     0,\n",
       "            0,     0,     0,     0,     0,     0,     0,     0,     0,\n",
       "            0,     0,     0,     0,     0,     0,     0,     0,     0,\n",
       "            0,     0,     0,     0,     0,     0,     0,     0,     0,\n",
       "            0,     0,     0,     0,     0,     0,     0,     0,     0,\n",
       "            0,     0,     0,     0,     0],\n",
       "       [  107,  5380,     4,     2,   849,   569,     0,     0,     0,\n",
       "            0,     0,     0,     0,     0,     0,     0,     0,     0,\n",
       "            0,     0,     0,     0,     0,     0,     0,     0,     0,\n",
       "            0,     0,     0,     0,     0,     0,     0,     0,     0,\n",
       "            0,     0,     0,     0,     0,     0,     0,     0,     0,\n",
       "            0,     0,     0,     0,     0,     0,     0,     0,     0,\n",
       "            0,     0,     0,     0,     0,     0,     0,     0,     0,\n",
       "            0,     0,     0,     0,     0,     0,     0,     0,     0,\n",
       "            0,     0,     0,     0,     0,     0,     0,     0,     0,\n",
       "            0,     0,     0,     0,     0]])"
      ]
     },
     "execution_count": 33,
     "metadata": {},
     "output_type": "execute_result"
    }
   ],
   "source": [
    "max_words = 20000\n",
    "max_length = 25\n",
    "# 가장 빈도가 높은 20000개(max_words)의 단어들만 사용하여 토큰화 인스턴스 생성하기 : tokenizer \n",
    "tokenizer = Tokenizer(num_words=max_words) \n",
    "# 빈도수가 높은 20000개 단어만 사용하여 숫자로 반환하고 나머지는 공백으로 반환\n",
    "\n",
    "# 단어(sentences) 인덱스 구축\n",
    "tokenizer.fit_on_texts(sentences)\n",
    "\n",
    "# 문자열을 정수 인덱스의 리스트로 변환\n",
    "sequences = tokenizer.texts_to_sequences(sentences)\n",
    "\n",
    "# 시퀀스 패딩 : 벡터 표현을 얻음, padding = 'post' - 문장의 뒤부분으로 0을 패딩\n",
    "train_X = pad_sequences(sequences, padding = 'post') \n",
    "\n",
    "train_X[:5]"
   ]
  },
  {
   "cell_type": "markdown",
   "id": "733d50e9",
   "metadata": {},
   "source": [
    "3. 텍스트 데이터 벡터화"
   ]
  },
  {
   "cell_type": "code",
   "execution_count": null,
   "id": "60a39014",
   "metadata": {},
   "outputs": [],
   "source": []
  },
  {
   "cell_type": "markdown",
   "id": "50c52c87",
   "metadata": {},
   "source": [
    "3-1. Tokenizer를 사용 : fit_on_texts()"
   ]
  },
  {
   "cell_type": "code",
   "execution_count": null,
   "id": "fd18a60e",
   "metadata": {},
   "outputs": [],
   "source": []
  },
  {
   "cell_type": "markdown",
   "id": "054c3794",
   "metadata": {},
   "source": [
    "3-2. Tokenizer를 사용 : texts_to_sequences()\n"
   ]
  },
  {
   "cell_type": "code",
   "execution_count": null,
   "id": "e8972b20",
   "metadata": {},
   "outputs": [],
   "source": []
  },
  {
   "cell_type": "markdown",
   "id": "b6a8624c",
   "metadata": {},
   "source": [
    "3-3. pad_sequences ()"
   ]
  },
  {
   "cell_type": "code",
   "execution_count": null,
   "id": "1ca35244",
   "metadata": {},
   "outputs": [],
   "source": []
  },
  {
   "cell_type": "markdown",
   "id": "a126be58",
   "metadata": {},
   "source": [
    "# 4. 모델 구성 및 컴파일하기"
   ]
  },
  {
   "cell_type": "code",
   "execution_count": null,
   "id": "b23ed6a0",
   "metadata": {},
   "outputs": [],
   "source": []
  },
  {
   "cell_type": "markdown",
   "id": "93de7550",
   "metadata": {},
   "source": [
    "4-1. Embedding : 입력 값 이해"
   ]
  },
  {
   "cell_type": "code",
   "execution_count": null,
   "id": "29b3bed5",
   "metadata": {},
   "outputs": [],
   "source": []
  },
  {
   "cell_type": "markdown",
   "id": "9e24330e",
   "metadata": {},
   "source": [
    "4-2. LSTM"
   ]
  },
  {
   "cell_type": "code",
   "execution_count": null,
   "id": "07ac81b3",
   "metadata": {},
   "outputs": [],
   "source": []
  },
  {
   "cell_type": "markdown",
   "id": "5d0041f5",
   "metadata": {},
   "source": [
    "4-3. 출력"
   ]
  },
  {
   "cell_type": "code",
   "execution_count": null,
   "id": "3dd70644",
   "metadata": {},
   "outputs": [],
   "source": []
  },
  {
   "cell_type": "markdown",
   "id": "3763eee1",
   "metadata": {},
   "source": [
    "# 5. 학습"
   ]
  },
  {
   "cell_type": "code",
   "execution_count": null,
   "id": "4be0edf0",
   "metadata": {},
   "outputs": [],
   "source": []
  },
  {
   "cell_type": "markdown",
   "id": "3e3d4dd0",
   "metadata": {},
   "source": [
    "# 6. 평가하기 : test 데이터에 대한 데이터 전처리 (앞의 2번과 같은 과정)"
   ]
  },
  {
   "cell_type": "code",
   "execution_count": null,
   "id": "9baa564f",
   "metadata": {},
   "outputs": [],
   "source": []
  },
  {
   "cell_type": "markdown",
   "id": "90704c8d",
   "metadata": {},
   "source": [
    "# 7. 예측하기 - 예측기 만들기 ( 입력 문구에 대한 텍스트 데이터 전처리하기)"
   ]
  },
  {
   "cell_type": "code",
   "execution_count": null,
   "id": "9a5482a0",
   "metadata": {},
   "outputs": [],
   "source": []
  }
 ],
 "metadata": {
  "kernelspec": {
   "display_name": "Python 3 (ipykernel)",
   "language": "python",
   "name": "python3"
  },
  "language_info": {
   "codemirror_mode": {
    "name": "ipython",
    "version": 3
   },
   "file_extension": ".py",
   "mimetype": "text/x-python",
   "name": "python",
   "nbconvert_exporter": "python",
   "pygments_lexer": "ipython3",
   "version": "3.8.8"
  }
 },
 "nbformat": 4,
 "nbformat_minor": 5
}
