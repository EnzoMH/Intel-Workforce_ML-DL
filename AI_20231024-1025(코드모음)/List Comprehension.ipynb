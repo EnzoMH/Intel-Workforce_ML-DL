{
 "cells": [
  {
   "cell_type": "markdown",
   "id": "ce08c8ff",
   "metadata": {},
   "source": [
    "# List Comprehension"
   ]
  },
  {
   "cell_type": "markdown",
   "id": "fac5ea3f",
   "metadata": {},
   "source": [
    "- List Comprehension 의 기본적인 형태\n",
    "#### new_list = [expression for item in iterable if condition]"
   ]
  },
  {
   "cell_type": "markdown",
   "id": "7d4871a4",
   "metadata": {},
   "source": [
    "- expression: 각 요소를 변환하거나 계산하는 표현식입\n",
    "- item: 반복 가능한(iterable) 객체에서 가져온 각 항목\n",
    "- iterable: 반복 가능한 객체(예: 리스트, 튜플, 문자열)\n",
    "- condition (선택 사항): 조건식으로, 조건을 만족하는 항목만을 포함"
   ]
  },
  {
   "cell_type": "code",
   "execution_count": null,
   "id": "cba9e7e1",
   "metadata": {},
   "outputs": [],
   "source": [
    "numbers = [x for x in range(1, 11)]"
   ]
  },
  {
   "cell_type": "code",
   "execution_count": 9,
   "id": "23ab6a78",
   "metadata": {},
   "outputs": [
    {
     "data": {
      "text/plain": [
       "[1, 2, 3, 4, 5, 6, 7, 8, 9, 10]"
      ]
     },
     "execution_count": 9,
     "metadata": {},
     "output_type": "execute_result"
    }
   ],
   "source": [
    "numbers"
   ]
  },
  {
   "cell_type": "code",
   "execution_count": 15,
   "id": "847db719",
   "metadata": {},
   "outputs": [
    {
     "name": "stdout",
     "output_type": "stream",
     "text": [
      "[1, 2, 3, 4, 5]\n",
      "[1, 4, 9, 16, 25]\n"
     ]
    }
   ],
   "source": [
    "original_list = [1, 2, 3, 4, 5]\n",
    "squared_list = [x**2 for x in original_list]\n",
    "\n",
    "print(original_list)\n",
    "print(squared_list)"
   ]
  },
  {
   "cell_type": "code",
   "execution_count": 16,
   "id": "5d75bbec",
   "metadata": {},
   "outputs": [
    {
     "name": "stdout",
     "output_type": "stream",
     "text": [
      "['apple', 'banana', 'cherry', 'date', 'fig']\n",
      "['apple', 'date', 'fig']\n"
     ]
    }
   ],
   "source": [
    "words = [\"apple\", \"banana\", \"cherry\", \"date\", \"fig\"]\n",
    "short_words = [word for word in words if len(word) <= 5]\n",
    "\n",
    "print(words)\n",
    "print(short_words)"
   ]
  },
  {
   "cell_type": "code",
   "execution_count": 18,
   "id": "3e8aee5c",
   "metadata": {},
   "outputs": [
    {
     "name": "stdout",
     "output_type": "stream",
     "text": [
      "[2, 4, 6, 8, 10]\n"
     ]
    }
   ],
   "source": [
    "even_numbers = [x for x in range(1, 11) if x % 2 == 0]\n",
    "# even_numbers는 객체\n",
    "# x는 반복, 1이상 11미만\n",
    "# 조건 x는 2로 나누었을 때 나머지가 없어야함 == 0\n",
    "print(even_numbers)"
   ]
  },
  {
   "cell_type": "code",
   "execution_count": null,
   "id": "02394ba6",
   "metadata": {},
   "outputs": [],
   "source": []
  }
 ],
 "metadata": {
  "kernelspec": {
   "display_name": "Python 3 (ipykernel)",
   "language": "python",
   "name": "python3"
  },
  "language_info": {
   "codemirror_mode": {
    "name": "ipython",
    "version": 3
   },
   "file_extension": ".py",
   "mimetype": "text/x-python",
   "name": "python",
   "nbconvert_exporter": "python",
   "pygments_lexer": "ipython3",
   "version": "3.8.8"
  }
 },
 "nbformat": 4,
 "nbformat_minor": 5
}
