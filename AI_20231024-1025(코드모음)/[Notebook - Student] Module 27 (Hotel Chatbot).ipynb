{
 "cells": [
  {
   "cell_type": "markdown",
   "metadata": {
    "id": "faUojVtgaTGc"
   },
   "source": [
    "# 호텔 챗봇\n",
    "\n",
    "이 노트북에서는 호텔 챗봇 문제를 다룹니다. 어떻게 하면 호텔 프론트 데스크에서 더 나은 고객 서비스를 제공할 수 있을까요? 간단한 방법 중 하나는 호텔에서 경험할 수 있는 일들에 관한 간단한 질문에 대답할 수 있는 FAQ 채팅 로봇을 갖는 것입니다. 챗봇을 갖는 것에는 많은 장점이 있습니다.\n",
    "\n",
    "1. 호텔의 매력을 높이고 정보 처리량을 늘립니다.\n",
    "2. 호텔에 대한 질문을 데이터 테이블 형식으로 수집할 수 있는 방법을 만듭니다.\n",
    "\n",
    "이 노트북에서는 두 가지 모델을 살펴볼 것입니다. 코사인 유사성 및 doc2vec 모델입니다.\n"
   ]
  },
  {
   "cell_type": "markdown",
   "metadata": {
    "id": "pNceALtVaTGc"
   },
   "source": [
    "## 1. 챗봇에 지식 기반 추가\n",
    "\n",
    "챗봇의 대화 능력은 사용할 수 있는 데이터에 의해 정의됩니다. Ques.txt 파일과 ans.txt 파일에서 질문과 답변을 살펴보십시오. 이 챗봇은 기본적으로 질문에 대하여 질문 은행과 코사인 유사성을 확인하여 답을 찾으려고 노력할 것입니다."
   ]
  },
  {
   "cell_type": "markdown",
   "metadata": {},
   "source": [
    "# 챗봇만들기 프로세스"
   ]
  },
  {
   "cell_type": "markdown",
   "metadata": {},
   "source": [
    "챗봇만들기\n",
    "1. 라이브러리 불러오기\n",
    "2. 데이터파일 불러오기 \n",
    "3. 데이터전처리\n",
    "- 문장토큰화\n",
    "- 소문자 변경\n",
    "- 단어토큰화\n",
    "- 표제어추출\n",
    "4. 챗봇만들기\n",
    "코드 작성 "
   ]
  },
  {
   "cell_type": "markdown",
   "metadata": {},
   "source": [
    "### 1.1 라이브러리 가져오기"
   ]
  },
  {
   "cell_type": "code",
   "execution_count": 1,
   "metadata": {
    "executionInfo": {
     "elapsed": 3,
     "status": "ok",
     "timestamp": 1625201864601,
     "user": {
      "displayName": "Albert Anthony",
      "photoUrl": "",
      "userId": "06779463251817115427"
     },
     "user_tz": -420
    },
    "id": "e__0bwBTaTGd"
   },
   "outputs": [
    {
     "name": "stderr",
     "output_type": "stream",
     "text": [
      "C:\\Users\\isfs0\\anaconda3\\lib\\site-packages\\numpy\\_distributor_init.py:30: UserWarning: loaded more than 1 DLL from .libs:\n",
      "C:\\Users\\isfs0\\anaconda3\\lib\\site-packages\\numpy\\.libs\\libopenblas.EL2C6PLE4ZYW3ECEVIV3OXXGRN2NRFM2.gfortran-win_amd64.dll\n",
      "C:\\Users\\isfs0\\anaconda3\\lib\\site-packages\\numpy\\.libs\\libopenblas64__v0.3.21-gcc_10_3_0.dll\n",
      "  warnings.warn(\"loaded more than 1 DLL from .libs:\"\n"
     ]
    }
   ],
   "source": [
    "import nltk # 텍스트 데이터를 처리\n",
    "import numpy as np # 말뭉치를 배열로 표현\n",
    "import random \n",
    "import operator\n",
    "import string # 표준 파이썬 문자열을 처리\n",
    "import re\n",
    "from sklearn.metrics.pairwise import cosine_similarity # 이를 나중에 사용하여 두 개의 문장이 얼마나 비슷한지를 결정합니다.\n",
    "from sklearn.feature_extraction.text import TfidfVectorizer # Experience 2에서 단어 가방을 만드는 함수를 만들었던 것을 기억하십니까? 이 함수는 같은 일을 합니다!"
   ]
  },
  {
   "cell_type": "code",
   "execution_count": 2,
   "metadata": {},
   "outputs": [
    {
     "data": {
      "text/plain": [
       "\"200$ per night is the price for a basic suite.\\n\\nThis establishment was constructed and inaugurated by John S. on the 23rd of September 1965.\\n\\nBreakfast is served from 7 AM to 10 AM.\\n\\nThe breakfast menu is decided as per the head chefs decision on the night before; kindly contact hotel staff for information about the menu on the night before. \\n\\nThe Vance Hotel is a singular establishment designed and constructed by Lindsey Vance in 1949; it has hosted many dignitaries and government officials over the years.\\n\\nThere are 43 rooms in this hotel including one pent house suite.\\n\\nWe offer 4 types of rooms: basic, mid-level, premium and penthouse.\\n\\nThis hotel is called Vance Hotel.\\n\\nYes, room service is available 24 hrs.\\n\\nTo call room service, please dial '0' using the phone in your room.\\n\\nYes we have one restaurant currently called 'Rouge'.\\n\\nThere are 12 floors in the hotel.\\n\\n300$ per night is the standard price for a mid-level suite.\\n\\n500$ per night is the price for a premium suite.\\n\\nYes, we have tuxedo services available at the reception.\\n\\nYes, we have a laundry service at the reception.\\n\\n'Rouge' is open for dinner at 7pm.\\n\\nThere is a waterfall 200 meters east from the hotel, and we offer taxi services for such destinations and more.\\n\\nYes, we do have a spa; however, it is closed from 7pm onwards.\\n\\nYes, we do have massage packages inside our hotel.\\n\\nCheck in is at anytime between 10am and 1pm.\\n\\nCheck out is at anytime between 4pm and 6pm.\\n\\nYes, we do.\\n\\nYes.\\n\\nFor parking lot reservations, there is a surcharge depending on fixed rates; please ask at the reception for more information.\\n\\nOur reception is open 24 hours.\\n\\nNo, you cannot book breakfast online.\\n\\nNo, you cannot book the spa online.\\n\\nNo, you cannot book that online.\\n\\nYes, we do have the facilities to take care of pets and support them.\\n\\nRates are per room.\\n\\nThe rates may vary as per availability and demand.\\n\\nYes.\\n\\nYes.\\n\\nYes.\\n\\nThere are 4 main sizes available:  basic, mid-level, premium and penthouse.\\n\\nYes, for table reservations please contact the reception through the phone.\\n\\nYes, we do.\\n\\nWe do not have child special rooms but we do have cribs available through a surcharge.\\n\\nYes.\\n\\nYes.\\n\\nYes, we do have a shuttle service and taxi service.\\n\\nYes.\\n\\nYes, we do try our best to provide quality services to you; if there is any other requests, kindly contact the staff.\\n\\nCheck at the reception.\\n\\nYou can check it out on your online booking reservation.\\n\\nContact the reception through phone so that they may attempt to retrieve the item.\""
      ]
     },
     "execution_count": 2,
     "metadata": {},
     "output_type": "execute_result"
    }
   ],
   "source": [
    "#강사님 코드\n",
    "import os\n",
    "# 단계 1: 파일 읽기 및 저장 (저장시 소문자로 변경하여 저장하기 )\n",
    "ques_filepath = os.getcwd()+r'//[Dataset] Module27(ques).txt'\n",
    "ans_filepath = os.getcwd()+r'//[Dataset] Module27 (ans).txt'\n",
    "\n",
    "# 파일 내용을 문자열로 읽기\n",
    "with open(ques_filepath, 'r', errors='ignore') as file:\n",
    "    raw_data_ques = file.read()\n",
    "with open(ans_filepath, 'r', errors='ignore') as file:\n",
    "    raw_data_ans = file.read()\n",
    "raw_data_ans"
   ]
  },
  {
   "cell_type": "code",
   "execution_count": 3,
   "metadata": {},
   "outputs": [
    {
     "name": "stdout",
     "output_type": "stream",
     "text": [
      "47 47\n"
     ]
    }
   ],
   "source": [
    "   \n",
    "# 문장 토큰화 수행\n",
    "sent_tokens_ques = nltk.sent_tokenize(raw_data_ques)\n",
    "sent_tokens_ans = nltk.sent_tokenize(raw_data_ans)\n",
    "\n",
    "print(len(sent_tokens_ques), len(sent_tokens_ans))"
   ]
  },
  {
   "cell_type": "code",
   "execution_count": 4,
   "metadata": {},
   "outputs": [
    {
     "name": "stdout",
     "output_type": "stream",
     "text": [
      "47 47\n"
     ]
    }
   ],
   "source": [
    "# 소문자로 변경하기\n",
    "sent_tokens_ans = [sentence.lower() for sentence in sent_tokens_ans]\n",
    "sent_tokens_ques = [sentence.lower() for sentence in sent_tokens_ques]\n",
    "print(len(sent_tokens_ques), len(sent_tokens_ans))\n",
    "\n",
    "# 질문과 답변 매칭한 딕셔너리 - ques_and_pairs생성합니다. \n",
    "ques_and_pairs = {}\n",
    "ques_and_pairs = {sent_tokens_ques[i]: sent_tokens_ans[i] \n",
    "                                for i in range(len(sent_tokens_ans))} "
   ]
  },
  {
   "cell_type": "markdown",
   "metadata": {},
   "source": [
    "단어토큰화"
   ]
  },
  {
   "cell_type": "code",
   "execution_count": 5,
   "metadata": {},
   "outputs": [
    {
     "data": {
      "text/plain": [
       "'What is the price of one night stay in basic suite?\\n\\nHow old is this establishment?\\n\\nWhat time is breakfast served?\\n\\nWhat is the breakfast menu?\\n\\nWhat is the history behind this hotel or establishment?\\n\\nHow many rooms are there in this hotel?\\n\\nWhat are the types of rooms or suites offered by the hotel?\\n\\nWhat is the name of the hotel?\\n\\nIs room service served 24 hours?\\n\\nHow do I call for room service?\\n\\nAre there any restaurants in the hotel?\\n\\nHow many floors are there in the hotel?\\n\\nWhat is the price of one night stay at the mid-level suite?\\n\\nWhat is the price of one night stay at the premium suite?\\n\\nDo you have tuxedo services?\\n\\nDo you have a laundry service?\\n\\nWhat time do the restaurants open for dinner?\\n\\nWhat are the near by tourist attractions?\\n\\nIs there a spa in the hotel?\\n\\nIs there anywhere I can get a massage?\\n\\nWhat time is the check in?\\n\\nWhat time is the check out?\\n\\nDo you offer handicapped rooms?\\n\\nIs parking available at the hotel?\\n\\nCan I reserve a parking lot?\\n\\nWhat are the reception opening hours?\\n\\nCan I also book breakfast online and what is the cost?\\n\\nIs it possible to book spa treatments online?\\n\\nCan I book tea time online?\\n\\nCan I bring my pet?\\n\\nAre the rates per person or per room?\\n\\nWhy do the costs vary from day to day?\\n\\nCan I book two rooms of different categories?\\n\\nCan I book two rooms with different occupancy?\\n\\nIs Wi-Fi available at the hotel/in the room?\\n\\nWhich size are the rooms?\\n\\nCan I reserve a table in a restaurant?\\n\\nDo you offer non-smoking rooms?\\n\\nDo you offer child rates?\\n\\nCan I use the spa area even if I am not staying in your hotel?\\n\\nCan I use the spa area after checking out?\\n\\nDo you offer hotel shuttles, for example, to the next airport or train station?\\n\\nCan I have breakfast/dinner even if I am not staying in your hotel?\\n\\nAre special requests, such as gluten-free meals or feather-free pillows, manageable?\\n\\nI have bought a Groupon-voucher, how can I redeem it in your hotel?\\n\\nWhere can I get a copy of my invoice after departure?\\n\\nWhat should I do, if I lost or forgot something in my room?\\n\\n'"
      ]
     },
     "execution_count": 5,
     "metadata": {},
     "output_type": "execute_result"
    }
   ],
   "source": [
    "word_tokens_ques = nltk.word_tokenize(raw_data_ques)\n",
    "raw_data_ques"
   ]
  },
  {
   "cell_type": "code",
   "execution_count": 11,
   "metadata": {},
   "outputs": [],
   "source": [
    "# 표제어추출"
   ]
  },
  {
   "cell_type": "code",
   "execution_count": 6,
   "metadata": {},
   "outputs": [],
   "source": [
    "def LemNormalize(tokens):\n",
    "    lemmer = nltk.stem.WordNetLemmatizer()\n",
    "    return [lemmer.lemmatize(token) for token in tokens]\n",
    "TfidfVec = TfidfVectorizer(tokenizer=LemNormalize, stop_words='english')"
   ]
  },
  {
   "cell_type": "code",
   "execution_count": 11,
   "metadata": {},
   "outputs": [],
   "source": [
    "# GREETING_INPUTS = [\"hello\", \"hi\", \"greetings\", \"sup\", \"what's up\",\"hey\", \"hey there\"]\n",
    "# GREETING_RESPONSES = [\"hi\", \"hey\", \"*nods*\", \"hi there\", \"hello\", \"I am glad! You are talking to me\"]"
   ]
  },
  {
   "cell_type": "code",
   "execution_count": 7,
   "metadata": {},
   "outputs": [],
   "source": [
    "def greeting(sentence):\n",
    "    for word in sentence.split(): # 문장의 각 단어를 살펴봅니다.\n",
    "        if word.lower() in GREETING_INPUTS: # 단어가 GREETING_INPUT와 일치하는지 확인합니다.\n",
    "            return random.choice(GREETING_RESPONSES) # Greeting_Response로 답장합니다."
   ]
  },
  {
   "cell_type": "code",
   "execution_count": 8,
   "metadata": {},
   "outputs": [
    {
     "name": "stdout",
     "output_type": "stream",
     "text": [
      "Jane: My name is Jane. I will answer your queries about this hotel. If you want to exit, type Bye!\n",
      "ㅠㅛㄷ\n"
     ]
    },
    {
     "ename": "NameError",
     "evalue": "name 'GREETING_INPUTS' is not defined",
     "output_type": "error",
     "traceback": [
      "\u001b[1;31m---------------------------------------------------------------------------\u001b[0m",
      "\u001b[1;31mNameError\u001b[0m                                 Traceback (most recent call last)",
      "Cell \u001b[1;32mIn[8], line 32\u001b[0m\n\u001b[0;32m     30\u001b[0m     \u001b[38;5;28mprint\u001b[39m(\u001b[38;5;124m\"\u001b[39m\u001b[38;5;124mJane: You are welcome..\u001b[39m\u001b[38;5;124m\"\u001b[39m)\n\u001b[0;32m     31\u001b[0m \u001b[38;5;28;01melse\u001b[39;00m:\n\u001b[1;32m---> 32\u001b[0m     \u001b[38;5;28;01mif\u001b[39;00m(\u001b[43mgreeting\u001b[49m\u001b[43m(\u001b[49m\u001b[43muser_response\u001b[49m\u001b[43m)\u001b[49m\u001b[38;5;241m!=\u001b[39m\u001b[38;5;28;01mNone\u001b[39;00m):\n\u001b[0;32m     33\u001b[0m         \u001b[38;5;28mprint\u001b[39m(\u001b[38;5;124m\"\u001b[39m\u001b[38;5;124mJane: \u001b[39m\u001b[38;5;124m\"\u001b[39m\u001b[38;5;241m+\u001b[39mgreeting(user_response))\n\u001b[0;32m     34\u001b[0m     \u001b[38;5;28;01melse\u001b[39;00m:\n",
      "Cell \u001b[1;32mIn[7], line 3\u001b[0m, in \u001b[0;36mgreeting\u001b[1;34m(sentence)\u001b[0m\n\u001b[0;32m      1\u001b[0m \u001b[38;5;28;01mdef\u001b[39;00m \u001b[38;5;21mgreeting\u001b[39m(sentence):\n\u001b[0;32m      2\u001b[0m     \u001b[38;5;28;01mfor\u001b[39;00m word \u001b[38;5;129;01min\u001b[39;00m sentence\u001b[38;5;241m.\u001b[39msplit(): \u001b[38;5;66;03m# 문장의 각 단어를 살펴봅니다.\u001b[39;00m\n\u001b[1;32m----> 3\u001b[0m         \u001b[38;5;28;01mif\u001b[39;00m word\u001b[38;5;241m.\u001b[39mlower() \u001b[38;5;129;01min\u001b[39;00m \u001b[43mGREETING_INPUTS\u001b[49m: \u001b[38;5;66;03m# 단어가 GREETING_INPUT와 일치하는지 확인합니다.\u001b[39;00m\n\u001b[0;32m      4\u001b[0m             \u001b[38;5;28;01mreturn\u001b[39;00m random\u001b[38;5;241m.\u001b[39mchoice(GREETING_RESPONSES)\n",
      "\u001b[1;31mNameError\u001b[0m: name 'GREETING_INPUTS' is not defined"
     ]
    }
   ],
   "source": [
    "def response(user_response):\n",
    "    \n",
    "    robo_response='' # 문자열을 포함하도록 변수를 초기화\n",
    "    sent_tokens_ques.append(user_response) # sent_messages에 사용자 응답 추가\n",
    "    TfidfVec = TfidfVectorizer(tokenizer=LemNormalize, stop_words='english') \n",
    "    tfidf = TfidfVec.fit_transform(sent_tokens_ques) # tfidf 값 가져오기\n",
    "    vals = cosine_similarity(tfidf[-1], tfidf) # 코사인 유사성 값 가져오기\n",
    "    idx=vals.argsort()[0][-2] \n",
    "    \n",
    "    flat = vals.flatten() \n",
    "    flat.sort() # 오름차순으로 정렬\n",
    "    req_tfidf = flat[-2] \n",
    "    \n",
    "    if(req_tfidf==0):\n",
    "        robo_response=robo_response+\"I am sorry! I don't understand you\"\n",
    "        return robo_response, vals\n",
    "    else:\n",
    "        robo_response = robo_response+ques_and_pairs[sent_tokens_ques[idx]]\n",
    "        return robo_response, vals\n",
    "        \n",
    "# 2.1.4 챗봇 테스트\n",
    "flag=True\n",
    "print(\"Jane: My name is Jane. I will answer your queries about this hotel. If you want to exit, type Bye!\")\n",
    "while(flag==True):\n",
    "    user_response = input()\n",
    "    user_response=user_response.lower()\n",
    "    if(user_response!='bye'):\n",
    "        if(user_response=='thanks' or user_response=='thank you' ):\n",
    "            flag=False\n",
    "            print(\"Jane: You are welcome..\")\n",
    "        else:\n",
    "            if(greeting(user_response)!=None):\n",
    "                print(\"Jane: \"+greeting(user_response))\n",
    "            else:\n",
    "                print(\"Jane: \",end=\"\")\n",
    "                resp= response(user_response)\n",
    "                print(resp[0], )\n",
    "                sent_tokens_ques.remove(user_response)\n",
    "                resp_l = resp[1].tolist()\n",
    "                resp_l[0].pop()\n",
    "                print(' (With similarity of ',max(resp_l[0]),')')\n",
    "    else:\n",
    "        flag=False\n",
    "        print(\"Jane: Bye! take care..\")"
   ]
  },
  {
   "cell_type": "code",
   "execution_count": null,
   "metadata": {},
   "outputs": [],
   "source": []
  },
  {
   "cell_type": "code",
   "execution_count": null,
   "metadata": {},
   "outputs": [],
   "source": []
  },
  {
   "cell_type": "code",
   "execution_count": null,
   "metadata": {},
   "outputs": [],
   "source": []
  },
  {
   "cell_type": "markdown",
   "metadata": {},
   "source": [
    "### 1.2 데이터 처리\n",
    "#### 1.2.1 파일 읽기 및 저장"
   ]
  },
  {
   "cell_type": "code",
   "execution_count": 24,
   "metadata": {
    "colab": {
     "base_uri": "https://localhost:8080/"
    },
    "executionInfo": {
     "elapsed": 539,
     "status": "ok",
     "timestamp": 1625201865138,
     "user": {
      "displayName": "Albert Anthony",
      "photoUrl": "",
      "userId": "06779463251817115427"
     },
     "user_tz": -420
    },
    "id": "R08PteSZaTGd",
    "outputId": "f9bf11e9-f1b9-45c7-91b2-70fdc692dc29",
    "scrolled": false
   },
   "outputs": [],
   "source": [
    "# 1.[Dataset] Module27 (ans).txt 파일을 읽어 raw_data_ans 에 저장한다.\n",
    "# 2.[Dataset] Module27 (ques).txt 파일을 읽어 raw_data_ques 에 저장한다. \n",
    "# 단계 1: 파일 경로 지정하기읽기 및 저장 : ques_filepath, ans_filepath\n",
    "\n",
    "# your code"
   ]
  },
  {
   "cell_type": "markdown",
   "metadata": {},
   "source": [
    "- raw_data_ans와 raw_data_ques의 길이 확인(For Mapping)"
   ]
  },
  {
   "cell_type": "code",
   "execution_count": 25,
   "metadata": {},
   "outputs": [],
   "source": [
    "# 소문자 처리 answer & Question\n",
    "# your code"
   ]
  },
  {
   "cell_type": "code",
   "execution_count": 26,
   "metadata": {},
   "outputs": [],
   "source": [
    "# 저장된 데이터의 길이 확인\n",
    "# your code here\n"
   ]
  },
  {
   "cell_type": "code",
   "execution_count": 27,
   "metadata": {},
   "outputs": [],
   "source": [
    "# 저장된 데이터의 길이 확인\n",
    "# your code here\n"
   ]
  },
  {
   "cell_type": "markdown",
   "metadata": {},
   "source": [
    "# 1.2.2 소문자처리"
   ]
  },
  {
   "cell_type": "code",
   "execution_count": 28,
   "metadata": {},
   "outputs": [],
   "source": [
    "from nltk.tokenize import sent_tokenize\n",
    "\n",
    "# your code"
   ]
  },
  {
   "cell_type": "markdown",
   "metadata": {
    "id": "t729o2v7aTGp"
   },
   "source": [
    "####  세분화, 표제어 추출,  단어 토큰화\n",
    "\n",
    "모듈 26 코사인 유사성 노트북에서 배운 방법을 참조하여 데이터를 세분화, 토큰화, 표제어 추출로 전처리 진행합니다."
   ]
  },
  {
   "cell_type": "markdown",
   "metadata": {},
   "source": [
    "#### 1.2.3 문장 세분화 "
   ]
  },
  {
   "cell_type": "code",
   "execution_count": 29,
   "metadata": {
    "colab": {
     "base_uri": "https://localhost:8080/"
    },
    "executionInfo": {
     "elapsed": 359,
     "status": "ok",
     "timestamp": 1625201872991,
     "user": {
      "displayName": "Albert Anthony",
      "photoUrl": "",
      "userId": "06779463251817115427"
     },
     "user_tz": -420
    },
    "id": "bd6adnm0aTGp",
    "outputId": "3ebb414b-4af6-4b08-b180-c9a9a750ea0c"
   },
   "outputs": [],
   "source": [
    "# 1.2.3 문장 세분화 후 길이확인하기\n",
    "# question 과 answer 데이터에 대해 sent_tokenize() 사용하여 문서를 문장 목록으로 변환한다 \n",
    "# sent_tokens_ques / sent_tokens_ans  에 저장\n",
    "# your code here\n",
    "from nltk.tokenize import sent_tokenize\n",
    "# your code\n",
    "# 이후에는 raw_data_ans 및 raw_data_ques를 사용하여 진행하십시오."
   ]
  },
  {
   "cell_type": "code",
   "execution_count": 30,
   "metadata": {
    "colab": {
     "base_uri": "https://localhost:8080/"
    },
    "executionInfo": {
     "elapsed": 1,
     "status": "ok",
     "timestamp": 1625201874211,
     "user": {
      "displayName": "Albert Anthony",
      "photoUrl": "",
      "userId": "06779463251817115427"
     },
     "user_tz": -420
    },
    "id": "h6JFAfDRaTGp",
    "outputId": "11eb25dd-d12b-4b5a-bf22-710a50655835"
   },
   "outputs": [],
   "source": [
    "# 질문과 답변 매칭한 딕셔너리 - ques_and_pairs생성한 후 상위 5개 출력해 보기\n",
    "# your code here"
   ]
  },
  {
   "cell_type": "markdown",
   "metadata": {},
   "source": [
    "#### 1.2.4 단어 토큰화"
   ]
  },
  {
   "cell_type": "code",
   "execution_count": 31,
   "metadata": {
    "colab": {
     "base_uri": "https://localhost:8080/"
    },
    "executionInfo": {
     "elapsed": 472,
     "status": "ok",
     "timestamp": 1625201875128,
     "user": {
      "displayName": "Albert Anthony",
      "photoUrl": "",
      "userId": "06779463251817115427"
     },
     "user_tz": -420
    },
    "id": "LYI2uuyTaTGq",
    "outputId": "a5594e85-0654-47e9-df50-b5f167eac199",
    "scrolled": false
   },
   "outputs": [],
   "source": [
    "# raw_data_ques 와  raw_data_ans 단어 토큰화하고 출력하기 : word_tokens_ques 저장\n",
    "# your code here\n",
    "\n"
   ]
  },
  {
   "cell_type": "markdown",
   "metadata": {},
   "source": [
    "#### 1.2.5 표제어 추출\n",
    "WordNetleMmatizer를 사용하여 단어 토큰에서 표제어를 추출하는 함수 작성"
   ]
  },
  {
   "cell_type": "code",
   "execution_count": 32,
   "metadata": {
    "executionInfo": {
     "elapsed": 472,
     "status": "ok",
     "timestamp": 1625201875130,
     "user": {
      "displayName": "Albert Anthony",
      "photoUrl": "",
      "userId": "06779463251817115427"
     },
     "user_tz": -420
    },
    "id": "-7sg_IsiaTGq"
   },
   "outputs": [],
   "source": [
    "# LemTokens() 정의하기 - 이전 예제 참조\n",
    "# your code here"
   ]
  },
  {
   "cell_type": "markdown",
   "metadata": {},
   "source": [
    "#### 1.2.6 정규화\n",
    "지식 기반에 유용하지 않은 구두점을 제거하는 함수를 작성"
   ]
  },
  {
   "cell_type": "code",
   "execution_count": 33,
   "metadata": {
    "executionInfo": {
     "elapsed": 2,
     "status": "ok",
     "timestamp": 1625201875457,
     "user": {
      "displayName": "Albert Anthony",
      "photoUrl": "",
      "userId": "06779463251817115427"
     },
     "user_tz": -420
    },
    "id": "tNpTcnZQaTGq"
   },
   "outputs": [],
   "source": [
    "# LemNormalize() 정의하기 - 이전 예제 참조\n",
    "# your code here\n"
   ]
  },
  {
   "cell_type": "markdown",
   "metadata": {
    "id": "8yBNkjCkaTGq"
   },
   "source": [
    "## 2. 챗봇 기능 추가 - 코사인 유사성\n",
    "데이터 세트를 문서 벡터로 변환 할 것입니다. 코사인 유사성은 유사한 벡터를 찾을 수 있게 해주며, 이러한 벡터는 의미가 비슷하다고 가정할 것입니다."
   ]
  },
  {
   "cell_type": "code",
   "execution_count": 34,
   "metadata": {},
   "outputs": [],
   "source": [
    "from nltk.tokenize import sent_tokenize\n",
    "# your code"
   ]
  },
  {
   "cell_type": "code",
   "execution_count": null,
   "metadata": {
    "executionInfo": {
     "elapsed": 2,
     "status": "ok",
     "timestamp": 1625201875457,
     "user": {
      "displayName": "Albert Anthony",
      "photoUrl": "",
      "userId": "06779463251817115427"
     },
     "user_tz": -420
    },
    "id": "YKToF6tBaTGq"
   },
   "outputs": [],
   "source": [
    "# 2.1.1 입력 및 응답 목록 작성\n",
    "GREETING_INPUTS = [\"hello\", \"hi\", \"greetings\", \"sup\", \"what's up\",\"hey\", \"hey there\"]\n",
    "GREETING_RESPONSES = [\"hi\", \"hey\", \"*nods*\", \"hi there\", \"hello\", \"I am glad! You are talking to me\"]"
   ]
  },
  {
   "cell_type": "code",
   "execution_count": null,
   "metadata": {
    "executionInfo": {
     "elapsed": 2,
     "status": "ok",
     "timestamp": 1625201875457,
     "user": {
      "displayName": "Albert Anthony",
      "photoUrl": "",
      "userId": "06779463251817115427"
     },
     "user_tz": -420
    },
    "id": "YKToF6tBaTGq"
   },
   "outputs": [],
   "source": [
    "# 인사말을 수신하고 반환하는 함수 만들기\n",
    "def greeting(sentence):\n",
    "    for word in sentence.split(): # 문장의 각 단어를 살펴봅니다.\n",
    "        if word.lower() in GREETING_INPUTS: # 단어가 GREETING_INPUT와 일치하는지 확인합니다.\n",
    "            return random.choice(GREETING_RESPONSES) # Greeting_Response로 답장합니다."
   ]
  },
  {
   "cell_type": "code",
   "execution_count": null,
   "metadata": {
    "executionInfo": {
     "elapsed": 2,
     "status": "ok",
     "timestamp": 1625201875457,
     "user": {
      "displayName": "Albert Anthony",
      "photoUrl": "",
      "userId": "06779463251817115427"
     },
     "user_tz": -420
    },
    "id": "YKToF6tBaTGq"
   },
   "outputs": [],
   "source": [
    "# 2.1.2 끝인삿말 대응하기\n",
    "GOODBYE_INPUTS = [\"bye\", \"see you!\", \"unit\", \"exit\"]\n",
    "GOODBYE_RESPONSES = [\"Goodbye!\", \"See you later!\", \"Take care!\", \"Farewell!\"]"
   ]
  },
  {
   "cell_type": "code",
   "execution_count": null,
   "metadata": {
    "executionInfo": {
     "elapsed": 2,
     "status": "ok",
     "timestamp": 1625201875457,
     "user": {
      "displayName": "Albert Anthony",
      "photoUrl": "",
      "userId": "06779463251817115427"
     },
     "user_tz": -420
    },
    "id": "YKToF6tBaTGq"
   },
   "outputs": [],
   "source": [
    "# 끝인삿말을 수신하고 반환하는 함수 만들기\n",
    "def goodbye(sentence):\n",
    "    for word in sentence.split():\n",
    "        if word.lower() in GOODBYE_INPUTS:\n",
    "            return random.choice(GOODBYE_RESPONSES)\n",
    "    return None"
   ]
  },
  {
   "cell_type": "code",
   "execution_count": 37,
   "metadata": {
    "executionInfo": {
     "elapsed": 2,
     "status": "ok",
     "timestamp": 1625201875457,
     "user": {
      "displayName": "Albert Anthony",
      "photoUrl": "",
      "userId": "06779463251817115427"
     },
     "user_tz": -420
    },
    "id": "YKToF6tBaTGq"
   },
   "outputs": [
    {
     "name": "stdout",
     "output_type": "stream",
     "text": [
      "ROBO: My name is HotelGuideBot. I will answer your queries about Chatbots. If you want to exit, type Bye!\n",
      "thanks\n",
      "ROBO: You are welcome..\n"
     ]
    }
   ],
   "source": [
    "\n",
    "# flag는 보통 프로그램 내에서 논리적인 상태를 나타내기 위해 사용되는 변수\n",
    "\n",
    "flag=True # flag 변수는 챗봇 루프를 제어, True 이므로 제어상태 \n",
    "print(\"ROBO: My name is HotelGuideBot. I will answer your queries about Chatbots. If you want to exit, type Bye!\")\n",
    "\n",
    "while(flag==True): # flag 변수가 True인지 확인하는 조건, \n",
    "    # flag 변수의 현재 상태를 확인하는 것이며, flag가 True인 경우에 해당 조건은 참(True)\n",
    "\n",
    "    user_response = input()\n",
    "    user_response=user_response.lower()\n",
    "    if(user_response!='bye'):\n",
    "        if(user_response=='thanks' or user_response=='thank you' ):\n",
    "            \n",
    "            # flag 변수의 상태가 False로 변경, 주로 루프나 조건문 내에서 특정 조건을 충족했을 때 \n",
    "            # 루프를 종료하거나 조건을 거짓으로 만들어 프로그램의 실행을 제어하는 데 사용\n",
    "            # 즉 user가 'thanks' 나, 'thank you'라고 입력했을 때에는 제어가 풀리게 됨\n",
    "            # \"ROBO: You are welcome..\"가 출력되며 대화종료(user_input 종료)\n",
    "            flag=False\n",
    "            \n",
    "            print(\"ROBO: You are welcome..\")\n",
    "        else:\n",
    "            if(greeting(user_response)!=None):\n",
    "                print(\"ROBO: \"+greeting(user_response))\n",
    "                # tell_time 함수를 작성했으면 아래의 문장을 주석해제하세요.\n",
    "#               #if(tell_time(user_response)!=None):\n",
    "#                print(\"ROBO: \"+tell_time(user_response))\n",
    "            else:\n",
    "                print(\"ROBO: \",end=\"\")\n",
    "                print(response(user_response))\n",
    "                sent_tokens.remove(user_response)\n",
    "    else:\n",
    "        flag=False\n",
    "        print(\"ROBO: Bye! take care..\")"
   ]
  },
  {
   "cell_type": "code",
   "execution_count": 36,
   "metadata": {},
   "outputs": [],
   "source": [
    "# # # 2.1.2 끝인삿말 대응하기\n",
    "# GOODBYE_INPUTS = [\"bye\", \"see you!\", \"unit\", \"exit\"]\n",
    "# GOODBYE_RESPONSES = [\"Goodbye!\", \"See you later!\", \"Take care!\", \"Farewell!\"]\n",
    "\n",
    "# # 끝인삿말을 수신하고 반환하는 함수 만들기\n",
    "# def goodbye(sentence):\n",
    "#     for word in sentence.split():\n",
    "#         if word.lower() in GOODBYE_INPUTS:\n",
    "#             return random.choice(GOODBYE_RESPONSES)\n",
    "#     return None"
   ]
  },
  {
   "cell_type": "code",
   "execution_count": 60,
   "metadata": {},
   "outputs": [
    {
     "name": "stdout",
     "output_type": "stream",
     "text": [
      "ROBO: My name is HotelGuideBot. I will answer your queries about Chatbots. If you want to exit, type Bye!\n",
      "hi\n",
      "ROBO: hi\n",
      "bye\n",
      "ROBO: Bye! take care..\n"
     ]
    }
   ],
   "source": [
    "# flag=True\n",
    "# print(\"ROBO: My name is HotelGuideBot. I will answer your queries about Chatbots. If you want to exit, type Bye!\")\n",
    "# while(flag==True):\n",
    "#     user_response = input()\n",
    "#     user_response=user_response.lower()\n",
    "#     if(user_response!='bye'):\n",
    "#         if(user_response=='thanks' or user_response=='thank you' ):\n",
    "#             flag=False\n",
    "#             print(\"ROBO: You are welcome..\")\n",
    "#         else:\n",
    "#             if(greeting(user_response)!=None):\n",
    "#                 print(\"ROBO: \"+greeting(user_response))\n",
    "#                 tell_time 함수를 작성했으면 아래의 문장을 주석해제하세요.\n",
    "#              if(tell_time(user_response)!=None):\n",
    "#                  print(\"ROBO: \"+tell_time(user_response))\n",
    "#             else:\n",
    "#                 print(\"ROBO: \",end=\"\")\n",
    "#                 print(response(user_response))\n",
    "#                 sent_tokens.remove(user_response)\n",
    "#     else:\n",
    "#         flag=False\n",
    "#         print(\"ROBO: Bye! take care..\")"
   ]
  },
  {
   "cell_type": "markdown",
   "metadata": {
    "id": "OG8J9Y4haTGq"
   },
   "source": [
    "챗봇의 기능은 챗봇을 실행하기 위한 루프를 만듦으로써 이루어집니다. 아래 기능을 살펴봅니다. 함수의 각 줄은 중요한 단계를 수행하기 위해 다른 함수를 호출하기 때문에 중요합니다. 'response' 함수는 챗봇이 어떻게 행동하는지에 대한 작동 방식을 담당합니다."
   ]
  },
  {
   "cell_type": "code",
   "execution_count": 17,
   "metadata": {
    "executionInfo": {
     "elapsed": 1,
     "status": "ok",
     "timestamp": 1625201875761,
     "user": {
      "displayName": "Albert Anthony",
      "photoUrl": "",
      "userId": "06779463251817115427"
     },
     "user_tz": -420
    },
    "id": "ljpdA9lXaTGq"
   },
   "outputs": [],
   "source": [
    "# 2.1.3 질문을 받고 답변을 반환하는 함수 만들기\n",
    "# your code here\n",
    "def answer(sentence1):\n",
    "    for word in sentence1.split(): # 문장의 각 단어를 살펴봅니다.\n",
    "        if word.lower() in QUESTIONS_INPUTS: # 단어가 GREETING_INPUT와 일치하는지 확인합니다.\n",
    "            return random.choice(QUESTIONS_RESPONSES) # Greeting_Response로 답장합니다\n"
   ]
  },
  {
   "cell_type": "markdown",
   "metadata": {
    "id": "MObdf0DbaTGq"
   },
   "source": [
    "마지막으로 챗봇 인터페이스를 만들고 이를 중심으로 페르소나를 만들어 봅시다. 우리가 챗봇을 '제인'이라고 부르고 코사인 유사성을 사용하여 질문과 유사한 FAQ를 찾아 대답하도록 합시다."
   ]
  },
  {
   "cell_type": "code",
   "execution_count": 18,
   "metadata": {},
   "outputs": [],
   "source": [
    "def response(user_response):\n",
    "    \n",
    "    robo_response='' # 문자열을 포함하도록 변수를 초기화\n",
    "    sent_tokens.append(user_response) # sent_messages에 사용자 응답 추가\n",
    "    TfidfVec = TfidfVectorizer(tokenizer=LemNormalize, stop_words='english') \n",
    "    tfidf = TfidfVec.fit_transform(sent_tokens) # tfidf 값 가져오기\n",
    "\n",
    "    vals = cosine_similarity(tfidf[-1], tfidf) # 코사인 유사성 값 가져오기\n",
    "    idx=vals.argsort()[0][-2] \n",
    "    \n",
    "    flat = vals.flatten() \n",
    "    flat.sort() # 오름차순으로 정렬\n",
    "    req_tfidf = flat[-2] \n",
    "    \n",
    "    if(req_tfidf==0):\n",
    "        robo_response=robo_response+\"I am sorry! I don't understand you\"\n",
    "        return robo_response\n",
    "    \n",
    "    else:\n",
    "        robo_response = robo_response+sent_tokens[idx]\n",
    "        return robo_response"
   ]
  },
  {
   "cell_type": "code",
   "execution_count": 64,
   "metadata": {
    "colab": {
     "base_uri": "https://localhost:8080/"
    },
    "executionInfo": {
     "elapsed": 10210,
     "status": "ok",
     "timestamp": 1625201887211,
     "user": {
      "displayName": "Albert Anthony",
      "photoUrl": "",
      "userId": "06779463251817115427"
     },
     "user_tz": -420
    },
    "id": "kAhwDtRAaTGr",
    "outputId": "a189d9b9-b5a9-472a-bcd2-0d1c3ec54cf0"
   },
   "outputs": [
    {
     "name": "stdout",
     "output_type": "stream",
     "text": [
      "My name is Jane. I will answer your queries about this hotel. If you want to exit, type Bye!\n",
      "Do you have tuxedo services?\n",
      "JANE: "
     ]
    },
    {
     "ename": "NameError",
     "evalue": "name 'sent_tokens' is not defined",
     "output_type": "error",
     "traceback": [
      "\u001b[1;31m---------------------------------------------------------------------------\u001b[0m",
      "\u001b[1;31mNameError\u001b[0m                                 Traceback (most recent call last)",
      "Cell \u001b[1;32mIn[64], line 42\u001b[0m\n\u001b[0;32m     37\u001b[0m                 \u001b[38;5;66;03m# tell_time 함수를 작성했으면 아래의 문장을 주석해제하세요.\u001b[39;00m\n\u001b[0;32m     38\u001b[0m \u001b[38;5;66;03m#             if(tell_time(user_response)!=None):\u001b[39;00m\n\u001b[0;32m     39\u001b[0m \u001b[38;5;66;03m#                 print(\"ROBO: \"+tell_time(user_response))\u001b[39;00m\n\u001b[0;32m     40\u001b[0m             \u001b[38;5;28;01melse\u001b[39;00m:\n\u001b[0;32m     41\u001b[0m                 \u001b[38;5;28mprint\u001b[39m(\u001b[38;5;124m\"\u001b[39m\u001b[38;5;124mJANE: \u001b[39m\u001b[38;5;124m\"\u001b[39m,end\u001b[38;5;241m=\u001b[39m\u001b[38;5;124m\"\u001b[39m\u001b[38;5;124m\"\u001b[39m)\n\u001b[1;32m---> 42\u001b[0m                 \u001b[38;5;28mprint\u001b[39m(\u001b[43mresponse\u001b[49m\u001b[43m(\u001b[49m\u001b[43muser_response\u001b[49m\u001b[43m)\u001b[49m)\n\u001b[0;32m     43\u001b[0m                 sent_tokens\u001b[38;5;241m.\u001b[39mremove(user_response)\n\u001b[0;32m     44\u001b[0m     \u001b[38;5;28;01melse\u001b[39;00m:\n",
      "Cell \u001b[1;32mIn[40], line 4\u001b[0m, in \u001b[0;36mresponse\u001b[1;34m(user_response)\u001b[0m\n\u001b[0;32m      1\u001b[0m \u001b[38;5;28;01mdef\u001b[39;00m \u001b[38;5;21mresponse\u001b[39m(user_response):\n\u001b[0;32m      3\u001b[0m     robo_response\u001b[38;5;241m=\u001b[39m\u001b[38;5;124m'\u001b[39m\u001b[38;5;124m'\u001b[39m \u001b[38;5;66;03m# 문자열을 포함하도록 변수를 초기화\u001b[39;00m\n\u001b[1;32m----> 4\u001b[0m     \u001b[43msent_tokens\u001b[49m\u001b[38;5;241m.\u001b[39mappend(user_response) \u001b[38;5;66;03m# sent_messages에 사용자 응답 추가\u001b[39;00m\n\u001b[0;32m      5\u001b[0m     TfidfVec \u001b[38;5;241m=\u001b[39m TfidfVectorizer(tokenizer\u001b[38;5;241m=\u001b[39mLemNormalize, stop_words\u001b[38;5;241m=\u001b[39m\u001b[38;5;124m'\u001b[39m\u001b[38;5;124menglish\u001b[39m\u001b[38;5;124m'\u001b[39m) \n\u001b[0;32m      6\u001b[0m     tfidf \u001b[38;5;241m=\u001b[39m TfidfVec\u001b[38;5;241m.\u001b[39mfit_transform(sent_tokens) \u001b[38;5;66;03m# tfidf 값 가져오기\u001b[39;00m\n",
      "\u001b[1;31mNameError\u001b[0m: name 'sent_tokens' is not defined"
     ]
    }
   ],
   "source": [
    "# 2.1.4 챗봇 테스트\n",
    "# your code here\n",
    "# 2.1.1 입력 및 응답 목록 작성\n",
    "QUESTIONS_INPUTS = [\"Do you have tuxedo services?\", \"room service\", \"Is room service served 24 hours?\"]\n",
    "QUESTIONS_RESPONSES = [\"yes, we have tuxedo services available at the reception.\", \"to call room service, please dial '0' using the phone in your room.\", \"yes, room service is available 24 hrs.\"]\n",
    "\n",
    "# 인사말을 수신하고 반환하는 함수 만들기\n",
    "def questions(sentence1):\n",
    "    for word in sentence1.split(): # 문장의 각 단어를 살펴봅니다.\n",
    "        if word.lower() in QUESTIONS_INPUTS: # 단어가 GREETING_INPUT와 일치하는지 확인합니다.\n",
    "            return random.choice(QUESTIONS_RESPONSES) # Greeting_Response로 답장합니다.\n",
    "\n",
    "\n",
    "# GOODBYE_INPUTS = [\"bye\", \"see you!\", \"unit\", \"exit\"]\n",
    "# GOODBYE_RESPONSES = [\"Goodbye!\", \"See you later!\", \"Take care!\", \"Farewell!\"]\n",
    "\n",
    "# # 끝인삿말을 수신하고 반환하는 함수 만들기\n",
    "# def answer(sentence2):\n",
    "#     for word in sentence.split():\n",
    "#         if word.lower() in GOODBYE_INPUTS:\n",
    "#             return random.choice(GOODBYE_RESPONSES)\n",
    "#     return None\n",
    "\n",
    "\n",
    "flag=True\n",
    "print(\"My name is Jane. I will answer your queries about this hotel. If you want to exit, type Bye!\")\n",
    "while(flag==True):\n",
    "    user_response = input()\n",
    "    user_response=user_response.lower()\n",
    "    if(user_response!='bye'):\n",
    "        if(user_response=='thanks' or user_response=='thank you' ):\n",
    "            flag=False\n",
    "            print(\"JANE: You are welcome..\")\n",
    "        else:\n",
    "            if(greeting(user_response)!=None):\n",
    "                print(\"JANE: \"+greeting(user_response))\n",
    "                # tell_time 함수를 작성했으면 아래의 문장을 주석해제하세요.\n",
    "#             if(tell_time(user_response)!=None):\n",
    "#                 print(\"ROBO: \"+tell_time(user_response))\n",
    "            else:\n",
    "                print(\"JANE: \",end=\"\")\n",
    "                print(response(user_response))\n",
    "                sent_tokens.remove(user_response)\n",
    "    else:\n",
    "        flag=False\n",
    "        print(\"JANE: Thank you for using our services, hope you have a good time.\")\n",
    "\n",
    "\n",
    "      "
   ]
  },
  {
   "cell_type": "code",
   "execution_count": 19,
   "metadata": {},
   "outputs": [
    {
     "name": "stdout",
     "output_type": "stream",
     "text": [
      "My name is Jane. I will answer your queries about this hotel. If you want to exit, type Bye!\n",
      "Do you have tuxedo services?\n"
     ]
    },
    {
     "ename": "NameError",
     "evalue": "name 'greeting' is not defined",
     "output_type": "error",
     "traceback": [
      "\u001b[1;31m---------------------------------------------------------------------------\u001b[0m",
      "\u001b[1;31mNameError\u001b[0m                                 Traceback (most recent call last)",
      "Cell \u001b[1;32mIn[19], line 35\u001b[0m\n\u001b[0;32m     33\u001b[0m             \u001b[38;5;28mprint\u001b[39m(\u001b[38;5;124m\"\u001b[39m\u001b[38;5;124mJANE: You are welcome..\u001b[39m\u001b[38;5;124m\"\u001b[39m)\n\u001b[0;32m     34\u001b[0m         \u001b[38;5;28;01melse\u001b[39;00m:\n\u001b[1;32m---> 35\u001b[0m             \u001b[38;5;28;01mif\u001b[39;00m(\u001b[43mgreeting\u001b[49m(user_response)\u001b[38;5;241m!=\u001b[39m\u001b[38;5;28;01mNone\u001b[39;00m):\n\u001b[0;32m     36\u001b[0m                 \u001b[38;5;28mprint\u001b[39m(\u001b[38;5;124m\"\u001b[39m\u001b[38;5;124mJANE: \u001b[39m\u001b[38;5;124m\"\u001b[39m\u001b[38;5;241m+\u001b[39mgreeting(user_response))\n\u001b[0;32m     37\u001b[0m                 \u001b[38;5;66;03m# tell_time 함수를 작성했으면 아래의 문장을 주석해제하세요.\u001b[39;00m\n\u001b[0;32m     38\u001b[0m \u001b[38;5;66;03m#             if(tell_time(user_response)!=None):\u001b[39;00m\n\u001b[0;32m     39\u001b[0m \u001b[38;5;66;03m#                 print(\"ROBO: \"+tell_time(user_response))\u001b[39;00m\n\u001b[0;32m     40\u001b[0m             \u001b[38;5;28;01melse\u001b[39;00m:\n",
      "\u001b[1;31mNameError\u001b[0m: name 'greeting' is not defined"
     ]
    }
   ],
   "source": [
    "# 2.1.4 챗봇 테스트\n",
    "# your code here\n",
    "# 2.1.1 입력 및 응답 목록 작성\n",
    "QUESTIONS_INPUTS = [\"Do you have tuxedo services?\", \"room service\", \"Is room service served 24 hours?\"]\n",
    "QUESTIONS_RESPONSES = [\"yes, we have tuxedo services available at the reception.\", \"to call room service, please dial '0' using the phone in your room.\", \"yes, room service is available 24 hrs.\"]\n",
    "\n",
    "# 인사말을 수신하고 반환하는 함수 만들기\n",
    "def questions(sentence1):\n",
    "    for word in sentence1.split(): # 문장의 각 단어를 살펴봅니다.\n",
    "        if word.lower() in QUESTIONS_INPUTS: # 단어가 GREETING_INPUT와 일치하는지 확인합니다.\n",
    "            return random.choice(QUESTIONS_RESPONSES) # Greeting_Response로 답장합니다.\n",
    "\n",
    "\n",
    "# GOODBYE_INPUTS = [\"bye\", \"see you!\", \"unit\", \"exit\"]\n",
    "# GOODBYE_RESPONSES = [\"Goodbye!\", \"See you later!\", \"Take care!\", \"Farewell!\"]\n",
    "\n",
    "# # 끝인삿말을 수신하고 반환하는 함수 만들기\n",
    "# def answer(sentence2):\n",
    "#     for word in sentence.split():\n",
    "#         if word.lower() in GOODBYE_INPUTS:\n",
    "#             return random.choice(GOODBYE_RESPONSES)\n",
    "#     return None\n",
    "\n",
    "\n",
    "flag=True\n",
    "print(\"My name is Jane. I will answer your queries about this hotel. If you want to exit, type Bye!\")\n",
    "while(flag==True):\n",
    "    user_response = input()\n",
    "    user_response=user_response.lower()\n",
    "    if(user_response!='bye'):\n",
    "        if(user_response=='thanks' or user_response=='thank you' ):\n",
    "            flag=False\n",
    "            print(\"JANE: You are welcome..\")\n",
    "        else:\n",
    "            if(greeting(user_response)!=None):\n",
    "                print(\"JANE: \"+greeting(user_response))\n",
    "                # tell_time 함수를 작성했으면 아래의 문장을 주석해제하세요.\n",
    "#             if(tell_time(user_response)!=None):\n",
    "#                 print(\"ROBO: \"+tell_time(user_response))\n",
    "            else:\n",
    "                print(\"JANE: \",end=\"\")\n",
    "                print(response(user_response))\n",
    "                sent_tokens.remove(user_response)\n",
    "    else:\n",
    "        flag=False\n",
    "        print(\"JANE: Thank you for using our services, hope you have a good time.\")\n",
    "\n",
    "\n",
    "      "
   ]
  },
  {
   "cell_type": "markdown",
   "metadata": {
    "id": "ti57IhXEaTGr"
   },
   "source": [
    "## 3. Doc2vec를 이용한 챗봇 기능\n",
    "\n",
    "챗봇을 만들기 위한 한 가지 유형의 모델을 더 다룰 것입니다. 코사인 유사성 모델 알고리즘은 두 문장 사이의 유사성을 찾는데 사용됩니다. 하지만 이제 신경망을 사용해서 이 문제를 해결해 보려합니다. 살펴보도록 하겠습니다.\n",
    "\n",
    "Doc2Vec은 기본적으로 문서에서 벡터를 생성하는 신경망 기반 모델입니다. Doc2vec을 이해하기 위해서는 word2vec도 이해해야 합니다.\n",
    "\n",
    "#### word2vec란?\n",
    "이는 삽입 단어를 생성하는 모델이며, 여기서는 텍스트의 큰 말뭉치를 입력으로 받고 일반적으로 수백 개 차원의 벡터 공간을 생성합니다. \n",
    "\n",
    "2013년 9월과 10월 사이에 구글의 연구팀에 의해 두 개의 논문에 소개되었습니다. Word2Vec의 기본 가정은 유사한 맥락을 공유하는 두 단어가 유사한 의미를 공유하며 결과적으로 모델에서 유사한 벡터 표현을 공유한다는 것입니다.\n",
    "\n",
    "예를 들어, \"은행\", \"화폐\", \"계좌\"는 \"달러\", \"대출\", \"신용\"과 같은 유사한 주변 단어와 함께 종종 사용되며, 따라서 Word2Vec에 따르면 이들은 유사한 벡터 표현을 공유합니다.\n",
    "\n",
    "![Image](img1.png)"
   ]
  },
  {
   "cell_type": "markdown",
   "metadata": {
    "id": "ajt10YajaTGr"
   },
   "source": [
    "#### doc2vec 란?\n",
    "\n",
    "doc2vec의 목적은 말뭉치의 모든 단어에 대한 특징 벡터를 계산하는 word2vec와 달리 문장/단락/문서의 수치 표현을 생성하는 것입니다. doc2vec은 말뭉치의 모든 문서에 대한 특징 벡터를 계산합니다. doc2vec에 의해 생성된 벡터는 문장/단락/문서 간의 유사성 찾기와 같은 작업에 사용될 수 있습니다.\n",
    "\n",
    "<strong> doc2vec의 속성을 사용하여 우리만의 유사성 모델을 만들 것입니다.</strong>\n"
   ]
  },
  {
   "cell_type": "markdown",
   "metadata": {},
   "source": [
    "1. Word2Vec (Word Embeddings):\n",
    "\n",
    "- Word2Vec은 단어의 분산 표현을 학습하는 방법입니다. \n",
    "- 단어를 고정된 길이의 벡터로 표현하며, 각 벡터의 차원은 단어 사전 크기에 따라 정의됩니다.\n",
    "- Word2Vec 모델은 주변 단어와의 관계를 학습하여, 유사한 문맥에서 나타나는 단어들이 비슷한 벡터 표현을 가지도록 합니다. \n",
    "- 이것은 단어 간의 의미적 유사성을 캡처하는 데 도움이 됩니다.\n",
    "- Word2Vec 모델은 주로 \"CBOW (Continuous Bag of Words)\" 및 \"Skip-gram\" 두 가지 주요 아키텍처로 구현됩니다.\n",
    "\n",
    "2.Doc2Vec (Document Embeddings):\n",
    "\n",
    "- Doc2Vec은 문서의 분산 표현을 학습하는 방법으로, Word2Vec을 확장한 것으로 볼 수 있습니다.\n",
    "- 단어뿐만 아니라 문서에 대한 벡터 표현을 생성합니다.\n",
    "- Doc2Vec 모델은 문맥과 함께 문서의 벡터 표현을 학습합니다. \n",
    "- 따라서 각 문서에 고유한 벡터가 할당되고, 이 벡터는 문서의 의미와 내용을 잘 나타냅니다.\n",
    "- \"Distributed Memory (DM)\" 및 \"Distributed Bag of Words (DBOW)\" 두 가지 메서드를 사용하여 문서 벡터를 학습할 수 있습니다.\n",
    "\n",
    "주요 차이점:\n",
    "\n",
    "- Word2Vec은 단어 수준의 분산 표현을 학습하는 반면, Doc2Vec은 문서 수준의 분산 표현을 학습합니다.\n",
    "- Word2Vec은 단어 간의 의미적 유사성을 캡처하는 데 사용되며, 단어 간의 관계를 파악합니다. \n",
    "\n",
    "반면, \n",
    "- Doc2Vec은 문서 간의 유사성을 파악하는 데 사용됩니다.\n",
    "- Word2Vec은 단어 간의 벡터 유사성을 계산하고, 단어 임베딩을 사용하여 자연어 처리 작업에 도움을 줍니다. \n",
    "- Doc2Vec은 문서 간의 유사성을 계산하고, 문서 임베딩을 사용하여 문서 분류, 검색 및 추천과 같은 작업에 활용됩니다."
   ]
  },
  {
   "cell_type": "markdown",
   "metadata": {
    "id": "4rz_EMVtaTGr"
   },
   "source": [
    "관련 라이브러리를 가져오는 것으로 시작하겠습니다."
   ]
  },
  {
   "cell_type": "code",
   "execution_count": 9,
   "metadata": {
    "colab": {
     "base_uri": "https://localhost:8080/"
    },
    "executionInfo": {
     "elapsed": 10602,
     "status": "ok",
     "timestamp": 1625199335390,
     "user": {
      "displayName": "Albert Anthony",
      "photoUrl": "",
      "userId": "06779463251817115427"
     },
     "user_tz": -420
    },
    "id": "ItqcrhJpa8nd",
    "outputId": "2348a912-2fd5-4eda-fbf7-02dd45e96220"
   },
   "outputs": [
    {
     "data": {
      "text/plain": [
       "0"
      ]
     },
     "execution_count": 9,
     "metadata": {},
     "output_type": "execute_result"
    }
   ],
   "source": [
    "# subprocess와 sys 모듈을 사용하여 gensim 버전 3.8.1을 설치하는 부분입니다.\n",
    "import subprocess\n",
    "import sys\n",
    "subprocess.check_call([sys.executable, \"-m\", \"pip\", \"install\", \"gensim == 3.8.1\"])"
   ]
  },
  {
   "cell_type": "code",
   "execution_count": null,
   "metadata": {},
   "outputs": [],
   "source": [
    "# # 추가로 gensim upgrade 실행하기\n",
    "# !pip install --upgrade gensim"
   ]
  },
  {
   "cell_type": "code",
   "execution_count": 10,
   "metadata": {
    "executionInfo": {
     "elapsed": 387,
     "status": "ok",
     "timestamp": 1625201893472,
     "user": {
      "displayName": "Albert Anthony",
      "photoUrl": "",
      "userId": "06779463251817115427"
     },
     "user_tz": -420
    },
    "id": "u0uEPI3haTGs"
   },
   "outputs": [],
   "source": [
    "# gensim의 Doc2Vec와 TaggedDocument 클래스를 가져오고,\n",
    "# nltk.tokenize에서 word_tokenize 함수를 가져옵니다.\n",
    "from gensim.models.doc2vec import Doc2Vec, TaggedDocument\n",
    "from nltk.tokenize import word_tokenize"
   ]
  },
  {
   "cell_type": "markdown",
   "metadata": {
    "id": "jCN-DoefaTGs"
   },
   "source": [
    "첫 번째 주요 목표는 데이터에 태그를 지정하는 것입니다. doc2vec 모델은 데이터를 효과적으로 사용하기 위해 태그를 지정해야 합니다. 다음은 doc2vec에 대한 [시작 코드](https://www.kaggle.com/fmitchell259/creating-a-doc2vec-model) 좋은 학습 링크입니다. 다음 [링크](https://medium.com/wisio/a-gentle-introduction-to-doc2vec-db3e8c0cce5e) 도 유용하게 사용할 수 있으며 읽을 것을 권장합니다."
   ]
  },
  {
   "cell_type": "code",
   "execution_count": 11,
   "metadata": {
    "executionInfo": {
     "elapsed": 1,
     "status": "ok",
     "timestamp": 1625201893805,
     "user": {
      "displayName": "Albert Anthony",
      "photoUrl": "",
      "userId": "06779463251817115427"
     },
     "user_tz": -420
    },
    "id": "kXe558qcaTGs"
   },
   "outputs": [],
   "source": [
    "# 문장들을 소문자로 변환하고 단어로 토큰화하여 TaggedDocument 형식으로 변환한 후, tagged_data 리스트에 저장합니다.\n",
    "tagged_data = [TaggedDocument(words=word_tokenize(_d.lower()), tags=[str(i)]) for i, _d in enumerate(sent_tokens_ques)]"
   ]
  },
  {
   "cell_type": "code",
   "execution_count": 12,
   "metadata": {
    "executionInfo": {
     "elapsed": 301,
     "status": "ok",
     "timestamp": 1625201895886,
     "user": {
      "displayName": "Albert Anthony",
      "photoUrl": "",
      "userId": "06779463251817115427"
     },
     "user_tz": -420
    },
    "id": "dfTTPFpQaTGs"
   },
   "outputs": [],
   "source": [
    "# 최대 에포크 수를 100으로 설정합니다.\n",
    "# 벡터의 크기를 20으로 설정합니다.\n",
    "# 학습률을 0.025로 설정합니다.\n",
    "max_epochs = 100\n",
    "vec_size = 20 # 벡터가 더 크려면 이것을 증가시키세요. 이것은 더 많은 차이를 의미합니다. \n",
    "alpha = 0.025"
   ]
  },
  {
   "cell_type": "markdown",
   "metadata": {
    "id": "dfhX6BQeaTGs"
   },
   "source": [
    "다음 단계는 모델을 훈련시키는 것입니다. 이전처럼 훈련 과정을 실행하기 위해 `model.train` 함수를 사용하게 될 것입니다. Doc2vec 모델을 훈련하는 방법에 대한 자세한 정보는 [문서](https://radimrehurek.com/gensim/models/doc2vec.html) 를 참조하십시오."
   ]
  },
  {
   "cell_type": "code",
   "execution_count": 13,
   "metadata": {
    "colab": {
     "base_uri": "https://localhost:8080/"
    },
    "executionInfo": {
     "elapsed": 45968,
     "status": "ok",
     "timestamp": 1625201943421,
     "user": {
      "displayName": "Albert Anthony",
      "photoUrl": "",
      "userId": "06779463251817115427"
     },
     "user_tz": -420
    },
    "id": "h7ScV7f0aTGs",
    "outputId": "e226e5a2-e46b-4908-85e3-98defa6964a2"
   },
   "outputs": [
    {
     "name": "stderr",
     "output_type": "stream",
     "text": [
      "C:\\Users\\isfs0\\anaconda3\\lib\\site-packages\\gensim\\models\\doc2vec.py:574: UserWarning: The parameter `size` is deprecated, will be removed in 4.0.0, use `vector_size` instead.\n",
      "  warnings.warn(\"The parameter `size` is deprecated, will be removed in 4.0.0, use `vector_size` instead.\")\n"
     ]
    },
    {
     "name": "stdout",
     "output_type": "stream",
     "text": [
      "iteration 0\n",
      "iteration 1\n",
      "iteration 2\n",
      "iteration 3\n",
      "iteration 4\n",
      "iteration 5\n",
      "iteration 6\n",
      "iteration 7\n",
      "iteration 8\n",
      "iteration 9\n",
      "iteration 10\n",
      "iteration 11\n",
      "iteration 12\n",
      "iteration 13\n",
      "iteration 14\n",
      "iteration 15\n",
      "iteration 16\n",
      "iteration 17\n",
      "iteration 18\n",
      "iteration 19\n",
      "iteration 20\n",
      "iteration 21\n",
      "iteration 22\n",
      "iteration 23\n",
      "iteration 24\n",
      "iteration 25\n",
      "iteration 26\n",
      "iteration 27\n",
      "iteration 28\n",
      "iteration 29\n",
      "iteration 30\n",
      "iteration 31\n",
      "iteration 32\n",
      "iteration 33\n",
      "iteration 34\n",
      "iteration 35\n",
      "iteration 36\n",
      "iteration 37\n",
      "iteration 38\n",
      "iteration 39\n",
      "iteration 40\n",
      "iteration 41\n",
      "iteration 42\n",
      "iteration 43\n",
      "iteration 44\n",
      "iteration 45\n",
      "iteration 46\n",
      "iteration 47\n",
      "iteration 48\n",
      "iteration 49\n",
      "iteration 50\n",
      "iteration 51\n",
      "iteration 52\n",
      "iteration 53\n",
      "iteration 54\n",
      "iteration 55\n",
      "iteration 56\n",
      "iteration 57\n",
      "iteration 58\n",
      "iteration 59\n",
      "iteration 60\n",
      "iteration 61\n",
      "iteration 62\n",
      "iteration 63\n",
      "iteration 64\n",
      "iteration 65\n",
      "iteration 66\n",
      "iteration 67\n",
      "iteration 68\n",
      "iteration 69\n",
      "iteration 70\n",
      "iteration 71\n",
      "iteration 72\n",
      "iteration 73\n",
      "iteration 74\n",
      "iteration 75\n",
      "iteration 76\n",
      "iteration 77\n",
      "iteration 78\n",
      "iteration 79\n",
      "iteration 80\n",
      "iteration 81\n",
      "iteration 82\n",
      "iteration 83\n",
      "iteration 84\n",
      "iteration 85\n",
      "iteration 86\n",
      "iteration 87\n",
      "iteration 88\n",
      "iteration 89\n",
      "iteration 90\n",
      "iteration 91\n",
      "iteration 92\n",
      "iteration 93\n",
      "iteration 94\n",
      "iteration 95\n",
      "iteration 96\n",
      "iteration 97\n",
      "iteration 98\n",
      "iteration 99\n",
      "Model Saved\n"
     ]
    }
   ],
   "source": [
    "# Doc2Vec 모델을 생성하고, 필요한 매개변수를 설정합니다.\n",
    "model = Doc2Vec(size =vec_size,\n",
    "                alpha=alpha, \n",
    "                min_alpha=0.00025,\n",
    "                min_count=1,\n",
    "                dm =1)\n",
    "\n",
    "# model에 대한 단어 사전을 tagged_data를 사용하여 빌드합니다.\n",
    "model.build_vocab(tagged_data)\n",
    "\n",
    "# 주어진 최대 에포크 수에 대해 모델을 학습시킵니다.\n",
    "for epoch in range(max_epochs):\n",
    "    # 매 에포크마다 학습 상태를 출력합니다.\n",
    "    print('iteration {0}'.format(epoch))\n",
    "    # tagged_data를 사용하여 모델을 학습시킵니다.\n",
    "    model.train(tagged_data, # 여기에 사용할 태그가 지정된 데이터\n",
    "                total_examples=model.corpus_count,\n",
    "                epochs=100)\n",
    "    # 학습 비율을 줄입니다\n",
    "    model.alpha -= 0.0002\n",
    "    # 학습 비율을 고정합니다.\n",
    "    model.min_alpha = model.alpha\n",
    "\n",
    "# 학습된 모델을 \"d2v.model\"이라는 파일로 저장합니다. \n",
    "model.save(\"d2v.model\")\n",
    "print(\"Model Saved\")\n"
   ]
  },
  {
   "cell_type": "markdown",
   "metadata": {
    "id": "8THTIyMhaTGs"
   },
   "source": [
    "### doc2vec 모델 평가"
   ]
  },
  {
   "cell_type": "code",
   "execution_count": 14,
   "metadata": {
    "executionInfo": {
     "elapsed": 15,
     "status": "ok",
     "timestamp": 1625201943421,
     "user": {
      "displayName": "Albert Anthony",
      "photoUrl": "",
      "userId": "06779463251817115427"
     },
     "user_tz": -420
    },
    "id": "rc2d1J9-aTGs"
   },
   "outputs": [],
   "source": [
    "# 저장된 모델을 로드합니다.\n",
    "from gensim.models.doc2vec import Doc2Vec\n",
    "model = Doc2Vec.load(\"d2v.model\")\n",
    "model.save(\"doc2vec.bin\")"
   ]
  },
  {
   "cell_type": "code",
   "execution_count": 15,
   "metadata": {
    "executionInfo": {
     "elapsed": 15,
     "status": "ok",
     "timestamp": 1625201943422,
     "user": {
      "displayName": "Albert Anthony",
      "photoUrl": "",
      "userId": "06779463251817115427"
     },
     "user_tz": -420
    },
    "id": "iH3JR16OaTGs"
   },
   "outputs": [],
   "source": [
    "# 테스트 데이터를 소문자로 변환하고 단어로 토큰화합니다.\n",
    "test_data = word_tokenize(\"How much is the price?\".lower())"
   ]
  },
  {
   "cell_type": "markdown",
   "metadata": {
    "id": "ImHFLBeFaTGs"
   },
   "source": [
    "`model.infer_vector` 함수를 사용하여 문서와 관련된 벡터를 추론할 수 있습니다. 그런 다음`most_similar` 함수를 사용하여 우리가 만든 벡터와 가장 유사한 벡터를 찾을 수 있습니다. 결과는 어떻습니까?"
   ]
  },
  {
   "cell_type": "code",
   "execution_count": 16,
   "metadata": {
    "colab": {
     "base_uri": "https://localhost:8080/"
    },
    "executionInfo": {
     "elapsed": 15,
     "status": "ok",
     "timestamp": 1625201943422,
     "user": {
      "displayName": "Albert Anthony",
      "photoUrl": "",
      "userId": "06779463251817115427"
     },
     "user_tz": -420
    },
    "id": "tHtGjgCtaTGt",
    "outputId": "c21a88e8-fdab-4470-dd7a-8ffc7ec69d04"
   },
   "outputs": [
    {
     "name": "stdout",
     "output_type": "stream",
     "text": [
      "V1_infer [-0.04957128 -0.13181715  0.25946414  0.17077254 -0.14809093 -0.5838289\n",
      " -0.24057963 -0.14175332 -0.11590726 -0.1257511   0.5446048   0.3297008\n",
      "  0.29079053 -0.10135418 -0.1728732  -0.3044911  -0.46978793 -0.11950009\n",
      " -0.17114438 -0.49083513]\n"
     ]
    }
   ],
   "source": [
    "# 모델을 사용하여 문장의 벡터를 추론하고, v1에 저장한 후 출력합니다.\n",
    "v1 = model.infer_vector(test_data)\n",
    "print(\"V1_infer\", v1)"
   ]
  },
  {
   "cell_type": "code",
   "execution_count": 17,
   "metadata": {
    "colab": {
     "base_uri": "https://localhost:8080/"
    },
    "executionInfo": {
     "elapsed": 14,
     "status": "ok",
     "timestamp": 1625201943423,
     "user": {
      "displayName": "Albert Anthony",
      "photoUrl": "",
      "userId": "06779463251817115427"
     },
     "user_tz": -420
    },
    "id": "6jcvVT6maTGt",
    "outputId": "8497571d-346f-42ae-f2d8-05c4f8b21cf7"
   },
   "outputs": [
    {
     "name": "stdout",
     "output_type": "stream",
     "text": [
      "[('30', 0.6969374418258667), ('10', 0.6017425060272217), ('0', 0.5950414538383484), ('31', 0.5860259532928467)]\n"
     ]
    }
   ],
   "source": [
    "# v1과 가장 유사한 문서 4개를 찾아 출력합니다.\n",
    "similar_doc = model.docvecs.most_similar(positive = [v1], topn = 4) #positive is an attribute that shows positive correlation first followed by the correlation value\n",
    "print(similar_doc)"
   ]
  },
  {
   "cell_type": "code",
   "execution_count": 18,
   "metadata": {
    "colab": {
     "base_uri": "https://localhost:8080/"
    },
    "executionInfo": {
     "elapsed": 12,
     "status": "ok",
     "timestamp": 1625201943423,
     "user": {
      "displayName": "Albert Anthony",
      "photoUrl": "",
      "userId": "06779463251817115427"
     },
     "user_tz": -420
    },
    "id": "K5RVlbzkaTGt",
    "outputId": "3003c008-66f6-46d5-e1e8-3d1f1d283c92"
   },
   "outputs": [
    {
     "data": {
      "text/plain": [
       "TaggedDocument(words=['are', 'the', 'rates', 'per', 'person', 'or', 'per', 'room', '?'], tags=['30'])"
      ]
     },
     "execution_count": 18,
     "metadata": {},
     "output_type": "execute_result"
    }
   ],
   "source": [
    "# 가장 유사한 문서의 인덱스를 얻고, 해당 인덱스에 해당하는 문서를 출력합니다.\n",
    "num,_ = similar_doc[0]\n",
    "num = int(num)\n",
    "tagged_data[num]"
   ]
  },
  {
   "cell_type": "markdown",
   "metadata": {
    "id": "6nyV8stPaTGu"
   },
   "source": [
    "이전 코드 블록의 출력에서 이 모델이 생각했던 것 만큼 효과적이지 않다는 것이 분명합니다. 이 모델이 성공하기를 기대했지만 실패한 이유가 있습니까?"
   ]
  },
  {
   "cell_type": "markdown",
   "metadata": {
    "id": "IF3_3KTWaTGu"
   },
   "source": [
    "자세한 내용을 보려면 이 [링크](https://stackoverflow.com/questions/58206571/doc2vec-find-the-similar-sentence) 를 클릭하십시오. 이 문제의 요지는 다음과 같습니다.\n",
    "\n",
    "> Doc2Vec는 장난감 크기(toy-size)의 데이터셋에서 좋은 결과를 얻을 수 없으므로, 더 많은 데이터를 사용하기 전까지는 의미 있는 결과를 기대해서는 안 됩니다."
   ]
  },
  {
   "cell_type": "markdown",
   "metadata": {
    "id": "JkxnczmCaTGu"
   },
   "source": [
    "### 사전 학습된 doc2vec 사용\n",
    "\n",
    "따라서 인터넷에서 다운로드한 사전 검증된 모델을 사용하여 사용 사례를 최적화해 보겠습니다. The 우리가 취득 한 모델은 관련 언론 뉴스에 대한 훈련을 받았으며  [여기](https://github.com/jhlau/doc2vec) 서 다운로드 할 수 있습니다.\n",
    "\n",
    "모델을 로드하고 다시 평가해 보겠습니다."
   ]
  },
  {
   "cell_type": "code",
   "execution_count": null,
   "metadata": {
    "executionInfo": {
     "elapsed": 15060,
     "status": "ok",
     "timestamp": 1625202451516,
     "user": {
      "displayName": "Albert Anthony",
      "photoUrl": "",
      "userId": "06779463251817115427"
     },
     "user_tz": -420
    },
    "id": "OwYkOiukaTGu"
   },
   "outputs": [],
   "source": [
    "# 현재 작업 디렉토리에서 \"doc2vec.bin\" 파일을 로드합니다.\n",
    "model= Doc2Vec.load(os.getcwd()+r\"//doc2vec.bin\")"
   ]
  },
  {
   "cell_type": "code",
   "execution_count": null,
   "metadata": {
    "executionInfo": {
     "elapsed": 18,
     "status": "ok",
     "timestamp": 1625202451519,
     "user": {
      "displayName": "Albert Anthony",
      "photoUrl": "",
      "userId": "06779463251817115427"
     },
     "user_tz": -420
    },
    "id": "x3oHXA5zaTGu"
   },
   "outputs": [],
   "source": [
    "# 테스트 데이터를 소문자로 변환하고 단어로 토큰화합니다.\n",
    "test_data = word_tokenize(\"How much is the price?\".lower())"
   ]
  },
  {
   "cell_type": "code",
   "execution_count": null,
   "metadata": {
    "colab": {
     "base_uri": "https://localhost:8080/"
    },
    "executionInfo": {
     "elapsed": 18,
     "status": "ok",
     "timestamp": 1625202451520,
     "user": {
      "displayName": "Albert Anthony",
      "photoUrl": "",
      "userId": "06779463251817115427"
     },
     "user_tz": -420
    },
    "id": "hkRhAtmEaTGu",
    "outputId": "7b5ccc32-2dab-470d-9ef6-ba2d7cd9820a"
   },
   "outputs": [],
   "source": [
    "# 모델을 사용하여 문장의 벡터를 추론하고, v1에 저장한 후 출력합니다.\n",
    "v1 = model.infer_vector(test_data)\n",
    "print(\"V1_infer\", v1)"
   ]
  },
  {
   "cell_type": "code",
   "execution_count": null,
   "metadata": {
    "colab": {
     "base_uri": "https://localhost:8080/"
    },
    "executionInfo": {
     "elapsed": 17,
     "status": "ok",
     "timestamp": 1625202451520,
     "user": {
      "displayName": "Albert Anthony",
      "photoUrl": "",
      "userId": "06779463251817115427"
     },
     "user_tz": -420
    },
    "id": "wen70awiaTGu",
    "outputId": "1c791631-02ea-4f0f-cee0-08f627ab0cb3"
   },
   "outputs": [],
   "source": [
    "# sent_tokens에 있는 모든 문장에 대해 벡터를 추론하고, 각 문장과 v1 사이의 코사인 유사도를 출력합니다.\n",
    "for i in sent_tokens_ques:\n",
    "    v2 = model.infer_vector(word_tokenize(i.lower()))\n",
    "    print(i)\n",
    "    print(cosine_similarity(v1.reshape(1, -1),v2.reshape(1, -1)))"
   ]
  },
  {
   "cell_type": "code",
   "execution_count": null,
   "metadata": {
    "executionInfo": {
     "elapsed": 14,
     "status": "ok",
     "timestamp": 1625202451520,
     "user": {
      "displayName": "Albert Anthony",
      "photoUrl": "",
      "userId": "06779463251817115427"
     },
     "user_tz": -420
    },
    "id": "cGEBbf8eaTGu"
   },
   "outputs": [],
   "source": [
    "# 주어진 질문에 대한 답변을 계산하는 함수 calc_prob를 정의합니다.\n",
    "\n",
    "def calc_prob(v1, q):\n",
    "    probs = dict()\n",
    "    for i in q:\n",
    "        # 각 질문에 대해 벡터를 추론하고, v1과의 코사인 유사도를 계산합니다.\n",
    "        v2 = model.infer_vector(word_tokenize(i.lower()))\n",
    "        sim = cosine_similarity(v1.reshape(1, -1),v2.reshape(1, -1))\n",
    "        #print(i)\n",
    "        #print(sim)\n",
    "        probs[i] = sim[0][0]\n",
    "    \n",
    "    sorted_d = dict( sorted(probs.items(), key=operator.itemgetter(1),reverse=True))\n",
    "    \n",
    "    # 유사도가 가장 높은 답변을 반환합니다.\n",
    "    return list(sorted_d.items())[0]"
   ]
  },
  {
   "cell_type": "code",
   "execution_count": null,
   "metadata": {
    "colab": {
     "base_uri": "https://localhost:8080/"
    },
    "executionInfo": {
     "elapsed": 13,
     "status": "ok",
     "timestamp": 1625202451520,
     "user": {
      "displayName": "Albert Anthony",
      "photoUrl": "",
      "userId": "06779463251817115427"
     },
     "user_tz": -420
    },
    "id": "NFb4-p0faTGu",
    "outputId": "0cd58c0a-2388-412a-c85c-a0b58d65ba1f"
   },
   "outputs": [],
   "source": [
    "calc_prob(v1, sent_tokens_ques)"
   ]
  },
  {
   "cell_type": "markdown",
   "metadata": {
    "id": "ISG0dPL8aTGv"
   },
   "source": [
    "이 모델이 더 효과적인 것처럼 보이기 때문에, 우리의 챗봇에 통합해 봅시다."
   ]
  },
  {
   "cell_type": "code",
   "execution_count": null,
   "metadata": {
    "colab": {
     "base_uri": "https://localhost:8080/",
     "height": 565
    },
    "executionInfo": {
     "elapsed": 12433,
     "status": "error",
     "timestamp": 1625202463943,
     "user": {
      "displayName": "Albert Anthony",
      "photoUrl": "",
      "userId": "06779463251817115427"
     },
     "user_tz": -420
    },
    "id": "S8JaMj8TaTGv",
    "outputId": "32ea27c9-eb69-4808-b6bc-fc6c6bbef947"
   },
   "outputs": [],
   "source": [
    "# 사용자와 대화하는 부분입니다.\n",
    "\n",
    "flag=True\n",
    "print(\"Jane: My name is Jane. I will answer your queries about this hotel. If you want to exit, type Bye!\")\n",
    "\n",
    "while(flag==True):\n",
    "    # 사용자의 입력을 받고, 소문자로 변환합니다.\n",
    "    user_response = input()\n",
    "    user_response=user_response.lower()\n",
    "    # 사용자가 'bye'를 입력하기 전까지 다음 동작을 반복합니다:\n",
    "    if(user_response!='bye'):\n",
    "        # 사용자가 'thanks' 또는 'thank you'를 입력하면 대화를 종료하고 \"You are welcome..\"을 출력합니다.\n",
    "        if(user_response=='thanks' or user_response=='thank you' ):\n",
    "            flag=False\n",
    "            print(\"Jane: You are welcome..\")\n",
    "        else:\n",
    "            # 사용자의 인사말에 대한 응답이 있는 경우 해당 응답을 출력합니다.\n",
    "            if(greeting(user_response)!=None):\n",
    "                print(\"Jane: \"+greeting(user_response))\n",
    "\n",
    "            # 그렇지 않은 경우, 주어진 질문에 대한 답변을 계산하고 출력합니다.\n",
    "            else:\n",
    "                print(\"Jane: \",end=\"\")\n",
    "                resp= calc_prob(model.infer_vector(word_tokenize(user_response)), sent_tokens_ques)\n",
    "                print(ques_and_pairs[resp[0]], )\n",
    "                print(' (With similarity of ',resp[1],')')\n",
    "\n",
    "    else:\n",
    "        flag=False\n",
    "        print(\"Jane: Bye! take care..\")"
   ]
  },
  {
   "cell_type": "markdown",
   "metadata": {
    "id": "g55PaQhWputU"
   },
   "source": [
    "**두 모델의 성능** 을 관찰한 후 다음과 같은 몇 가지 명확한 결론을 내릴 수 있습니다:\n",
    "\n",
    "1. Doc2vec 모델은 단어 간의 관계를 이해하기 위해 더 많은 데이터가 필요합니다. 그리고 사전 훈련된 모델을 사용한 후에도 코사인 유사성 모델에 비해 모델의 응답의 품질이 아직 부족합니다.\n",
    "2. 코사인 유사성 모델은 더 작고 잘 정의된 데이터 세트에서 더 잘 작동합니다. 이는 몇 가지 간단한 질문을 효과적으로 해결할 수 있지만 컨텍스트를 필요로 하는 복잡한 질문은 해결할 수 없다는 의미입니다."
   ]
  }
 ],
 "metadata": {
  "colab": {
   "collapsed_sections": [],
   "name": "Notebook_Module_27_Hotel_Chatbot.ipynb",
   "provenance": []
  },
  "kernelspec": {
   "display_name": "Python 3 (ipykernel)",
   "language": "python",
   "name": "python3"
  },
  "language_info": {
   "codemirror_mode": {
    "name": "ipython",
    "version": 3
   },
   "file_extension": ".py",
   "mimetype": "text/x-python",
   "name": "python",
   "nbconvert_exporter": "python",
   "pygments_lexer": "ipython3",
   "version": "3.8.8"
  }
 },
 "nbformat": 4,
 "nbformat_minor": 4
}
