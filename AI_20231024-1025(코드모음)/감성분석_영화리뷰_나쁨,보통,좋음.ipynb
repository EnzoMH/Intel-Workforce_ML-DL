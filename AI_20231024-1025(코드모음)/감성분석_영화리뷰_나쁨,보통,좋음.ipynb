{
 "cells": [
  {
   "cell_type": "code",
   "execution_count": 19,
   "id": "2dbbd2ef",
   "metadata": {},
   "outputs": [],
   "source": [
    "import numpy as np\n",
    "import tensorflow as tf\n",
    "import pandas as pd\n",
    "from sklearn.model_selection import train_test_split\n",
    "from sklearn.preprocessing import LabelEncoder\n",
    "from sklearn.metrics import accuracy_score, classification_report\n",
    "from sklearn.linear_model import LogisticRegression\n",
    "from sklearn.feature_extraction.text import TfidfVectorizer"
   ]
  },
  {
   "cell_type": "code",
   "execution_count": 20,
   "id": "15fedebb",
   "metadata": {},
   "outputs": [],
   "source": [
    "# Naver Sentiment Movie Corpus v1.0 다운로드하기\n",
    "path_to_train_file = tf.keras.utils.get_file('train.txt', 'https://raw.githubusercontent.com/e9t/nsmc/master/ratings_train.txt')\n",
    "path_to_test_file = tf.keras.utils.get_file('test.txt', 'https://raw.githubusercontent.com/e9t/nsmc/master/ratings_test.txt')\n",
    "\n",
    "df_train = pd.read_csv(path_to_train_file, sep='\\t')\n"
   ]
  },
  {
   "cell_type": "code",
   "execution_count": 21,
   "id": "1a3270e5",
   "metadata": {},
   "outputs": [
    {
     "data": {
      "text/plain": [
       "0                                       아 더빙.. 진짜 짜증나네요 목소리\n",
       "1                         흠...포스터보고 초딩영화줄....오버연기조차 가볍지 않구나\n",
       "2                                         너무재밓었다그래서보는것을추천한다\n",
       "3                             교도소 이야기구먼 ..솔직히 재미는 없다..평점 조정\n",
       "4         사이몬페그의 익살스런 연기가 돋보였던 영화!스파이더맨에서 늙어보이기만 했던 커스틴 ...\n",
       "                                ...                        \n",
       "149995                                  인간이 문제지.. 소는 뭔죄인가..\n",
       "149996                                        평점이 너무 낮아서...\n",
       "149997                      이게 뭐요? 한국인은 거들먹거리고 필리핀 혼혈은 착하다?\n",
       "149998                          청춘 영화의 최고봉.방황과 우울했던 날들의 자화상\n",
       "149999                             한국 영화 최초로 수간하는 내용이 담긴 영화\n",
       "Name: document, Length: 150000, dtype: object"
      ]
     },
     "execution_count": 21,
     "metadata": {},
     "output_type": "execute_result"
    }
   ],
   "source": [
    "df_train['label'] = df_train['label'].replace({0: 0, 1: 0, 2: 1, 3: 2, 4: 2})\n",
    "\n",
    "# 데이터 전처리\n",
    "X = df_train['document']\n",
    "y = df_train['label']"
   ]
  },
  {
   "cell_type": "code",
   "execution_count": 29,
   "id": "036c640f",
   "metadata": {},
   "outputs": [
    {
     "data": {
      "text/plain": [
       "0         0\n",
       "1         0\n",
       "2         0\n",
       "3         0\n",
       "4         0\n",
       "         ..\n",
       "149995    0\n",
       "149996    0\n",
       "149997    0\n",
       "149998    0\n",
       "149999    0\n",
       "Name: label, Length: 150000, dtype: int64"
      ]
     },
     "execution_count": 29,
     "metadata": {},
     "output_type": "execute_result"
    }
   ],
   "source": [
    "y"
   ]
  },
  {
   "cell_type": "code",
   "execution_count": 24,
   "id": "cf1d198f",
   "metadata": {},
   "outputs": [
    {
     "name": "stdout",
     "output_type": "stream",
     "text": [
      "결측값: 0\n"
     ]
    }
   ],
   "source": [
    "# Check for missing values in the 'document' column\n",
    "missing_values = df_train['document'].isnull().sum()\n",
    "print(f\"결측값: {missing_values}\")\n",
    "\n",
    "# Drop rows with missing values\n",
    "df_train = df_train.dropna(subset=['document'])"
   ]
  },
  {
   "cell_type": "code",
   "execution_count": 31,
   "id": "8216dabd",
   "metadata": {},
   "outputs": [],
   "source": [
    "df_train.reset_index(drop=True, inplace=True)"
   ]
  },
  {
   "cell_type": "code",
   "execution_count": 33,
   "id": "3fbcb8d6",
   "metadata": {},
   "outputs": [
    {
     "name": "stdout",
     "output_type": "stream",
     "text": [
      "150000\n"
     ]
    }
   ],
   "source": [
    "train_test_X = [row.split('\\t')[1] for row in train_text.split('\\n')[1:] if row.count('\\t') > 0 ]\n",
    "print(len(train_test_X))"
   ]
  },
  {
   "cell_type": "code",
   "execution_count": 34,
   "id": "aa8a6d74",
   "metadata": {},
   "outputs": [],
   "source": [
    "train_Y = [row.split('\\t')[2] for row in train_text.split('\\n')[1:] if row.count('\\t') > 0 ]\n",
    "test_Y = [row.split('\\t')[2] for row in test_text.split('\\n')[1:] if row.count('\\t') > 0 ]\n",
    "train_test_X = [row.split('\\t')[1] for row in train_text.split('\\n')[1:] if row.count('\\t') > 0 ]"
   ]
  },
  {
   "cell_type": "code",
   "execution_count": 3,
   "id": "b715d5e6",
   "metadata": {},
   "outputs": [
    {
     "name": "stdout",
     "output_type": "stream",
     "text": [
      "train text length: 6937271  characters\n",
      "test  text length: 2318260  characters\n",
      "\n",
      "\n",
      "id\tdo\n",
      "id\tdocument\tlabel\n",
      "9976970\t아 더빙.. 진짜 짜증나네요 목소리\t0\n",
      "3819312\t흠...포스터보고 초딩영화줄....오버연기조차 가볍지 않구나\t1\n",
      "10265843\t너무재밓었다그래서보는것을추천한다\t0\n",
      "9045019\t교도소 이야기구먼 ..솔직히 재미는 없다..평점 조정\t0\n",
      "6483659\t사이몬페그의 익살스런 연기가 돋보였던 영화!스파이더맨에서 늙어보이기만 했던 커스틴 던스트가 너무나도 이뻐보였다\t1\n",
      "5403919\t막 걸음마 뗀 3세부터 초등학교 1학년생인 8살용영화.ㅋㅋㅋ...별반개도 아까움.\t0\n",
      "7797314\t원작의\n"
     ]
    }
   ],
   "source": [
    "# 데이터 읽어 저장하기 : encoding 형식으로 utf-8 을 지정해야합니다.\n",
    "# 1. path_to_train_file / path_to_test_file 을 open() 해서 read()한후 decode(encoding='utf-8') 한 후\n",
    "# train_text / test_text 에 저장합니다. \n",
    "with open(path_to_train_file, 'r', encoding='utf-8') as train_file:\n",
    "    train_text = train_file.read()\n",
    "\n",
    "with open(path_to_test_file, 'r', encoding='utf-8') as test_file:\n",
    "    test_text = test_file.read()\n",
    "# train_text = ... # ... your code\n",
    "# test_text = ...  # ... your code\n",
    "print('train text length:',len(train_text),' characters')\n",
    "print('test  text length:',len(test_text),' characters')\n",
    "print('\\n')\n",
    "print(train_text[:5])\n",
    "print(train_text[:300])"
   ]
  },
  {
   "cell_type": "code",
   "execution_count": null,
   "id": "2cbd9cd3",
   "metadata": {},
   "outputs": [],
   "source": []
  }
 ],
 "metadata": {
  "kernelspec": {
   "display_name": "Python 3 (ipykernel)",
   "language": "python",
   "name": "python3"
  },
  "language_info": {
   "codemirror_mode": {
    "name": "ipython",
    "version": 3
   },
   "file_extension": ".py",
   "mimetype": "text/x-python",
   "name": "python",
   "nbconvert_exporter": "python",
   "pygments_lexer": "ipython3",
   "version": "3.8.8"
  }
 },
 "nbformat": 4,
 "nbformat_minor": 5
}
