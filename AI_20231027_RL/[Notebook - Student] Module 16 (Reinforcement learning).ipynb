{
 "cells": [
  {
   "cell_type": "markdown",
   "metadata": {
    "id": "3839FCCET04g"
   },
   "source": [
    "# Q-learning 통한 강화학습\n",
    "\n",
    "강화학습은 지도나 비지도학습과는 다른 형태의 학습 데이터를 사용해야 하는 기계학습의 한 종류입니다. 강화학습은 환경을 통해 학습해야 하는 상황에서 명시적으로 사용됩니다. 여러분은 개가 어떻게 재주를 배우는지 생각해 본 적이 있나요? 어떤 방법으로 개를 훈련시킬 수 있는지 생각해 봅시다. \n",
    "\n",
    "개는 우리의 언어를 이해하지 못하기 때문에 특정 재주를 부리는 방법을 가르쳐야 합니다. 우리는 개에게 무엇을 하라고 말할 수 없기 때문에 다른 전략을 세워야 합니다. 우리는 개에게 명령이나 신호를 보낼 수 있습니다. 예를 들어 개를 앉히고 싶다면, 바닥을 가리키며 '앉아!'라고 말합니다. 이 시점에서 개는 우리의 명령에 반응할 것입니다. 반응 유형에 따라 반려견에게 보상을 제공합니다. 개가 아무것도 하지 않거나, 움직이면 보상을 하지 않습니다. 개가 앉는 경우에만 우리는 그것에 대한 보상을 합니다. 개는 긍정적인 경험을 통해 무엇을 해야 하는지 배우고 있습니다. \n",
    "\n",
    "이제 몇 가지 주요 용어를 살펴보겠습니다.\n",
    "\n",
    "1. 여기서 에이전트(Agent)는 개입니다.\n",
    "2. 행동의 결과를 우리가 제공하기 때문에 환경(environment)은 우리 자신입니다.\n",
    "3. 한 상태에서 다른 상태로 움직이는 것은 개의 행동(action) 입니다.\n",
    "4. 상태(state)는 개의 움직임 입니다. 예: 앉기, 서기, 걷기\n",
    "5. 보상(reward)은 개가 알고 있는 받은 간식의 수 입니다. \n",
    "\n",
    "이제 강화 학습의 예를 살펴보겠습니다. 다음은 한 위치에서 승객을 태우고 다른 위치에서 내려야 하는 게임입니다. 어떻게 해야 할까요? 몇 가지 라이브러리 가져오기를 먼저 시작하겠습니다."
   ]
  },
  {
   "cell_type": "markdown",
   "metadata": {
    "id": "Y6JJ9bQrT04o"
   },
   "source": [
    "\n",
    "## 1. 라이브러리 가져오기"
   ]
  },
  {
   "cell_type": "markdown",
   "metadata": {},
   "source": [
    "라이브러리가 설치되어 있지 않은 경우 터미널에서 다음 단계를 수행하십시오. <br>"
   ]
  },
  {
   "cell_type": "code",
   "execution_count": 2,
   "metadata": {},
   "outputs": [
    {
     "name": "stdout",
     "output_type": "stream",
     "text": [
      "Collecting gym"
     ]
    },
    {
     "name": "stderr",
     "output_type": "stream",
     "text": [
      "WARNING: Ignoring invalid distribution -rotobuf (c:\\users\\isfs0\\appdata\\roaming\\python\\python38\\site-packages)\n",
      "WARNING: Ignoring invalid distribution -rotobuf (c:\\users\\isfs0\\appdata\\roaming\\python\\python38\\site-packages)\n",
      "WARNING: Ignoring invalid distribution -ordcloud (c:\\users\\isfs0\\anaconda3\\lib\\site-packages)\n",
      "WARNING: Ignoring invalid distribution -rotobuf (c:\\users\\isfs0\\appdata\\roaming\\python\\python38\\site-packages)\n",
      "WARNING: Ignoring invalid distribution -ordcloud (c:\\users\\isfs0\\anaconda3\\lib\\site-packages)\n",
      "DEPRECATION: pyodbc 4.0.0-unsupported has a non-standard version number. pip 23.3 will enforce this behaviour change. A possible replacement is to upgrade to a newer version of pyodbc or contact the author to suggest that they release a version with a conforming version number. Discussion can be found at https://github.com/pypa/pip/issues/12063\n",
      "WARNING: Ignoring invalid distribution -rotobuf (c:\\users\\isfs0\\appdata\\roaming\\python\\python38\\site-packages)\n",
      "WARNING: Ignoring invalid distribution -rotobuf (c:\\users\\isfs0\\appdata\\roaming\\python\\python38\\site-packages)\n",
      "WARNING: Ignoring invalid distribution -rotobuf (c:\\users\\isfs0\\appdata\\roaming\\python\\python38\\site-packages)\n",
      "\n",
      "[notice] A new release of pip is available: 23.2.1 -> 23.3.1\n",
      "[notice] To update, run: python.exe -m pip install --upgrade pip\n"
     ]
    },
    {
     "name": "stdout",
     "output_type": "stream",
     "text": [
      "\n",
      "  Downloading gym-0.26.2.tar.gz (721 kB)\n",
      "     ---------------------------------------- 0.0/721.7 kB ? eta -:--:--\n",
      "     ------------- ------------------------ 256.0/721.7 kB 7.9 MB/s eta 0:00:01\n",
      "     ------------------------------ ------- 583.7/721.7 kB 7.4 MB/s eta 0:00:01\n",
      "     -------------------------------------- 721.7/721.7 kB 7.6 MB/s eta 0:00:00\n",
      "  Installing build dependencies: started\n",
      "  Installing build dependencies: finished with status 'done'\n",
      "  Getting requirements to build wheel: started\n",
      "  Getting requirements to build wheel: finished with status 'done'\n",
      "  Preparing metadata (pyproject.toml): started\n",
      "  Preparing metadata (pyproject.toml): finished with status 'done'\n",
      "Requirement already satisfied: numpy>=1.18.0 in c:\\users\\isfs0\\anaconda3\\lib\\site-packages (from gym) (1.22.4)\n",
      "Requirement already satisfied: cloudpickle>=1.2.0 in c:\\users\\isfs0\\anaconda3\\lib\\site-packages (from gym) (1.6.0)\n",
      "Collecting gym-notices>=0.0.4 (from gym)\n",
      "  Downloading gym_notices-0.0.8-py3-none-any.whl (3.0 kB)\n",
      "Requirement already satisfied: importlib-metadata>=4.8.0 in c:\\users\\isfs0\\appdata\\roaming\\python\\python38\\site-packages (from gym) (6.8.0)\n",
      "Requirement already satisfied: zipp>=0.5 in c:\\users\\isfs0\\appdata\\roaming\\python\\python38\\site-packages (from importlib-metadata>=4.8.0->gym) (3.16.2)\n",
      "Building wheels for collected packages: gym\n",
      "  Building wheel for gym (pyproject.toml): started\n",
      "  Building wheel for gym (pyproject.toml): finished with status 'done'\n",
      "  Created wheel for gym: filename=gym-0.26.2-py3-none-any.whl size=827632 sha256=2fb587d1a417e4390ffe203198c32f3d458d6c87342f13dde3983d9fe85079a5\n",
      "  Stored in directory: c:\\users\\isfs0\\appdata\\local\\pip\\cache\\wheels\\17\\79\\65\\7afedc162d858b02708a3b8f7a6dd5b1000dcd5b0f894f7cc1\n",
      "Successfully built gym\n",
      "Installing collected packages: gym-notices, gym\n",
      "Successfully installed gym-0.26.2 gym-notices-0.0.8\n"
     ]
    }
   ],
   "source": [
    "# !pip install gym"
   ]
  },
  {
   "cell_type": "code",
   "execution_count": 20,
   "metadata": {
    "id": "f2fReiw6T04p"
   },
   "outputs": [],
   "source": [
    "from collections import defaultdict\n",
    "import pickle\n",
    "import random\n",
    "from IPython.display import clear_output\n",
    "import numpy as np\n",
    "\n",
    "import click\n",
    "import gym\n",
    "\n",
    "from PIL import Image\n",
    "from IPython.display import display, clear_output\n",
    "import time"
   ]
  },
  {
   "cell_type": "markdown",
   "metadata": {
    "id": "TAcZpE8FT04p"
   },
   "source": [
    "`gym.make()` 함수를 사용하여 환경을 만들고 게임을 할 것입니다. 아래 코드를 실행하고 시도하십시오."
   ]
  },
  {
   "cell_type": "code",
   "execution_count": 23,
   "metadata": {
    "id": "LDj799q_T04q"
   },
   "outputs": [],
   "source": [
    "env = gym.make(\"Taxi-v3\").env\n",
    "# 향후 step_api 변경 예정\n",
    "# env_ids = gym.make(\"Taxi-v3\", new_step_api=True).env"
   ]
  },
  {
   "cell_type": "code",
   "execution_count": 24,
   "metadata": {},
   "outputs": [
    {
     "ename": "AttributeError",
     "evalue": "'dict' object has no attribute 'all'",
     "output_type": "error",
     "traceback": [
      "\u001b[1;31m---------------------------------------------------------------------------\u001b[0m",
      "\u001b[1;31mAttributeError\u001b[0m                            Traceback (most recent call last)",
      "Cell \u001b[1;32mIn[24], line 1\u001b[0m\n\u001b[1;32m----> 1\u001b[0m env_specs \u001b[38;5;241m=\u001b[39m \u001b[43mgym\u001b[49m\u001b[38;5;241;43m.\u001b[39;49m\u001b[43menvs\u001b[49m\u001b[38;5;241;43m.\u001b[39;49m\u001b[43mregistry\u001b[49m\u001b[38;5;241;43m.\u001b[39;49m\u001b[43mall\u001b[49m()\n\u001b[0;32m      2\u001b[0m env_ids \u001b[38;5;241m=\u001b[39m []\n",
      "\u001b[1;31mAttributeError\u001b[0m: 'dict' object has no attribute 'all'"
     ]
    }
   ],
   "source": [
    "# env_specs = gym.envs.registry.all()\n",
    "# env_ids = []"
   ]
  },
  {
   "cell_type": "markdown",
   "metadata": {},
   "source": [
    "환경이란 무엇입니까?\n",
    "\n",
    "OpenAI Gym은 강화 학습 알고리즘을 개발하고 비교하기 위한 툴킷입니다. 이것은 표준화된 환경 세트에 접근할 수 있는 gym 오픈 소스 라이브러리입니다.\n",
    "\n",
    "Open AI Gym은 환경-에이전트로 구성되어 있습니다. 이는 단순히 \"환경\"에서 특정 작업을 수행할 수 있는 \"에이전트\"에 대한 접근 권한을 제공한다는 의미입니다. 그 대가로 환경에서 특정한 행동을 수행한 결과로 관찰과 보상을 받습니다.\n",
    "\n",
    "이것은 Gym 라이브러리를 사용하면 우리가 에이전트를 두고 그것에 대한 행동을 수행할 수 있는 \"환경\"을 만들 수 있음을 의미합니다.\n"
   ]
  },
  {
   "cell_type": "markdown",
   "metadata": {},
   "source": [
    "![Class](resources/class.jpg)\n",
    "\n",
    "비유하자면 교실 안에서 혼자 있는 자신을 생각해 보십시오. **이 경우 여러분은 에이전트이고 교실은 환경입니다. 그리고 만약 여러분이 책을 가지러 가기로 선택한다면, 그것은 행동입니다.**"
   ]
  },
  {
   "cell_type": "markdown",
   "metadata": {
    "id": "Red1Fq4wT04q"
   },
   "source": [
    "현재 작업하고 있는 gym 환경에 대해 조금 더 알아보겠습니다. [이 링크](https://gym.openai.com/envs/Taxi-v2/)로 이동하여 환경 소스를 확인하십시오. 이 환경에서 몇 가지 기능을 테스트해 보고 설정을 시작하겠습니다.\n",
    "\n",
    "환경을 재설정할 수 있는 기능을 찾을 수 있습니까? 아래 코드 블록에서 실행하십시오. 출력은 어떻습니까? 출력은 무엇을 나타냅니까?\n",
    "\n",
    "학생 스스로 답변을 작성해 보세요."
   ]
  },
  {
   "cell_type": "code",
   "execution_count": 25,
   "metadata": {
    "id": "jRKqZ8x1T04q",
    "outputId": "932171ca-c05a-4939-93e5-50f7282ab575"
   },
   "outputs": [
    {
     "data": {
      "text/plain": [
       "(149, {'prob': 1.0, 'action_mask': array([1, 1, 1, 0, 0, 0], dtype=int8)})"
      ]
     },
     "execution_count": 25,
     "metadata": {},
     "output_type": "execute_result"
    }
   ],
   "source": [
    "# # Student Answer\n",
    "# env.reset()\n",
    "\n",
    "# # The number represents the state of the environment. "
   ]
  },
  {
   "cell_type": "markdown",
   "metadata": {},
   "source": [
    "교실에 있는 학생의 예에서 여러분이 책을 가지러 간다면 이는 하나의 행동으로 간주됩니다. \n",
    "\n",
    "위의 코드에서 우리는 'Taxi-V3'라는 환경을 만들었습니다. 이러한 환경에서 우리는 택시 시뮬레이션을 진행하려고 합니다. 시뮬레이션은 참고로 아래와 같이 보입니다.\n",
    "\n",
    "![Taxi](resources/taxi.png)"
   ]
  },
  {
   "cell_type": "markdown",
   "metadata": {},
   "source": [
    "그러면 이 환경에서 택시가 취할 수 있는 행동(action)은 무엇입니까? 추측해 보세요.\n"
   ]
  },
  {
   "cell_type": "code",
   "execution_count": 26,
   "metadata": {},
   "outputs": [
    {
     "data": {
      "text/plain": [
       "[0, 3, 2, 0]"
      ]
     },
     "execution_count": 26,
     "metadata": {},
     "output_type": "execute_result"
    }
   ],
   "source": [
    "state = list(env.decode(68))\n",
    "state"
   ]
  },
  {
   "cell_type": "code",
   "execution_count": 27,
   "metadata": {},
   "outputs": [
    {
     "data": {
      "text/plain": [
       "(249,\n",
       " -1,\n",
       " False,\n",
       " False,\n",
       " {'prob': 1.0, 'action_mask': array([1, 1, 1, 1, 0, 0], dtype=int8)})"
      ]
     },
     "execution_count": 27,
     "metadata": {},
     "output_type": "execute_result"
    }
   ],
   "source": [
    "# student answer here\n",
    "action = 0\n",
    "env.step(action)\n"
   ]
  },
  {
   "cell_type": "markdown",
   "metadata": {
    "id": "i86BVHdwT04r"
   },
   "source": [
    "에이전트 택시는 다음과 같이 6가지 행동을 선택할 수 있습니다.\n",
    "\n",
    "0 = 남쪽(south)  \n",
    "1 = 북쪽(north)  \n",
    "2 = 동쪽(east)  \n",
    "3 = 서쪽(west)  \n",
    "4 = 픽업(pickup)  \n",
    "5 = 하차(dropoff)  \n",
    "\n",
    "환경 속에서 한 단계를 수행할 수 있는 기능이 있습니다.\n",
    "\n",
    "'env.step()' 함수를 사용하여 작업을 실행할 수 있습니다.아래 답변을 작성해 보세요."
   ]
  },
  {
   "cell_type": "code",
   "execution_count": null,
   "metadata": {
    "id": "prJd7kRxT04s",
    "outputId": "354b7c00-26f6-4f1b-bd7c-4d52ae941b03"
   },
   "outputs": [],
   "source": [
    "# Student answer\n",
    "\n",
    "\n"
   ]
  },
  {
   "cell_type": "markdown",
   "metadata": {
    "id": "1oLOTpruT04t"
   },
   "source": [
    "'env.render()' 함수를 사용하여 환경을 표시해 보세요."
   ]
  },
  {
   "cell_type": "code",
   "execution_count": 3,
   "metadata": {
    "id": "1wJDlogqT04u",
    "outputId": "d1380a55-ca73-4cd2-d595-9ef8649c6534"
   },
   "outputs": [],
   "source": [
    "env.render()"
   ]
  },
  {
   "cell_type": "markdown",
   "metadata": {
    "id": "2KkzGok1T04u"
   },
   "source": [
    "### while 루프를 사용하여 게임의 인스턴스를 생성해 보십시오. \n",
    "\n",
    "Let us try to make an instance of the game. For this we need to create a while loop first. Do you remember what a while loop is? Try to make it on your own first.\n",
    "게임의 인스턴스를 만들어 봅시다. 이를 위해 먼저 while 루프를 만들어야 합니다. while 루프가 무엇인지 기억하십니까? 먼저 직접 만들어 보세요.\n",
    "<br>"
   ]
  },
  {
   "cell_type": "code",
   "execution_count": 4,
   "metadata": {},
   "outputs": [],
   "source": [
    "done = False\n",
    "while not done:\n",
    "    # 환경 렌더링\n",
    "    # 입력 받기"
   ]
  },
  {
   "cell_type": "markdown",
   "metadata": {},
   "source": [
    "'env.render()' 함수를 사용하여 환경을 렌더링하고, 'input()'을 사용하여 입력을 얻을 수 있습니다. 위의 코드에서 이를 대체해 보십시오.\n"
   ]
  },
  {
   "cell_type": "code",
   "execution_count": 1,
   "metadata": {},
   "outputs": [],
   "source": [
    "done = False\n",
    "while not done:\n",
    "    env.render() # 이 줄에서 환경 렌더링 함수를 적용합니다.\n",
    "    i = int(input())"
   ]
  },
  {
   "cell_type": "markdown",
   "metadata": {},
   "source": [
    "입력을 받으면 다음 단계는 무엇입니까? 그것은 실행 단계와 함께 환경을 새로 고치는 것입니다. 그러기 위해서는 환경에서 한 단계를 실행한 다음 출력을 제거하고 환경을 다시 렌더링해야 합니다.\n"
   ]
  },
  {
   "cell_type": "code",
   "execution_count": 2,
   "metadata": {},
   "outputs": [],
   "source": [
    "# done = False\n",
    "# while not done:\n",
    "#     env.render() # 이 줄에서 환경 렌더링 함수를 적용합니다.\n",
    "#     i = int(input())\n",
    "#     # 단계 실행\n",
    "#     # 출력 제거"
   ]
  },
  {
   "cell_type": "markdown",
   "metadata": {},
   "source": [
    "여기서 `clear_output(wait=True)` 함수를 사용하여 출력을 지우고 `obs,reward,complete,info = env.step(i)`을 사용하여 단계를 실행할 수 있습니다. 단계 함수에서 얻은 변수는 무엇입니까?"
   ]
  },
  {
   "cell_type": "code",
   "execution_count": 5,
   "metadata": {},
   "outputs": [],
   "source": [
    "done = False\n",
    "while not done:\n",
    "    env.render() # 이 줄에서 환경 렌더링 함수를 적용합니다.\n",
    "    i = int(input())\n",
    "    obs,reward,complete,info = env.step(i) # 여기에서 환경에 대한 단계를 실행\n",
    "    clear_output(wait=True)"
   ]
  },
  {
   "cell_type": "markdown",
   "metadata": {},
   "source": [
    "이러한 변수들은 중요합니다. 변수들은 우리에게 환경의 상태를 있는 그대로 알려줍니다. Obs는 택시의 위치와 환경의 다른 부분에 대한 정보를 제공합니다. 보상은 그 행동이 긍정적인 결과를 가져왔는지 여부를 알려줍니다. 완료는 승객을 태우거나 내려주려는 의도한 목표가 달성되었는지 알려줍니다. 마지막으로 정보는 우리에게 다양한 데이터를 제공합니다."
   ]
  },
  {
   "cell_type": "code",
   "execution_count": 6,
   "metadata": {
    "id": "BE0faYKdT04v",
    "outputId": "1802a453-eb51-4eb7-e71b-e0a6ddddf035",
    "scrolled": true
   },
   "outputs": [],
   "source": [
    "done = False\n",
    "while not done:\n",
    "    env.render() # 이 줄에서 환경 렌더링 함수를 적용합니다.\n",
    "    i = int(input())\n",
    "    clear_output(wait=True)\n",
    "    obs,reward,complete,info = env.step(i) # 여기에서 환경에 대한 단계를 실행\n",
    "    print('Observation = ', obs, '\\nreward = ', reward, '\\ndone = ', complete, '\\ninformation = ', info)\n",
    "    done = complete"
   ]
  },
  {
   "cell_type": "code",
   "execution_count": null,
   "metadata": {},
   "outputs": [],
   "source": [
    "done = False\n",
    "while not done:\n",
    "    img = env.render(mode='rgb_array')\n",
    "    display(Image.fromarray(img))  # 주피터 노트북에 이미지 표시\n",
    "    clear_output(wait=True)  \n",
    "    # 이전 출력 내용 지우기\n",
    "    time.sleep(0.1)  # 0.1초 기다리기 (시뮬레이션 속도 조절)\n",
    "    i = int(input())\n",
    "    obs,reward,complete,info = env.step(i) # 여기에서 환경에 대한 단계를 실행\n",
    "    print('Observation = ', obs, '\\nreward = ', reward, '\\ndone = ', complete, '\\ninformation = ', info)\n",
    "    done = complete\n",
    "    # env.reset()\n",
    "    # for _ in range(10):  # 10 스텝 시뮬레이션\n",
    "        # img = env.render(mode='rgb_array')\n",
    "        # display(Image.fromarray(img))  # 주피터 노트북에 이미지 표시\n",
    "        # clear_output(wait=True)  \n",
    "        # # 이전 출력 내용 지우기\n",
    "        # time.sleep(0.1)  # 0.1초 기다리기 (시뮬레이션 속도 조절)"
   ]
  },
  {
   "cell_type": "code",
   "execution_count": null,
   "metadata": {},
   "outputs": [],
   "source": [
    "print(env.render(mode='ansi'))"
   ]
  },
  {
   "cell_type": "markdown",
   "metadata": {
    "id": "_yfB382NT04v"
   },
   "source": [
    "지금까지 우리는 환경과 함께 작업을 진행하였고, 문제를 이해했습니다. 몇가지 용어를 정의해 보겠습니다.\n",
    "\n",
    "**상태(State)** - 상태는 위 코드에서 변수 'obs'에 의해 제공됩니다. 환경의 상태를 정의합니다.  \n",
    "**에이전트(Agent)** - 위 예에서는 택시입니다.  \n",
    "**행동(Action)** - 행동은 수행할 환경에 전달하는 변수입니다. 행동에 따라 에이전트가 작업을 수행합니다.\n",
    "**보상(Reward)** - 보상은 플레이어가 얼마나 잘하고 있는지 알려주는 숫자입니다. '완료' 상태에 도달하는 단계가 적을수록 좋습니다."
   ]
  },
  {
   "cell_type": "markdown",
   "metadata": {
    "id": "1lJMPTimT04w"
   },
   "source": [
    "## 2. Q-Learning\n",
    "\n",
    "본질적으로 Q-learning은 에이전트가 환경의 보상을 사용하여 시간이 지남에 따라 주어진 상태에서 취해야 할 최상의 조치를 학습할 수 있도록 합니다.\n",
    "\n",
    "AI에 무엇이 효과적 이었나를 기억하기 위해 각 단계의 결과를 **Q-table**이라는 테이블에 저장합니다. 이 테이블에는 (상태, 행동) -> Q-value의 맵이 있습니다. Q-value는 어떤 행동이 유익한지 아닌지를 나타내는 숫자입니다.\n",
    "\n",
    "다음은 Q-table의 예제입니다.\n",
    "\n",
    "\n",
    "![qlearning.png](resources/qlearning.png)\n"
   ]
  },
  {
   "cell_type": "markdown",
   "metadata": {
    "id": "bTzdVo8UT04x"
   },
   "source": [
    "Q-러닝 알고리즘을 효과적으로 구현하기 위해서는 몇 가지 하이퍼 파라미터가 필요합니다. 학습 과정을 진행하면서 다음을 값을 수정할 수 있습니다.\n",
    "\n",
    "1. 알파(Alpha) 값. Alpha 값은 0에서 1 사이의 숫자입니다. 학습률의 척도입니다.\n",
    "2. 감마(Gamma) 값. 이 값은 알고리즘이 얼마나 탐욕스러운지를 측정한 것입니다. 감마 값이 0이면 학습 알고리즘이 더 근시안적입니다.\n",
    "3. 엡실론(Epsilon) 값. 이 변수는 훈련이 이전 데이터에 얼마나 의존해야 하고, 새로운 데이터에 얼마나 의존해야 하는지를 설정합니다."
   ]
  },
  {
   "cell_type": "markdown",
   "metadata": {},
   "source": [
    "이러한 매개변수 중 몇 가지를 더 자세히 살펴보겠습니다.\n",
    "\n",
    "**Alpha**\n",
    "\n",
    "알파 값은 모델이 학습하는 속도를 나타냅니다. 따라서 학습률이 높으면 모델은 무언가를 학습하는 데 한단계를 거치지만 학습률이 낮으면 모델은 학습하는 데 더 많은 단계를 수행합니다. 이것은 무엇을 의미할까요?\n",
    "\n",
    "학습률이 너무 낮으면 학습하는 데 너무 많은 시간이 걸리기 때문에 학습률은 매우 중요합니다. 너무 높은 학습률은 우리에게 최적의 결과를 주지 못합니다. 따라서 올바른 학습률을 선택하는 것이 중요합니다. 아래 학습률에 대한 실행 속도 및 정확도의 예를 볼 수 있습니다. 종종 학습률은 시행착오의 게임입니다.\n",
    "\n",
    "![lr](resources/lr.png)\n",
    "\n",
    "**Gamma**\n",
    "\n",
    "감마 값은 모델이 학습하는 방법을 결정하는 데 중요합니다. 감마가 너무 높으면 모델은 멀리서 크게 보고, 감마가 낮으면 너무 가깝게 자세히 봅니다. 시험 공부를 하는 학생의 예를 들어보겠습니다. 시험을 준비하기 위해 학생은 근시안적으로 계획성 없이 매일 무작으로 주제를 선정하여 집중적으로 공부할 수 있습니다. 또는 학생이 장기적으로 계획을 세웠지만 낮 시간에는 집중적으로 공부하지 않을 수 있습니다. 학생으로서 여러분 중 일부는 이러한 예들 중 하나와 관련이 있다고 확신합니다. 우리 중 어떤 사람들은 공부할 계획을 세우고 목표를 가지고 준비하지만 지금 당장은 공부하지 않습니다. 우리 중 일부는 현재 공부는 하고있지만 장기적인 비전과 계획이 부족합니다. 감마 값은 이러한 난제를 나타냅니다. 핵심은 장기와 단기 목표 균형에 초점을 맞추는 것처럼 적절한 감마 값을 갖는 것입니다.\n",
    "\n",
    "\n",
    "![lr](resources/lr1.jpg)\n",
    "\n",
    "**Epsilon**\n",
    "\n",
    "우리가 과거의 실패로부터 더 많은 것을 배울 수 있는 모델을 원할 때 엡실론 값을 높일 수 있습니다. 이것이 우리 모델에 어떤 의미가 있을까요? 일부 모델은 다른 모델보다 과거의 경험으로부터 더 많은 혜택을 받습니다. 그리고 다시 올바른 값을 선택하는 것은 시행착오의 과정입니다. 다음 실습에서는 새로운 학습보다 오래된 학습에 더 집중하기를 원하기 때문에 0.1의 엡실론 값을 제공하였습니다."
   ]
  },
  {
   "cell_type": "code",
   "execution_count": 21,
   "metadata": {},
   "outputs": [],
   "source": [
    "import numpy as np"
   ]
  },
  {
   "cell_type": "code",
   "execution_count": 22,
   "metadata": {
    "id": "AcqudRV4T04y"
   },
   "outputs": [],
   "source": [
    "# 하이퍼 파라미터\n",
    "alpha = 0.1  # Learning Rate\n",
    "gamma = 0.6 # discount Factor\n",
    "epsilon = 0.1 # 탐색 비율\n",
    "\n",
    "NUM_EPISODES = 100000"
   ]
  },
  {
   "cell_type": "markdown",
   "metadata": {},
   "source": [
    "### 에피소드 수는?\n",
    "\n",
    "한 에피소드는 성공적인 택시 픽업 및 하차를 수행하는 한 번의 시도입니다. 따라서 한 에피소드 내에서 모델이 실패하거나 성공할 때까지 작업을 반복합니다.\n",
    "\n",
    "다음 단계는 q-table을 만드는 것입니다. 위의 Q-table 이미지를 참조하여 축을 확인하십시오. 표의 x축에는 6개의 값이 있고, y축에는 500개의 값이 있습니다. 하지만 이것들을 수동으로 입력할 필요는 없습니다. 아래에서 q-table을 만드는 코드를 찾을 수 있습니다. np.zeros는 모든 값이 0인 표를 만듭니다. [여기](https://numpy.org/doc/stable/reference/generated/numpy.zeros.html) 문서를 살펴보세요.\n"
   ]
  },
  {
   "cell_type": "code",
   "execution_count": 23,
   "metadata": {},
   "outputs": [
    {
     "ename": "NameError",
     "evalue": "name 'env' is not defined",
     "output_type": "error",
     "traceback": [
      "\u001b[1;31m---------------------------------------------------------------------------\u001b[0m",
      "\u001b[1;31mNameError\u001b[0m                                 Traceback (most recent call last)",
      "Cell \u001b[1;32mIn[23], line 1\u001b[0m\n\u001b[1;32m----> 1\u001b[0m q_table \u001b[38;5;241m=\u001b[39m np\u001b[38;5;241m.\u001b[39mzeros([\u001b[43menv\u001b[49m\u001b[38;5;241m.\u001b[39mobservation_space\u001b[38;5;241m.\u001b[39mn, env\u001b[38;5;241m.\u001b[39maction_space\u001b[38;5;241m.\u001b[39mn])\n",
      "\u001b[1;31mNameError\u001b[0m: name 'env' is not defined"
     ]
    }
   ],
   "source": [
    "q_table = np.zeros([env.observation_space.n, env.action_space.n])"
   ]
  },
  {
   "cell_type": "code",
   "execution_count": 11,
   "metadata": {},
   "outputs": [
    {
     "ename": "NameError",
     "evalue": "name 'q_table' is not defined",
     "output_type": "error",
     "traceback": [
      "\u001b[1;31m---------------------------------------------------------------------------\u001b[0m",
      "\u001b[1;31mNameError\u001b[0m                                 Traceback (most recent call last)",
      "Cell \u001b[1;32mIn[11], line 1\u001b[0m\n\u001b[1;32m----> 1\u001b[0m old_value \u001b[38;5;241m=\u001b[39m \u001b[43mq_table\u001b[49m[state, action]\n\u001b[0;32m      2\u001b[0m next_max \u001b[38;5;241m=\u001b[39m np\u001b[38;5;241m.\u001b[39mmax(q_table[next_state])\n\u001b[0;32m      4\u001b[0m new_value \u001b[38;5;241m=\u001b[39m (\u001b[38;5;241m1\u001b[39m\u001b[38;5;241m-\u001b[39malpha) \u001b[38;5;241m*\u001b[39m old_value \u001b[38;5;241m+\u001b[39m alpha \u001b[38;5;241m*\u001b[39m (reward \u001b[38;5;241m+\u001b[39m gamma \u001b[38;5;241m*\u001b[39m next_max)\n",
      "\u001b[1;31mNameError\u001b[0m: name 'q_table' is not defined"
     ]
    }
   ],
   "source": [
    "old_value = q_table[state, action]\n",
    "next_max = np.max(q_table[next_state])\n",
    "\n",
    "new_value = (1-alpha) * old_value + alpha * (reward + gamma * next_max)\n",
    "\n",
    "q_table[state, action] = new_value"
   ]
  },
  {
   "cell_type": "code",
   "execution_count": 10,
   "metadata": {},
   "outputs": [
    {
     "ename": "NameError",
     "evalue": "name 'env' is not defined",
     "output_type": "error",
     "traceback": [
      "\u001b[1;31m---------------------------------------------------------------------------\u001b[0m",
      "\u001b[1;31mNameError\u001b[0m                                 Traceback (most recent call last)",
      "Cell \u001b[1;32mIn[10], line 1\u001b[0m\n\u001b[1;32m----> 1\u001b[0m q_table \u001b[38;5;241m=\u001b[39m np\u001b[38;5;241m.\u001b[39mzeros([\u001b[43menv\u001b[49m\u001b[38;5;241m.\u001b[39mobservation_space\u001b[38;5;241m.\u001b[39mn, env\u001b[38;5;241m.\u001b[39maction_space\u001b[38;5;241m.\u001b[39mn])\n",
      "\u001b[1;31mNameError\u001b[0m: name 'env' is not defined"
     ]
    }
   ],
   "source": []
  },
  {
   "cell_type": "markdown",
   "metadata": {
    "id": "ChwZuh5tT04y"
   },
   "source": [
    "#### Task: python에서 다음 함수를 풀어보세요.\n",
    "\n",
    "$$\n",
    "Q(state, action)  \\leftarrow (1 -  \\alpha ) *Q (state,action) +  \\alpha (reward +  \\gamma  \\max Q(next state, all  Actions))\n",
    "$$\n",
    "\n"
   ]
  },
  {
   "cell_type": "markdown",
   "metadata": {},
   "source": [
    "가장 먼저 필요한 것은 상태, 행동에 대한 Q-value입니다. 이것을 어떻게 얻습니까? Q-table을 `q_table[state, action]`과 같이 참조하기만 하면 됩니다."
   ]
  },
  {
   "cell_type": "code",
   "execution_count": 12,
   "metadata": {
    "id": "OixtUGPZT048",
    "outputId": "63140459-b469-400f-d4d4-b0064b65bdda"
   },
   "outputs": [
    {
     "ename": "NameError",
     "evalue": "name 'q_table' is not defined",
     "output_type": "error",
     "traceback": [
      "\u001b[1;31m---------------------------------------------------------------------------\u001b[0m",
      "\u001b[1;31mNameError\u001b[0m                                 Traceback (most recent call last)",
      "Cell \u001b[1;32mIn[12], line 1\u001b[0m\n\u001b[1;32m----> 1\u001b[0m old_value \u001b[38;5;241m=\u001b[39m \u001b[43mq_table\u001b[49m[state, action]\n\u001b[0;32m      2\u001b[0m next_max \u001b[38;5;241m=\u001b[39m np\u001b[38;5;241m.\u001b[39mmax(q_table[next_state])\n\u001b[0;32m      4\u001b[0m \u001b[38;5;66;03m# Student answer\u001b[39;00m\n\u001b[0;32m      5\u001b[0m \u001b[38;5;66;03m# add line here\u001b[39;00m\n",
      "\u001b[1;31mNameError\u001b[0m: name 'q_table' is not defined"
     ]
    }
   ],
   "source": [
    "old_value = q_table[state, action]\n",
    "next_max = np.max(q_table[next_state])\n",
    "\n",
    "# Student answer\n",
    "# add line here\n",
    "\n",
    "q_table[state, action] = new_value"
   ]
  },
  {
   "cell_type": "markdown",
   "metadata": {
    "id": "oGjCD9S4T048"
   },
   "source": [
    "이제 모델을 훈련시키도록 합시다. 어떻게 시작할 수 있습니까? 먼저 기본 루프부터 다시 시작하겠습니다."
   ]
  },
  {
   "cell_type": "code",
   "execution_count": null,
   "metadata": {},
   "outputs": [],
   "source": [
    "# 이 코드 블록은 아직 완성되지 않아서 실행하면 에러가 발생합니다.\n",
    "for i in range(1, NUM_EPISODES+1):\n",
    "    # code here\n",
    "print(\"Training finished.\\n\")"
   ]
  },
  {
   "cell_type": "markdown",
   "metadata": {},
   "source": [
    "이 루프 안에 환경을 단계적으로 반복하는 것을 목표로 하는 또 다른 루프를 추가해야 합니다. 우리는 전에 이것을 했습니다. 코드를 복사해 보겠습니다."
   ]
  },
  {
   "cell_type": "code",
   "execution_count": 13,
   "metadata": {},
   "outputs": [
    {
     "ename": "NameError",
     "evalue": "name 'env' is not defined",
     "output_type": "error",
     "traceback": [
      "\u001b[1;31m---------------------------------------------------------------------------\u001b[0m",
      "\u001b[1;31mNameError\u001b[0m                                 Traceback (most recent call last)",
      "Cell \u001b[1;32mIn[13], line 7\u001b[0m\n\u001b[0;32m      3\u001b[0m     done \u001b[38;5;241m=\u001b[39m \u001b[38;5;28;01mFalse\u001b[39;00m\n\u001b[0;32m      5\u001b[0m     \u001b[38;5;28;01mwhile\u001b[39;00m \u001b[38;5;129;01mnot\u001b[39;00m done:\n\u001b[1;32m----> 7\u001b[0m         next_state, reward, done, info \u001b[38;5;241m=\u001b[39m \u001b[43menv\u001b[49m\u001b[38;5;241m.\u001b[39mstep(action) \u001b[38;5;66;03m# 다음 단계를 수행합니다.\u001b[39;00m\n\u001b[0;32m      9\u001b[0m \u001b[38;5;28mprint\u001b[39m(\u001b[38;5;124m\"\u001b[39m\u001b[38;5;124mTraining finished.\u001b[39m\u001b[38;5;130;01m\\n\u001b[39;00m\u001b[38;5;124m\"\u001b[39m)\n",
      "\u001b[1;31mNameError\u001b[0m: name 'env' is not defined"
     ]
    }
   ],
   "source": [
    "# 이 코드 블록은 아직 완성되지 않아서 실행하면 에러가 발생합니다.\n",
    "for i in range(1, NUM_EPISODES+1):\n",
    "    done = False\n",
    "    \n",
    "    while not done:\n",
    "        \n",
    "        next_state, reward, done, info = env.step(action) # 다음 단계를 수행합니다.\n",
    "        \n",
    "print(\"Training finished.\\n\")"
   ]
  },
  {
   "cell_type": "markdown",
   "metadata": {},
   "source": [
    "이제 단계를 수행할 수 없는 `action` 변수를 가져와야 합니다. 위의 Q-table을 사용하여 추천된 행동을 취할 수 있는 방법은 무엇입니까?\n",
    "답은 'q_table[state]'를 사용하는 것이다."
   ]
  },
  {
   "cell_type": "code",
   "execution_count": 14,
   "metadata": {},
   "outputs": [
    {
     "ename": "NameError",
     "evalue": "name 'q_table' is not defined",
     "output_type": "error",
     "traceback": [
      "\u001b[1;31m---------------------------------------------------------------------------\u001b[0m",
      "\u001b[1;31mNameError\u001b[0m                                 Traceback (most recent call last)",
      "Cell \u001b[1;32mIn[14], line 6\u001b[0m\n\u001b[0;32m      3\u001b[0m     done \u001b[38;5;241m=\u001b[39m \u001b[38;5;28;01mFalse\u001b[39;00m\n\u001b[0;32m      5\u001b[0m     \u001b[38;5;28;01mwhile\u001b[39;00m \u001b[38;5;129;01mnot\u001b[39;00m done:\n\u001b[1;32m----> 6\u001b[0m         action \u001b[38;5;241m=\u001b[39m np\u001b[38;5;241m.\u001b[39margmax(\u001b[43mq_table\u001b[49m[state])\n\u001b[0;32m      7\u001b[0m         next_state, reward, done, info \u001b[38;5;241m=\u001b[39m env\u001b[38;5;241m.\u001b[39mstep(action) \u001b[38;5;66;03m# 다음 단계를 수행합니다.\u001b[39;00m\n\u001b[0;32m      9\u001b[0m \u001b[38;5;28mprint\u001b[39m(\u001b[38;5;124m\"\u001b[39m\u001b[38;5;124mTraining finished.\u001b[39m\u001b[38;5;130;01m\\n\u001b[39;00m\u001b[38;5;124m\"\u001b[39m)\n",
      "\u001b[1;31mNameError\u001b[0m: name 'q_table' is not defined"
     ]
    }
   ],
   "source": [
    "# 이 코드 블록은 아직 완성되지 않아서 실행하면 에러가 발생합니다.\n",
    "for i in range(1, NUM_EPISODES+1):\n",
    "    done = False\n",
    "    \n",
    "    while not done:\n",
    "        action = np.argmax(q_table[state])\n",
    "        next_state, reward, done, info = env.step(action) # 다음 단계를 수행합니다.\n",
    "        \n",
    "print(\"Training finished.\\n\")"
   ]
  },
  {
   "cell_type": "markdown",
   "metadata": {},
   "source": [
    "다음 단계는 엡실론 값을 포함하는 것입니다. 새로운 공간을 탐험할 확률이 10%라는 사실을 기억하시나요? 우리는 이것을 다음과 같이 코딩할 수 있습니다."
   ]
  },
  {
   "cell_type": "code",
   "execution_count": 15,
   "metadata": {},
   "outputs": [
    {
     "ename": "NameError",
     "evalue": "name 'random' is not defined",
     "output_type": "error",
     "traceback": [
      "\u001b[1;31m---------------------------------------------------------------------------\u001b[0m",
      "\u001b[1;31mNameError\u001b[0m                                 Traceback (most recent call last)",
      "Cell \u001b[1;32mIn[15], line 6\u001b[0m\n\u001b[0;32m      3\u001b[0m done \u001b[38;5;241m=\u001b[39m \u001b[38;5;28;01mFalse\u001b[39;00m\n\u001b[0;32m      5\u001b[0m \u001b[38;5;28;01mwhile\u001b[39;00m \u001b[38;5;129;01mnot\u001b[39;00m done:\n\u001b[1;32m----> 6\u001b[0m     \u001b[38;5;28;01mif\u001b[39;00m \u001b[43mrandom\u001b[49m\u001b[38;5;241m.\u001b[39muniform(\u001b[38;5;241m0\u001b[39m, \u001b[38;5;241m1\u001b[39m) \u001b[38;5;241m<\u001b[39m epsilon: \u001b[38;5;66;03m# 이전 지식을 사용하는 대신 새로운 행동을 탐구할 확률이 10%입니다.\u001b[39;00m\n\u001b[0;32m      7\u001b[0m         action \u001b[38;5;241m=\u001b[39m env\u001b[38;5;241m.\u001b[39maction_space\u001b[38;5;241m.\u001b[39msample() \u001b[38;5;66;03m# 작업 공간 탐색\u001b[39;00m\n\u001b[0;32m      8\u001b[0m     \u001b[38;5;28;01melse\u001b[39;00m:\n",
      "\u001b[1;31mNameError\u001b[0m: name 'random' is not defined"
     ]
    }
   ],
   "source": [
    "# 이 코드 블록은 아직 완성되지 않아서 실행하면 에러가 발생합니다.\n",
    "for i in range(1, NUM_EPISODES+1):\n",
    "    done = False\n",
    "    \n",
    "    while not done:\n",
    "        if random.uniform(0, 1) < epsilon: # 이전 지식을 사용하는 대신 새로운 행동을 탐구할 확률이 10%입니다.\n",
    "            action = env.action_space.sample() # 작업 공간 탐색\n",
    "        else:\n",
    "            action = np.argmax(q_table[state]) # 학습된 값 이용\n",
    "            \n",
    "        next_state, reward, done, info = env.step(action) # 다음 단계를 수행합니다.\n",
    "        \n",
    "print(\"Training finished.\\n\")"
   ]
  },
  {
   "cell_type": "markdown",
   "metadata": {},
   "source": [
    "다음 단계는 Q-table을 계산하고 업데이트하는 것입니다. 어떻게 하면 될까요? q-table의 새로운 값을 찾는 데 사용한 공식을 기억하십니까? 그 코드를 다시 사용하십시오."
   ]
  },
  {
   "cell_type": "code",
   "execution_count": 16,
   "metadata": {},
   "outputs": [
    {
     "ename": "NameError",
     "evalue": "name 'random' is not defined",
     "output_type": "error",
     "traceback": [
      "\u001b[1;31m---------------------------------------------------------------------------\u001b[0m",
      "\u001b[1;31mNameError\u001b[0m                                 Traceback (most recent call last)",
      "Cell \u001b[1;32mIn[16], line 5\u001b[0m\n\u001b[0;32m      2\u001b[0m done \u001b[38;5;241m=\u001b[39m \u001b[38;5;28;01mFalse\u001b[39;00m\n\u001b[0;32m      4\u001b[0m \u001b[38;5;28;01mwhile\u001b[39;00m \u001b[38;5;129;01mnot\u001b[39;00m done:\n\u001b[1;32m----> 5\u001b[0m     \u001b[38;5;28;01mif\u001b[39;00m \u001b[43mrandom\u001b[49m\u001b[38;5;241m.\u001b[39muniform(\u001b[38;5;241m0\u001b[39m, \u001b[38;5;241m1\u001b[39m) \u001b[38;5;241m<\u001b[39m epsilon: \u001b[38;5;66;03m# 이전 지식을 사용하는 대신 새로운 행동을 탐구할 확률이 10%입니다.\u001b[39;00m\n\u001b[0;32m      6\u001b[0m         action \u001b[38;5;241m=\u001b[39m env\u001b[38;5;241m.\u001b[39maction_space\u001b[38;5;241m.\u001b[39msample() \u001b[38;5;66;03m# 작업 공간 탐색\u001b[39;00m\n\u001b[0;32m      7\u001b[0m     \u001b[38;5;28;01melse\u001b[39;00m:\n",
      "\u001b[1;31mNameError\u001b[0m: name 'random' is not defined"
     ]
    }
   ],
   "source": [
    "for i in range(1, NUM_EPISODES+1):\n",
    "    done = False\n",
    "    \n",
    "    while not done:\n",
    "        if random.uniform(0, 1) < epsilon: # 이전 지식을 사용하는 대신 새로운 행동을 탐구할 확률이 10%입니다.\n",
    "            action = env.action_space.sample() # 작업 공간 탐색\n",
    "        else:\n",
    "            action = np.argmax(q_table[state]) # 학습된 값 이용\n",
    "            \n",
    "        next_state, reward, done, info = env.step(action) # 다음 단계를 수행합니다.\n",
    "        \n",
    "        # 할일: 위의 공식을 사용하여 여기에 코드를 입력하세요.\n",
    "        \n",
    "print(\"Training finished.\\n\")"
   ]
  },
  {
   "cell_type": "markdown",
   "metadata": {},
   "source": [
    "이제 결과를 출력하고 중요한 데이터를 저장하는 코드를 더 추가해 보겠습니다."
   ]
  },
  {
   "cell_type": "code",
   "execution_count": 17,
   "metadata": {
    "id": "ynfvIeM6T048",
    "outputId": "5b5e8f9c-e574-49fa-9342-f4f074908199"
   },
   "outputs": [
    {
     "ename": "NameError",
     "evalue": "name 'env' is not defined",
     "output_type": "error",
     "traceback": [
      "\u001b[1;31m---------------------------------------------------------------------------\u001b[0m",
      "\u001b[1;31mNameError\u001b[0m                                 Traceback (most recent call last)",
      "Cell \u001b[1;32mIn[17], line 5\u001b[0m\n\u001b[0;32m      2\u001b[0m all_penalties \u001b[38;5;241m=\u001b[39m []\n\u001b[0;32m      4\u001b[0m \u001b[38;5;28;01mfor\u001b[39;00m i \u001b[38;5;129;01min\u001b[39;00m \u001b[38;5;28mrange\u001b[39m(\u001b[38;5;241m1\u001b[39m, NUM_EPISODES\u001b[38;5;241m+\u001b[39m\u001b[38;5;241m1\u001b[39m):\n\u001b[1;32m----> 5\u001b[0m     state \u001b[38;5;241m=\u001b[39m \u001b[43menv\u001b[49m\u001b[38;5;241m.\u001b[39mreset()\n\u001b[0;32m      7\u001b[0m     epochs, penalties, reward, \u001b[38;5;241m=\u001b[39m \u001b[38;5;241m0\u001b[39m, \u001b[38;5;241m0\u001b[39m, \u001b[38;5;241m0\u001b[39m\n\u001b[0;32m      8\u001b[0m     done \u001b[38;5;241m=\u001b[39m \u001b[38;5;28;01mFalse\u001b[39;00m\n",
      "\u001b[1;31mNameError\u001b[0m: name 'env' is not defined"
     ]
    }
   ],
   "source": [
    "all_epochs = []\n",
    "all_penalties = []\n",
    "\n",
    "for i in range(1, NUM_EPISODES+1):\n",
    "    state = env.reset()\n",
    "\n",
    "    epochs, penalties, reward, = 0, 0, 0\n",
    "    done = False\n",
    "    \n",
    "    while not done:\n",
    "        if random.uniform(0, 1) < epsilon: # 이전 지식을 사용하는 대신 새로운 행동을 탐구할 확률이 10%입니다.\n",
    "            action = env.action_space.sample() # 작업 공간 탐색\n",
    "        else:\n",
    "            action = np.argmax(q_table[state]) # 학습된 값 이용\n",
    "\n",
    "        next_state, reward, done, info = env.step(action) # 다음 단계를 수행합니다.\n",
    "        \n",
    "        \n",
    "        old_value = q_table[state, action]\n",
    "        next_max = np.max(q_table[next_state])\n",
    "        \n",
    "        new_value = (1 - alpha) * old_value + alpha * (reward + gamma * next_max)\n",
    "        q_table[state, action] = new_value\n",
    "\n",
    "        if reward == -10:\n",
    "            penalties += 1\n",
    "\n",
    "        state = next_state\n",
    "        epochs += 1\n",
    "\n",
    "        \n",
    "    if i % 100 == 0:\n",
    "        clear_output(wait=True)\n",
    "        print(f\"Episode: {i}\")\n",
    "\n",
    "print(\"Training finished.\\n\")"
   ]
  },
  {
   "cell_type": "markdown",
   "metadata": {
    "id": "4-2kycfoT04-"
   },
   "source": [
    "축하합니다!!! \n",
    "Q-러닝 모델을 성공적으로 학습했습니다. 지도 및 비지도 학습 모델에서 우리는 모델 객체에 모델을 저장했지만, 강화학습의 경우는 어떻습니까? \n",
    "이 경우 모델이 무엇이며 어떻게 저장되는지 대답할 수 있습니까?"
   ]
  },
  {
   "cell_type": "code",
   "execution_count": null,
   "metadata": {
    "id": "JdTlarR-T04_"
   },
   "outputs": [],
   "source": [
    "# Student answer\n"
   ]
  },
  {
   "cell_type": "markdown",
   "metadata": {
    "id": "tAtbfP65T04_"
   },
   "source": [
    "## 3. 평가\n",
    "\n",
    "이제 Q-table을 평가해 보겠습니다. 어떻게 하면 될까요? 우리는 Q-table을 업데이트하기 위해 공식을 추가하지 않는다는 점을 제외하고는 동일한 훈련 알고리즘을 사용합니다. 직접 해보십시오."
   ]
  },
  {
   "cell_type": "code",
   "execution_count": null,
   "metadata": {
    "id": "_qR3ABnAT04_"
   },
   "outputs": [],
   "source": [
    "\n",
    "total_epochs, total_penalties = 0, 0\n",
    "episodes = 100\n",
    "\n",
    "for _ in range(episodes):\n",
    "    state = env.reset()\n",
    "    epochs, penalties, reward = 0, 0, 0\n",
    "    \n",
    "    done = False\n",
    "    \n",
    "    while not done:\n",
    "        action = np.argmax(q_table[state])\n",
    "        state, reward, done, info = env.step(action)\n",
    "\n",
    "        if reward == -10:\n",
    "            penalties += 1\n",
    "\n",
    "        epochs += 1\n",
    "\n",
    "    total_penalties += penalties\n",
    "    total_epochs += epochs\n",
    "\n",
    "print(f\"Results after {episodes} episodes:\")\n",
    "print(f\"Average timesteps per episode: {total_epochs / episodes}\")\n",
    "print(f\"Average penalties per episode: {total_penalties / episodes}\")"
   ]
  },
  {
   "cell_type": "markdown",
   "metadata": {
    "id": "6mB2gXA0T05A"
   },
   "source": [
    "모델 평가 완료를 축하합니다. 평가 결과는 무엇을 나타낼까요? 이 후에 강화 학습의 기본과 이를 위한 모델을 구축하는 방법을 쉽게 이해해야 합니다."
   ]
  }
 ],
 "metadata": {
  "colab": {
   "collapsed_sections": [],
   "name": "(4) [Jupyter - Coach] Module 16.ipynb",
   "provenance": []
  },
  "kernelspec": {
   "display_name": "Python 3 (ipykernel)",
   "language": "python",
   "name": "python3"
  },
  "language_info": {
   "codemirror_mode": {
    "name": "ipython",
    "version": 3
   },
   "file_extension": ".py",
   "mimetype": "text/x-python",
   "name": "python",
   "nbconvert_exporter": "python",
   "pygments_lexer": "ipython3",
   "version": "3.8.8"
  }
 },
 "nbformat": 4,
 "nbformat_minor": 1
}
