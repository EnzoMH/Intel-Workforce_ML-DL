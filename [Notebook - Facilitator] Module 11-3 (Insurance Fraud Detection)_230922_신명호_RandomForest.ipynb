{
 "cells": [
  {
   "cell_type": "markdown",
   "metadata": {
    "id": "bQY-J_bZkSu0"
   },
   "source": [
    "# Insurance Fraud Detection using Random Forest\n",
    "\n",
    "# 랜덤 포레스트를 이용한 보험 사기 탐지\n",
    "\n",
    "## Introduction\n",
    "\n",
    "인공지능은 프로세스를 자동화하고, 비즈니스에 대한 통찰력을 모으고, 프로세스 속도를 높이기 위해 다양한 산업에서 사용되고 있습니다. 인공지능이 실제로 산업에 어떤 영향을 미치는지 실제 시나리오에서 인공지능의 사용을 연구하기 위해 Python을 사용할 것입니다.\n",
    "\n",
    "보험 사기는 매우 크고 중요한 문제입니다. 다양한 사기가 계속 발생하고 있으며, 일부 수법은 일반화 되어있습니다. 따라서 미리 예측하면 많은 피해를 막을 수 있으며, 비용을 절약할 수 있습니다. 이러한 문제에 대하여 AI는 우리를 도울 수 있습니다.\n",
    "\n",
    "이 노트북에서는 랜덤 포레스트를 사용한 보험 사기 탐지에 중점을 둘 것입니다.\n",
    "\n",
    "## Context\n",
    "\n",
    "우리는 [Kaggle](https://www.kaggle.com/buntyshah/auto-insurance-claims-data)에서 얻은 자동차 보험 청구 데이터로 실습할 것입니다. Kaggle은 데이터 전문가들이 모여 지식을 공유하고 서로 경쟁하여 보상을 받을 수 있는 데이터 공유 플랫폼입니다. 정리된 데이터가 Insurance.csv에 포함되어 있습니다.\n",
    "\n",
    "\n",
    "### Side note: Random Forest란 무엇인가?\n",
    "\n",
    "랜덤 포레스트는 많은 의사 결정 트리의 결정을 결합하여 데이터 포인트의 클래스를 결정하는 분류 알고리즘입니다. 우리는 다양한 트리를 기반으로 결정을 내리고 과반수 투표를 수행하고 최종 클래스를 결정합니다. 다음 다이어그램을 보면 좀 더 명확하게 이해할 수 있을 것입니다.\n",
    "\n",
    "![Random Forest](https://miro.medium.com/max/888/1*i0o8mjFfCn-uD79-F1Cqkw.png)\n",
    "\n",
    "## Use Python to open csv files\n",
    "\n",
    "\n",
    "[scikit-learn](https://scikit-learn.org/stable/)과 [pandas](https://pandas.pydata.org/)를 사용하여 데이터 세트를 작업합니다. Scikit-learn은 예측 데이터 분석을 위한 효율적인 도구를 제공하는 매우 유용한 기계 학습 라이브러리입니다. Pandas는 데이터 과학을 위한 인기 있는 Python 라이브러리입니다. 강력하고 유연한 데이터 구조를 제공하여 데이터 조작 및 분석을 더 쉽게 만듭니다.\n",
    "\n",
    "\n",
    "## Import Libraries\n"
   ]
  },
  {
   "cell_type": "code",
   "execution_count": null,
   "metadata": {
    "id": "lRhyFGuAkSvB"
   },
   "outputs": [],
   "source": [
    "import numpy as np \n",
    "import pandas as pd\n",
    "import datetime as dt\n",
    "import seaborn as sns\n",
    "\n",
    "\n",
    "from sklearn.model_selection import train_test_split\n",
    "from sklearn.linear_model import LogisticRegression\n",
    "from sklearn.metrics import classification_report\n",
    "from sklearn.tree import DecisionTreeClassifier\n",
    "from sklearn.metrics import accuracy_score"
   ]
  },
  {
   "cell_type": "markdown",
   "metadata": {
    "id": "KyMqFuwekSvC"
   },
   "source": [
    "## Read the CSV file"
   ]
  },
  {
   "cell_type": "code",
   "execution_count": null,
   "metadata": {
    "id": "iq0U-ZsEkSvD",
    "outputId": "ed3e74f7-95ef-42cc-bb32-13bdf00ef36f"
   },
   "outputs": [],
   "source": [
    "df = pd.read_csv(r'[Dataset]_Module11_(Insurance).csv')\n",
    "df.head()"
   ]
  },
  {
   "cell_type": "code",
   "execution_count": null,
   "metadata": {
    "id": "qzDt5oapkSvF",
    "outputId": "1e09df65-8152-4608-8f43-5a58ed56d10a"
   },
   "outputs": [],
   "source": [
    "# 다양한 Feature에 대하여 null 값의 수를 확인합니다.\n",
    "df.isnull().sum()"
   ]
  },
  {
   "cell_type": "code",
   "execution_count": null,
   "metadata": {
    "id": "rYdbWLqwkSvF",
    "outputId": "4fb25a53-deb5-4188-e4e7-8533610aaa1a"
   },
   "outputs": [],
   "source": [
    "# Dataset에 대한 추가 정보를 확인합니다.\n",
    "df.info()"
   ]
  },
  {
   "cell_type": "markdown",
   "metadata": {
    "id": "Ix_8Ft1vkSvG"
   },
   "source": [
    "### Task 1: describe 함수를 사용하여 데이터 세트에 대한 정보 표시"
   ]
  },
  {
   "cell_type": "code",
   "execution_count": null,
   "metadata": {
    "id": "-bc6ZfV0kSvH",
    "outputId": "9475aa65-25b3-4181-8848-6e345c8896f7"
   },
   "outputs": [],
   "source": [
    "# your code here"
   ]
  },
  {
   "cell_type": "code",
   "execution_count": null,
   "metadata": {
    "id": "q0XXgDCskSvH",
    "outputId": "a3a586a3-3eb1-4bfa-efcf-8a3384227b2e"
   },
   "outputs": [],
   "source": [
    "# Fraud_reported가 목표 열입니다. Fraud_reported의 고유값을 확인해 봅시다.\n",
    "df['fraud_reported'].unique()"
   ]
  },
  {
   "cell_type": "code",
   "execution_count": null,
   "metadata": {
    "id": "Qz16BG48kSvH",
    "outputId": "03ca3d62-0dd5-4b1e-a568-04b25ef0d978"
   },
   "outputs": [],
   "source": [
    "# 다음으로 fraud_reported 열의 0과 1의 분포를 확인할 수 있습니다.\n",
    "sns.countplot(df['fraud_reported'])"
   ]
  },
  {
   "cell_type": "markdown",
   "metadata": {
    "id": "dZ7dpr9VkSvI"
   },
   "source": [
    "## feature간 상관관계 확인\n",
    "\n",
    "여기서 우리는 상관 다이어그램을 그리기 위하여 plotly 라이브러리를 사용합니다.\n",
    "\n",
    "상관 행렬은 변수 간의 관계, 즉 다른 변수가 변경될 때 한 변수가 어떻게 변경되는지를 보여주는 테이블입니다. 5개의 변수가 있는 경우 상관 행렬에는 5 곱하기 5 또는 25개의 항목이 있으며 각 항목은 두 변수 간의 상관 관계를 보여줍니다.\n",
    "\n",
    "기계 학습 알고리즘의 정확도는 알고리즘이 얼마나 잘 수행되고 있는지, 즉 알고리즘이 데이터 포인트를 올바르게 분류하는 빈도를 측정하는 것입니다. 정확도는 다음과 같이 주어집니다:\n",
    "\n",
    "![정확도](https://miro.medium.com/max/1050/1*O5eXoV-SePhZ30AbCikXHw.png)\n",
    "\n",
    "정밀도는 관련성 있는 결과의 %를 의미하고, 재현율은 알고리즘에 의해 올바르게 분류된 전체 관련 결과의 %를 의미합니다.\n",
    "\n",
    "\n",
    "![Precision and Recall](https://miro.medium.com/max/1050/1*pOtBHai4jFd-ujaNXPilRg.png)\n",
    "\n",
    "\n",
    "True positive: 모델이 긍정 클래스를 올바르게 예측합니다.\n",
    "\n",
    "True negative: 모델이 부정 클래스를 올바르게 예측합니다.\n",
    "\n",
    "False positiv: 모델이 긍정 클래스를 잘못 예측합니다.\n",
    "\n",
    "False negative: 모델이 부정 클래스를 잘못 예측합니다.\n"
   ]
  },
  {
   "cell_type": "markdown",
   "metadata": {
    "id": "yarMpNVBkSvJ"
   },
   "source": [
    "우리는  plotly 라이브러리를 사용합니다. <br>\n",
    "라이브러리가 설치되어 있지 않은 경우 터미널에서 다음 단계를 수행하여 설치해주세요: <br>\n",
    "\n",
    "pip install plotly"
   ]
  },
  {
   "cell_type": "code",
   "execution_count": null,
   "metadata": {
    "id": "j0BLqIp1kSvJ",
    "outputId": "282c3914-96cf-4ac2-c3d9-6a3af4d99a39"
   },
   "outputs": [],
   "source": [
    "import plotly.express as px\n",
    "import plotly.graph_objects as go\n",
    "\n",
    "# pandas의 corr() 함수를 사용하여 상관 행렬 가져오기\n",
    "corr_matrix = df.corr()\n",
    "\n",
    "fig = go.Figure(data = go.Heatmap(\n",
    "                                z = corr_matrix.values,\n",
    "                                x = list(corr_matrix.columns),\n",
    "                                y = list(corr_matrix.index)))\n",
    "\n",
    "fig.update_layout(title = 'Correlation_Insurance_Fraud')\n",
    "\n",
    "fig.show()"
   ]
  },
  {
   "cell_type": "code",
   "execution_count": null,
   "metadata": {
    "id": "1f5wMIbYkSvM"
   },
   "outputs": [],
   "source": [
    "features = []\n",
    "for col in df.columns:\n",
    "    if col != 'fraud_reported':\n",
    "        features.append(col)\n",
    "\n",
    "target = 'fraud_reported'\n",
    "\n",
    "X = df[features]\n",
    "y = df[target]"
   ]
  },
  {
   "cell_type": "code",
   "execution_count": null,
   "metadata": {
    "id": "ZrcxzdnzkSvN"
   },
   "outputs": [],
   "source": [
    "from sklearn.preprocessing import StandardScaler\n",
    "\n",
    "sc = StandardScaler()\n",
    "X = sc.fit_transform(X)"
   ]
  },
  {
   "cell_type": "code",
   "execution_count": null,
   "metadata": {
    "id": "ziRN11DIkSvN"
   },
   "outputs": [],
   "source": [
    "# 데이터를 test와 train 데이터로 나눕니다.\n",
    "X_train, X_test, y_train, y_test = train_test_split(X, y, random_state = 1)"
   ]
  },
  {
   "cell_type": "markdown",
   "metadata": {
    "id": "oA9i2O-4kSvN"
   },
   "source": [
    "## 랜덤 포레스트 분류기 적용하기\n",
    "\n",
    "랜덤 포레스트는 많은 의사 결정 트리의 결정을 결합하여 데이터 포인트의 클래스를 결정하는 분류 알고리즘입니다. 우리는 다양한 트리를 기반으로 결정을 내리고 과반수 투표를 수행하고 최종 클래스를 결정합니다."
   ]
  },
  {
   "cell_type": "code",
   "execution_count": null,
   "metadata": {
    "id": "cFmfeOLkkSvN",
    "outputId": "b7607aec-090c-497f-a71c-83f92903ea6e"
   },
   "outputs": [],
   "source": [
    "from sklearn.ensemble import RandomForestClassifier\n",
    "rfc = RandomForestClassifier(random_state = 1)\n",
    "rfc.fit(X_train, y_train)"
   ]
  },
  {
   "cell_type": "markdown",
   "metadata": {
    "id": "aQE0LizckSvO"
   },
   "source": [
    "### Task 2: 랜덤 포레스트 분류기를 사용하여 훈련 데이터를 예측하고 결과를 변수 preds에 저장\n"
   ]
  },
  {
   "cell_type": "code",
   "execution_count": null,
   "metadata": {
    "id": "xgfb-0LEkSvO"
   },
   "outputs": [],
   "source": [
    "# your code here"
   ]
  },
  {
   "cell_type": "code",
   "execution_count": null,
   "metadata": {
    "id": "8wjWqCyYkSvO",
    "outputId": "1fa0a59a-f972-4ee3-aa24-a4c5ab51e27b"
   },
   "outputs": [],
   "source": [
    "score = rfc.score(X_test, y_test)\n",
    "print(score*100)\n",
    "print()\n",
    "print(classification_report(y_test, preds))\n"
   ]
  },
  {
   "cell_type": "markdown",
   "metadata": {
    "id": "1kS0rZ8XkSvP"
   },
   "source": [
    "### Task 3: 랜덤 포레스트 분류기의 결과를 보았습니다. 이제 의사 결정 트리 분류기를 사용하여 데이터를 분류해 보세요.¶"
   ]
  },
  {
   "cell_type": "code",
   "execution_count": null,
   "metadata": {
    "id": "61ibGNlbkSvP"
   },
   "outputs": [],
   "source": [
    "# your code here"
   ]
  },
  {
   "cell_type": "markdown",
   "metadata": {
    "id": "xoyc71SukSvP"
   },
   "source": [
    "### Task 4: 의사 결정 트리 분류기의 결과를 보았습니다. 이제 로지스틱 회귀 분류기를 사용하여 데이터를 분류해 보세요."
   ]
  },
  {
   "cell_type": "code",
   "execution_count": null,
   "metadata": {
    "id": "1_yyLNbdkSvP"
   },
   "outputs": [],
   "source": [
    "# your code here"
   ]
  },
  {
   "cell_type": "markdown",
   "metadata": {
    "id": "EdjIjS2VkSvQ"
   },
   "source": [
    "### Conclusion\n",
    "\n"
   ]
  },
  {
   "cell_type": "markdown",
   "metadata": {
    "id": "-4BG6iw0kSvQ"
   },
   "source": [
    "인공 지능은 다양한 현대 사회의 문제를 해결하는데 널리 사용되고 있습니다. 이 노트북에서는 랜덤 포레스트 알고리즘을 사용하여 사기 탐지에 인공 지능을 사용하는 방법의 예를 보았습니다. 같은 목적으로 다른 모델을 사용할 수도 있습니다. 추가적으로 다른 모델을 적용하였을 때 정확도를 비교해 보는 연습을 해보세요."
   ]
  }
 ],
 "metadata": {
  "colab": {
   "name": "[Notebook - Student] Module 11 (Insurance Fraud Detection).ipynb",
   "provenance": [],
   "toc_visible": true
  },
  "kernelspec": {
   "display_name": "Python 3 (ipykernel)",
   "language": "python",
   "name": "python3"
  },
  "language_info": {
   "codemirror_mode": {
    "name": "ipython",
    "version": 3
   },
   "file_extension": ".py",
   "mimetype": "text/x-python",
   "name": "python",
   "nbconvert_exporter": "python",
   "pygments_lexer": "ipython3",
   "version": "3.9.7"
  },
  "toc": {
   "base_numbering": 1,
   "nav_menu": {},
   "number_sections": true,
   "sideBar": true,
   "skip_h1_title": false,
   "title_cell": "Table of Contents",
   "title_sidebar": "Contents",
   "toc_cell": false,
   "toc_position": {},
   "toc_section_display": true,
   "toc_window_display": false
  }
 },
 "nbformat": 4,
 "nbformat_minor": 1
}
